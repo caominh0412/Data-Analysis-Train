{
 "cells": [
  {
   "cell_type": "code",
   "execution_count": 36,
   "metadata": {},
   "outputs": [],
   "source": [
    "from Getlinkchung import getImage,getImg_frompandas"
   ]
  },
  {
   "cell_type": "code",
   "execution_count": 2,
   "metadata": {},
   "outputs": [],
   "source": [
    "import pandas as pd"
   ]
  },
  {
   "cell_type": "code",
   "execution_count": 46,
   "metadata": {},
   "outputs": [],
   "source": [
    "df = pd.read_excel(io=r\"V:\\2.SXMOI\\TTKD LifeStyle\\Super\\_HOME\\__________HO TRO\\190517_Minh\\190509_137008_An My_103sku (Quyen).xlsx\")"
   ]
  },
  {
   "cell_type": "code",
   "execution_count": 42,
   "metadata": {},
   "outputs": [
    {
     "data": {
      "text/html": [
       "<div>\n",
       "<style scoped>\n",
       "    .dataframe tbody tr th:only-of-type {\n",
       "        vertical-align: middle;\n",
       "    }\n",
       "\n",
       "    .dataframe tbody tr th {\n",
       "        vertical-align: top;\n",
       "    }\n",
       "\n",
       "    .dataframe thead th {\n",
       "        text-align: right;\n",
       "    }\n",
       "</style>\n",
       "<table border=\"1\" class=\"dataframe\">\n",
       "  <thead>\n",
       "    <tr style=\"text-align: right;\">\n",
       "      <th></th>\n",
       "      <th>THÔNG TIN THUỘC TÍNH CƠ BẢN</th>\n",
       "      <th>Unnamed: 1</th>\n",
       "      <th>Unnamed: 2</th>\n",
       "      <th>Unnamed: 3</th>\n",
       "      <th>Unnamed: 4</th>\n",
       "      <th>Unnamed: 5</th>\n",
       "      <th>Unnamed: 6</th>\n",
       "      <th>Unnamed: 7</th>\n",
       "      <th>Unnamed: 8</th>\n",
       "      <th>Unnamed: 9</th>\n",
       "      <th>KÍCH THƯỚC BAO BÌ ĐÓNG GÓI</th>\n",
       "      <th>Unnamed: 11</th>\n",
       "      <th>Unnamed: 12</th>\n",
       "      <th>Unnamed: 13</th>\n",
       "      <th>THÔNG TIN MÔ TẢ SẢN PHẨM</th>\n",
       "      <th>Unnamed: 15</th>\n",
       "      <th>Unnamed: 16</th>\n",
       "      <th>Unnamed: 17</th>\n",
       "      <th>Unnamed: 18</th>\n",
       "    </tr>\n",
       "  </thead>\n",
       "  <tbody>\n",
       "    <tr>\n",
       "      <th>0</th>\n",
       "      <td>STT</td>\n",
       "      <td>Mã HH -  NCC</td>\n",
       "      <td>Barcode</td>\n",
       "      <td>Tên Sản phẩm (Tiếng Việt + Tiếng Anh)</td>\n",
       "      <td>Đơn vị tính</td>\n",
       "      <td>- Dung tích (ml)\\n- Khối lượng tịnh (g)\\n- Quy...</td>\n",
       "      <td>Thương hiệu</td>\n",
       "      <td>Màu sắc (nếu có)</td>\n",
       "      <td>Xuất xứ</td>\n",
       "      <td>- Thời hạn sử dụng\\n- Thời hạn bảo hành</td>\n",
       "      <td>Dài (cm)</td>\n",
       "      <td>Rộng (cm)</td>\n",
       "      <td>Cao (cm)</td>\n",
       "      <td>Cân nặng (gam)</td>\n",
       "      <td>Nội dung mô tả sản phẩm\\n- Thành phần\\n- Chức ...</td>\n",
       "      <td>Size/Độ tuổi sử dụng</td>\n",
       "      <td>Link hình ảnh hoặc Link website thông tin tham...</td>\n",
       "      <td>Thuế suất %\\n(VAT)</td>\n",
       "      <td>Giá bán Niêm Yết\\n(Giá bán trên ADR)</td>\n",
       "    </tr>\n",
       "    <tr>\n",
       "      <th>1</th>\n",
       "      <td>1</td>\n",
       "      <td>2</td>\n",
       "      <td>3</td>\n",
       "      <td>4</td>\n",
       "      <td>5</td>\n",
       "      <td>6</td>\n",
       "      <td>7</td>\n",
       "      <td>8</td>\n",
       "      <td>9</td>\n",
       "      <td>10</td>\n",
       "      <td>11</td>\n",
       "      <td>12</td>\n",
       "      <td>13</td>\n",
       "      <td>14</td>\n",
       "      <td>15</td>\n",
       "      <td>NaN</td>\n",
       "      <td>16</td>\n",
       "      <td>18</td>\n",
       "      <td>19</td>\n",
       "    </tr>\n",
       "    <tr>\n",
       "      <th>2</th>\n",
       "      <td>NaN</td>\n",
       "      <td>Là mã sản phẩm NCC quản lý.</td>\n",
       "      <td>Là mã vạch của sản phẩm, nếu NCC không có mã H...</td>\n",
       "      <td>Tên thông dụng của sản phẩm bao gồm tên gọi ti...</td>\n",
       "      <td>NaN</td>\n",
       "      <td>Tùy thuộc thông tin của sản phẩm có thể điền d...</td>\n",
       "      <td>Thương hiệu của sản phẩm</td>\n",
       "      <td>NaN</td>\n",
       "      <td>Nơi sản xuất của sản phẩm, có in trên bao bì (...</td>\n",
       "      <td>Thời hạn sử dụng là bao nhiêu năm/tháng kể từ ...</td>\n",
       "      <td>Kích thước bao bì đóng gói của sản phẩm là kíc...</td>\n",
       "      <td>NaN</td>\n",
       "      <td>NaN</td>\n",
       "      <td>NaN</td>\n",
       "      <td>NCC cần cung cấp thông tin cho sản phẩm khi\\n-...</td>\n",
       "      <td>- NCC cần cung cấp size đối với hàng Quần áo, ...</td>\n",
       "      <td>Link thông tin tham khảo chính thức của từng s...</td>\n",
       "      <td>Thuế giá trị gia tăng</td>\n",
       "      <td>Giá bán lẻ cho người tiêu dùng</td>\n",
       "    </tr>\n",
       "    <tr>\n",
       "      <th>3</th>\n",
       "      <td>1</td>\n",
       "      <td>7584701501-1</td>\n",
       "      <td>7584701501-1</td>\n",
       "      <td>Bình xịt khử mùi Ozium Air Sanitizer Spray 3.5...</td>\n",
       "      <td>1 chai</td>\n",
       "      <td>99g</td>\n",
       "      <td>OZIUM</td>\n",
       "      <td>NaN</td>\n",
       "      <td>Trung quốc</td>\n",
       "      <td>5 ( năm ) năm</td>\n",
       "      <td>20</td>\n",
       "      <td>5</td>\n",
       "      <td>5</td>\n",
       "      <td>NaN</td>\n",
       "      <td>Cơ chế hoạt động: Các hạt phân tử Ozium có kíc...</td>\n",
       "      <td>NaN</td>\n",
       "      <td>https://anmy.com.vn/products/ozium-air-sanitiz...</td>\n",
       "      <td>0.1</td>\n",
       "      <td>309000</td>\n",
       "    </tr>\n",
       "    <tr>\n",
       "      <th>4</th>\n",
       "      <td>2</td>\n",
       "      <td>7584701501-2</td>\n",
       "      <td>7584701501-2</td>\n",
       "      <td>Bình xịt khử mùi Ozium Air Sanitizer Spray 3.5...</td>\n",
       "      <td>2 chai</td>\n",
       "      <td>198g</td>\n",
       "      <td>OZIUM</td>\n",
       "      <td>NaN</td>\n",
       "      <td>Trung quốc</td>\n",
       "      <td>5 ( năm ) năm</td>\n",
       "      <td>20</td>\n",
       "      <td>5</td>\n",
       "      <td>5</td>\n",
       "      <td>NaN</td>\n",
       "      <td>Cơ chế hoạt động: Các hạt phân tử Ozium có kíc...</td>\n",
       "      <td>NaN</td>\n",
       "      <td>https://anmy.com.vn/products/ozium-air-sanitiz...</td>\n",
       "      <td>0.1</td>\n",
       "      <td>618000</td>\n",
       "    </tr>\n",
       "  </tbody>\n",
       "</table>\n",
       "</div>"
      ],
      "text/plain": [
       "  THÔNG TIN THUỘC TÍNH CƠ BẢN                   Unnamed: 1  \\\n",
       "0                         STT                 Mã HH -  NCC   \n",
       "1                           1                            2   \n",
       "2                         NaN  Là mã sản phẩm NCC quản lý.   \n",
       "3                           1                 7584701501-1   \n",
       "4                           2                 7584701501-2   \n",
       "\n",
       "                                          Unnamed: 2  \\\n",
       "0                                            Barcode   \n",
       "1                                                  3   \n",
       "2  Là mã vạch của sản phẩm, nếu NCC không có mã H...   \n",
       "3                                       7584701501-1   \n",
       "4                                       7584701501-2   \n",
       "\n",
       "                                          Unnamed: 3   Unnamed: 4  \\\n",
       "0              Tên Sản phẩm (Tiếng Việt + Tiếng Anh)  Đơn vị tính   \n",
       "1                                                  4            5   \n",
       "2  Tên thông dụng của sản phẩm bao gồm tên gọi ti...          NaN   \n",
       "3  Bình xịt khử mùi Ozium Air Sanitizer Spray 3.5...       1 chai   \n",
       "4  Bình xịt khử mùi Ozium Air Sanitizer Spray 3.5...       2 chai   \n",
       "\n",
       "                                          Unnamed: 5  \\\n",
       "0  - Dung tích (ml)\\n- Khối lượng tịnh (g)\\n- Quy...   \n",
       "1                                                  6   \n",
       "2  Tùy thuộc thông tin của sản phẩm có thể điền d...   \n",
       "3                                                99g   \n",
       "4                                               198g   \n",
       "\n",
       "                 Unnamed: 6        Unnamed: 7  \\\n",
       "0               Thương hiệu  Màu sắc (nếu có)   \n",
       "1                         7                 8   \n",
       "2  Thương hiệu của sản phẩm               NaN   \n",
       "3                     OZIUM               NaN   \n",
       "4                     OZIUM               NaN   \n",
       "\n",
       "                                          Unnamed: 8  \\\n",
       "0                                            Xuất xứ   \n",
       "1                                                  9   \n",
       "2  Nơi sản xuất của sản phẩm, có in trên bao bì (...   \n",
       "3                                         Trung quốc   \n",
       "4                                         Trung quốc   \n",
       "\n",
       "                                          Unnamed: 9  \\\n",
       "0            - Thời hạn sử dụng\\n- Thời hạn bảo hành   \n",
       "1                                                 10   \n",
       "2  Thời hạn sử dụng là bao nhiêu năm/tháng kể từ ...   \n",
       "3                                      5 ( năm ) năm   \n",
       "4                                      5 ( năm ) năm   \n",
       "\n",
       "                          KÍCH THƯỚC BAO BÌ ĐÓNG GÓI Unnamed: 11 Unnamed: 12  \\\n",
       "0                                           Dài (cm)   Rộng (cm)    Cao (cm)   \n",
       "1                                                 11          12          13   \n",
       "2  Kích thước bao bì đóng gói của sản phẩm là kíc...         NaN         NaN   \n",
       "3                                                 20           5           5   \n",
       "4                                                 20           5           5   \n",
       "\n",
       "      Unnamed: 13                           THÔNG TIN MÔ TẢ SẢN PHẨM  \\\n",
       "0  Cân nặng (gam)  Nội dung mô tả sản phẩm\\n- Thành phần\\n- Chức ...   \n",
       "1              14                                                 15   \n",
       "2             NaN  NCC cần cung cấp thông tin cho sản phẩm khi\\n-...   \n",
       "3             NaN  Cơ chế hoạt động: Các hạt phân tử Ozium có kíc...   \n",
       "4             NaN  Cơ chế hoạt động: Các hạt phân tử Ozium có kíc...   \n",
       "\n",
       "                                         Unnamed: 15  \\\n",
       "0                               Size/Độ tuổi sử dụng   \n",
       "1                                                NaN   \n",
       "2  - NCC cần cung cấp size đối với hàng Quần áo, ...   \n",
       "3                                                NaN   \n",
       "4                                                NaN   \n",
       "\n",
       "                                         Unnamed: 16            Unnamed: 17  \\\n",
       "0  Link hình ảnh hoặc Link website thông tin tham...     Thuế suất %\\n(VAT)   \n",
       "1                                                 16                     18   \n",
       "2  Link thông tin tham khảo chính thức của từng s...  Thuế giá trị gia tăng   \n",
       "3  https://anmy.com.vn/products/ozium-air-sanitiz...                    0.1   \n",
       "4  https://anmy.com.vn/products/ozium-air-sanitiz...                    0.1   \n",
       "\n",
       "                            Unnamed: 18  \n",
       "0  Giá bán Niêm Yết\\n(Giá bán trên ADR)  \n",
       "1                                    19  \n",
       "2        Giá bán lẻ cho người tiêu dùng  \n",
       "3                                309000  \n",
       "4                                618000  "
      ]
     },
     "execution_count": 42,
     "metadata": {},
     "output_type": "execute_result"
    }
   ],
   "source": [
    "df.head()"
   ]
  },
  {
   "cell_type": "code",
   "execution_count": 47,
   "metadata": {},
   "outputs": [
    {
     "name": "stdin",
     "output_type": "stream",
     "text": [
      "Columns : 2\n"
     ]
    }
   ],
   "source": [
    "df.dropna(inplace=True,how='all')\n",
    "row = input('Columns :')\n",
    "df.columns=df.iloc[int(row)]\n",
    "for i in range(0,int(row)+1):\n",
    "    df.drop(i,axis=0,inplace=True)"
   ]
  },
  {
   "cell_type": "code",
   "execution_count": 48,
   "metadata": {},
   "outputs": [
    {
     "data": {
      "text/html": [
       "<div>\n",
       "<style scoped>\n",
       "    .dataframe tbody tr th:only-of-type {\n",
       "        vertical-align: middle;\n",
       "    }\n",
       "\n",
       "    .dataframe tbody tr th {\n",
       "        vertical-align: top;\n",
       "    }\n",
       "\n",
       "    .dataframe thead th {\n",
       "        text-align: right;\n",
       "    }\n",
       "</style>\n",
       "<table border=\"1\" class=\"dataframe\">\n",
       "  <thead>\n",
       "    <tr style=\"text-align: right;\">\n",
       "      <th>2</th>\n",
       "      <th>nan</th>\n",
       "      <th>Là mã sản phẩm NCC quản lý.</th>\n",
       "      <th>Là mã vạch của sản phẩm, nếu NCC không có mã HH thì barcode = mã SKU</th>\n",
       "      <th>Tên thông dụng của sản phẩm bao gồm tên gọi tiếng Việt và tên tiếng Anh (nếu có)</th>\n",
       "      <th>nan</th>\n",
       "      <th>Tùy thuộc thông tin của sản phẩm có thể điền dung tích hoặc khối lượng tịnh hoặc quy cách đóng gói của sản phẩm</th>\n",
       "      <th>Thương hiệu của sản phẩm</th>\n",
       "      <th>nan</th>\n",
       "      <th>Nơi sản xuất của sản phẩm, có in trên bao bì (VD: Made in USA là xuất xứ Mỹ). Không phải là xuất xứ của thương hiệu</th>\n",
       "      <th>Thời hạn sử dụng là bao nhiêu năm/tháng kể từ ngày sản xuất. Đối với máy móc, thiết bị y tế nếu có bảo hành cần điền thông tin bảo hành là năm/tháng cho sản phẩm</th>\n",
       "      <th>Kích thước bao bì đóng gói của sản phẩm là kích thước bao gồm cả hộp/túi đựng sản phẩm, dùng để tính phí vận chuyển cho sản phẩm</th>\n",
       "      <th>nan</th>\n",
       "      <th>nan</th>\n",
       "      <th>nan</th>\n",
       "      <th>NCC cần cung cấp thông tin cho sản phẩm khi\n",
       "- Không có thông tin đăng tải trên các website chính hãng\n",
       "- Website chính hãng là tiếng nước ngoài \n",
       "- Thông tin đăng tải không đầy đủ</th>\n",
       "      <th>- NCC cần cung cấp size đối với hàng Quần áo, Độ tuổi sử dụng đối với mặt hàng Sữa, đồ dùng và phụ kiện khác</th>\n",
       "      <th>Link thông tin tham khảo chính thức của từng sản phẩm</th>\n",
       "      <th>Thuế giá trị gia tăng</th>\n",
       "      <th>Giá bán lẻ cho người tiêu dùng</th>\n",
       "    </tr>\n",
       "  </thead>\n",
       "  <tbody>\n",
       "    <tr>\n",
       "      <th>3</th>\n",
       "      <td>1</td>\n",
       "      <td>7584701501-1</td>\n",
       "      <td>7584701501-1</td>\n",
       "      <td>Bình xịt khử mùi Ozium Air Sanitizer Spray 3.5...</td>\n",
       "      <td>1 chai</td>\n",
       "      <td>99g</td>\n",
       "      <td>OZIUM</td>\n",
       "      <td>NaN</td>\n",
       "      <td>Trung quốc</td>\n",
       "      <td>5 ( năm ) năm</td>\n",
       "      <td>20</td>\n",
       "      <td>5</td>\n",
       "      <td>5</td>\n",
       "      <td>NaN</td>\n",
       "      <td>Cơ chế hoạt động: Các hạt phân tử Ozium có kíc...</td>\n",
       "      <td>NaN</td>\n",
       "      <td>https://anmy.com.vn/products/ozium-air-sanitiz...</td>\n",
       "      <td>0.1</td>\n",
       "      <td>309000</td>\n",
       "    </tr>\n",
       "    <tr>\n",
       "      <th>4</th>\n",
       "      <td>2</td>\n",
       "      <td>7584701501-2</td>\n",
       "      <td>7584701501-2</td>\n",
       "      <td>Bình xịt khử mùi Ozium Air Sanitizer Spray 3.5...</td>\n",
       "      <td>2 chai</td>\n",
       "      <td>198g</td>\n",
       "      <td>OZIUM</td>\n",
       "      <td>NaN</td>\n",
       "      <td>Trung quốc</td>\n",
       "      <td>5 ( năm ) năm</td>\n",
       "      <td>20</td>\n",
       "      <td>5</td>\n",
       "      <td>5</td>\n",
       "      <td>NaN</td>\n",
       "      <td>Cơ chế hoạt động: Các hạt phân tử Ozium có kíc...</td>\n",
       "      <td>NaN</td>\n",
       "      <td>https://anmy.com.vn/products/ozium-air-sanitiz...</td>\n",
       "      <td>0.1</td>\n",
       "      <td>618000</td>\n",
       "    </tr>\n",
       "    <tr>\n",
       "      <th>5</th>\n",
       "      <td>3</td>\n",
       "      <td>7584701501-4</td>\n",
       "      <td>7584701501-4</td>\n",
       "      <td>Bình xịt khử mùi Ozium Air Sanitizer Spray 3.5...</td>\n",
       "      <td>4 chai</td>\n",
       "      <td>396g</td>\n",
       "      <td>OZIUM</td>\n",
       "      <td>NaN</td>\n",
       "      <td>Trung quốc</td>\n",
       "      <td>5 ( năm ) năm</td>\n",
       "      <td>20</td>\n",
       "      <td>5</td>\n",
       "      <td>5</td>\n",
       "      <td>NaN</td>\n",
       "      <td>Cơ chế hoạt động: Các hạt phân tử Ozium có kíc...</td>\n",
       "      <td>NaN</td>\n",
       "      <td>https://anmy.com.vn/products/ozium-air-sanitiz...</td>\n",
       "      <td>0.1</td>\n",
       "      <td>1236000</td>\n",
       "    </tr>\n",
       "    <tr>\n",
       "      <th>6</th>\n",
       "      <td>4</td>\n",
       "      <td>7584701522-1</td>\n",
       "      <td>7584701522-1</td>\n",
       "      <td>Bình xịt khử mùi Ozium Air Sanitizer Spray 3.5...</td>\n",
       "      <td>1 chai</td>\n",
       "      <td>99g</td>\n",
       "      <td>OZIUM</td>\n",
       "      <td>NaN</td>\n",
       "      <td>Trung quốc</td>\n",
       "      <td>5 ( năm ) năm</td>\n",
       "      <td>20</td>\n",
       "      <td>5</td>\n",
       "      <td>5</td>\n",
       "      <td>NaN</td>\n",
       "      <td>Cơ chế hoạt động: Các hạt phân tử Ozium có kíc...</td>\n",
       "      <td>NaN</td>\n",
       "      <td>https://anmy.com.vn/products/ozium-air-sanitiz...</td>\n",
       "      <td>0.1</td>\n",
       "      <td>309000</td>\n",
       "    </tr>\n",
       "    <tr>\n",
       "      <th>7</th>\n",
       "      <td>5</td>\n",
       "      <td>7584701522-2</td>\n",
       "      <td>7584701522-2</td>\n",
       "      <td>Bình xịt khử mùi Ozium Air Sanitizer Spray 3.5...</td>\n",
       "      <td>2 chai</td>\n",
       "      <td>198g</td>\n",
       "      <td>OZIUM</td>\n",
       "      <td>NaN</td>\n",
       "      <td>Trung quốc</td>\n",
       "      <td>5 ( năm ) năm</td>\n",
       "      <td>20</td>\n",
       "      <td>5</td>\n",
       "      <td>5</td>\n",
       "      <td>NaN</td>\n",
       "      <td>Cơ chế hoạt động: Các hạt phân tử Ozium có kíc...</td>\n",
       "      <td>NaN</td>\n",
       "      <td>https://anmy.com.vn/products/ozium-air-sanitiz...</td>\n",
       "      <td>0.1</td>\n",
       "      <td>618000</td>\n",
       "    </tr>\n",
       "  </tbody>\n",
       "</table>\n",
       "</div>"
      ],
      "text/plain": [
       "2 NaN Là mã sản phẩm NCC quản lý.  \\\n",
       "3   1                7584701501-1   \n",
       "4   2                7584701501-2   \n",
       "5   3                7584701501-4   \n",
       "6   4                7584701522-1   \n",
       "7   5                7584701522-2   \n",
       "\n",
       "2 Là mã vạch của sản phẩm, nếu NCC không có mã HH thì barcode = mã SKU  \\\n",
       "3                                       7584701501-1                     \n",
       "4                                       7584701501-2                     \n",
       "5                                       7584701501-4                     \n",
       "6                                       7584701522-1                     \n",
       "7                                       7584701522-2                     \n",
       "\n",
       "2 Tên thông dụng của sản phẩm bao gồm tên gọi tiếng Việt và tên tiếng Anh (nếu có)  \\\n",
       "3  Bình xịt khử mùi Ozium Air Sanitizer Spray 3.5...                                 \n",
       "4  Bình xịt khử mùi Ozium Air Sanitizer Spray 3.5...                                 \n",
       "5  Bình xịt khử mùi Ozium Air Sanitizer Spray 3.5...                                 \n",
       "6  Bình xịt khử mùi Ozium Air Sanitizer Spray 3.5...                                 \n",
       "7  Bình xịt khử mùi Ozium Air Sanitizer Spray 3.5...                                 \n",
       "\n",
       "2     NaN  \\\n",
       "3  1 chai   \n",
       "4  2 chai   \n",
       "5  4 chai   \n",
       "6  1 chai   \n",
       "7  2 chai   \n",
       "\n",
       "2 Tùy thuộc thông tin của sản phẩm có thể điền dung tích hoặc khối lượng tịnh hoặc quy cách đóng gói của sản phẩm  \\\n",
       "3                                                99g                                                                \n",
       "4                                               198g                                                                \n",
       "5                                               396g                                                                \n",
       "6                                                99g                                                                \n",
       "7                                               198g                                                                \n",
       "\n",
       "2 Thương hiệu của sản phẩm  NaN  \\\n",
       "3                    OZIUM  NaN   \n",
       "4                    OZIUM  NaN   \n",
       "5                    OZIUM  NaN   \n",
       "6                    OZIUM  NaN   \n",
       "7                    OZIUM  NaN   \n",
       "\n",
       "2 Nơi sản xuất của sản phẩm, có in trên bao bì (VD: Made in USA là xuất xứ Mỹ). Không phải là xuất xứ của thương hiệu  \\\n",
       "3                                         Trung quốc                                                                    \n",
       "4                                         Trung quốc                                                                    \n",
       "5                                         Trung quốc                                                                    \n",
       "6                                         Trung quốc                                                                    \n",
       "7                                         Trung quốc                                                                    \n",
       "\n",
       "2 Thời hạn sử dụng là bao nhiêu năm/tháng kể từ ngày sản xuất. Đối với máy móc, thiết bị y tế nếu có bảo hành cần điền thông tin bảo hành là năm/tháng cho sản phẩm  \\\n",
       "3                                      5 ( năm ) năm                                                                                                                  \n",
       "4                                      5 ( năm ) năm                                                                                                                  \n",
       "5                                      5 ( năm ) năm                                                                                                                  \n",
       "6                                      5 ( năm ) năm                                                                                                                  \n",
       "7                                      5 ( năm ) năm                                                                                                                  \n",
       "\n",
       "2 Kích thước bao bì đóng gói của sản phẩm là kích thước bao gồm cả hộp/túi đựng sản phẩm, dùng để tính phí vận chuyển cho sản phẩm  \\\n",
       "3                                                 20                                                                                 \n",
       "4                                                 20                                                                                 \n",
       "5                                                 20                                                                                 \n",
       "6                                                 20                                                                                 \n",
       "7                                                 20                                                                                 \n",
       "\n",
       "2 NaN NaN  NaN  \\\n",
       "3   5   5  NaN   \n",
       "4   5   5  NaN   \n",
       "5   5   5  NaN   \n",
       "6   5   5  NaN   \n",
       "7   5   5  NaN   \n",
       "\n",
       "2 NCC cần cung cấp thông tin cho sản phẩm khi\\n- Không có thông tin đăng tải trên các website chính hãng\\n- Website chính hãng là tiếng nước ngoài \\n- Thông tin đăng tải không đầy đủ  \\\n",
       "3  Cơ chế hoạt động: Các hạt phân tử Ozium có kíc...                                                                                                                                     \n",
       "4  Cơ chế hoạt động: Các hạt phân tử Ozium có kíc...                                                                                                                                     \n",
       "5  Cơ chế hoạt động: Các hạt phân tử Ozium có kíc...                                                                                                                                     \n",
       "6  Cơ chế hoạt động: Các hạt phân tử Ozium có kíc...                                                                                                                                     \n",
       "7  Cơ chế hoạt động: Các hạt phân tử Ozium có kíc...                                                                                                                                     \n",
       "\n",
       "2 - NCC cần cung cấp size đối với hàng Quần áo, Độ tuổi sử dụng đối với mặt hàng Sữa, đồ dùng và phụ kiện khác  \\\n",
       "3                                                NaN                                                             \n",
       "4                                                NaN                                                             \n",
       "5                                                NaN                                                             \n",
       "6                                                NaN                                                             \n",
       "7                                                NaN                                                             \n",
       "\n",
       "2 Link thông tin tham khảo chính thức của từng sản phẩm Thuế giá trị gia tăng  \\\n",
       "3  https://anmy.com.vn/products/ozium-air-sanitiz...                      0.1   \n",
       "4  https://anmy.com.vn/products/ozium-air-sanitiz...                      0.1   \n",
       "5  https://anmy.com.vn/products/ozium-air-sanitiz...                      0.1   \n",
       "6  https://anmy.com.vn/products/ozium-air-sanitiz...                      0.1   \n",
       "7  https://anmy.com.vn/products/ozium-air-sanitiz...                      0.1   \n",
       "\n",
       "2 Giá bán lẻ cho người tiêu dùng  \n",
       "3                         309000  \n",
       "4                         618000  \n",
       "5                        1236000  \n",
       "6                         309000  \n",
       "7                         618000  "
      ]
     },
     "execution_count": 48,
     "metadata": {},
     "output_type": "execute_result"
    }
   ],
   "source": [
    "df.head()"
   ]
  },
  {
   "cell_type": "code",
   "execution_count": 49,
   "metadata": {},
   "outputs": [
    {
     "data": {
      "text/plain": [
       "Index([                                                                                                                                                                                   nan,\n",
       "                                                                                                                                                                'Là mã sản phẩm NCC quản lý.',\n",
       "                                                                                                                       'Là mã vạch của sản phẩm, nếu NCC không có mã HH thì barcode = mã SKU',\n",
       "                                                                                                           'Tên thông dụng của sản phẩm bao gồm tên gọi tiếng Việt và tên tiếng Anh (nếu có)',\n",
       "                                                                                                                                                                                          nan,\n",
       "                                                                            'Tùy thuộc thông tin của sản phẩm có thể điền dung tích hoặc khối lượng tịnh hoặc quy cách đóng gói của sản phẩm',\n",
       "                                                                                                                                                                   'Thương hiệu của sản phẩm',\n",
       "                                                                                                                                                                                          nan,\n",
       "                                                                        'Nơi sản xuất của sản phẩm, có in trên bao bì (VD: Made in USA là xuất xứ Mỹ). Không phải là xuất xứ của thương hiệu',\n",
       "                          'Thời hạn sử dụng là bao nhiêu năm/tháng kể từ ngày sản xuất. Đối với máy móc, thiết bị y tế nếu có bảo hành cần điền thông tin bảo hành là năm/tháng cho sản phẩm',\n",
       "                                                           'Kích thước bao bì đóng gói của sản phẩm là kích thước bao gồm cả hộp/túi đựng sản phẩm, dùng để tính phí vận chuyển cho sản phẩm',\n",
       "                                                                                                                                                                                          nan,\n",
       "                                                                                                                                                                                          nan,\n",
       "                                                                                                                                                                                          nan,\n",
       "       'NCC cần cung cấp thông tin cho sản phẩm khi\\n- Không có thông tin đăng tải trên các website chính hãng\\n- Website chính hãng là tiếng nước ngoài \\n- Thông tin đăng tải không đầy đủ',\n",
       "                                                                               '- NCC cần cung cấp size đối với hàng Quần áo, Độ tuổi sử dụng đối với mặt hàng Sữa, đồ dùng và phụ kiện khác',\n",
       "                                                                                                                                      'Link thông tin tham khảo chính thức của từng sản phẩm',\n",
       "                                                                                                                                                                      'Thuế giá trị gia tăng',\n",
       "                                                                                                                                                             'Giá bán lẻ cho người tiêu dùng'],\n",
       "      dtype='object', name=2)"
      ]
     },
     "execution_count": 49,
     "metadata": {},
     "output_type": "execute_result"
    }
   ],
   "source": [
    "df.columns"
   ]
  },
  {
   "cell_type": "code",
   "execution_count": 50,
   "metadata": {},
   "outputs": [
    {
     "data": {
      "text/plain": [
       "['7584701501-1*https://anmy.com.vn/products/ozium-air-sanitizer-spray-3-5-oz-99g-original-ozm-1',\n",
       " '7584701501-2*https://anmy.com.vn/products/ozium-air-sanitizer-spray-3-5-oz-99g-original-ozm-1',\n",
       " '7584701501-4*https://anmy.com.vn/products/ozium-air-sanitizer-spray-3-5-oz-99g-original-ozm-1',\n",
       " '7584701522-1*https://anmy.com.vn/products/ozium-air-sanitizer-spray-3-5-oz-99g-new-car-ozm-22',\n",
       " '7584701522-2*https://anmy.com.vn/products/ozium-air-sanitizer-spray-3-5-oz-99g-new-car-ozm-22',\n",
       " '7584701522-4*https://anmy.com.vn/products/ozium-air-sanitizer-spray-3-5-oz-99g-new-car-ozm-22',\n",
       " '1991203528-1*https://anmy.com.vn/products/ozium-air-sanitizer-spray-3-5-oz-99g-country-fresh-ozm-15',\n",
       " '1991203528-2*https://anmy.com.vn/products/ozium-air-sanitizer-spray-3-5-oz-99g-country-fresh-ozm-15',\n",
       " '1991203528-4*https://anmy.com.vn/products/ozium-air-sanitizer-spray-3-5-oz-99g-country-fresh-ozm-15',\n",
       " '7584701523-1*https://anmy.com.vn/products/ozium-air-sanitizer-spray-3-5-oz-99g-vanilla-ozm-23',\n",
       " '7584701523-2*https://anmy.com.vn/products/ozium-air-sanitizer-spray-3-5-oz-99g-vanilla-ozm-23',\n",
       " '7584701523-4*https://anmy.com.vn/products/ozium-air-sanitizer-spray-3-5-oz-99g-vanilla-ozm-23',\n",
       " '7584701531-1*https://anmy.com.vn/products/ozium-air-sanitizer-spray-3-5-oz-99g-outdoor-essence-ozm-31',\n",
       " '7584701531-2*https://anmy.com.vn/products/ozium-air-sanitizer-spray-3-5-oz-99g-outdoor-essence-ozm-31',\n",
       " '7584701531-4*https://anmy.com.vn/products/ozium-air-sanitizer-spray-3-5-oz-99g-outdoor-essence-ozm-31',\n",
       " '7584751001-1*https://anmy.com.vn/products/ozium-air-sanitizer-spray-0-8-oz-22-6g-original-oz-1',\n",
       " '7584751001-2*https://anmy.com.vn/products/ozium-air-sanitizer-spray-0-8-oz-22-6g-original-oz-1',\n",
       " '7584751001-4*https://anmy.com.vn/products/ozium-air-sanitizer-spray-0-8-oz-22-6g-original-oz-1',\n",
       " '7584751001-6*https://anmy.com.vn/products/ozium-air-sanitizer-spray-0-8-oz-22-6g-original-oz-1',\n",
       " '7584751015-1*https://anmy.com.vn/products/ozium-air-sanitizer-spray-0-8-oz-22-6g-country-fresh-oz-15',\n",
       " '7584751015-2*https://anmy.com.vn/products/ozium-air-sanitizer-spray-0-8-oz-22-6g-country-fresh-oz-15',\n",
       " '7584751015-4*https://anmy.com.vn/products/ozium-air-sanitizer-spray-0-8-oz-22-6g-country-fresh-oz-15',\n",
       " '7584751015-6*https://anmy.com.vn/products/ozium-air-sanitizer-spray-0-8-oz-22-6g-country-fresh-oz-15',\n",
       " '7584751022-1*https://anmy.com.vn/products/ozium-air-sanitizer-spray-0-8-oz-22-6g-new-car-oz-22',\n",
       " '7584751022-2*https://anmy.com.vn/products/ozium-air-sanitizer-spray-0-8-oz-22-6g-new-car-oz-22',\n",
       " '7584751022-4*https://anmy.com.vn/products/ozium-air-sanitizer-spray-0-8-oz-22-6g-new-car-oz-22',\n",
       " '7584751022-6*https://anmy.com.vn/products/ozium-air-sanitizer-spray-0-8-oz-22-6g-new-car-oz-22',\n",
       " '7584751023-1*https://anmy.com.vn/products/ozium-air-sanitizer-spray-0-8-oz-22-6g-vanilla-oz-23',\n",
       " '7584751023-2*https://anmy.com.vn/products/ozium-air-sanitizer-spray-0-8-oz-22-6g-vanilla-oz-23',\n",
       " '7584751023-4*https://anmy.com.vn/products/ozium-air-sanitizer-spray-0-8-oz-22-6g-vanilla-oz-23',\n",
       " '7584751023-6*https://anmy.com.vn/products/ozium-air-sanitizer-spray-0-8-oz-22-6g-vanilla-oz-23',\n",
       " '7584751031-1*https://anmy.com.vn/products/ozium-air-sanitizer-spray-0-8-oz-22-6g-outdoor-essence-oz-31',\n",
       " '7584751031-2*https://anmy.com.vn/products/ozium-air-sanitizer-spray-0-8-oz-22-6g-outdoor-essence-oz-31',\n",
       " '7584751031-4*https://anmy.com.vn/products/ozium-air-sanitizer-spray-0-8-oz-22-6g-outdoor-essence-oz-31',\n",
       " '7584751031-6*https://anmy.com.vn/products/ozium-air-sanitizer-spray-0-8-oz-22-6g-outdoor-essence-oz-31',\n",
       " '7584751062-1*https://anmy.com.vn/products/ozium-air-sanitizer-spray-0-8-oz-22-6g-citrus-oz-62',\n",
       " '7584751062-2*https://anmy.com.vn/products/ozium-air-sanitizer-spray-0-8-oz-22-6g-citrus-oz-62',\n",
       " '7584751062-4*https://anmy.com.vn/products/ozium-air-sanitizer-spray-0-8-oz-22-6g-citrus-oz-62',\n",
       " '7584751062-6*https://anmy.com.vn/products/ozium-air-sanitizer-spray-0-8-oz-22-6g-citrus-oz-62',\n",
       " '1991202034-1*https://anmy.com.vn/products/nhan-ban-cua-ozium-air-sanitizer-gel-4-5-oz-127g',\n",
       " '1991202034-2*https://anmy.com.vn/products/nhan-ban-cua-ozium-air-sanitizer-gel-4-5-oz-127g',\n",
       " '1991202034-4*https://anmy.com.vn/products/nhan-ban-cua-ozium-air-sanitizer-gel-4-5-oz-127g',\n",
       " '1991202035-1*https://anmy.com.vn/products/ozium-air-sanitizer-gel-4-5-oz-127g-outdoor-essence',\n",
       " '1991202035-2*https://anmy.com.vn/products/ozium-air-sanitizer-gel-4-5-oz-127g-outdoor-essence',\n",
       " '1991202035-4*https://anmy.com.vn/products/ozium-air-sanitizer-gel-4-5-oz-127g-outdoor-essence',\n",
       " '1991203930-1*https://anmy.com.vn/products/ozium-air-sanitizer-gel-4-5-oz-127g-citrus',\n",
       " '1991203930-2*https://anmy.com.vn/products/ozium-air-sanitizer-gel-4-5-oz-127g-citrus',\n",
       " '1991203930-4*https://anmy.com.vn/products/ozium-air-sanitizer-gel-4-5-oz-127g-citrus',\n",
       " '1991203876-1*https://anmy.com.vn/products/scents-luxe-vent-rose-gold-806332',\n",
       " '1991203876-2*https://anmy.com.vn/products/scents-luxe-vent-rose-gold-806332',\n",
       " '1991203876-4*https://anmy.com.vn/products/scents-luxe-vent-rose-gold-806332',\n",
       " '1991203876-6*https://anmy.com.vn/products/scents-luxe-vent-rose-gold-806332',\n",
       " '1991204255-1*https://anmy.com.vn/products/scents-luxe-vent-brushed-silver-806711',\n",
       " '1991204255-2*https://anmy.com.vn/products/scents-luxe-vent-brushed-silver-806711',\n",
       " '1991204255-4*https://anmy.com.vn/products/scents-luxe-vent-brushed-silver-806711',\n",
       " '1991204255-6*https://anmy.com.vn/products/scents-luxe-vent-brushed-silver-806711',\n",
       " '1991204253-1*https://anmy.com.vn/products/scents-luxe-vent-carbon-fiber-806709',\n",
       " '1991204253-2*https://anmy.com.vn/products/scents-luxe-vent-carbon-fiber-806709',\n",
       " '1991204253-4*https://anmy.com.vn/products/scents-luxe-vent-carbon-fiber-806709',\n",
       " '1991204253-6*https://anmy.com.vn/products/scents-luxe-vent-carbon-fiber-806709',\n",
       " '1991204254-1*https://anmy.com.vn/products/scents-luxe-vent-burlwood-806710',\n",
       " '1991204254-2*https://anmy.com.vn/products/scents-luxe-vent-burlwood-806710',\n",
       " '1991204254-4*https://anmy.com.vn/products/scents-luxe-vent-burlwood-806710',\n",
       " '1991204254-6*https://anmy.com.vn/products/scents-luxe-vent-burlwood-806710',\n",
       " '7584711300-1*https://anmy.com.vn/products/scents-vent-oil-newcar-vntfr-22',\n",
       " '7584711300-2*https://anmy.com.vn/products/scents-vent-oil-newcar-vntfr-22',\n",
       " '7584711300-4*https://anmy.com.vn/products/scents-vent-oil-newcar-vntfr-22',\n",
       " '7584711301-1*https://anmy.com.vn/products/scents-vent-oil-outdoor-breeze-vntfr-28',\n",
       " '7584711301-2*https://anmy.com.vn/products/scents-vent-oil-outdoor-breeze-vntfr-28',\n",
       " '7584711301-4*https://anmy.com.vn/products/scents-vent-oil-outdoor-breeze-vntfr-28',\n",
       " '7584711548-1*https://anmy.com.vn/products/scents-vent-oil-vanilla-vntfr-33',\n",
       " '7584711548-2*https://anmy.com.vn/products/scents-vent-oil-vanilla-vntfr-33',\n",
       " '7584711548-4*https://anmy.com.vn/products/scents-vent-oil-vanilla-vntfr-33',\n",
       " '7584711550-1*https://anmy.com.vn/products/gai-cua-gio-scents-vent-oil-island-colada-vntfr-44',\n",
       " '7584711550-2*https://anmy.com.vn/products/gai-cua-gio-scents-vent-oil-island-colada-vntfr-44',\n",
       " '7584711550-4*https://anmy.com.vn/products/gai-cua-gio-scents-vent-oil-island-colada-vntfr-44',\n",
       " '1991200228-1*https://anmy.com.vn/products/scents-vent-oil-after-midnight-800001641',\n",
       " '1991200228-2*https://anmy.com.vn/products/scents-vent-oil-after-midnight-800001641',\n",
       " '1991200228-4*https://anmy.com.vn/products/scents-vent-oil-after-midnight-800001641',\n",
       " '1991202076-1*https://anmy.com.vn/products/scents-vent-oil-lavender-vanilla-804323',\n",
       " '1991202076-2*https://anmy.com.vn/products/scents-vent-oil-lavender-vanilla-804323',\n",
       " '1991202076-4*https://anmy.com.vn/products/scents-vent-oil-lavender-vanilla-804323',\n",
       " '1991202078-1*https://anmy.com.vn/products/scents-vent-oil-strawberry-kiwi-804325',\n",
       " '1991202078-2*https://anmy.com.vn/products/scents-vent-oil-strawberry-kiwi-804325',\n",
       " '1991202078-4*https://anmy.com.vn/products/scents-vent-oil-strawberry-kiwi-804325',\n",
       " 'ORG-001-1*https://anmy.com.vn/products/sap-thom-paradise-air-fresh-42g-cherry-org-001',\n",
       " 'ORG-001-2*https://anmy.com.vn/products/sap-thom-paradise-air-fresh-42g-cherry-org-001',\n",
       " 'ORG-001-4*https://anmy.com.vn/products/sap-thom-paradise-air-fresh-42g-cherry-org-001',\n",
       " 'ORG-002-1*https://anmy.com.vn/products/paradise-air-fresh-42g-strawberry-org-002',\n",
       " 'ORG-002-2*https://anmy.com.vn/products/paradise-air-fresh-42g-strawberry-org-002',\n",
       " 'ORG-002-4*https://anmy.com.vn/products/paradise-air-fresh-42g-strawberry-org-002',\n",
       " 'ORG-003-1*https://anmy.com.vn/products/paradise-air-fresh-42g-black-org-003',\n",
       " 'ORG-003-2*https://anmy.com.vn/products/paradise-air-fresh-42g-black-org-003',\n",
       " 'ORG-003-4*https://anmy.com.vn/products/paradise-air-fresh-42g-black-org-003',\n",
       " 'ORG-004-1*https://anmy.com.vn/products/paradise-air-fresh-42g-vanilla-org-004',\n",
       " 'ORG-004-2*https://anmy.com.vn/products/paradise-air-fresh-42g-vanilla-org-004',\n",
       " 'ORG-004-4*https://anmy.com.vn/products/paradise-air-fresh-42g-vanilla-org-004',\n",
       " 'ORG-007-1*https://anmy.com.vn/products/paradise-air-fresh-42g-new-car-org-007',\n",
       " 'ORG-007-2*https://anmy.com.vn/products/paradise-air-fresh-42g-new-car-org-007',\n",
       " 'ORG-007-4*https://anmy.com.vn/products/paradise-air-fresh-42g-new-car-org-007',\n",
       " 'ORG-010-1*https://anmy.com.vn/products/paradise-air-fresh-42g-gold-org-010',\n",
       " 'ORG-010-2*https://anmy.com.vn/products/paradise-air-fresh-42g-gold-org-010',\n",
       " 'ORG-010-4*https://anmy.com.vn/products/paradise-air-fresh-42g-gold-org-010']"
      ]
     },
     "execution_count": 50,
     "metadata": {},
     "output_type": "execute_result"
    }
   ],
   "source": [
    "skucol = 'Là mã vạch của sản phẩm, nếu NCC không có mã HH thì barcode = mã SKU'\n",
    "df.dropna(subset=[skucol],inplace=True)\n",
    "for i in df.columns:\n",
    "    try:\n",
    "        a = df[i].iloc[1]\n",
    "        if (a.find('https') >= 0):\n",
    "            link = i\n",
    "    except:\n",
    "        continue\n",
    "df.dropna(subset=[link],inplace=True)\n",
    "url = getImg_frompandas(df,skucol,link)\n",
    "url"
   ]
  },
  {
   "cell_type": "code",
   "execution_count": 51,
   "metadata": {},
   "outputs": [
    {
     "data": {
      "text/plain": [
       "103"
      ]
     },
     "execution_count": 51,
     "metadata": {},
     "output_type": "execute_result"
    }
   ],
   "source": [
    "len(url)"
   ]
  },
  {
   "cell_type": "code",
   "execution_count": 39,
   "metadata": {},
   "outputs": [
    {
     "name": "stdout",
     "output_type": "stream",
     "text": [
      "PROCESSING: https://anmy.com.vn/products/ozium-air-sanitizer-spray-3-5-oz-99g-original-ozm-1\n"
     ]
    },
    {
     "name": "stderr",
     "output_type": "stream",
     "text": [
      "C:\\Users\\minhcq\\AppData\\Local\\Continuum\\anaconda3\\lib\\site-packages\\urllib3\\connectionpool.py:847: InsecureRequestWarning: Unverified HTTPS request is being made. Adding certificate verification is strongly advised. See: https://urllib3.readthedocs.io/en/latest/advanced-usage.html#ssl-warnings\n",
      "  InsecureRequestWarning)\n"
     ]
    },
    {
     "name": "stdout",
     "output_type": "stream",
     "text": [
      "PROCESSING: https://anmy.com.vn/products/ozium-air-sanitizer-spray-3-5-oz-99g-original-ozm-1\n"
     ]
    },
    {
     "name": "stderr",
     "output_type": "stream",
     "text": [
      "C:\\Users\\minhcq\\AppData\\Local\\Continuum\\anaconda3\\lib\\site-packages\\urllib3\\connectionpool.py:847: InsecureRequestWarning: Unverified HTTPS request is being made. Adding certificate verification is strongly advised. See: https://urllib3.readthedocs.io/en/latest/advanced-usage.html#ssl-warnings\n",
      "  InsecureRequestWarning)\n"
     ]
    },
    {
     "name": "stdout",
     "output_type": "stream",
     "text": [
      "PROCESSING: https://anmy.com.vn/products/ozium-air-sanitizer-spray-3-5-oz-99g-original-ozm-1\n"
     ]
    },
    {
     "name": "stderr",
     "output_type": "stream",
     "text": [
      "C:\\Users\\minhcq\\AppData\\Local\\Continuum\\anaconda3\\lib\\site-packages\\urllib3\\connectionpool.py:847: InsecureRequestWarning: Unverified HTTPS request is being made. Adding certificate verification is strongly advised. See: https://urllib3.readthedocs.io/en/latest/advanced-usage.html#ssl-warnings\n",
      "  InsecureRequestWarning)\n"
     ]
    },
    {
     "name": "stdout",
     "output_type": "stream",
     "text": [
      "PROCESSING: https://anmy.com.vn/products/ozium-air-sanitizer-spray-3-5-oz-99g-new-car-ozm-22\n"
     ]
    },
    {
     "name": "stderr",
     "output_type": "stream",
     "text": [
      "C:\\Users\\minhcq\\AppData\\Local\\Continuum\\anaconda3\\lib\\site-packages\\urllib3\\connectionpool.py:847: InsecureRequestWarning: Unverified HTTPS request is being made. Adding certificate verification is strongly advised. See: https://urllib3.readthedocs.io/en/latest/advanced-usage.html#ssl-warnings\n",
      "  InsecureRequestWarning)\n"
     ]
    },
    {
     "name": "stdout",
     "output_type": "stream",
     "text": [
      "PROCESSING: https://anmy.com.vn/products/ozium-air-sanitizer-spray-3-5-oz-99g-new-car-ozm-22\n"
     ]
    },
    {
     "name": "stderr",
     "output_type": "stream",
     "text": [
      "C:\\Users\\minhcq\\AppData\\Local\\Continuum\\anaconda3\\lib\\site-packages\\urllib3\\connectionpool.py:847: InsecureRequestWarning: Unverified HTTPS request is being made. Adding certificate verification is strongly advised. See: https://urllib3.readthedocs.io/en/latest/advanced-usage.html#ssl-warnings\n",
      "  InsecureRequestWarning)\n"
     ]
    },
    {
     "name": "stdout",
     "output_type": "stream",
     "text": [
      "PROCESSING: https://anmy.com.vn/products/ozium-air-sanitizer-spray-3-5-oz-99g-new-car-ozm-22\n"
     ]
    },
    {
     "name": "stderr",
     "output_type": "stream",
     "text": [
      "C:\\Users\\minhcq\\AppData\\Local\\Continuum\\anaconda3\\lib\\site-packages\\urllib3\\connectionpool.py:847: InsecureRequestWarning: Unverified HTTPS request is being made. Adding certificate verification is strongly advised. See: https://urllib3.readthedocs.io/en/latest/advanced-usage.html#ssl-warnings\n",
      "  InsecureRequestWarning)\n"
     ]
    },
    {
     "name": "stdout",
     "output_type": "stream",
     "text": [
      "PROCESSING: https://anmy.com.vn/products/ozium-air-sanitizer-spray-3-5-oz-99g-country-fresh-ozm-15\n"
     ]
    },
    {
     "name": "stderr",
     "output_type": "stream",
     "text": [
      "C:\\Users\\minhcq\\AppData\\Local\\Continuum\\anaconda3\\lib\\site-packages\\urllib3\\connectionpool.py:847: InsecureRequestWarning: Unverified HTTPS request is being made. Adding certificate verification is strongly advised. See: https://urllib3.readthedocs.io/en/latest/advanced-usage.html#ssl-warnings\n",
      "  InsecureRequestWarning)\n"
     ]
    },
    {
     "name": "stdout",
     "output_type": "stream",
     "text": [
      "PROCESSING: https://anmy.com.vn/products/ozium-air-sanitizer-spray-3-5-oz-99g-country-fresh-ozm-15\n"
     ]
    },
    {
     "name": "stderr",
     "output_type": "stream",
     "text": [
      "C:\\Users\\minhcq\\AppData\\Local\\Continuum\\anaconda3\\lib\\site-packages\\urllib3\\connectionpool.py:847: InsecureRequestWarning: Unverified HTTPS request is being made. Adding certificate verification is strongly advised. See: https://urllib3.readthedocs.io/en/latest/advanced-usage.html#ssl-warnings\n",
      "  InsecureRequestWarning)\n"
     ]
    },
    {
     "name": "stdout",
     "output_type": "stream",
     "text": [
      "PROCESSING: https://anmy.com.vn/products/ozium-air-sanitizer-spray-3-5-oz-99g-country-fresh-ozm-15\n"
     ]
    },
    {
     "name": "stderr",
     "output_type": "stream",
     "text": [
      "C:\\Users\\minhcq\\AppData\\Local\\Continuum\\anaconda3\\lib\\site-packages\\urllib3\\connectionpool.py:847: InsecureRequestWarning: Unverified HTTPS request is being made. Adding certificate verification is strongly advised. See: https://urllib3.readthedocs.io/en/latest/advanced-usage.html#ssl-warnings\n",
      "  InsecureRequestWarning)\n"
     ]
    },
    {
     "name": "stdout",
     "output_type": "stream",
     "text": [
      "PROCESSING: https://anmy.com.vn/products/ozium-air-sanitizer-spray-3-5-oz-99g-vanilla-ozm-23\n"
     ]
    },
    {
     "name": "stderr",
     "output_type": "stream",
     "text": [
      "C:\\Users\\minhcq\\AppData\\Local\\Continuum\\anaconda3\\lib\\site-packages\\urllib3\\connectionpool.py:847: InsecureRequestWarning: Unverified HTTPS request is being made. Adding certificate verification is strongly advised. See: https://urllib3.readthedocs.io/en/latest/advanced-usage.html#ssl-warnings\n",
      "  InsecureRequestWarning)\n"
     ]
    },
    {
     "name": "stdout",
     "output_type": "stream",
     "text": [
      "PROCESSING: https://anmy.com.vn/products/ozium-air-sanitizer-spray-3-5-oz-99g-vanilla-ozm-23\n"
     ]
    },
    {
     "name": "stderr",
     "output_type": "stream",
     "text": [
      "C:\\Users\\minhcq\\AppData\\Local\\Continuum\\anaconda3\\lib\\site-packages\\urllib3\\connectionpool.py:847: InsecureRequestWarning: Unverified HTTPS request is being made. Adding certificate verification is strongly advised. See: https://urllib3.readthedocs.io/en/latest/advanced-usage.html#ssl-warnings\n",
      "  InsecureRequestWarning)\n"
     ]
    },
    {
     "name": "stdout",
     "output_type": "stream",
     "text": [
      "PROCESSING: https://anmy.com.vn/products/ozium-air-sanitizer-spray-3-5-oz-99g-vanilla-ozm-23\n"
     ]
    },
    {
     "name": "stderr",
     "output_type": "stream",
     "text": [
      "C:\\Users\\minhcq\\AppData\\Local\\Continuum\\anaconda3\\lib\\site-packages\\urllib3\\connectionpool.py:847: InsecureRequestWarning: Unverified HTTPS request is being made. Adding certificate verification is strongly advised. See: https://urllib3.readthedocs.io/en/latest/advanced-usage.html#ssl-warnings\n",
      "  InsecureRequestWarning)\n"
     ]
    },
    {
     "name": "stdout",
     "output_type": "stream",
     "text": [
      "PROCESSING: https://anmy.com.vn/products/ozium-air-sanitizer-spray-3-5-oz-99g-outdoor-essence-ozm-31\n"
     ]
    },
    {
     "name": "stderr",
     "output_type": "stream",
     "text": [
      "C:\\Users\\minhcq\\AppData\\Local\\Continuum\\anaconda3\\lib\\site-packages\\urllib3\\connectionpool.py:847: InsecureRequestWarning: Unverified HTTPS request is being made. Adding certificate verification is strongly advised. See: https://urllib3.readthedocs.io/en/latest/advanced-usage.html#ssl-warnings\n",
      "  InsecureRequestWarning)\n"
     ]
    },
    {
     "name": "stdout",
     "output_type": "stream",
     "text": [
      "PROCESSING: https://anmy.com.vn/products/ozium-air-sanitizer-spray-3-5-oz-99g-outdoor-essence-ozm-31\n"
     ]
    },
    {
     "name": "stderr",
     "output_type": "stream",
     "text": [
      "C:\\Users\\minhcq\\AppData\\Local\\Continuum\\anaconda3\\lib\\site-packages\\urllib3\\connectionpool.py:847: InsecureRequestWarning: Unverified HTTPS request is being made. Adding certificate verification is strongly advised. See: https://urllib3.readthedocs.io/en/latest/advanced-usage.html#ssl-warnings\n",
      "  InsecureRequestWarning)\n"
     ]
    },
    {
     "name": "stdout",
     "output_type": "stream",
     "text": [
      "PROCESSING: https://anmy.com.vn/products/ozium-air-sanitizer-spray-3-5-oz-99g-outdoor-essence-ozm-31\n"
     ]
    },
    {
     "name": "stderr",
     "output_type": "stream",
     "text": [
      "C:\\Users\\minhcq\\AppData\\Local\\Continuum\\anaconda3\\lib\\site-packages\\urllib3\\connectionpool.py:847: InsecureRequestWarning: Unverified HTTPS request is being made. Adding certificate verification is strongly advised. See: https://urllib3.readthedocs.io/en/latest/advanced-usage.html#ssl-warnings\n",
      "  InsecureRequestWarning)\n"
     ]
    },
    {
     "name": "stdout",
     "output_type": "stream",
     "text": [
      "PROCESSING: https://anmy.com.vn/products/ozium-air-sanitizer-spray-0-8-oz-22-6g-original-oz-1\n"
     ]
    },
    {
     "name": "stderr",
     "output_type": "stream",
     "text": [
      "C:\\Users\\minhcq\\AppData\\Local\\Continuum\\anaconda3\\lib\\site-packages\\urllib3\\connectionpool.py:847: InsecureRequestWarning: Unverified HTTPS request is being made. Adding certificate verification is strongly advised. See: https://urllib3.readthedocs.io/en/latest/advanced-usage.html#ssl-warnings\n",
      "  InsecureRequestWarning)\n"
     ]
    },
    {
     "name": "stdout",
     "output_type": "stream",
     "text": [
      "PROCESSING: https://anmy.com.vn/products/ozium-air-sanitizer-spray-0-8-oz-22-6g-original-oz-1\n"
     ]
    },
    {
     "name": "stderr",
     "output_type": "stream",
     "text": [
      "C:\\Users\\minhcq\\AppData\\Local\\Continuum\\anaconda3\\lib\\site-packages\\urllib3\\connectionpool.py:847: InsecureRequestWarning: Unverified HTTPS request is being made. Adding certificate verification is strongly advised. See: https://urllib3.readthedocs.io/en/latest/advanced-usage.html#ssl-warnings\n",
      "  InsecureRequestWarning)\n"
     ]
    },
    {
     "name": "stdout",
     "output_type": "stream",
     "text": [
      "PROCESSING: https://anmy.com.vn/products/ozium-air-sanitizer-spray-0-8-oz-22-6g-original-oz-1\n"
     ]
    },
    {
     "name": "stderr",
     "output_type": "stream",
     "text": [
      "C:\\Users\\minhcq\\AppData\\Local\\Continuum\\anaconda3\\lib\\site-packages\\urllib3\\connectionpool.py:847: InsecureRequestWarning: Unverified HTTPS request is being made. Adding certificate verification is strongly advised. See: https://urllib3.readthedocs.io/en/latest/advanced-usage.html#ssl-warnings\n",
      "  InsecureRequestWarning)\n"
     ]
    },
    {
     "name": "stdout",
     "output_type": "stream",
     "text": [
      "PROCESSING: https://anmy.com.vn/products/ozium-air-sanitizer-spray-0-8-oz-22-6g-original-oz-1\n"
     ]
    },
    {
     "name": "stderr",
     "output_type": "stream",
     "text": [
      "C:\\Users\\minhcq\\AppData\\Local\\Continuum\\anaconda3\\lib\\site-packages\\urllib3\\connectionpool.py:847: InsecureRequestWarning: Unverified HTTPS request is being made. Adding certificate verification is strongly advised. See: https://urllib3.readthedocs.io/en/latest/advanced-usage.html#ssl-warnings\n",
      "  InsecureRequestWarning)\n"
     ]
    },
    {
     "name": "stdout",
     "output_type": "stream",
     "text": [
      "PROCESSING: https://anmy.com.vn/products/ozium-air-sanitizer-spray-0-8-oz-22-6g-country-fresh-oz-15\n"
     ]
    },
    {
     "name": "stderr",
     "output_type": "stream",
     "text": [
      "C:\\Users\\minhcq\\AppData\\Local\\Continuum\\anaconda3\\lib\\site-packages\\urllib3\\connectionpool.py:847: InsecureRequestWarning: Unverified HTTPS request is being made. Adding certificate verification is strongly advised. See: https://urllib3.readthedocs.io/en/latest/advanced-usage.html#ssl-warnings\n",
      "  InsecureRequestWarning)\n"
     ]
    },
    {
     "name": "stdout",
     "output_type": "stream",
     "text": [
      "PROCESSING: https://anmy.com.vn/products/ozium-air-sanitizer-spray-0-8-oz-22-6g-country-fresh-oz-15\n"
     ]
    },
    {
     "name": "stderr",
     "output_type": "stream",
     "text": [
      "C:\\Users\\minhcq\\AppData\\Local\\Continuum\\anaconda3\\lib\\site-packages\\urllib3\\connectionpool.py:847: InsecureRequestWarning: Unverified HTTPS request is being made. Adding certificate verification is strongly advised. See: https://urllib3.readthedocs.io/en/latest/advanced-usage.html#ssl-warnings\n",
      "  InsecureRequestWarning)\n"
     ]
    },
    {
     "name": "stdout",
     "output_type": "stream",
     "text": [
      "PROCESSING: https://anmy.com.vn/products/ozium-air-sanitizer-spray-0-8-oz-22-6g-country-fresh-oz-15\n"
     ]
    },
    {
     "name": "stderr",
     "output_type": "stream",
     "text": [
      "C:\\Users\\minhcq\\AppData\\Local\\Continuum\\anaconda3\\lib\\site-packages\\urllib3\\connectionpool.py:847: InsecureRequestWarning: Unverified HTTPS request is being made. Adding certificate verification is strongly advised. See: https://urllib3.readthedocs.io/en/latest/advanced-usage.html#ssl-warnings\n",
      "  InsecureRequestWarning)\n"
     ]
    },
    {
     "name": "stdout",
     "output_type": "stream",
     "text": [
      "PROCESSING: https://anmy.com.vn/products/ozium-air-sanitizer-spray-0-8-oz-22-6g-country-fresh-oz-15\n"
     ]
    },
    {
     "name": "stderr",
     "output_type": "stream",
     "text": [
      "C:\\Users\\minhcq\\AppData\\Local\\Continuum\\anaconda3\\lib\\site-packages\\urllib3\\connectionpool.py:847: InsecureRequestWarning: Unverified HTTPS request is being made. Adding certificate verification is strongly advised. See: https://urllib3.readthedocs.io/en/latest/advanced-usage.html#ssl-warnings\n",
      "  InsecureRequestWarning)\n"
     ]
    },
    {
     "name": "stdout",
     "output_type": "stream",
     "text": [
      "PROCESSING: https://anmy.com.vn/products/ozium-air-sanitizer-spray-0-8-oz-22-6g-new-car-oz-22\n"
     ]
    },
    {
     "name": "stderr",
     "output_type": "stream",
     "text": [
      "C:\\Users\\minhcq\\AppData\\Local\\Continuum\\anaconda3\\lib\\site-packages\\urllib3\\connectionpool.py:847: InsecureRequestWarning: Unverified HTTPS request is being made. Adding certificate verification is strongly advised. See: https://urllib3.readthedocs.io/en/latest/advanced-usage.html#ssl-warnings\n",
      "  InsecureRequestWarning)\n"
     ]
    },
    {
     "name": "stdout",
     "output_type": "stream",
     "text": [
      "PROCESSING: https://anmy.com.vn/products/ozium-air-sanitizer-spray-0-8-oz-22-6g-new-car-oz-22\n"
     ]
    },
    {
     "name": "stderr",
     "output_type": "stream",
     "text": [
      "C:\\Users\\minhcq\\AppData\\Local\\Continuum\\anaconda3\\lib\\site-packages\\urllib3\\connectionpool.py:847: InsecureRequestWarning: Unverified HTTPS request is being made. Adding certificate verification is strongly advised. See: https://urllib3.readthedocs.io/en/latest/advanced-usage.html#ssl-warnings\n",
      "  InsecureRequestWarning)\n"
     ]
    },
    {
     "name": "stdout",
     "output_type": "stream",
     "text": [
      "PROCESSING: https://anmy.com.vn/products/ozium-air-sanitizer-spray-0-8-oz-22-6g-new-car-oz-22\n"
     ]
    },
    {
     "name": "stderr",
     "output_type": "stream",
     "text": [
      "C:\\Users\\minhcq\\AppData\\Local\\Continuum\\anaconda3\\lib\\site-packages\\urllib3\\connectionpool.py:847: InsecureRequestWarning: Unverified HTTPS request is being made. Adding certificate verification is strongly advised. See: https://urllib3.readthedocs.io/en/latest/advanced-usage.html#ssl-warnings\n",
      "  InsecureRequestWarning)\n"
     ]
    },
    {
     "name": "stdout",
     "output_type": "stream",
     "text": [
      "PROCESSING: https://anmy.com.vn/products/ozium-air-sanitizer-spray-0-8-oz-22-6g-new-car-oz-22\n"
     ]
    },
    {
     "name": "stderr",
     "output_type": "stream",
     "text": [
      "C:\\Users\\minhcq\\AppData\\Local\\Continuum\\anaconda3\\lib\\site-packages\\urllib3\\connectionpool.py:847: InsecureRequestWarning: Unverified HTTPS request is being made. Adding certificate verification is strongly advised. See: https://urllib3.readthedocs.io/en/latest/advanced-usage.html#ssl-warnings\n",
      "  InsecureRequestWarning)\n"
     ]
    },
    {
     "name": "stdout",
     "output_type": "stream",
     "text": [
      "PROCESSING: https://anmy.com.vn/products/ozium-air-sanitizer-spray-0-8-oz-22-6g-vanilla-oz-23\n"
     ]
    },
    {
     "name": "stderr",
     "output_type": "stream",
     "text": [
      "C:\\Users\\minhcq\\AppData\\Local\\Continuum\\anaconda3\\lib\\site-packages\\urllib3\\connectionpool.py:847: InsecureRequestWarning: Unverified HTTPS request is being made. Adding certificate verification is strongly advised. See: https://urllib3.readthedocs.io/en/latest/advanced-usage.html#ssl-warnings\n",
      "  InsecureRequestWarning)\n"
     ]
    },
    {
     "name": "stdout",
     "output_type": "stream",
     "text": [
      "PROCESSING: https://anmy.com.vn/products/ozium-air-sanitizer-spray-0-8-oz-22-6g-vanilla-oz-23\n"
     ]
    },
    {
     "name": "stderr",
     "output_type": "stream",
     "text": [
      "C:\\Users\\minhcq\\AppData\\Local\\Continuum\\anaconda3\\lib\\site-packages\\urllib3\\connectionpool.py:847: InsecureRequestWarning: Unverified HTTPS request is being made. Adding certificate verification is strongly advised. See: https://urllib3.readthedocs.io/en/latest/advanced-usage.html#ssl-warnings\n",
      "  InsecureRequestWarning)\n"
     ]
    },
    {
     "name": "stdout",
     "output_type": "stream",
     "text": [
      "PROCESSING: https://anmy.com.vn/products/ozium-air-sanitizer-spray-0-8-oz-22-6g-vanilla-oz-23\n"
     ]
    },
    {
     "name": "stderr",
     "output_type": "stream",
     "text": [
      "C:\\Users\\minhcq\\AppData\\Local\\Continuum\\anaconda3\\lib\\site-packages\\urllib3\\connectionpool.py:847: InsecureRequestWarning: Unverified HTTPS request is being made. Adding certificate verification is strongly advised. See: https://urllib3.readthedocs.io/en/latest/advanced-usage.html#ssl-warnings\n",
      "  InsecureRequestWarning)\n"
     ]
    },
    {
     "name": "stdout",
     "output_type": "stream",
     "text": [
      "PROCESSING: https://anmy.com.vn/products/ozium-air-sanitizer-spray-0-8-oz-22-6g-vanilla-oz-23\n"
     ]
    },
    {
     "name": "stderr",
     "output_type": "stream",
     "text": [
      "C:\\Users\\minhcq\\AppData\\Local\\Continuum\\anaconda3\\lib\\site-packages\\urllib3\\connectionpool.py:847: InsecureRequestWarning: Unverified HTTPS request is being made. Adding certificate verification is strongly advised. See: https://urllib3.readthedocs.io/en/latest/advanced-usage.html#ssl-warnings\n",
      "  InsecureRequestWarning)\n"
     ]
    },
    {
     "name": "stdout",
     "output_type": "stream",
     "text": [
      "PROCESSING: https://anmy.com.vn/products/ozium-air-sanitizer-spray-0-8-oz-22-6g-outdoor-essence-oz-31\n"
     ]
    },
    {
     "name": "stderr",
     "output_type": "stream",
     "text": [
      "C:\\Users\\minhcq\\AppData\\Local\\Continuum\\anaconda3\\lib\\site-packages\\urllib3\\connectionpool.py:847: InsecureRequestWarning: Unverified HTTPS request is being made. Adding certificate verification is strongly advised. See: https://urllib3.readthedocs.io/en/latest/advanced-usage.html#ssl-warnings\n",
      "  InsecureRequestWarning)\n"
     ]
    },
    {
     "name": "stdout",
     "output_type": "stream",
     "text": [
      "PROCESSING: https://anmy.com.vn/products/ozium-air-sanitizer-spray-0-8-oz-22-6g-outdoor-essence-oz-31\n"
     ]
    },
    {
     "name": "stderr",
     "output_type": "stream",
     "text": [
      "C:\\Users\\minhcq\\AppData\\Local\\Continuum\\anaconda3\\lib\\site-packages\\urllib3\\connectionpool.py:847: InsecureRequestWarning: Unverified HTTPS request is being made. Adding certificate verification is strongly advised. See: https://urllib3.readthedocs.io/en/latest/advanced-usage.html#ssl-warnings\n",
      "  InsecureRequestWarning)\n"
     ]
    },
    {
     "name": "stdout",
     "output_type": "stream",
     "text": [
      "PROCESSING: https://anmy.com.vn/products/ozium-air-sanitizer-spray-0-8-oz-22-6g-outdoor-essence-oz-31\n"
     ]
    },
    {
     "name": "stderr",
     "output_type": "stream",
     "text": [
      "C:\\Users\\minhcq\\AppData\\Local\\Continuum\\anaconda3\\lib\\site-packages\\urllib3\\connectionpool.py:847: InsecureRequestWarning: Unverified HTTPS request is being made. Adding certificate verification is strongly advised. See: https://urllib3.readthedocs.io/en/latest/advanced-usage.html#ssl-warnings\n",
      "  InsecureRequestWarning)\n"
     ]
    },
    {
     "name": "stdout",
     "output_type": "stream",
     "text": [
      "PROCESSING: https://anmy.com.vn/products/ozium-air-sanitizer-spray-0-8-oz-22-6g-outdoor-essence-oz-31\n"
     ]
    },
    {
     "name": "stderr",
     "output_type": "stream",
     "text": [
      "C:\\Users\\minhcq\\AppData\\Local\\Continuum\\anaconda3\\lib\\site-packages\\urllib3\\connectionpool.py:847: InsecureRequestWarning: Unverified HTTPS request is being made. Adding certificate verification is strongly advised. See: https://urllib3.readthedocs.io/en/latest/advanced-usage.html#ssl-warnings\n",
      "  InsecureRequestWarning)\n"
     ]
    },
    {
     "name": "stdout",
     "output_type": "stream",
     "text": [
      "PROCESSING: https://anmy.com.vn/products/ozium-air-sanitizer-spray-0-8-oz-22-6g-citrus-oz-62\n"
     ]
    },
    {
     "name": "stderr",
     "output_type": "stream",
     "text": [
      "C:\\Users\\minhcq\\AppData\\Local\\Continuum\\anaconda3\\lib\\site-packages\\urllib3\\connectionpool.py:847: InsecureRequestWarning: Unverified HTTPS request is being made. Adding certificate verification is strongly advised. See: https://urllib3.readthedocs.io/en/latest/advanced-usage.html#ssl-warnings\n",
      "  InsecureRequestWarning)\n"
     ]
    },
    {
     "name": "stdout",
     "output_type": "stream",
     "text": [
      "PROCESSING: https://anmy.com.vn/products/ozium-air-sanitizer-spray-0-8-oz-22-6g-citrus-oz-62\n"
     ]
    },
    {
     "name": "stderr",
     "output_type": "stream",
     "text": [
      "C:\\Users\\minhcq\\AppData\\Local\\Continuum\\anaconda3\\lib\\site-packages\\urllib3\\connectionpool.py:847: InsecureRequestWarning: Unverified HTTPS request is being made. Adding certificate verification is strongly advised. See: https://urllib3.readthedocs.io/en/latest/advanced-usage.html#ssl-warnings\n",
      "  InsecureRequestWarning)\n"
     ]
    },
    {
     "name": "stdout",
     "output_type": "stream",
     "text": [
      "PROCESSING: https://anmy.com.vn/products/ozium-air-sanitizer-spray-0-8-oz-22-6g-citrus-oz-62\n"
     ]
    },
    {
     "name": "stderr",
     "output_type": "stream",
     "text": [
      "C:\\Users\\minhcq\\AppData\\Local\\Continuum\\anaconda3\\lib\\site-packages\\urllib3\\connectionpool.py:847: InsecureRequestWarning: Unverified HTTPS request is being made. Adding certificate verification is strongly advised. See: https://urllib3.readthedocs.io/en/latest/advanced-usage.html#ssl-warnings\n",
      "  InsecureRequestWarning)\n"
     ]
    },
    {
     "name": "stdout",
     "output_type": "stream",
     "text": [
      "PROCESSING: https://anmy.com.vn/products/ozium-air-sanitizer-spray-0-8-oz-22-6g-citrus-oz-62\n"
     ]
    },
    {
     "name": "stderr",
     "output_type": "stream",
     "text": [
      "C:\\Users\\minhcq\\AppData\\Local\\Continuum\\anaconda3\\lib\\site-packages\\urllib3\\connectionpool.py:847: InsecureRequestWarning: Unverified HTTPS request is being made. Adding certificate verification is strongly advised. See: https://urllib3.readthedocs.io/en/latest/advanced-usage.html#ssl-warnings\n",
      "  InsecureRequestWarning)\n"
     ]
    },
    {
     "name": "stdout",
     "output_type": "stream",
     "text": [
      "PROCESSING: https://anmy.com.vn/products/nhan-ban-cua-ozium-air-sanitizer-gel-4-5-oz-127g\n"
     ]
    },
    {
     "name": "stderr",
     "output_type": "stream",
     "text": [
      "C:\\Users\\minhcq\\AppData\\Local\\Continuum\\anaconda3\\lib\\site-packages\\urllib3\\connectionpool.py:847: InsecureRequestWarning: Unverified HTTPS request is being made. Adding certificate verification is strongly advised. See: https://urllib3.readthedocs.io/en/latest/advanced-usage.html#ssl-warnings\n",
      "  InsecureRequestWarning)\n"
     ]
    },
    {
     "name": "stdout",
     "output_type": "stream",
     "text": [
      "PROCESSING: https://anmy.com.vn/products/nhan-ban-cua-ozium-air-sanitizer-gel-4-5-oz-127g\n"
     ]
    },
    {
     "name": "stderr",
     "output_type": "stream",
     "text": [
      "C:\\Users\\minhcq\\AppData\\Local\\Continuum\\anaconda3\\lib\\site-packages\\urllib3\\connectionpool.py:847: InsecureRequestWarning: Unverified HTTPS request is being made. Adding certificate verification is strongly advised. See: https://urllib3.readthedocs.io/en/latest/advanced-usage.html#ssl-warnings\n",
      "  InsecureRequestWarning)\n"
     ]
    },
    {
     "name": "stdout",
     "output_type": "stream",
     "text": [
      "PROCESSING: https://anmy.com.vn/products/nhan-ban-cua-ozium-air-sanitizer-gel-4-5-oz-127g\n"
     ]
    },
    {
     "name": "stderr",
     "output_type": "stream",
     "text": [
      "C:\\Users\\minhcq\\AppData\\Local\\Continuum\\anaconda3\\lib\\site-packages\\urllib3\\connectionpool.py:847: InsecureRequestWarning: Unverified HTTPS request is being made. Adding certificate verification is strongly advised. See: https://urllib3.readthedocs.io/en/latest/advanced-usage.html#ssl-warnings\n",
      "  InsecureRequestWarning)\n"
     ]
    },
    {
     "name": "stdout",
     "output_type": "stream",
     "text": [
      "PROCESSING: https://anmy.com.vn/products/ozium-air-sanitizer-gel-4-5-oz-127g-outdoor-essence\n"
     ]
    },
    {
     "name": "stderr",
     "output_type": "stream",
     "text": [
      "C:\\Users\\minhcq\\AppData\\Local\\Continuum\\anaconda3\\lib\\site-packages\\urllib3\\connectionpool.py:847: InsecureRequestWarning: Unverified HTTPS request is being made. Adding certificate verification is strongly advised. See: https://urllib3.readthedocs.io/en/latest/advanced-usage.html#ssl-warnings\n",
      "  InsecureRequestWarning)\n"
     ]
    },
    {
     "name": "stdout",
     "output_type": "stream",
     "text": [
      "PROCESSING: https://anmy.com.vn/products/ozium-air-sanitizer-gel-4-5-oz-127g-outdoor-essence\n"
     ]
    },
    {
     "name": "stderr",
     "output_type": "stream",
     "text": [
      "C:\\Users\\minhcq\\AppData\\Local\\Continuum\\anaconda3\\lib\\site-packages\\urllib3\\connectionpool.py:847: InsecureRequestWarning: Unverified HTTPS request is being made. Adding certificate verification is strongly advised. See: https://urllib3.readthedocs.io/en/latest/advanced-usage.html#ssl-warnings\n",
      "  InsecureRequestWarning)\n"
     ]
    },
    {
     "name": "stdout",
     "output_type": "stream",
     "text": [
      "PROCESSING: https://anmy.com.vn/products/ozium-air-sanitizer-gel-4-5-oz-127g-outdoor-essence\n"
     ]
    },
    {
     "name": "stderr",
     "output_type": "stream",
     "text": [
      "C:\\Users\\minhcq\\AppData\\Local\\Continuum\\anaconda3\\lib\\site-packages\\urllib3\\connectionpool.py:847: InsecureRequestWarning: Unverified HTTPS request is being made. Adding certificate verification is strongly advised. See: https://urllib3.readthedocs.io/en/latest/advanced-usage.html#ssl-warnings\n",
      "  InsecureRequestWarning)\n"
     ]
    },
    {
     "name": "stdout",
     "output_type": "stream",
     "text": [
      "PROCESSING: https://anmy.com.vn/products/ozium-air-sanitizer-gel-4-5-oz-127g-citrus\n"
     ]
    },
    {
     "name": "stderr",
     "output_type": "stream",
     "text": [
      "C:\\Users\\minhcq\\AppData\\Local\\Continuum\\anaconda3\\lib\\site-packages\\urllib3\\connectionpool.py:847: InsecureRequestWarning: Unverified HTTPS request is being made. Adding certificate verification is strongly advised. See: https://urllib3.readthedocs.io/en/latest/advanced-usage.html#ssl-warnings\n",
      "  InsecureRequestWarning)\n"
     ]
    },
    {
     "name": "stdout",
     "output_type": "stream",
     "text": [
      "PROCESSING: https://anmy.com.vn/products/ozium-air-sanitizer-gel-4-5-oz-127g-citrus\n"
     ]
    },
    {
     "name": "stderr",
     "output_type": "stream",
     "text": [
      "C:\\Users\\minhcq\\AppData\\Local\\Continuum\\anaconda3\\lib\\site-packages\\urllib3\\connectionpool.py:847: InsecureRequestWarning: Unverified HTTPS request is being made. Adding certificate verification is strongly advised. See: https://urllib3.readthedocs.io/en/latest/advanced-usage.html#ssl-warnings\n",
      "  InsecureRequestWarning)\n"
     ]
    },
    {
     "name": "stdout",
     "output_type": "stream",
     "text": [
      "PROCESSING: https://anmy.com.vn/products/ozium-air-sanitizer-gel-4-5-oz-127g-citrus\n"
     ]
    },
    {
     "name": "stderr",
     "output_type": "stream",
     "text": [
      "C:\\Users\\minhcq\\AppData\\Local\\Continuum\\anaconda3\\lib\\site-packages\\urllib3\\connectionpool.py:847: InsecureRequestWarning: Unverified HTTPS request is being made. Adding certificate verification is strongly advised. See: https://urllib3.readthedocs.io/en/latest/advanced-usage.html#ssl-warnings\n",
      "  InsecureRequestWarning)\n"
     ]
    },
    {
     "name": "stdout",
     "output_type": "stream",
     "text": [
      "PROCESSING: https://anmy.com.vn/products/scents-luxe-vent-rose-gold-806332\n"
     ]
    },
    {
     "name": "stderr",
     "output_type": "stream",
     "text": [
      "C:\\Users\\minhcq\\AppData\\Local\\Continuum\\anaconda3\\lib\\site-packages\\urllib3\\connectionpool.py:847: InsecureRequestWarning: Unverified HTTPS request is being made. Adding certificate verification is strongly advised. See: https://urllib3.readthedocs.io/en/latest/advanced-usage.html#ssl-warnings\n",
      "  InsecureRequestWarning)\n"
     ]
    },
    {
     "name": "stdout",
     "output_type": "stream",
     "text": [
      "PROCESSING: https://anmy.com.vn/products/scents-luxe-vent-rose-gold-806332\n"
     ]
    },
    {
     "name": "stderr",
     "output_type": "stream",
     "text": [
      "C:\\Users\\minhcq\\AppData\\Local\\Continuum\\anaconda3\\lib\\site-packages\\urllib3\\connectionpool.py:847: InsecureRequestWarning: Unverified HTTPS request is being made. Adding certificate verification is strongly advised. See: https://urllib3.readthedocs.io/en/latest/advanced-usage.html#ssl-warnings\n",
      "  InsecureRequestWarning)\n"
     ]
    },
    {
     "name": "stdout",
     "output_type": "stream",
     "text": [
      "PROCESSING: https://anmy.com.vn/products/scents-luxe-vent-rose-gold-806332\n"
     ]
    },
    {
     "name": "stderr",
     "output_type": "stream",
     "text": [
      "C:\\Users\\minhcq\\AppData\\Local\\Continuum\\anaconda3\\lib\\site-packages\\urllib3\\connectionpool.py:847: InsecureRequestWarning: Unverified HTTPS request is being made. Adding certificate verification is strongly advised. See: https://urllib3.readthedocs.io/en/latest/advanced-usage.html#ssl-warnings\n",
      "  InsecureRequestWarning)\n"
     ]
    },
    {
     "name": "stdout",
     "output_type": "stream",
     "text": [
      "PROCESSING: https://anmy.com.vn/products/scents-luxe-vent-rose-gold-806332\n"
     ]
    },
    {
     "name": "stderr",
     "output_type": "stream",
     "text": [
      "C:\\Users\\minhcq\\AppData\\Local\\Continuum\\anaconda3\\lib\\site-packages\\urllib3\\connectionpool.py:847: InsecureRequestWarning: Unverified HTTPS request is being made. Adding certificate verification is strongly advised. See: https://urllib3.readthedocs.io/en/latest/advanced-usage.html#ssl-warnings\n",
      "  InsecureRequestWarning)\n"
     ]
    },
    {
     "name": "stdout",
     "output_type": "stream",
     "text": [
      "PROCESSING: https://anmy.com.vn/products/scents-luxe-vent-brushed-silver-806711\n"
     ]
    },
    {
     "name": "stderr",
     "output_type": "stream",
     "text": [
      "C:\\Users\\minhcq\\AppData\\Local\\Continuum\\anaconda3\\lib\\site-packages\\urllib3\\connectionpool.py:847: InsecureRequestWarning: Unverified HTTPS request is being made. Adding certificate verification is strongly advised. See: https://urllib3.readthedocs.io/en/latest/advanced-usage.html#ssl-warnings\n",
      "  InsecureRequestWarning)\n"
     ]
    },
    {
     "name": "stdout",
     "output_type": "stream",
     "text": [
      "PROCESSING: https://anmy.com.vn/products/scents-luxe-vent-brushed-silver-806711\n"
     ]
    },
    {
     "name": "stderr",
     "output_type": "stream",
     "text": [
      "C:\\Users\\minhcq\\AppData\\Local\\Continuum\\anaconda3\\lib\\site-packages\\urllib3\\connectionpool.py:847: InsecureRequestWarning: Unverified HTTPS request is being made. Adding certificate verification is strongly advised. See: https://urllib3.readthedocs.io/en/latest/advanced-usage.html#ssl-warnings\n",
      "  InsecureRequestWarning)\n"
     ]
    },
    {
     "name": "stdout",
     "output_type": "stream",
     "text": [
      "PROCESSING: https://anmy.com.vn/products/scents-luxe-vent-brushed-silver-806711\n"
     ]
    },
    {
     "name": "stderr",
     "output_type": "stream",
     "text": [
      "C:\\Users\\minhcq\\AppData\\Local\\Continuum\\anaconda3\\lib\\site-packages\\urllib3\\connectionpool.py:847: InsecureRequestWarning: Unverified HTTPS request is being made. Adding certificate verification is strongly advised. See: https://urllib3.readthedocs.io/en/latest/advanced-usage.html#ssl-warnings\n",
      "  InsecureRequestWarning)\n"
     ]
    },
    {
     "name": "stdout",
     "output_type": "stream",
     "text": [
      "PROCESSING: https://anmy.com.vn/products/scents-luxe-vent-brushed-silver-806711\n"
     ]
    },
    {
     "name": "stderr",
     "output_type": "stream",
     "text": [
      "C:\\Users\\minhcq\\AppData\\Local\\Continuum\\anaconda3\\lib\\site-packages\\urllib3\\connectionpool.py:847: InsecureRequestWarning: Unverified HTTPS request is being made. Adding certificate verification is strongly advised. See: https://urllib3.readthedocs.io/en/latest/advanced-usage.html#ssl-warnings\n",
      "  InsecureRequestWarning)\n"
     ]
    },
    {
     "name": "stdout",
     "output_type": "stream",
     "text": [
      "PROCESSING: https://anmy.com.vn/products/scents-luxe-vent-carbon-fiber-806709\n"
     ]
    },
    {
     "name": "stderr",
     "output_type": "stream",
     "text": [
      "C:\\Users\\minhcq\\AppData\\Local\\Continuum\\anaconda3\\lib\\site-packages\\urllib3\\connectionpool.py:847: InsecureRequestWarning: Unverified HTTPS request is being made. Adding certificate verification is strongly advised. See: https://urllib3.readthedocs.io/en/latest/advanced-usage.html#ssl-warnings\n",
      "  InsecureRequestWarning)\n"
     ]
    },
    {
     "name": "stdout",
     "output_type": "stream",
     "text": [
      "PROCESSING: https://anmy.com.vn/products/scents-luxe-vent-carbon-fiber-806709\n"
     ]
    },
    {
     "name": "stderr",
     "output_type": "stream",
     "text": [
      "C:\\Users\\minhcq\\AppData\\Local\\Continuum\\anaconda3\\lib\\site-packages\\urllib3\\connectionpool.py:847: InsecureRequestWarning: Unverified HTTPS request is being made. Adding certificate verification is strongly advised. See: https://urllib3.readthedocs.io/en/latest/advanced-usage.html#ssl-warnings\n",
      "  InsecureRequestWarning)\n"
     ]
    },
    {
     "name": "stdout",
     "output_type": "stream",
     "text": [
      "PROCESSING: https://anmy.com.vn/products/scents-luxe-vent-carbon-fiber-806709\n"
     ]
    },
    {
     "name": "stderr",
     "output_type": "stream",
     "text": [
      "C:\\Users\\minhcq\\AppData\\Local\\Continuum\\anaconda3\\lib\\site-packages\\urllib3\\connectionpool.py:847: InsecureRequestWarning: Unverified HTTPS request is being made. Adding certificate verification is strongly advised. See: https://urllib3.readthedocs.io/en/latest/advanced-usage.html#ssl-warnings\n",
      "  InsecureRequestWarning)\n"
     ]
    },
    {
     "name": "stdout",
     "output_type": "stream",
     "text": [
      "PROCESSING: https://anmy.com.vn/products/scents-luxe-vent-carbon-fiber-806709\n"
     ]
    },
    {
     "name": "stderr",
     "output_type": "stream",
     "text": [
      "C:\\Users\\minhcq\\AppData\\Local\\Continuum\\anaconda3\\lib\\site-packages\\urllib3\\connectionpool.py:847: InsecureRequestWarning: Unverified HTTPS request is being made. Adding certificate verification is strongly advised. See: https://urllib3.readthedocs.io/en/latest/advanced-usage.html#ssl-warnings\n",
      "  InsecureRequestWarning)\n"
     ]
    },
    {
     "name": "stdout",
     "output_type": "stream",
     "text": [
      "PROCESSING: https://anmy.com.vn/products/scents-luxe-vent-burlwood-806710\n"
     ]
    },
    {
     "name": "stderr",
     "output_type": "stream",
     "text": [
      "C:\\Users\\minhcq\\AppData\\Local\\Continuum\\anaconda3\\lib\\site-packages\\urllib3\\connectionpool.py:847: InsecureRequestWarning: Unverified HTTPS request is being made. Adding certificate verification is strongly advised. See: https://urllib3.readthedocs.io/en/latest/advanced-usage.html#ssl-warnings\n",
      "  InsecureRequestWarning)\n"
     ]
    },
    {
     "name": "stdout",
     "output_type": "stream",
     "text": [
      "PROCESSING: https://anmy.com.vn/products/scents-luxe-vent-burlwood-806710\n"
     ]
    },
    {
     "name": "stderr",
     "output_type": "stream",
     "text": [
      "C:\\Users\\minhcq\\AppData\\Local\\Continuum\\anaconda3\\lib\\site-packages\\urllib3\\connectionpool.py:847: InsecureRequestWarning: Unverified HTTPS request is being made. Adding certificate verification is strongly advised. See: https://urllib3.readthedocs.io/en/latest/advanced-usage.html#ssl-warnings\n",
      "  InsecureRequestWarning)\n"
     ]
    },
    {
     "name": "stdout",
     "output_type": "stream",
     "text": [
      "PROCESSING: https://anmy.com.vn/products/scents-luxe-vent-burlwood-806710\n"
     ]
    },
    {
     "name": "stderr",
     "output_type": "stream",
     "text": [
      "C:\\Users\\minhcq\\AppData\\Local\\Continuum\\anaconda3\\lib\\site-packages\\urllib3\\connectionpool.py:847: InsecureRequestWarning: Unverified HTTPS request is being made. Adding certificate verification is strongly advised. See: https://urllib3.readthedocs.io/en/latest/advanced-usage.html#ssl-warnings\n",
      "  InsecureRequestWarning)\n"
     ]
    },
    {
     "name": "stdout",
     "output_type": "stream",
     "text": [
      "PROCESSING: https://anmy.com.vn/products/scents-luxe-vent-burlwood-806710\n"
     ]
    },
    {
     "name": "stderr",
     "output_type": "stream",
     "text": [
      "C:\\Users\\minhcq\\AppData\\Local\\Continuum\\anaconda3\\lib\\site-packages\\urllib3\\connectionpool.py:847: InsecureRequestWarning: Unverified HTTPS request is being made. Adding certificate verification is strongly advised. See: https://urllib3.readthedocs.io/en/latest/advanced-usage.html#ssl-warnings\n",
      "  InsecureRequestWarning)\n"
     ]
    },
    {
     "name": "stdout",
     "output_type": "stream",
     "text": [
      "PROCESSING: https://anmy.com.vn/products/scents-vent-oil-newcar-vntfr-22\n"
     ]
    },
    {
     "name": "stderr",
     "output_type": "stream",
     "text": [
      "C:\\Users\\minhcq\\AppData\\Local\\Continuum\\anaconda3\\lib\\site-packages\\urllib3\\connectionpool.py:847: InsecureRequestWarning: Unverified HTTPS request is being made. Adding certificate verification is strongly advised. See: https://urllib3.readthedocs.io/en/latest/advanced-usage.html#ssl-warnings\n",
      "  InsecureRequestWarning)\n"
     ]
    },
    {
     "name": "stdout",
     "output_type": "stream",
     "text": [
      "PROCESSING: https://anmy.com.vn/products/scents-vent-oil-newcar-vntfr-22\n"
     ]
    },
    {
     "name": "stderr",
     "output_type": "stream",
     "text": [
      "C:\\Users\\minhcq\\AppData\\Local\\Continuum\\anaconda3\\lib\\site-packages\\urllib3\\connectionpool.py:847: InsecureRequestWarning: Unverified HTTPS request is being made. Adding certificate verification is strongly advised. See: https://urllib3.readthedocs.io/en/latest/advanced-usage.html#ssl-warnings\n",
      "  InsecureRequestWarning)\n"
     ]
    },
    {
     "name": "stdout",
     "output_type": "stream",
     "text": [
      "PROCESSING: https://anmy.com.vn/products/scents-vent-oil-newcar-vntfr-22\n"
     ]
    },
    {
     "name": "stderr",
     "output_type": "stream",
     "text": [
      "C:\\Users\\minhcq\\AppData\\Local\\Continuum\\anaconda3\\lib\\site-packages\\urllib3\\connectionpool.py:847: InsecureRequestWarning: Unverified HTTPS request is being made. Adding certificate verification is strongly advised. See: https://urllib3.readthedocs.io/en/latest/advanced-usage.html#ssl-warnings\n",
      "  InsecureRequestWarning)\n"
     ]
    },
    {
     "name": "stdout",
     "output_type": "stream",
     "text": [
      "PROCESSING: https://anmy.com.vn/products/scents-vent-oil-outdoor-breeze-vntfr-28\n"
     ]
    },
    {
     "name": "stderr",
     "output_type": "stream",
     "text": [
      "C:\\Users\\minhcq\\AppData\\Local\\Continuum\\anaconda3\\lib\\site-packages\\urllib3\\connectionpool.py:847: InsecureRequestWarning: Unverified HTTPS request is being made. Adding certificate verification is strongly advised. See: https://urllib3.readthedocs.io/en/latest/advanced-usage.html#ssl-warnings\n",
      "  InsecureRequestWarning)\n"
     ]
    },
    {
     "name": "stdout",
     "output_type": "stream",
     "text": [
      "PROCESSING: https://anmy.com.vn/products/scents-vent-oil-outdoor-breeze-vntfr-28\n"
     ]
    },
    {
     "name": "stderr",
     "output_type": "stream",
     "text": [
      "C:\\Users\\minhcq\\AppData\\Local\\Continuum\\anaconda3\\lib\\site-packages\\urllib3\\connectionpool.py:847: InsecureRequestWarning: Unverified HTTPS request is being made. Adding certificate verification is strongly advised. See: https://urllib3.readthedocs.io/en/latest/advanced-usage.html#ssl-warnings\n",
      "  InsecureRequestWarning)\n"
     ]
    },
    {
     "name": "stdout",
     "output_type": "stream",
     "text": [
      "PROCESSING: https://anmy.com.vn/products/scents-vent-oil-outdoor-breeze-vntfr-28\n"
     ]
    },
    {
     "name": "stderr",
     "output_type": "stream",
     "text": [
      "C:\\Users\\minhcq\\AppData\\Local\\Continuum\\anaconda3\\lib\\site-packages\\urllib3\\connectionpool.py:847: InsecureRequestWarning: Unverified HTTPS request is being made. Adding certificate verification is strongly advised. See: https://urllib3.readthedocs.io/en/latest/advanced-usage.html#ssl-warnings\n",
      "  InsecureRequestWarning)\n"
     ]
    },
    {
     "name": "stdout",
     "output_type": "stream",
     "text": [
      "PROCESSING: https://anmy.com.vn/products/scents-vent-oil-vanilla-vntfr-33\n"
     ]
    },
    {
     "name": "stderr",
     "output_type": "stream",
     "text": [
      "C:\\Users\\minhcq\\AppData\\Local\\Continuum\\anaconda3\\lib\\site-packages\\urllib3\\connectionpool.py:847: InsecureRequestWarning: Unverified HTTPS request is being made. Adding certificate verification is strongly advised. See: https://urllib3.readthedocs.io/en/latest/advanced-usage.html#ssl-warnings\n",
      "  InsecureRequestWarning)\n"
     ]
    },
    {
     "name": "stdout",
     "output_type": "stream",
     "text": [
      "PROCESSING: https://anmy.com.vn/products/scents-vent-oil-vanilla-vntfr-33\n"
     ]
    },
    {
     "name": "stderr",
     "output_type": "stream",
     "text": [
      "C:\\Users\\minhcq\\AppData\\Local\\Continuum\\anaconda3\\lib\\site-packages\\urllib3\\connectionpool.py:847: InsecureRequestWarning: Unverified HTTPS request is being made. Adding certificate verification is strongly advised. See: https://urllib3.readthedocs.io/en/latest/advanced-usage.html#ssl-warnings\n",
      "  InsecureRequestWarning)\n"
     ]
    },
    {
     "name": "stdout",
     "output_type": "stream",
     "text": [
      "PROCESSING: https://anmy.com.vn/products/scents-vent-oil-vanilla-vntfr-33\n"
     ]
    },
    {
     "name": "stderr",
     "output_type": "stream",
     "text": [
      "C:\\Users\\minhcq\\AppData\\Local\\Continuum\\anaconda3\\lib\\site-packages\\urllib3\\connectionpool.py:847: InsecureRequestWarning: Unverified HTTPS request is being made. Adding certificate verification is strongly advised. See: https://urllib3.readthedocs.io/en/latest/advanced-usage.html#ssl-warnings\n",
      "  InsecureRequestWarning)\n"
     ]
    },
    {
     "name": "stdout",
     "output_type": "stream",
     "text": [
      "PROCESSING: https://anmy.com.vn/products/gai-cua-gio-scents-vent-oil-island-colada-vntfr-44\n"
     ]
    },
    {
     "name": "stderr",
     "output_type": "stream",
     "text": [
      "C:\\Users\\minhcq\\AppData\\Local\\Continuum\\anaconda3\\lib\\site-packages\\urllib3\\connectionpool.py:847: InsecureRequestWarning: Unverified HTTPS request is being made. Adding certificate verification is strongly advised. See: https://urllib3.readthedocs.io/en/latest/advanced-usage.html#ssl-warnings\n",
      "  InsecureRequestWarning)\n"
     ]
    },
    {
     "name": "stdout",
     "output_type": "stream",
     "text": [
      "PROCESSING: https://anmy.com.vn/products/gai-cua-gio-scents-vent-oil-island-colada-vntfr-44\n"
     ]
    },
    {
     "name": "stderr",
     "output_type": "stream",
     "text": [
      "C:\\Users\\minhcq\\AppData\\Local\\Continuum\\anaconda3\\lib\\site-packages\\urllib3\\connectionpool.py:847: InsecureRequestWarning: Unverified HTTPS request is being made. Adding certificate verification is strongly advised. See: https://urllib3.readthedocs.io/en/latest/advanced-usage.html#ssl-warnings\n",
      "  InsecureRequestWarning)\n"
     ]
    },
    {
     "name": "stdout",
     "output_type": "stream",
     "text": [
      "PROCESSING: https://anmy.com.vn/products/gai-cua-gio-scents-vent-oil-island-colada-vntfr-44\n"
     ]
    },
    {
     "name": "stderr",
     "output_type": "stream",
     "text": [
      "C:\\Users\\minhcq\\AppData\\Local\\Continuum\\anaconda3\\lib\\site-packages\\urllib3\\connectionpool.py:847: InsecureRequestWarning: Unverified HTTPS request is being made. Adding certificate verification is strongly advised. See: https://urllib3.readthedocs.io/en/latest/advanced-usage.html#ssl-warnings\n",
      "  InsecureRequestWarning)\n"
     ]
    },
    {
     "name": "stdout",
     "output_type": "stream",
     "text": [
      "PROCESSING: https://anmy.com.vn/products/scents-vent-oil-after-midnight-800001641\n"
     ]
    },
    {
     "name": "stderr",
     "output_type": "stream",
     "text": [
      "C:\\Users\\minhcq\\AppData\\Local\\Continuum\\anaconda3\\lib\\site-packages\\urllib3\\connectionpool.py:847: InsecureRequestWarning: Unverified HTTPS request is being made. Adding certificate verification is strongly advised. See: https://urllib3.readthedocs.io/en/latest/advanced-usage.html#ssl-warnings\n",
      "  InsecureRequestWarning)\n"
     ]
    },
    {
     "name": "stdout",
     "output_type": "stream",
     "text": [
      "PROCESSING: https://anmy.com.vn/products/scents-vent-oil-after-midnight-800001641\n"
     ]
    },
    {
     "name": "stderr",
     "output_type": "stream",
     "text": [
      "C:\\Users\\minhcq\\AppData\\Local\\Continuum\\anaconda3\\lib\\site-packages\\urllib3\\connectionpool.py:847: InsecureRequestWarning: Unverified HTTPS request is being made. Adding certificate verification is strongly advised. See: https://urllib3.readthedocs.io/en/latest/advanced-usage.html#ssl-warnings\n",
      "  InsecureRequestWarning)\n"
     ]
    },
    {
     "name": "stdout",
     "output_type": "stream",
     "text": [
      "PROCESSING: https://anmy.com.vn/products/scents-vent-oil-after-midnight-800001641\n"
     ]
    },
    {
     "name": "stderr",
     "output_type": "stream",
     "text": [
      "C:\\Users\\minhcq\\AppData\\Local\\Continuum\\anaconda3\\lib\\site-packages\\urllib3\\connectionpool.py:847: InsecureRequestWarning: Unverified HTTPS request is being made. Adding certificate verification is strongly advised. See: https://urllib3.readthedocs.io/en/latest/advanced-usage.html#ssl-warnings\n",
      "  InsecureRequestWarning)\n"
     ]
    },
    {
     "name": "stdout",
     "output_type": "stream",
     "text": [
      "PROCESSING: https://anmy.com.vn/products/scents-vent-oil-lavender-vanilla-804323\n"
     ]
    },
    {
     "name": "stderr",
     "output_type": "stream",
     "text": [
      "C:\\Users\\minhcq\\AppData\\Local\\Continuum\\anaconda3\\lib\\site-packages\\urllib3\\connectionpool.py:847: InsecureRequestWarning: Unverified HTTPS request is being made. Adding certificate verification is strongly advised. See: https://urllib3.readthedocs.io/en/latest/advanced-usage.html#ssl-warnings\n",
      "  InsecureRequestWarning)\n"
     ]
    },
    {
     "name": "stdout",
     "output_type": "stream",
     "text": [
      "PROCESSING: https://anmy.com.vn/products/scents-vent-oil-lavender-vanilla-804323\n"
     ]
    },
    {
     "name": "stderr",
     "output_type": "stream",
     "text": [
      "C:\\Users\\minhcq\\AppData\\Local\\Continuum\\anaconda3\\lib\\site-packages\\urllib3\\connectionpool.py:847: InsecureRequestWarning: Unverified HTTPS request is being made. Adding certificate verification is strongly advised. See: https://urllib3.readthedocs.io/en/latest/advanced-usage.html#ssl-warnings\n",
      "  InsecureRequestWarning)\n"
     ]
    },
    {
     "name": "stdout",
     "output_type": "stream",
     "text": [
      "PROCESSING: https://anmy.com.vn/products/scents-vent-oil-lavender-vanilla-804323\n"
     ]
    },
    {
     "name": "stderr",
     "output_type": "stream",
     "text": [
      "C:\\Users\\minhcq\\AppData\\Local\\Continuum\\anaconda3\\lib\\site-packages\\urllib3\\connectionpool.py:847: InsecureRequestWarning: Unverified HTTPS request is being made. Adding certificate verification is strongly advised. See: https://urllib3.readthedocs.io/en/latest/advanced-usage.html#ssl-warnings\n",
      "  InsecureRequestWarning)\n"
     ]
    },
    {
     "name": "stdout",
     "output_type": "stream",
     "text": [
      "PROCESSING: https://anmy.com.vn/products/scents-vent-oil-strawberry-kiwi-804325\n"
     ]
    },
    {
     "name": "stderr",
     "output_type": "stream",
     "text": [
      "C:\\Users\\minhcq\\AppData\\Local\\Continuum\\anaconda3\\lib\\site-packages\\urllib3\\connectionpool.py:847: InsecureRequestWarning: Unverified HTTPS request is being made. Adding certificate verification is strongly advised. See: https://urllib3.readthedocs.io/en/latest/advanced-usage.html#ssl-warnings\n",
      "  InsecureRequestWarning)\n"
     ]
    },
    {
     "name": "stdout",
     "output_type": "stream",
     "text": [
      "PROCESSING: https://anmy.com.vn/products/scents-vent-oil-strawberry-kiwi-804325\n"
     ]
    },
    {
     "name": "stderr",
     "output_type": "stream",
     "text": [
      "C:\\Users\\minhcq\\AppData\\Local\\Continuum\\anaconda3\\lib\\site-packages\\urllib3\\connectionpool.py:847: InsecureRequestWarning: Unverified HTTPS request is being made. Adding certificate verification is strongly advised. See: https://urllib3.readthedocs.io/en/latest/advanced-usage.html#ssl-warnings\n",
      "  InsecureRequestWarning)\n"
     ]
    },
    {
     "name": "stdout",
     "output_type": "stream",
     "text": [
      "PROCESSING: https://anmy.com.vn/products/scents-vent-oil-strawberry-kiwi-804325\n"
     ]
    },
    {
     "name": "stderr",
     "output_type": "stream",
     "text": [
      "C:\\Users\\minhcq\\AppData\\Local\\Continuum\\anaconda3\\lib\\site-packages\\urllib3\\connectionpool.py:847: InsecureRequestWarning: Unverified HTTPS request is being made. Adding certificate verification is strongly advised. See: https://urllib3.readthedocs.io/en/latest/advanced-usage.html#ssl-warnings\n",
      "  InsecureRequestWarning)\n"
     ]
    },
    {
     "name": "stdout",
     "output_type": "stream",
     "text": [
      "PROCESSING: https://anmy.com.vn/products/sap-thom-paradise-air-fresh-42g-cherry-org-001\n"
     ]
    },
    {
     "name": "stderr",
     "output_type": "stream",
     "text": [
      "C:\\Users\\minhcq\\AppData\\Local\\Continuum\\anaconda3\\lib\\site-packages\\urllib3\\connectionpool.py:847: InsecureRequestWarning: Unverified HTTPS request is being made. Adding certificate verification is strongly advised. See: https://urllib3.readthedocs.io/en/latest/advanced-usage.html#ssl-warnings\n",
      "  InsecureRequestWarning)\n"
     ]
    },
    {
     "name": "stdout",
     "output_type": "stream",
     "text": [
      "PROCESSING: https://anmy.com.vn/products/sap-thom-paradise-air-fresh-42g-cherry-org-001\n"
     ]
    },
    {
     "name": "stderr",
     "output_type": "stream",
     "text": [
      "C:\\Users\\minhcq\\AppData\\Local\\Continuum\\anaconda3\\lib\\site-packages\\urllib3\\connectionpool.py:847: InsecureRequestWarning: Unverified HTTPS request is being made. Adding certificate verification is strongly advised. See: https://urllib3.readthedocs.io/en/latest/advanced-usage.html#ssl-warnings\n",
      "  InsecureRequestWarning)\n"
     ]
    },
    {
     "name": "stdout",
     "output_type": "stream",
     "text": [
      "PROCESSING: https://anmy.com.vn/products/sap-thom-paradise-air-fresh-42g-cherry-org-001\n"
     ]
    },
    {
     "name": "stderr",
     "output_type": "stream",
     "text": [
      "C:\\Users\\minhcq\\AppData\\Local\\Continuum\\anaconda3\\lib\\site-packages\\urllib3\\connectionpool.py:847: InsecureRequestWarning: Unverified HTTPS request is being made. Adding certificate verification is strongly advised. See: https://urllib3.readthedocs.io/en/latest/advanced-usage.html#ssl-warnings\n",
      "  InsecureRequestWarning)\n"
     ]
    },
    {
     "name": "stdout",
     "output_type": "stream",
     "text": [
      "PROCESSING: https://anmy.com.vn/products/paradise-air-fresh-42g-strawberry-org-002\n"
     ]
    },
    {
     "name": "stderr",
     "output_type": "stream",
     "text": [
      "C:\\Users\\minhcq\\AppData\\Local\\Continuum\\anaconda3\\lib\\site-packages\\urllib3\\connectionpool.py:847: InsecureRequestWarning: Unverified HTTPS request is being made. Adding certificate verification is strongly advised. See: https://urllib3.readthedocs.io/en/latest/advanced-usage.html#ssl-warnings\n",
      "  InsecureRequestWarning)\n"
     ]
    },
    {
     "name": "stdout",
     "output_type": "stream",
     "text": [
      "PROCESSING: https://anmy.com.vn/products/paradise-air-fresh-42g-strawberry-org-002\n"
     ]
    },
    {
     "name": "stderr",
     "output_type": "stream",
     "text": [
      "C:\\Users\\minhcq\\AppData\\Local\\Continuum\\anaconda3\\lib\\site-packages\\urllib3\\connectionpool.py:847: InsecureRequestWarning: Unverified HTTPS request is being made. Adding certificate verification is strongly advised. See: https://urllib3.readthedocs.io/en/latest/advanced-usage.html#ssl-warnings\n",
      "  InsecureRequestWarning)\n"
     ]
    },
    {
     "name": "stdout",
     "output_type": "stream",
     "text": [
      "PROCESSING: https://anmy.com.vn/products/paradise-air-fresh-42g-strawberry-org-002\n"
     ]
    },
    {
     "name": "stderr",
     "output_type": "stream",
     "text": [
      "C:\\Users\\minhcq\\AppData\\Local\\Continuum\\anaconda3\\lib\\site-packages\\urllib3\\connectionpool.py:847: InsecureRequestWarning: Unverified HTTPS request is being made. Adding certificate verification is strongly advised. See: https://urllib3.readthedocs.io/en/latest/advanced-usage.html#ssl-warnings\n",
      "  InsecureRequestWarning)\n"
     ]
    },
    {
     "name": "stdout",
     "output_type": "stream",
     "text": [
      "PROCESSING: https://anmy.com.vn/products/paradise-air-fresh-42g-black-org-003\n"
     ]
    },
    {
     "name": "stderr",
     "output_type": "stream",
     "text": [
      "C:\\Users\\minhcq\\AppData\\Local\\Continuum\\anaconda3\\lib\\site-packages\\urllib3\\connectionpool.py:847: InsecureRequestWarning: Unverified HTTPS request is being made. Adding certificate verification is strongly advised. See: https://urllib3.readthedocs.io/en/latest/advanced-usage.html#ssl-warnings\n",
      "  InsecureRequestWarning)\n"
     ]
    },
    {
     "name": "stdout",
     "output_type": "stream",
     "text": [
      "PROCESSING: https://anmy.com.vn/products/paradise-air-fresh-42g-black-org-003\n"
     ]
    },
    {
     "name": "stderr",
     "output_type": "stream",
     "text": [
      "C:\\Users\\minhcq\\AppData\\Local\\Continuum\\anaconda3\\lib\\site-packages\\urllib3\\connectionpool.py:847: InsecureRequestWarning: Unverified HTTPS request is being made. Adding certificate verification is strongly advised. See: https://urllib3.readthedocs.io/en/latest/advanced-usage.html#ssl-warnings\n",
      "  InsecureRequestWarning)\n"
     ]
    },
    {
     "name": "stdout",
     "output_type": "stream",
     "text": [
      "PROCESSING: https://anmy.com.vn/products/paradise-air-fresh-42g-black-org-003\n"
     ]
    },
    {
     "name": "stderr",
     "output_type": "stream",
     "text": [
      "C:\\Users\\minhcq\\AppData\\Local\\Continuum\\anaconda3\\lib\\site-packages\\urllib3\\connectionpool.py:847: InsecureRequestWarning: Unverified HTTPS request is being made. Adding certificate verification is strongly advised. See: https://urllib3.readthedocs.io/en/latest/advanced-usage.html#ssl-warnings\n",
      "  InsecureRequestWarning)\n"
     ]
    },
    {
     "name": "stdout",
     "output_type": "stream",
     "text": [
      "PROCESSING: https://anmy.com.vn/products/paradise-air-fresh-42g-vanilla-org-004\n"
     ]
    },
    {
     "name": "stderr",
     "output_type": "stream",
     "text": [
      "C:\\Users\\minhcq\\AppData\\Local\\Continuum\\anaconda3\\lib\\site-packages\\urllib3\\connectionpool.py:847: InsecureRequestWarning: Unverified HTTPS request is being made. Adding certificate verification is strongly advised. See: https://urllib3.readthedocs.io/en/latest/advanced-usage.html#ssl-warnings\n",
      "  InsecureRequestWarning)\n"
     ]
    },
    {
     "name": "stdout",
     "output_type": "stream",
     "text": [
      "PROCESSING: https://anmy.com.vn/products/paradise-air-fresh-42g-vanilla-org-004\n"
     ]
    },
    {
     "name": "stderr",
     "output_type": "stream",
     "text": [
      "C:\\Users\\minhcq\\AppData\\Local\\Continuum\\anaconda3\\lib\\site-packages\\urllib3\\connectionpool.py:847: InsecureRequestWarning: Unverified HTTPS request is being made. Adding certificate verification is strongly advised. See: https://urllib3.readthedocs.io/en/latest/advanced-usage.html#ssl-warnings\n",
      "  InsecureRequestWarning)\n"
     ]
    },
    {
     "name": "stdout",
     "output_type": "stream",
     "text": [
      "PROCESSING: https://anmy.com.vn/products/paradise-air-fresh-42g-vanilla-org-004\n"
     ]
    },
    {
     "name": "stderr",
     "output_type": "stream",
     "text": [
      "C:\\Users\\minhcq\\AppData\\Local\\Continuum\\anaconda3\\lib\\site-packages\\urllib3\\connectionpool.py:847: InsecureRequestWarning: Unverified HTTPS request is being made. Adding certificate verification is strongly advised. See: https://urllib3.readthedocs.io/en/latest/advanced-usage.html#ssl-warnings\n",
      "  InsecureRequestWarning)\n"
     ]
    },
    {
     "name": "stdout",
     "output_type": "stream",
     "text": [
      "PROCESSING: https://anmy.com.vn/products/paradise-air-fresh-42g-new-car-org-007\n"
     ]
    },
    {
     "name": "stderr",
     "output_type": "stream",
     "text": [
      "C:\\Users\\minhcq\\AppData\\Local\\Continuum\\anaconda3\\lib\\site-packages\\urllib3\\connectionpool.py:847: InsecureRequestWarning: Unverified HTTPS request is being made. Adding certificate verification is strongly advised. See: https://urllib3.readthedocs.io/en/latest/advanced-usage.html#ssl-warnings\n",
      "  InsecureRequestWarning)\n"
     ]
    },
    {
     "name": "stdout",
     "output_type": "stream",
     "text": [
      "PROCESSING: https://anmy.com.vn/products/paradise-air-fresh-42g-new-car-org-007\n"
     ]
    },
    {
     "name": "stderr",
     "output_type": "stream",
     "text": [
      "C:\\Users\\minhcq\\AppData\\Local\\Continuum\\anaconda3\\lib\\site-packages\\urllib3\\connectionpool.py:847: InsecureRequestWarning: Unverified HTTPS request is being made. Adding certificate verification is strongly advised. See: https://urllib3.readthedocs.io/en/latest/advanced-usage.html#ssl-warnings\n",
      "  InsecureRequestWarning)\n"
     ]
    },
    {
     "name": "stdout",
     "output_type": "stream",
     "text": [
      "PROCESSING: https://anmy.com.vn/products/paradise-air-fresh-42g-new-car-org-007\n"
     ]
    },
    {
     "name": "stderr",
     "output_type": "stream",
     "text": [
      "C:\\Users\\minhcq\\AppData\\Local\\Continuum\\anaconda3\\lib\\site-packages\\urllib3\\connectionpool.py:847: InsecureRequestWarning: Unverified HTTPS request is being made. Adding certificate verification is strongly advised. See: https://urllib3.readthedocs.io/en/latest/advanced-usage.html#ssl-warnings\n",
      "  InsecureRequestWarning)\n"
     ]
    },
    {
     "name": "stdout",
     "output_type": "stream",
     "text": [
      "PROCESSING: https://anmy.com.vn/products/paradise-air-fresh-42g-gold-org-010\n"
     ]
    },
    {
     "name": "stderr",
     "output_type": "stream",
     "text": [
      "C:\\Users\\minhcq\\AppData\\Local\\Continuum\\anaconda3\\lib\\site-packages\\urllib3\\connectionpool.py:847: InsecureRequestWarning: Unverified HTTPS request is being made. Adding certificate verification is strongly advised. See: https://urllib3.readthedocs.io/en/latest/advanced-usage.html#ssl-warnings\n",
      "  InsecureRequestWarning)\n"
     ]
    },
    {
     "name": "stdout",
     "output_type": "stream",
     "text": [
      "PROCESSING: https://anmy.com.vn/products/paradise-air-fresh-42g-gold-org-010\n"
     ]
    },
    {
     "name": "stderr",
     "output_type": "stream",
     "text": [
      "C:\\Users\\minhcq\\AppData\\Local\\Continuum\\anaconda3\\lib\\site-packages\\urllib3\\connectionpool.py:847: InsecureRequestWarning: Unverified HTTPS request is being made. Adding certificate verification is strongly advised. See: https://urllib3.readthedocs.io/en/latest/advanced-usage.html#ssl-warnings\n",
      "  InsecureRequestWarning)\n"
     ]
    },
    {
     "name": "stdout",
     "output_type": "stream",
     "text": [
      "PROCESSING: https://anmy.com.vn/products/paradise-air-fresh-42g-gold-org-010\n"
     ]
    },
    {
     "name": "stderr",
     "output_type": "stream",
     "text": [
      "C:\\Users\\minhcq\\AppData\\Local\\Continuum\\anaconda3\\lib\\site-packages\\urllib3\\connectionpool.py:847: InsecureRequestWarning: Unverified HTTPS request is being made. Adding certificate verification is strongly advised. See: https://urllib3.readthedocs.io/en/latest/advanced-usage.html#ssl-warnings\n",
      "  InsecureRequestWarning)\n"
     ]
    }
   ],
   "source": [
    "for i in url:\n",
    "    getImage(i)"
   ]
  },
  {
   "cell_type": "code",
   "execution_count": null,
   "metadata": {},
   "outputs": [],
   "source": []
  }
 ],
 "metadata": {
  "kernelspec": {
   "display_name": "Python 3",
   "language": "python",
   "name": "python3"
  },
  "language_info": {
   "codemirror_mode": {
    "name": "ipython",
    "version": 3
   },
   "file_extension": ".py",
   "mimetype": "text/x-python",
   "name": "python",
   "nbconvert_exporter": "python",
   "pygments_lexer": "ipython3",
   "version": "3.7.3"
  }
 },
 "nbformat": 4,
 "nbformat_minor": 2
}
