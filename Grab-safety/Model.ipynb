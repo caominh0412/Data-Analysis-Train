{
 "cells": [
  {
   "cell_type": "markdown",
   "metadata": {},
   "source": [
    "**As usual, import library and load data**"
   ]
  },
  {
   "cell_type": "code",
   "execution_count": 1,
   "metadata": {},
   "outputs": [],
   "source": [
    "import pandas as pd\n",
    "import numpy as np\n",
    "import seaborn as sns\n",
    "import matplotlib.pyplot as plt\n",
    "from sklearn.ensemble import RandomForestClassifier\n",
    "from sklearn.model_selection import train_test_split"
   ]
  },
  {
   "cell_type": "code",
   "execution_count": 2,
   "metadata": {},
   "outputs": [],
   "source": [
    "df = pd.read_csv('feature_extracted.csv')"
   ]
  },
  {
   "cell_type": "code",
   "execution_count": 3,
   "metadata": {},
   "outputs": [
    {
     "data": {
      "text/plain": [
       "Index(['bookingID', 'distance', 'second', '('quantile_25', 'Bearing')',\n",
       "       '('quantile_25', 'Bearing_diff')', '('quantile_25', 'Speed')',\n",
       "       '('quantile_25', 'Speed_diff')', '('quantile_25', 'compAngleX')',\n",
       "       '('quantile_25', 'compAngleY')', '('quantile_5', 'Bearing')',\n",
       "       '('quantile_5', 'Bearing_diff')', '('quantile_5', 'Speed')',\n",
       "       '('quantile_5', 'Speed_diff')', '('quantile_5', 'compAngleX')',\n",
       "       '('quantile_5', 'compAngleY')', '('quantile_75', 'Bearing')',\n",
       "       '('quantile_75', 'Bearing_diff')', '('quantile_75', 'Speed')',\n",
       "       '('quantile_75', 'Speed_diff')', '('quantile_75', 'compAngleX')',\n",
       "       '('quantile_75', 'compAngleY')', '('quantile_8', 'Bearing')',\n",
       "       '('quantile_8', 'Bearing_diff')', '('quantile_8', 'Speed')',\n",
       "       '('quantile_8', 'Speed_diff')', '('quantile_8', 'compAngleX')',\n",
       "       '('quantile_8', 'compAngleY')', '('quantile_9', 'Bearing')',\n",
       "       '('quantile_9', 'Bearing_diff')', '('quantile_9', 'Speed')',\n",
       "       '('quantile_9', 'Speed_diff')', '('quantile_9', 'compAngleX')',\n",
       "       '('quantile_9', 'compAngleY')', '('mean', 'Bearing')',\n",
       "       '('mean', 'Bearing_diff')', '('mean', 'Speed')',\n",
       "       '('mean', 'Speed_diff')', '('mean', 'compAngleX')',\n",
       "       '('mean', 'compAngleY')', '('std', 'Bearing')',\n",
       "       '('std', 'Bearing_diff')', '('std', 'Speed')', '('std', 'Speed_diff')',\n",
       "       '('std', 'compAngleX')', '('std', 'compAngleY')', '('amin', 'Bearing')',\n",
       "       '('amin', 'Bearing_diff')', '('amin', 'Speed')',\n",
       "       '('amin', 'Speed_diff')', '('amin', 'compAngleX')',\n",
       "       '('amin', 'compAngleY')', '('amax', 'Bearing')',\n",
       "       '('amax', 'Bearing_diff')', '('amax', 'Speed')',\n",
       "       '('amax', 'Speed_diff')', '('amax', 'compAngleX')',\n",
       "       '('amax', 'compAngleY')'],\n",
       "      dtype='object')"
      ]
     },
     "execution_count": 3,
     "metadata": {},
     "output_type": "execute_result"
    }
   ],
   "source": [
    "df.columns"
   ]
  },
  {
   "cell_type": "markdown",
   "metadata": {},
   "source": [
    "**Match with label data**"
   ]
  },
  {
   "cell_type": "code",
   "execution_count": 4,
   "metadata": {},
   "outputs": [],
   "source": [
    "label = pd.read_csv('labels/part-00000-e9445087-aa0a-433b-a7f6-7f4c19d78ad6-c000.csv')"
   ]
  },
  {
   "cell_type": "code",
   "execution_count": 5,
   "metadata": {},
   "outputs": [
    {
     "data": {
      "text/html": [
       "<div>\n",
       "<style scoped>\n",
       "    .dataframe tbody tr th:only-of-type {\n",
       "        vertical-align: middle;\n",
       "    }\n",
       "\n",
       "    .dataframe tbody tr th {\n",
       "        vertical-align: top;\n",
       "    }\n",
       "\n",
       "    .dataframe thead th {\n",
       "        text-align: right;\n",
       "    }\n",
       "</style>\n",
       "<table border=\"1\" class=\"dataframe\">\n",
       "  <thead>\n",
       "    <tr style=\"text-align: right;\">\n",
       "      <th></th>\n",
       "      <th>bookingID</th>\n",
       "      <th>label</th>\n",
       "    </tr>\n",
       "  </thead>\n",
       "  <tbody>\n",
       "    <tr>\n",
       "      <th>0</th>\n",
       "      <td>111669149733</td>\n",
       "      <td>0</td>\n",
       "    </tr>\n",
       "    <tr>\n",
       "      <th>1</th>\n",
       "      <td>335007449205</td>\n",
       "      <td>1</td>\n",
       "    </tr>\n",
       "    <tr>\n",
       "      <th>2</th>\n",
       "      <td>171798691856</td>\n",
       "      <td>0</td>\n",
       "    </tr>\n",
       "    <tr>\n",
       "      <th>3</th>\n",
       "      <td>1520418422900</td>\n",
       "      <td>0</td>\n",
       "    </tr>\n",
       "    <tr>\n",
       "      <th>4</th>\n",
       "      <td>798863917116</td>\n",
       "      <td>0</td>\n",
       "    </tr>\n",
       "  </tbody>\n",
       "</table>\n",
       "</div>"
      ],
      "text/plain": [
       "       bookingID  label\n",
       "0   111669149733      0\n",
       "1   335007449205      1\n",
       "2   171798691856      0\n",
       "3  1520418422900      0\n",
       "4   798863917116      0"
      ]
     },
     "execution_count": 5,
     "metadata": {},
     "output_type": "execute_result"
    }
   ],
   "source": [
    "label.head()"
   ]
  },
  {
   "cell_type": "code",
   "execution_count": 6,
   "metadata": {},
   "outputs": [
    {
     "name": "stdout",
     "output_type": "stream",
     "text": [
      "<class 'pandas.core.frame.DataFrame'>\n",
      "RangeIndex: 20018 entries, 0 to 20017\n",
      "Data columns (total 2 columns):\n",
      "bookingID    20018 non-null int64\n",
      "label        20018 non-null int64\n",
      "dtypes: int64(2)\n",
      "memory usage: 312.9 KB\n"
     ]
    },
    {
     "data": {
      "text/plain": [
       "20000"
      ]
     },
     "execution_count": 6,
     "metadata": {},
     "output_type": "execute_result"
    }
   ],
   "source": [
    "label.info()\n",
    "label['bookingID'].nunique()"
   ]
  },
  {
   "cell_type": "markdown",
   "metadata": {},
   "source": [
    "*We see 18 trips got multiple label, so we will use the last label for that 18 trips.*"
   ]
  },
  {
   "cell_type": "code",
   "execution_count": 7,
   "metadata": {},
   "outputs": [],
   "source": [
    "label.drop_duplicates('bookingID',keep = 'last',inplace=True)"
   ]
  },
  {
   "cell_type": "code",
   "execution_count": 8,
   "metadata": {},
   "outputs": [],
   "source": [
    "label.set_index('bookingID',inplace = True)"
   ]
  },
  {
   "cell_type": "code",
   "execution_count": 9,
   "metadata": {},
   "outputs": [],
   "source": [
    "df.set_index('bookingID',inplace = True)"
   ]
  },
  {
   "cell_type": "markdown",
   "metadata": {},
   "source": [
    "Match the data with label."
   ]
  },
  {
   "cell_type": "code",
   "execution_count": 10,
   "metadata": {},
   "outputs": [],
   "source": [
    "df = df.join(label)"
   ]
  },
  {
   "cell_type": "code",
   "execution_count": 11,
   "metadata": {},
   "outputs": [
    {
     "data": {
      "text/html": [
       "<div>\n",
       "<style scoped>\n",
       "    .dataframe tbody tr th:only-of-type {\n",
       "        vertical-align: middle;\n",
       "    }\n",
       "\n",
       "    .dataframe tbody tr th {\n",
       "        vertical-align: top;\n",
       "    }\n",
       "\n",
       "    .dataframe thead th {\n",
       "        text-align: right;\n",
       "    }\n",
       "</style>\n",
       "<table border=\"1\" class=\"dataframe\">\n",
       "  <thead>\n",
       "    <tr style=\"text-align: right;\">\n",
       "      <th></th>\n",
       "      <th>distance</th>\n",
       "      <th>second</th>\n",
       "      <th>('quantile_25', 'Bearing')</th>\n",
       "      <th>('quantile_25', 'Bearing_diff')</th>\n",
       "      <th>('quantile_25', 'Speed')</th>\n",
       "      <th>('quantile_25', 'Speed_diff')</th>\n",
       "      <th>('quantile_25', 'compAngleX')</th>\n",
       "      <th>('quantile_25', 'compAngleY')</th>\n",
       "      <th>('quantile_5', 'Bearing')</th>\n",
       "      <th>('quantile_5', 'Bearing_diff')</th>\n",
       "      <th>...</th>\n",
       "      <th>('amin', 'Speed_diff')</th>\n",
       "      <th>('amin', 'compAngleX')</th>\n",
       "      <th>('amin', 'compAngleY')</th>\n",
       "      <th>('amax', 'Bearing')</th>\n",
       "      <th>('amax', 'Bearing_diff')</th>\n",
       "      <th>('amax', 'Speed')</th>\n",
       "      <th>('amax', 'Speed_diff')</th>\n",
       "      <th>('amax', 'compAngleX')</th>\n",
       "      <th>('amax', 'compAngleY')</th>\n",
       "      <th>label</th>\n",
       "    </tr>\n",
       "    <tr>\n",
       "      <th>bookingID</th>\n",
       "      <th></th>\n",
       "      <th></th>\n",
       "      <th></th>\n",
       "      <th></th>\n",
       "      <th></th>\n",
       "      <th></th>\n",
       "      <th></th>\n",
       "      <th></th>\n",
       "      <th></th>\n",
       "      <th></th>\n",
       "      <th></th>\n",
       "      <th></th>\n",
       "      <th></th>\n",
       "      <th></th>\n",
       "      <th></th>\n",
       "      <th></th>\n",
       "      <th></th>\n",
       "      <th></th>\n",
       "      <th></th>\n",
       "      <th></th>\n",
       "      <th></th>\n",
       "    </tr>\n",
       "  </thead>\n",
       "  <tbody>\n",
       "    <tr>\n",
       "      <th>1.0</th>\n",
       "      <td>6844.871210</td>\n",
       "      <td>1034.0</td>\n",
       "      <td>50.0</td>\n",
       "      <td>-1.0</td>\n",
       "      <td>0.000000</td>\n",
       "      <td>-0.227863</td>\n",
       "      <td>100.847996</td>\n",
       "      <td>1.365338</td>\n",
       "      <td>110.0</td>\n",
       "      <td>0.0</td>\n",
       "      <td>...</td>\n",
       "      <td>-4.099883</td>\n",
       "      <td>82.203521</td>\n",
       "      <td>-24.178214</td>\n",
       "      <td>337.0</td>\n",
       "      <td>39.0</td>\n",
       "      <td>21.882141</td>\n",
       "      <td>4.188556</td>\n",
       "      <td>122.460492</td>\n",
       "      <td>29.361171</td>\n",
       "      <td>1</td>\n",
       "    </tr>\n",
       "    <tr>\n",
       "      <th>2.0</th>\n",
       "      <td>609.642773</td>\n",
       "      <td>825.0</td>\n",
       "      <td>22.0</td>\n",
       "      <td>-1.0</td>\n",
       "      <td>0.000000</td>\n",
       "      <td>-0.441118</td>\n",
       "      <td>85.355433</td>\n",
       "      <td>-4.823434</td>\n",
       "      <td>232.0</td>\n",
       "      <td>0.0</td>\n",
       "      <td>...</td>\n",
       "      <td>-4.439833</td>\n",
       "      <td>76.101715</td>\n",
       "      <td>-11.624707</td>\n",
       "      <td>354.0</td>\n",
       "      <td>148.0</td>\n",
       "      <td>9.360483</td>\n",
       "      <td>3.292830</td>\n",
       "      <td>108.354759</td>\n",
       "      <td>14.904756</td>\n",
       "      <td>1</td>\n",
       "    </tr>\n",
       "    <tr>\n",
       "      <th>6.0</th>\n",
       "      <td>5019.041960</td>\n",
       "      <td>1094.0</td>\n",
       "      <td>81.0</td>\n",
       "      <td>0.0</td>\n",
       "      <td>0.000000</td>\n",
       "      <td>-0.118952</td>\n",
       "      <td>73.716546</td>\n",
       "      <td>-4.448471</td>\n",
       "      <td>248.0</td>\n",
       "      <td>0.0</td>\n",
       "      <td>...</td>\n",
       "      <td>-5.832877</td>\n",
       "      <td>51.754340</td>\n",
       "      <td>-33.069233</td>\n",
       "      <td>359.0</td>\n",
       "      <td>353.0</td>\n",
       "      <td>16.394695</td>\n",
       "      <td>3.398443</td>\n",
       "      <td>106.651319</td>\n",
       "      <td>26.094357</td>\n",
       "      <td>0</td>\n",
       "    </tr>\n",
       "    <tr>\n",
       "      <th>7.0</th>\n",
       "      <td>11656.021118</td>\n",
       "      <td>959.0</td>\n",
       "      <td>46.0</td>\n",
       "      <td>-1.0</td>\n",
       "      <td>3.545921</td>\n",
       "      <td>-0.214639</td>\n",
       "      <td>74.006377</td>\n",
       "      <td>-10.769021</td>\n",
       "      <td>57.0</td>\n",
       "      <td>0.0</td>\n",
       "      <td>...</td>\n",
       "      <td>-2.928770</td>\n",
       "      <td>47.874165</td>\n",
       "      <td>-25.232821</td>\n",
       "      <td>359.0</td>\n",
       "      <td>358.0</td>\n",
       "      <td>25.230654</td>\n",
       "      <td>4.060644</td>\n",
       "      <td>106.404392</td>\n",
       "      <td>21.530432</td>\n",
       "      <td>0</td>\n",
       "    </tr>\n",
       "    <tr>\n",
       "      <th>8.0</th>\n",
       "      <td>2549.650000</td>\n",
       "      <td>462.0</td>\n",
       "      <td>0.0</td>\n",
       "      <td>0.0</td>\n",
       "      <td>0.000000</td>\n",
       "      <td>-0.160000</td>\n",
       "      <td>77.644521</td>\n",
       "      <td>5.768553</td>\n",
       "      <td>201.0</td>\n",
       "      <td>0.0</td>\n",
       "      <td>...</td>\n",
       "      <td>-10.920000</td>\n",
       "      <td>60.300638</td>\n",
       "      <td>-5.019443</td>\n",
       "      <td>348.0</td>\n",
       "      <td>309.0</td>\n",
       "      <td>17.830000</td>\n",
       "      <td>3.100000</td>\n",
       "      <td>105.625946</td>\n",
       "      <td>22.587755</td>\n",
       "      <td>0</td>\n",
       "    </tr>\n",
       "  </tbody>\n",
       "</table>\n",
       "<p>5 rows × 57 columns</p>\n",
       "</div>"
      ],
      "text/plain": [
       "               distance  second  ('quantile_25', 'Bearing')  \\\n",
       "bookingID                                                     \n",
       "1.0         6844.871210  1034.0                        50.0   \n",
       "2.0          609.642773   825.0                        22.0   \n",
       "6.0         5019.041960  1094.0                        81.0   \n",
       "7.0        11656.021118   959.0                        46.0   \n",
       "8.0         2549.650000   462.0                         0.0   \n",
       "\n",
       "           ('quantile_25', 'Bearing_diff')  ('quantile_25', 'Speed')  \\\n",
       "bookingID                                                              \n",
       "1.0                                   -1.0                  0.000000   \n",
       "2.0                                   -1.0                  0.000000   \n",
       "6.0                                    0.0                  0.000000   \n",
       "7.0                                   -1.0                  3.545921   \n",
       "8.0                                    0.0                  0.000000   \n",
       "\n",
       "           ('quantile_25', 'Speed_diff')  ('quantile_25', 'compAngleX')  \\\n",
       "bookingID                                                                 \n",
       "1.0                            -0.227863                     100.847996   \n",
       "2.0                            -0.441118                      85.355433   \n",
       "6.0                            -0.118952                      73.716546   \n",
       "7.0                            -0.214639                      74.006377   \n",
       "8.0                            -0.160000                      77.644521   \n",
       "\n",
       "           ('quantile_25', 'compAngleY')  ('quantile_5', 'Bearing')  \\\n",
       "bookingID                                                             \n",
       "1.0                             1.365338                      110.0   \n",
       "2.0                            -4.823434                      232.0   \n",
       "6.0                            -4.448471                      248.0   \n",
       "7.0                           -10.769021                       57.0   \n",
       "8.0                             5.768553                      201.0   \n",
       "\n",
       "           ('quantile_5', 'Bearing_diff')  ...  ('amin', 'Speed_diff')  \\\n",
       "bookingID                                  ...                           \n",
       "1.0                                   0.0  ...               -4.099883   \n",
       "2.0                                   0.0  ...               -4.439833   \n",
       "6.0                                   0.0  ...               -5.832877   \n",
       "7.0                                   0.0  ...               -2.928770   \n",
       "8.0                                   0.0  ...              -10.920000   \n",
       "\n",
       "           ('amin', 'compAngleX')  ('amin', 'compAngleY')  \\\n",
       "bookingID                                                   \n",
       "1.0                     82.203521              -24.178214   \n",
       "2.0                     76.101715              -11.624707   \n",
       "6.0                     51.754340              -33.069233   \n",
       "7.0                     47.874165              -25.232821   \n",
       "8.0                     60.300638               -5.019443   \n",
       "\n",
       "           ('amax', 'Bearing')  ('amax', 'Bearing_diff')  ('amax', 'Speed')  \\\n",
       "bookingID                                                                     \n",
       "1.0                      337.0                      39.0          21.882141   \n",
       "2.0                      354.0                     148.0           9.360483   \n",
       "6.0                      359.0                     353.0          16.394695   \n",
       "7.0                      359.0                     358.0          25.230654   \n",
       "8.0                      348.0                     309.0          17.830000   \n",
       "\n",
       "           ('amax', 'Speed_diff')  ('amax', 'compAngleX')  \\\n",
       "bookingID                                                   \n",
       "1.0                      4.188556              122.460492   \n",
       "2.0                      3.292830              108.354759   \n",
       "6.0                      3.398443              106.651319   \n",
       "7.0                      4.060644              106.404392   \n",
       "8.0                      3.100000              105.625946   \n",
       "\n",
       "           ('amax', 'compAngleY')  label  \n",
       "bookingID                                 \n",
       "1.0                     29.361171      1  \n",
       "2.0                     14.904756      1  \n",
       "6.0                     26.094357      0  \n",
       "7.0                     21.530432      0  \n",
       "8.0                     22.587755      0  \n",
       "\n",
       "[5 rows x 57 columns]"
      ]
     },
     "execution_count": 11,
     "metadata": {},
     "output_type": "execute_result"
    }
   ],
   "source": [
    "df.head()"
   ]
  },
  {
   "cell_type": "markdown",
   "metadata": {},
   "source": [
    "Scale data and split train, validate, test set"
   ]
  },
  {
   "cell_type": "code",
   "execution_count": 62,
   "metadata": {},
   "outputs": [],
   "source": [
    "X = df.drop('label',axis=True)\n",
    "y = df['label'].values\n",
    "\n",
    "from sklearn.preprocessing import StandardScaler\n",
    "sc = StandardScaler()\n",
    "X = sc.fit_transform(X)\n",
    "\n",
    "X_train,X_test,y_train,y_test = train_test_split(X,y)\n",
    "X_train,X_val,y_train,y_val =train_test_split(X_train,y_train)\n",
    "X_test,X_test1,y_test,y_test1 =train_test_split(X_test,y_test,test_size=0.5)"
   ]
  },
  {
   "cell_type": "markdown",
   "metadata": {},
   "source": [
    "**First model: RFC**"
   ]
  },
  {
   "cell_type": "code",
   "execution_count": 63,
   "metadata": {},
   "outputs": [],
   "source": [
    "rfc = RandomForestClassifier(n_estimators = 100)"
   ]
  },
  {
   "cell_type": "code",
   "execution_count": 64,
   "metadata": {},
   "outputs": [
    {
     "data": {
      "text/plain": [
       "RandomForestClassifier(bootstrap=True, class_weight=None, criterion='gini',\n",
       "            max_depth=None, max_features='auto', max_leaf_nodes=None,\n",
       "            min_impurity_decrease=0.0, min_impurity_split=None,\n",
       "            min_samples_leaf=1, min_samples_split=2,\n",
       "            min_weight_fraction_leaf=0.0, n_estimators=100, n_jobs=None,\n",
       "            oob_score=False, random_state=None, verbose=0,\n",
       "            warm_start=False)"
      ]
     },
     "execution_count": 64,
     "metadata": {},
     "output_type": "execute_result"
    }
   ],
   "source": [
    "rfc.fit(X_train,y_train)"
   ]
  },
  {
   "cell_type": "markdown",
   "metadata": {},
   "source": [
    "Score for each test data"
   ]
  },
  {
   "cell_type": "code",
   "execution_count": 65,
   "metadata": {},
   "outputs": [
    {
     "data": {
      "text/plain": [
       "0.7782162588792423"
      ]
     },
     "execution_count": 65,
     "metadata": {},
     "output_type": "execute_result"
    }
   ],
   "source": [
    "rfc.score(X_val,y_val)"
   ]
  },
  {
   "cell_type": "code",
   "execution_count": 66,
   "metadata": {},
   "outputs": [
    {
     "data": {
      "text/plain": [
       "0.7803433984606276"
      ]
     },
     "execution_count": 66,
     "metadata": {},
     "output_type": "execute_result"
    }
   ],
   "source": [
    "rfc.score(X_test,y_test)"
   ]
  },
  {
   "cell_type": "code",
   "execution_count": 67,
   "metadata": {},
   "outputs": [
    {
     "data": {
      "text/plain": [
       "0.7791592658377738"
      ]
     },
     "execution_count": 67,
     "metadata": {},
     "output_type": "execute_result"
    }
   ],
   "source": [
    "rfc.score(X_test1,y_test1)"
   ]
  },
  {
   "cell_type": "markdown",
   "metadata": {},
   "source": [
    "*plot roc function*"
   ]
  },
  {
   "cell_type": "code",
   "execution_count": 18,
   "metadata": {},
   "outputs": [],
   "source": [
    "from sklearn.metrics import roc_curve\n",
    "from sklearn.metrics import roc_auc_score"
   ]
  },
  {
   "cell_type": "code",
   "execution_count": 19,
   "metadata": {},
   "outputs": [],
   "source": [
    "def plot_roc_curve(fpr, tpr):  \n",
    "    plt.plot(fpr, tpr, color='orange', label='ROC')\n",
    "    plt.plot([0, 1], [0, 1], color='darkblue', linestyle='--')\n",
    "    plt.xlabel('False Positive Rate')\n",
    "    plt.ylabel('True Positive Rate')\n",
    "    plt.title('Receiver Operating Characteristic (ROC) Curve')\n",
    "    plt.legend()\n",
    "    plt.show()"
   ]
  },
  {
   "cell_type": "markdown",
   "metadata": {},
   "source": [
    "*Grid search to improve parameters*"
   ]
  },
  {
   "cell_type": "code",
   "execution_count": 20,
   "metadata": {},
   "outputs": [],
   "source": [
    "from sklearn.model_selection import GridSearchCV"
   ]
  },
  {
   "cell_type": "code",
   "execution_count": 21,
   "metadata": {},
   "outputs": [],
   "source": [
    "param_grid = { \n",
    "    'n_estimators': [400, 500],\n",
    "    'max_features': ['auto', 'sqrt', 'log2'],\n",
    "    'max_depth' : [5,8,10,15],\n",
    "    'criterion' :['gini', 'entropy']\n",
    "}"
   ]
  },
  {
   "cell_type": "code",
   "execution_count": 22,
   "metadata": {},
   "outputs": [
    {
     "data": {
      "text/plain": [
       "GridSearchCV(cv=5, error_score='raise-deprecating',\n",
       "       estimator=RandomForestClassifier(bootstrap=True, class_weight=None, criterion='gini',\n",
       "            max_depth=None, max_features='auto', max_leaf_nodes=None,\n",
       "            min_impurity_decrease=0.0, min_impurity_split=None,\n",
       "            min_samples_leaf=1, min_samples_split=2,\n",
       "            min_weight_fraction_leaf=0.0, n_estimators=10, n_jobs=None,\n",
       "            oob_score=False, random_state=None, verbose=0,\n",
       "            warm_start=False),\n",
       "       fit_params=None, iid='warn', n_jobs=None,\n",
       "       param_grid={'n_estimators': [400, 500], 'max_features': ['auto', 'sqrt', 'log2'], 'max_depth': [5, 8, 10, 15], 'criterion': ['gini', 'entropy']},\n",
       "       pre_dispatch='2*n_jobs', refit=True, return_train_score='warn',\n",
       "       scoring=None, verbose=0)"
      ]
     },
     "execution_count": 22,
     "metadata": {},
     "output_type": "execute_result"
    }
   ],
   "source": [
    "CV_rfc = GridSearchCV(estimator=rfc, param_grid=param_grid, cv= 5)\n",
    "CV_rfc.fit(X_val, y_val)"
   ]
  },
  {
   "cell_type": "code",
   "execution_count": 23,
   "metadata": {},
   "outputs": [
    {
     "data": {
      "text/plain": [
       "{'criterion': 'gini',\n",
       " 'max_depth': 15,\n",
       " 'max_features': 'sqrt',\n",
       " 'n_estimators': 400}"
      ]
     },
     "execution_count": 23,
     "metadata": {},
     "output_type": "execute_result"
    }
   ],
   "source": [
    "CV_rfc.best_params_"
   ]
  },
  {
   "cell_type": "markdown",
   "metadata": {},
   "source": [
    "Fit new RFC with new parameters"
   ]
  },
  {
   "cell_type": "code",
   "execution_count": 68,
   "metadata": {},
   "outputs": [],
   "source": [
    "rfc1 = RandomForestClassifier(criterion='gini',max_depth=15,max_features='sqrt',n_estimators=500)"
   ]
  },
  {
   "cell_type": "code",
   "execution_count": 69,
   "metadata": {},
   "outputs": [
    {
     "data": {
      "text/plain": [
       "0.7722967640094712"
      ]
     },
     "execution_count": 69,
     "metadata": {},
     "output_type": "execute_result"
    }
   ],
   "source": [
    "rfc1.fit(X_test,y_test)\n",
    "rfc1.score(X_val,y_val)"
   ]
  },
  {
   "cell_type": "code",
   "execution_count": 70,
   "metadata": {},
   "outputs": [
    {
     "data": {
      "text/plain": [
       "0.9994079336885732"
      ]
     },
     "execution_count": 70,
     "metadata": {},
     "output_type": "execute_result"
    }
   ],
   "source": [
    "rfc1.score(X_test,y_test)"
   ]
  },
  {
   "cell_type": "code",
   "execution_count": 71,
   "metadata": {},
   "outputs": [
    {
     "data": {
      "text/plain": [
       "0.7655417406749556"
      ]
     },
     "execution_count": 71,
     "metadata": {},
     "output_type": "execute_result"
    }
   ],
   "source": [
    "rfc1.score(X_test1,y_test1)"
   ]
  },
  {
   "cell_type": "markdown",
   "metadata": {},
   "source": [
    "Seem the model is really fit with the test data. So we use test_1 predict for the evaluate"
   ]
  },
  {
   "cell_type": "code",
   "execution_count": 72,
   "metadata": {},
   "outputs": [],
   "source": [
    "probs = rfc1.predict_proba(X_test1)[:,1]"
   ]
  },
  {
   "cell_type": "code",
   "execution_count": 73,
   "metadata": {},
   "outputs": [
    {
     "data": {
      "text/plain": [
       "0.7045152944587557"
      ]
     },
     "execution_count": 73,
     "metadata": {},
     "output_type": "execute_result"
    }
   ],
   "source": [
    "roc_auc_score(y_test1,probs)"
   ]
  },
  {
   "cell_type": "code",
   "execution_count": 74,
   "metadata": {},
   "outputs": [
    {
     "data": {
      "image/png": "[encoded data removed]",
      "text/plain": [
       "<Figure size 432x288 with 1 Axes>"
      ]
     },
     "metadata": {
      "needs_background": "light"
     },
     "output_type": "display_data"
    }
   ],
   "source": [
    "fpr, tpr, thresholds = roc_curve(y_test1, probs)\n",
    "plot_roc_curve(fpr, tpr)  "
   ]
  },
  {
   "cell_type": "code",
   "execution_count": 91,
   "metadata": {},
   "outputs": [],
   "source": [
    "from sklearn.externals import joblib"
   ]
  },
  {
   "cell_type": "code",
   "execution_count": 92,
   "metadata": {},
   "outputs": [
    {
     "data": {
      "text/plain": [
       "['RFC_model.sav']"
      ]
     },
     "execution_count": 92,
     "metadata": {},
     "output_type": "execute_result"
    }
   ],
   "source": [
    "filename = 'RFC_model.sav'\n",
    "joblib.dump(rfc1, filename)"
   ]
  },
  {
   "cell_type": "markdown",
   "metadata": {},
   "source": [
    "**Model 2: XGB Classifier**"
   ]
  },
  {
   "cell_type": "code",
   "execution_count": 31,
   "metadata": {},
   "outputs": [],
   "source": [
    "from xgboost import XGBClassifier\n",
    "xgb = XGBClassifier()"
   ]
  },
  {
   "cell_type": "code",
   "execution_count": 75,
   "metadata": {},
   "outputs": [
    {
     "data": {
      "text/plain": [
       "XGBClassifier(base_score=0.5, booster='gbtree', colsample_bylevel=1,\n",
       "       colsample_bytree=1, gamma=0, learning_rate=0.1, max_delta_step=0,\n",
       "       max_depth=3, min_child_weight=1, missing=None, n_estimators=100,\n",
       "       n_jobs=1, nthread=None, objective='binary:logistic', random_state=0,\n",
       "       reg_alpha=0, reg_lambda=1, scale_pos_weight=1, seed=None,\n",
       "       silent=True, subsample=1)"
      ]
     },
     "execution_count": 75,
     "metadata": {},
     "output_type": "execute_result"
    }
   ],
   "source": [
    "xgb.fit(X_train,y_train)"
   ]
  },
  {
   "cell_type": "code",
   "execution_count": 76,
   "metadata": {},
   "outputs": [
    {
     "data": {
      "text/plain": [
       "0.7817679558011049"
      ]
     },
     "execution_count": 76,
     "metadata": {},
     "output_type": "execute_result"
    }
   ],
   "source": [
    "xgb.score(X_val,y_val)"
   ]
  },
  {
   "cell_type": "code",
   "execution_count": 77,
   "metadata": {},
   "outputs": [
    {
     "data": {
      "text/plain": [
       "0.7773830669034932"
      ]
     },
     "execution_count": 77,
     "metadata": {},
     "output_type": "execute_result"
    }
   ],
   "source": [
    "xgb.score(X_test,y_test)"
   ]
  },
  {
   "cell_type": "code",
   "execution_count": 78,
   "metadata": {},
   "outputs": [
    {
     "data": {
      "text/plain": [
       "0.7850799289520426"
      ]
     },
     "execution_count": 78,
     "metadata": {},
     "output_type": "execute_result"
    }
   ],
   "source": [
    "xgb.score(X_test1,y_test1)"
   ]
  },
  {
   "cell_type": "code",
   "execution_count": 79,
   "metadata": {},
   "outputs": [],
   "source": [
    "probs = xgb.predict_proba(X_test)[:, 1]"
   ]
  },
  {
   "cell_type": "code",
   "execution_count": 80,
   "metadata": {},
   "outputs": [
    {
     "data": {
      "text/plain": [
       "0.7156757007503275"
      ]
     },
     "execution_count": 80,
     "metadata": {},
     "output_type": "execute_result"
    }
   ],
   "source": [
    "roc_auc_score(y_test, probs)  "
   ]
  },
  {
   "cell_type": "code",
   "execution_count": 81,
   "metadata": {},
   "outputs": [
    {
     "data": {
      "image/png": "[encoded data removed]",
      "text/plain": [
       "<Figure size 432x288 with 1 Axes>"
      ]
     },
     "metadata": {
      "needs_background": "light"
     },
     "output_type": "display_data"
    }
   ],
   "source": [
    "fpr, tpr, thresholds = roc_curve(y_test, probs)\n",
    "plot_roc_curve(fpr, tpr)  "
   ]
  },
  {
   "cell_type": "code",
   "execution_count": 39,
   "metadata": {},
   "outputs": [],
   "source": [
    "Feature_important = pd.DataFrame(columns=df.drop('label',axis=True).columns)\n",
    "Feature_important.loc['Important'] = rfc1.feature_importances_"
   ]
  },
  {
   "cell_type": "code",
   "execution_count": 40,
   "metadata": {},
   "outputs": [
    {
     "data": {
      "text/html": [
       "<div>\n",
       "<style scoped>\n",
       "    .dataframe tbody tr th:only-of-type {\n",
       "        vertical-align: middle;\n",
       "    }\n",
       "\n",
       "    .dataframe tbody tr th {\n",
       "        vertical-align: top;\n",
       "    }\n",
       "\n",
       "    .dataframe thead th {\n",
       "        text-align: right;\n",
       "    }\n",
       "</style>\n",
       "<table border=\"1\" class=\"dataframe\">\n",
       "  <thead>\n",
       "    <tr style=\"text-align: right;\">\n",
       "      <th></th>\n",
       "      <th>distance</th>\n",
       "      <th>second</th>\n",
       "      <th>('quantile_25', 'Bearing')</th>\n",
       "      <th>('quantile_25', 'Bearing_diff')</th>\n",
       "      <th>('quantile_25', 'Speed')</th>\n",
       "      <th>('quantile_25', 'Speed_diff')</th>\n",
       "      <th>('quantile_25', 'compAngleX')</th>\n",
       "      <th>('quantile_25', 'compAngleY')</th>\n",
       "      <th>('quantile_5', 'Bearing')</th>\n",
       "      <th>('quantile_5', 'Bearing_diff')</th>\n",
       "      <th>...</th>\n",
       "      <th>('amin', 'Speed')</th>\n",
       "      <th>('amin', 'Speed_diff')</th>\n",
       "      <th>('amin', 'compAngleX')</th>\n",
       "      <th>('amin', 'compAngleY')</th>\n",
       "      <th>('amax', 'Bearing')</th>\n",
       "      <th>('amax', 'Bearing_diff')</th>\n",
       "      <th>('amax', 'Speed')</th>\n",
       "      <th>('amax', 'Speed_diff')</th>\n",
       "      <th>('amax', 'compAngleX')</th>\n",
       "      <th>('amax', 'compAngleY')</th>\n",
       "    </tr>\n",
       "  </thead>\n",
       "  <tbody>\n",
       "    <tr>\n",
       "      <th>Important</th>\n",
       "      <td>0.027892</td>\n",
       "      <td>0.075704</td>\n",
       "      <td>0.016263</td>\n",
       "      <td>0.004874</td>\n",
       "      <td>0.013047</td>\n",
       "      <td>0.01987</td>\n",
       "      <td>0.014619</td>\n",
       "      <td>0.016772</td>\n",
       "      <td>0.018753</td>\n",
       "      <td>0.000212</td>\n",
       "      <td>...</td>\n",
       "      <td>0.002279</td>\n",
       "      <td>0.02205</td>\n",
       "      <td>0.019379</td>\n",
       "      <td>0.024604</td>\n",
       "      <td>0.011155</td>\n",
       "      <td>0.015715</td>\n",
       "      <td>0.026516</td>\n",
       "      <td>0.02546</td>\n",
       "      <td>0.019237</td>\n",
       "      <td>0.026477</td>\n",
       "    </tr>\n",
       "  </tbody>\n",
       "</table>\n",
       "<p>1 rows × 56 columns</p>\n",
       "</div>"
      ],
      "text/plain": [
       "           distance    second  ('quantile_25', 'Bearing')  \\\n",
       "Important  0.027892  0.075704                    0.016263   \n",
       "\n",
       "           ('quantile_25', 'Bearing_diff')  ('quantile_25', 'Speed')  \\\n",
       "Important                         0.004874                  0.013047   \n",
       "\n",
       "           ('quantile_25', 'Speed_diff')  ('quantile_25', 'compAngleX')  \\\n",
       "Important                        0.01987                       0.014619   \n",
       "\n",
       "           ('quantile_25', 'compAngleY')  ('quantile_5', 'Bearing')  \\\n",
       "Important                       0.016772                   0.018753   \n",
       "\n",
       "           ('quantile_5', 'Bearing_diff')  ...  ('amin', 'Speed')  \\\n",
       "Important                        0.000212  ...           0.002279   \n",
       "\n",
       "           ('amin', 'Speed_diff')  ('amin', 'compAngleX')  \\\n",
       "Important                 0.02205                0.019379   \n",
       "\n",
       "           ('amin', 'compAngleY')  ('amax', 'Bearing')  \\\n",
       "Important                0.024604             0.011155   \n",
       "\n",
       "           ('amax', 'Bearing_diff')  ('amax', 'Speed')  \\\n",
       "Important                  0.015715           0.026516   \n",
       "\n",
       "           ('amax', 'Speed_diff')  ('amax', 'compAngleX')  \\\n",
       "Important                 0.02546                0.019237   \n",
       "\n",
       "           ('amax', 'compAngleY')  \n",
       "Important                0.026477  \n",
       "\n",
       "[1 rows x 56 columns]"
      ]
     },
     "execution_count": 40,
     "metadata": {},
     "output_type": "execute_result"
    }
   ],
   "source": [
    "Feature_important"
   ]
  },
  {
   "cell_type": "markdown",
   "metadata": {},
   "source": [
    "**Model 3: Keras**"
   ]
  },
  {
   "cell_type": "code",
   "execution_count": 41,
   "metadata": {},
   "outputs": [
    {
     "name": "stderr",
     "output_type": "stream",
     "text": [
      "Using TensorFlow backend.\n"
     ]
    }
   ],
   "source": [
    "import keras\n",
    "from keras.models import Sequential"
   ]
  },
  {
   "cell_type": "code",
   "execution_count": 42,
   "metadata": {},
   "outputs": [
    {
     "name": "stdout",
     "output_type": "stream",
     "text": [
      "WARNING:tensorflow:From C:\\Users\\minhcq\\AppData\\Local\\Continuum\\anaconda3\\lib\\site-packages\\tensorflow\\python\\framework\\op_def_library.py:263: colocate_with (from tensorflow.python.framework.ops) is deprecated and will be removed in a future version.\n",
      "Instructions for updating:\n",
      "Colocations handled automatically by placer.\n"
     ]
    }
   ],
   "source": [
    "from keras import Sequential\n",
    "from keras.layers import Dense,Dropout\n",
    "\n",
    "classifier = Sequential()\n",
    "classifier.add(Dense(16, activation='relu', kernel_initializer='random_normal', input_dim=56))\n",
    "classifier.add(Dense(4, activation='sigmoid', kernel_initializer='random_normal'))\n",
    "classifier.add(Dense(1, activation='sigmoid', kernel_initializer='random_normal'))\n",
    "\n",
    "classifier.compile(optimizer ='adam',loss='binary_crossentropy', metrics =['accuracy'])"
   ]
  },
  {
   "cell_type": "code",
   "execution_count": 82,
   "metadata": {},
   "outputs": [
    {
     "name": "stdout",
     "output_type": "stream",
     "text": [
      "Train on 7599 samples, validate on 2534 samples\n",
      "Epoch 1/100\n",
      "7599/7599 [==============================] - 1s 77us/step - loss: 0.4706 - acc: 0.7855 - val_loss: 0.4687 - val_acc: 0.7845\n",
      "Epoch 2/100\n",
      "7599/7599 [==============================] - 1s 70us/step - loss: 0.4646 - acc: 0.7913 - val_loss: 0.4731 - val_acc: 0.7865\n",
      "Epoch 3/100\n",
      "7599/7599 [==============================] - 1s 70us/step - loss: 0.4619 - acc: 0.7917 - val_loss: 0.4759 - val_acc: 0.7814\n",
      "Epoch 4/100\n",
      "7599/7599 [==============================] - 1s 71us/step - loss: 0.4600 - acc: 0.7921 - val_loss: 0.4753 - val_acc: 0.7865\n",
      "Epoch 5/100\n",
      "7599/7599 [==============================] - 1s 70us/step - loss: 0.4585 - acc: 0.7929 - val_loss: 0.4773 - val_acc: 0.7861\n",
      "Epoch 6/100\n",
      "7599/7599 [==============================] - 1s 70us/step - loss: 0.4582 - acc: 0.7963 - val_loss: 0.4839 - val_acc: 0.7766\n",
      "Epoch 7/100\n",
      "7599/7599 [==============================] - 1s 70us/step - loss: 0.4560 - acc: 0.7942 - val_loss: 0.4792 - val_acc: 0.7814\n",
      "Epoch 8/100\n",
      "7599/7599 [==============================] - 1s 70us/step - loss: 0.4559 - acc: 0.7948 - val_loss: 0.4808 - val_acc: 0.7845\n",
      "Epoch 9/100\n",
      "7599/7599 [==============================] - 1s 70us/step - loss: 0.4548 - acc: 0.7947 - val_loss: 0.4831 - val_acc: 0.7778\n",
      "Epoch 10/100\n",
      "7599/7599 [==============================] - 1s 70us/step - loss: 0.4542 - acc: 0.7979 - val_loss: 0.4831 - val_acc: 0.7762\n",
      "Epoch 11/100\n",
      "7599/7599 [==============================] - 1s 70us/step - loss: 0.4530 - acc: 0.7960 - val_loss: 0.4853 - val_acc: 0.7794\n",
      "Epoch 12/100\n",
      "7599/7599 [==============================] - 1s 69us/step - loss: 0.4523 - acc: 0.7994 - val_loss: 0.4863 - val_acc: 0.7747\n",
      "Epoch 13/100\n",
      "7599/7599 [==============================] - 1s 70us/step - loss: 0.4522 - acc: 0.8009 - val_loss: 0.4882 - val_acc: 0.7731\n",
      "Epoch 14/100\n",
      "7599/7599 [==============================] - 1s 70us/step - loss: 0.4511 - acc: 0.7969 - val_loss: 0.4888 - val_acc: 0.7782\n",
      "Epoch 15/100\n",
      "7599/7599 [==============================] - 1s 69us/step - loss: 0.4506 - acc: 0.8008 - val_loss: 0.4889 - val_acc: 0.7766\n",
      "Epoch 16/100\n",
      "7599/7599 [==============================] - 1s 71us/step - loss: 0.4498 - acc: 0.7993 - val_loss: 0.4905 - val_acc: 0.7758\n",
      "Epoch 17/100\n",
      "7599/7599 [==============================] - 1s 70us/step - loss: 0.4486 - acc: 0.7996 - val_loss: 0.4945 - val_acc: 0.7735\n",
      "Epoch 18/100\n",
      "7599/7599 [==============================] - 1s 69us/step - loss: 0.4487 - acc: 0.8002 - val_loss: 0.4905 - val_acc: 0.7762\n",
      "Epoch 19/100\n",
      "7599/7599 [==============================] - 1s 70us/step - loss: 0.4480 - acc: 0.7994 - val_loss: 0.4970 - val_acc: 0.7739\n",
      "Epoch 20/100\n",
      "7599/7599 [==============================] - 1s 70us/step - loss: 0.4487 - acc: 0.8001 - val_loss: 0.4969 - val_acc: 0.7695\n",
      "Epoch 21/100\n",
      "7599/7599 [==============================] - 1s 69us/step - loss: 0.4469 - acc: 0.8025 - val_loss: 0.4968 - val_acc: 0.7751\n",
      "Epoch 22/100\n",
      "7599/7599 [==============================] - 1s 70us/step - loss: 0.4463 - acc: 0.8013 - val_loss: 0.4963 - val_acc: 0.7723\n",
      "Epoch 23/100\n",
      "7599/7599 [==============================] - 1s 70us/step - loss: 0.4464 - acc: 0.8009 - val_loss: 0.4959 - val_acc: 0.7711\n",
      "Epoch 24/100\n",
      "7599/7599 [==============================] - 1s 70us/step - loss: 0.4450 - acc: 0.8038 - val_loss: 0.4945 - val_acc: 0.7743\n",
      "Epoch 25/100\n",
      "7599/7599 [==============================] - 1s 70us/step - loss: 0.4449 - acc: 0.8035 - val_loss: 0.4957 - val_acc: 0.7727\n",
      "Epoch 26/100\n",
      "7599/7599 [==============================] - 1s 70us/step - loss: 0.4442 - acc: 0.8046 - val_loss: 0.4974 - val_acc: 0.7731\n",
      "Epoch 27/100\n",
      "7599/7599 [==============================] - 1s 69us/step - loss: 0.4442 - acc: 0.8044 - val_loss: 0.4986 - val_acc: 0.7680\n",
      "Epoch 28/100\n",
      "7599/7599 [==============================] - 1s 70us/step - loss: 0.4430 - acc: 0.8038 - val_loss: 0.4966 - val_acc: 0.7703\n",
      "Epoch 29/100\n",
      "7599/7599 [==============================] - 1s 69us/step - loss: 0.4425 - acc: 0.8060 - val_loss: 0.5014 - val_acc: 0.7711\n",
      "Epoch 30/100\n",
      "7599/7599 [==============================] - 1s 69us/step - loss: 0.4419 - acc: 0.8038 - val_loss: 0.4988 - val_acc: 0.7695\n",
      "Epoch 31/100\n",
      "7599/7599 [==============================] - 1s 70us/step - loss: 0.4411 - acc: 0.8043 - val_loss: 0.5045 - val_acc: 0.7711\n",
      "Epoch 32/100\n",
      "7599/7599 [==============================] - 1s 70us/step - loss: 0.4407 - acc: 0.8072 - val_loss: 0.5030 - val_acc: 0.7695\n",
      "Epoch 33/100\n",
      "7599/7599 [==============================] - 1s 80us/step - loss: 0.4408 - acc: 0.8037 - val_loss: 0.5044 - val_acc: 0.7632\n",
      "Epoch 34/100\n",
      "7599/7599 [==============================] - 1s 71us/step - loss: 0.4402 - acc: 0.8073 - val_loss: 0.5098 - val_acc: 0.7656\n",
      "Epoch 35/100\n",
      "7599/7599 [==============================] - 1s 71us/step - loss: 0.4402 - acc: 0.8050 - val_loss: 0.5022 - val_acc: 0.7668\n",
      "Epoch 36/100\n",
      "7599/7599 [==============================] - 1s 70us/step - loss: 0.4394 - acc: 0.8052 - val_loss: 0.5039 - val_acc: 0.7660\n",
      "Epoch 37/100\n",
      "7599/7599 [==============================] - 1s 70us/step - loss: 0.4393 - acc: 0.8048 - val_loss: 0.5040 - val_acc: 0.7687\n",
      "Epoch 38/100\n",
      "7599/7599 [==============================] - 1s 70us/step - loss: 0.4384 - acc: 0.8041 - val_loss: 0.5084 - val_acc: 0.7695\n",
      "Epoch 39/100\n",
      "7599/7599 [==============================] - 1s 70us/step - loss: 0.4387 - acc: 0.8063 - val_loss: 0.5080 - val_acc: 0.7695\n",
      "Epoch 40/100\n",
      "7599/7599 [==============================] - 1s 69us/step - loss: 0.4381 - acc: 0.8047 - val_loss: 0.5049 - val_acc: 0.7664\n",
      "Epoch 41/100\n",
      "7599/7599 [==============================] - 1s 70us/step - loss: 0.4375 - acc: 0.8058 - val_loss: 0.5059 - val_acc: 0.7687\n",
      "Epoch 42/100\n",
      "7599/7599 [==============================] - 1s 70us/step - loss: 0.4364 - acc: 0.8071 - val_loss: 0.5100 - val_acc: 0.7561\n",
      "Epoch 43/100\n",
      "7599/7599 [==============================] - 1s 69us/step - loss: 0.4366 - acc: 0.8072 - val_loss: 0.5120 - val_acc: 0.7624\n",
      "Epoch 44/100\n",
      "7599/7599 [==============================] - 1s 70us/step - loss: 0.4356 - acc: 0.8098 - val_loss: 0.5084 - val_acc: 0.7699\n",
      "Epoch 45/100\n",
      "7599/7599 [==============================] - 1s 70us/step - loss: 0.4359 - acc: 0.8085 - val_loss: 0.5096 - val_acc: 0.7609\n",
      "Epoch 46/100\n",
      "7599/7599 [==============================] - 1s 70us/step - loss: 0.4351 - acc: 0.8069 - val_loss: 0.5119 - val_acc: 0.7664\n",
      "Epoch 47/100\n",
      "7599/7599 [==============================] - 1s 70us/step - loss: 0.4348 - acc: 0.8088 - val_loss: 0.5100 - val_acc: 0.7612\n",
      "Epoch 48/100\n",
      "7599/7599 [==============================] - 1s 70us/step - loss: 0.4344 - acc: 0.8101 - val_loss: 0.5124 - val_acc: 0.7593\n",
      "Epoch 49/100\n",
      "7599/7599 [==============================] - 1s 71us/step - loss: 0.4339 - acc: 0.8075 - val_loss: 0.5106 - val_acc: 0.7664\n",
      "Epoch 50/100\n",
      "7599/7599 [==============================] - 1s 70us/step - loss: 0.4337 - acc: 0.8091 - val_loss: 0.5118 - val_acc: 0.7648\n",
      "Epoch 51/100\n",
      "7599/7599 [==============================] - 1s 70us/step - loss: 0.4331 - acc: 0.8059 - val_loss: 0.5132 - val_acc: 0.7684\n",
      "Epoch 52/100\n",
      "7599/7599 [==============================] - 1s 70us/step - loss: 0.4324 - acc: 0.8091 - val_loss: 0.5126 - val_acc: 0.7620\n",
      "Epoch 53/100\n",
      "7599/7599 [==============================] - 1s 71us/step - loss: 0.4324 - acc: 0.8084 - val_loss: 0.5110 - val_acc: 0.7652\n",
      "Epoch 54/100\n",
      "7599/7599 [==============================] - 1s 71us/step - loss: 0.4316 - acc: 0.8112 - val_loss: 0.5126 - val_acc: 0.7632\n",
      "Epoch 55/100\n",
      "7599/7599 [==============================] - 1s 70us/step - loss: 0.4303 - acc: 0.8097 - val_loss: 0.5169 - val_acc: 0.7597\n",
      "Epoch 56/100\n",
      "7599/7599 [==============================] - 1s 70us/step - loss: 0.4315 - acc: 0.8091 - val_loss: 0.5151 - val_acc: 0.7664\n",
      "Epoch 57/100\n",
      "7599/7599 [==============================] - 1s 70us/step - loss: 0.4304 - acc: 0.8118 - val_loss: 0.5135 - val_acc: 0.7636\n",
      "Epoch 58/100\n",
      "7599/7599 [==============================] - 1s 74us/step - loss: 0.4294 - acc: 0.8091 - val_loss: 0.5169 - val_acc: 0.7648\n",
      "Epoch 59/100\n",
      "7599/7599 [==============================] - 1s 76us/step - loss: 0.4299 - acc: 0.8105 - val_loss: 0.5170 - val_acc: 0.7585\n",
      "Epoch 60/100\n",
      "7599/7599 [==============================] - 1s 74us/step - loss: 0.4297 - acc: 0.8098 - val_loss: 0.5161 - val_acc: 0.7628\n",
      "Epoch 61/100\n",
      "7599/7599 [==============================] - 1s 70us/step - loss: 0.4286 - acc: 0.8110 - val_loss: 0.5149 - val_acc: 0.7636\n",
      "Epoch 62/100\n",
      "7599/7599 [==============================] - 1s 75us/step - loss: 0.4289 - acc: 0.8097 - val_loss: 0.5152 - val_acc: 0.7648\n",
      "Epoch 63/100\n",
      "7599/7599 [==============================] - 1s 70us/step - loss: 0.4275 - acc: 0.8114 - val_loss: 0.5150 - val_acc: 0.7612\n",
      "Epoch 64/100\n",
      "7599/7599 [==============================] - 1s 72us/step - loss: 0.4266 - acc: 0.8121 - val_loss: 0.5163 - val_acc: 0.7668\n",
      "Epoch 65/100\n",
      "7599/7599 [==============================] - 1s 72us/step - loss: 0.4273 - acc: 0.8100 - val_loss: 0.5173 - val_acc: 0.7593\n",
      "Epoch 66/100\n",
      "7599/7599 [==============================] - 1s 72us/step - loss: 0.4276 - acc: 0.8119 - val_loss: 0.5152 - val_acc: 0.7616\n",
      "Epoch 67/100\n",
      "7599/7599 [==============================] - 1s 70us/step - loss: 0.4263 - acc: 0.8091 - val_loss: 0.5162 - val_acc: 0.7624\n",
      "Epoch 68/100\n",
      "7599/7599 [==============================] - 1s 72us/step - loss: 0.4263 - acc: 0.8117 - val_loss: 0.5212 - val_acc: 0.7652\n",
      "Epoch 69/100\n",
      "7599/7599 [==============================] - 1s 71us/step - loss: 0.4258 - acc: 0.8126 - val_loss: 0.5209 - val_acc: 0.7644\n",
      "Epoch 70/100\n",
      "7599/7599 [==============================] - 1s 71us/step - loss: 0.4250 - acc: 0.8126 - val_loss: 0.5177 - val_acc: 0.7664\n",
      "Epoch 71/100\n",
      "7599/7599 [==============================] - 1s 70us/step - loss: 0.4253 - acc: 0.8126 - val_loss: 0.5181 - val_acc: 0.7628\n",
      "Epoch 72/100\n",
      "7599/7599 [==============================] - 1s 71us/step - loss: 0.4246 - acc: 0.8131 - val_loss: 0.5233 - val_acc: 0.7601\n",
      "Epoch 73/100\n",
      "7599/7599 [==============================] - 1s 70us/step - loss: 0.4239 - acc: 0.8148 - val_loss: 0.5243 - val_acc: 0.7624\n",
      "Epoch 74/100\n",
      "7599/7599 [==============================] - 1s 70us/step - loss: 0.4241 - acc: 0.8125 - val_loss: 0.5225 - val_acc: 0.7612\n",
      "Epoch 75/100\n",
      "7599/7599 [==============================] - 1s 71us/step - loss: 0.4235 - acc: 0.8133 - val_loss: 0.5238 - val_acc: 0.7589\n",
      "Epoch 76/100\n",
      "7599/7599 [==============================] - 1s 70us/step - loss: 0.4229 - acc: 0.8158 - val_loss: 0.5222 - val_acc: 0.7581\n",
      "Epoch 77/100\n",
      "7599/7599 [==============================] - 1s 70us/step - loss: 0.4224 - acc: 0.8135 - val_loss: 0.5214 - val_acc: 0.7612\n",
      "Epoch 78/100\n",
      "7599/7599 [==============================] - 1s 70us/step - loss: 0.4225 - acc: 0.8179 - val_loss: 0.5242 - val_acc: 0.7593\n",
      "Epoch 79/100\n",
      "7599/7599 [==============================] - 1s 72us/step - loss: 0.4227 - acc: 0.8141 - val_loss: 0.5255 - val_acc: 0.7605\n",
      "Epoch 80/100\n",
      "7599/7599 [==============================] - 1s 76us/step - loss: 0.4218 - acc: 0.8159 - val_loss: 0.5271 - val_acc: 0.7545\n",
      "Epoch 81/100\n",
      "7599/7599 [==============================] - 1s 71us/step - loss: 0.4214 - acc: 0.8169 - val_loss: 0.5260 - val_acc: 0.7565\n",
      "Epoch 82/100\n",
      "7599/7599 [==============================] - 1s 71us/step - loss: 0.4209 - acc: 0.8162 - val_loss: 0.5276 - val_acc: 0.7640\n",
      "Epoch 83/100\n",
      "7599/7599 [==============================] - 1s 71us/step - loss: 0.4205 - acc: 0.8184 - val_loss: 0.5289 - val_acc: 0.7589\n",
      "Epoch 84/100\n",
      "7599/7599 [==============================] - 1s 72us/step - loss: 0.4200 - acc: 0.8159 - val_loss: 0.5296 - val_acc: 0.7585\n",
      "Epoch 85/100\n",
      "7599/7599 [==============================] - 1s 72us/step - loss: 0.4197 - acc: 0.8167 - val_loss: 0.5296 - val_acc: 0.7628\n",
      "Epoch 86/100\n",
      "7599/7599 [==============================] - 1s 70us/step - loss: 0.4199 - acc: 0.8168 - val_loss: 0.5279 - val_acc: 0.7557\n",
      "Epoch 87/100\n",
      "7599/7599 [==============================] - 1s 71us/step - loss: 0.4195 - acc: 0.8152 - val_loss: 0.5308 - val_acc: 0.7585\n",
      "Epoch 88/100\n",
      "7599/7599 [==============================] - 1s 76us/step - loss: 0.4189 - acc: 0.8185 - val_loss: 0.5298 - val_acc: 0.7640\n",
      "Epoch 89/100\n",
      "7599/7599 [==============================] - 1s 70us/step - loss: 0.4183 - acc: 0.8181 - val_loss: 0.5275 - val_acc: 0.7593\n",
      "Epoch 90/100\n",
      "7599/7599 [==============================] - 1s 72us/step - loss: 0.4178 - acc: 0.8177 - val_loss: 0.5308 - val_acc: 0.7589\n",
      "Epoch 91/100\n",
      "7599/7599 [==============================] - 1s 70us/step - loss: 0.4176 - acc: 0.8179 - val_loss: 0.5302 - val_acc: 0.7565\n",
      "Epoch 92/100\n",
      "7599/7599 [==============================] - 1s 72us/step - loss: 0.4179 - acc: 0.8180 - val_loss: 0.5312 - val_acc: 0.7569\n",
      "Epoch 93/100\n",
      "7599/7599 [==============================] - 1s 75us/step - loss: 0.4174 - acc: 0.8191 - val_loss: 0.5313 - val_acc: 0.7605\n",
      "Epoch 94/100\n",
      "7599/7599 [==============================] - 1s 93us/step - loss: 0.4173 - acc: 0.8206 - val_loss: 0.5311 - val_acc: 0.7569\n",
      "Epoch 95/100\n",
      "7599/7599 [==============================] - 1s 93us/step - loss: 0.4165 - acc: 0.8208 - val_loss: 0.5323 - val_acc: 0.7609\n",
      "Epoch 96/100\n",
      "7599/7599 [==============================] - 1s 103us/step - loss: 0.4160 - acc: 0.8168 - val_loss: 0.5327 - val_acc: 0.7581\n",
      "Epoch 97/100\n",
      "7599/7599 [==============================] - 1s 92us/step - loss: 0.4164 - acc: 0.8191 - val_loss: 0.5301 - val_acc: 0.7577\n",
      "Epoch 98/100\n",
      "7599/7599 [==============================] - 1s 97us/step - loss: 0.4156 - acc: 0.8200 - val_loss: 0.5327 - val_acc: 0.7577\n",
      "Epoch 99/100\n",
      "7599/7599 [==============================] - 1s 110us/step - loss: 0.4157 - acc: 0.8204 - val_loss: 0.5311 - val_acc: 0.7597\n",
      "Epoch 100/100\n",
      "7599/7599 [==============================] - 1s 83us/step - loss: 0.4143 - acc: 0.8212 - val_loss: 0.5344 - val_acc: 0.7601\n"
     ]
    },
    {
     "data": {
      "text/plain": [
       "<keras.callbacks.History at 0x1e50b75a048>"
      ]
     },
     "execution_count": 82,
     "metadata": {},
     "output_type": "execute_result"
    }
   ],
   "source": [
    "classifier.fit(X_train,y_train,batch_size=10, epochs=100,validation_data=(X_val,y_val))"
   ]
  },
  {
   "cell_type": "code",
   "execution_count": 83,
   "metadata": {},
   "outputs": [
    {
     "name": "stdout",
     "output_type": "stream",
     "text": [
      "Test loss: 0.5349\n",
      "Test accuracy 0.7632\n"
     ]
    }
   ],
   "source": [
    "from keras import metrics \n",
    "score_test = classifier.evaluate(X_test, y_test, verbose=0)\n",
    "print('Test loss: %.4f'% score_test[0])\n",
    "print('Test accuracy %.4f'% score_test[1])"
   ]
  },
  {
   "cell_type": "code",
   "execution_count": 85,
   "metadata": {},
   "outputs": [
    {
     "name": "stdout",
     "output_type": "stream",
     "text": [
      "Test loss: 0.5297\n",
      "Test accuracy 0.7661\n"
     ]
    }
   ],
   "source": [
    "score_test1 = classifier.evaluate(X_test1, y_test1, verbose=0)\n",
    "print('Test loss: %.4f'% score_test1[0])\n",
    "print('Test accuracy %.4f'% score_test1[1])"
   ]
  },
  {
   "cell_type": "code",
   "execution_count": 86,
   "metadata": {},
   "outputs": [
    {
     "data": {
      "image/png": "[encoded data removed]",
      "text/plain": [
       "<Figure size 432x288 with 1 Axes>"
      ]
     },
     "metadata": {
      "needs_background": "light"
     },
     "output_type": "display_data"
    }
   ],
   "source": [
    "plot_roc_curve(roc_curve(y_test, classifier.predict(X_test))[0],roc_curve(y_test, classifier.predict(X_test))[1])"
   ]
  },
  {
   "cell_type": "markdown",
   "metadata": {},
   "source": [
    "*Save model*"
   ]
  },
  {
   "cell_type": "code",
   "execution_count": 87,
   "metadata": {},
   "outputs": [],
   "source": [
    "classifier.save('classifier_model.h5')"
   ]
  },
  {
   "cell_type": "code",
   "execution_count": 90,
   "metadata": {},
   "outputs": [
    {
     "data": {
      "text/plain": [
       "array([[0.18134186],\n",
       "       [0.06935701],\n",
       "       [0.06781504],\n",
       "       ...,\n",
       "       [0.23612842],\n",
       "       [0.01281899],\n",
       "       [0.1164346 ]], dtype=float32)"
      ]
     },
     "execution_count": 90,
     "metadata": {},
     "output_type": "execute_result"
    }
   ],
   "source": [
    "classifier.predict(X_test1)"
   ]
  },
  {
   "cell_type": "code",
   "execution_count": null,
   "metadata": {},
   "outputs": [],
   "source": []
  }
 ],
 "metadata": {
  "kernelspec": {
   "display_name": "Python 3",
   "language": "python",
   "name": "python3"
  },
  "language_info": {
   "codemirror_mode": {
    "name": "ipython",
    "version": 3
   },
   "file_extension": ".py",
   "mimetype": "text/x-python",
   "name": "python",
   "nbconvert_exporter": "python",
   "pygments_lexer": "ipython3",
   "version": "3.7.3"
  }
 },
 "nbformat": 4,
 "nbformat_minor": 2
}
