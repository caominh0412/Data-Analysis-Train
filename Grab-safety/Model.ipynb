{
 "cells": [
  {
   "cell_type": "code",
   "execution_count": 1,
   "metadata": {},
   "outputs": [],
   "source": [
    "import pandas as pd\n",
    "import numpy as np\n",
    "import seaborn as sns\n",
    "import matplotlib.pyplot as plt\n",
    "from sklearn.ensemble import RandomForestClassifier\n",
    "from sklearn.model_selection import train_test_split"
   ]
  },
  {
   "cell_type": "code",
   "execution_count": 2,
   "metadata": {},
   "outputs": [],
   "source": [
    "df = pd.read_csv('feature_extracted.csv')"
   ]
  },
  {
   "cell_type": "code",
   "execution_count": 3,
   "metadata": {},
   "outputs": [
    {
     "data": {
      "text/plain": [
       "Index(['bookingID', 'distance', 'second', '('quantile_25', 'Bearing')',\n",
       "       '('quantile_25', 'Speed')', '('quantile_5', 'Bearing')',\n",
       "       '('quantile_5', 'Speed')', '('quantile_75', 'Bearing')',\n",
       "       '('quantile_75', 'Speed')', '('quantile_8', 'Bearing')',\n",
       "       '('quantile_8', 'Speed')', '('quantile_9', 'Bearing')',\n",
       "       '('quantile_9', 'Speed')', '('mean', 'Bearing')', '('mean', 'Speed')',\n",
       "       '('mean', 'acceleration')', '('mean', 'gyro')', '('std', 'Bearing')',\n",
       "       '('std', 'Speed')', '('std', 'acceleration')', '('std', 'gyro')',\n",
       "       '('amin', 'Bearing')', '('amin', 'Speed')', '('amin', 'acceleration')',\n",
       "       '('amin', 'gyro')', '('amax', 'Bearing')', '('amax', 'Speed')',\n",
       "       '('amax', 'acceleration')', '('amax', 'gyro')',\n",
       "       '('Count_Accelerating', 'Speed_diff')',\n",
       "       '('Count_Bearing', 'Bearing_diff')'],\n",
       "      dtype='object')"
      ]
     },
     "execution_count": 3,
     "metadata": {},
     "output_type": "execute_result"
    }
   ],
   "source": [
    "df.columns"
   ]
  },
  {
   "cell_type": "code",
   "execution_count": 4,
   "metadata": {},
   "outputs": [],
   "source": [
    "label = pd.read_csv('labels/part-00000-e9445087-aa0a-433b-a7f6-7f4c19d78ad6-c000.csv')"
   ]
  },
  {
   "cell_type": "code",
   "execution_count": 5,
   "metadata": {},
   "outputs": [
    {
     "data": {
      "text/html": [
       "<div>\n",
       "<style scoped>\n",
       "    .dataframe tbody tr th:only-of-type {\n",
       "        vertical-align: middle;\n",
       "    }\n",
       "\n",
       "    .dataframe tbody tr th {\n",
       "        vertical-align: top;\n",
       "    }\n",
       "\n",
       "    .dataframe thead th {\n",
       "        text-align: right;\n",
       "    }\n",
       "</style>\n",
       "<table border=\"1\" class=\"dataframe\">\n",
       "  <thead>\n",
       "    <tr style=\"text-align: right;\">\n",
       "      <th></th>\n",
       "      <th>bookingID</th>\n",
       "      <th>label</th>\n",
       "    </tr>\n",
       "  </thead>\n",
       "  <tbody>\n",
       "    <tr>\n",
       "      <th>0</th>\n",
       "      <td>111669149733</td>\n",
       "      <td>0</td>\n",
       "    </tr>\n",
       "    <tr>\n",
       "      <th>1</th>\n",
       "      <td>335007449205</td>\n",
       "      <td>1</td>\n",
       "    </tr>\n",
       "    <tr>\n",
       "      <th>2</th>\n",
       "      <td>171798691856</td>\n",
       "      <td>0</td>\n",
       "    </tr>\n",
       "    <tr>\n",
       "      <th>3</th>\n",
       "      <td>1520418422900</td>\n",
       "      <td>0</td>\n",
       "    </tr>\n",
       "    <tr>\n",
       "      <th>4</th>\n",
       "      <td>798863917116</td>\n",
       "      <td>0</td>\n",
       "    </tr>\n",
       "  </tbody>\n",
       "</table>\n",
       "</div>"
      ],
      "text/plain": [
       "       bookingID  label\n",
       "0   111669149733      0\n",
       "1   335007449205      1\n",
       "2   171798691856      0\n",
       "3  1520418422900      0\n",
       "4   798863917116      0"
      ]
     },
     "execution_count": 5,
     "metadata": {},
     "output_type": "execute_result"
    }
   ],
   "source": [
    "label.head()"
   ]
  },
  {
   "cell_type": "code",
   "execution_count": 6,
   "metadata": {},
   "outputs": [
    {
     "name": "stdout",
     "output_type": "stream",
     "text": [
      "<class 'pandas.core.frame.DataFrame'>\n",
      "RangeIndex: 20018 entries, 0 to 20017\n",
      "Data columns (total 2 columns):\n",
      "bookingID    20018 non-null int64\n",
      "label        20018 non-null int64\n",
      "dtypes: int64(2)\n",
      "memory usage: 312.9 KB\n"
     ]
    },
    {
     "data": {
      "text/plain": [
       "20000"
      ]
     },
     "execution_count": 6,
     "metadata": {},
     "output_type": "execute_result"
    }
   ],
   "source": [
    "label.info()\n",
    "label['bookingID'].nunique()"
   ]
  },
  {
   "cell_type": "code",
   "execution_count": 7,
   "metadata": {},
   "outputs": [],
   "source": [
    "label.drop_duplicates('bookingID',keep = 'last',inplace=True)"
   ]
  },
  {
   "cell_type": "code",
   "execution_count": 8,
   "metadata": {},
   "outputs": [],
   "source": [
    "label.set_index('bookingID',inplace = True)"
   ]
  },
  {
   "cell_type": "code",
   "execution_count": 9,
   "metadata": {},
   "outputs": [],
   "source": [
    "df.set_index('bookingID',inplace = True)"
   ]
  },
  {
   "cell_type": "code",
   "execution_count": 10,
   "metadata": {},
   "outputs": [],
   "source": [
    "df = df.join(label)"
   ]
  },
  {
   "cell_type": "code",
   "execution_count": 11,
   "metadata": {},
   "outputs": [
    {
     "data": {
      "text/html": [
       "<div>\n",
       "<style scoped>\n",
       "    .dataframe tbody tr th:only-of-type {\n",
       "        vertical-align: middle;\n",
       "    }\n",
       "\n",
       "    .dataframe tbody tr th {\n",
       "        vertical-align: top;\n",
       "    }\n",
       "\n",
       "    .dataframe thead th {\n",
       "        text-align: right;\n",
       "    }\n",
       "</style>\n",
       "<table border=\"1\" class=\"dataframe\">\n",
       "  <thead>\n",
       "    <tr style=\"text-align: right;\">\n",
       "      <th></th>\n",
       "      <th>distance</th>\n",
       "      <th>second</th>\n",
       "      <th>('quantile_25', 'Bearing')</th>\n",
       "      <th>('quantile_25', 'Speed')</th>\n",
       "      <th>('quantile_5', 'Bearing')</th>\n",
       "      <th>('quantile_5', 'Speed')</th>\n",
       "      <th>('quantile_75', 'Bearing')</th>\n",
       "      <th>('quantile_75', 'Speed')</th>\n",
       "      <th>('quantile_8', 'Bearing')</th>\n",
       "      <th>('quantile_8', 'Speed')</th>\n",
       "      <th>...</th>\n",
       "      <th>('amin', 'Speed')</th>\n",
       "      <th>('amin', 'acceleration')</th>\n",
       "      <th>('amin', 'gyro')</th>\n",
       "      <th>('amax', 'Bearing')</th>\n",
       "      <th>('amax', 'Speed')</th>\n",
       "      <th>('amax', 'acceleration')</th>\n",
       "      <th>('amax', 'gyro')</th>\n",
       "      <th>('Count_Accelerating', 'Speed_diff')</th>\n",
       "      <th>('Count_Bearing', 'Bearing_diff')</th>\n",
       "      <th>label</th>\n",
       "    </tr>\n",
       "    <tr>\n",
       "      <th>bookingID</th>\n",
       "      <th></th>\n",
       "      <th></th>\n",
       "      <th></th>\n",
       "      <th></th>\n",
       "      <th></th>\n",
       "      <th></th>\n",
       "      <th></th>\n",
       "      <th></th>\n",
       "      <th></th>\n",
       "      <th></th>\n",
       "      <th></th>\n",
       "      <th></th>\n",
       "      <th></th>\n",
       "      <th></th>\n",
       "      <th></th>\n",
       "      <th></th>\n",
       "      <th></th>\n",
       "      <th></th>\n",
       "      <th></th>\n",
       "      <th></th>\n",
       "      <th></th>\n",
       "    </tr>\n",
       "  </thead>\n",
       "  <tbody>\n",
       "    <tr>\n",
       "      <th>1.0</th>\n",
       "      <td>6844.871210</td>\n",
       "      <td>1034.0</td>\n",
       "      <td>50.0</td>\n",
       "      <td>0.000000</td>\n",
       "      <td>110.0</td>\n",
       "      <td>7.206634</td>\n",
       "      <td>208.0</td>\n",
       "      <td>13.779108</td>\n",
       "      <td>212.0</td>\n",
       "      <td>15.332941</td>\n",
       "      <td>...</td>\n",
       "      <td>0.0</td>\n",
       "      <td>6.970526</td>\n",
       "      <td>0.000509</td>\n",
       "      <td>337.0</td>\n",
       "      <td>21.882141</td>\n",
       "      <td>12.790147</td>\n",
       "      <td>0.717864</td>\n",
       "      <td>0.0</td>\n",
       "      <td>15.0</td>\n",
       "      <td>1</td>\n",
       "    </tr>\n",
       "    <tr>\n",
       "      <th>2.0</th>\n",
       "      <td>-7728.588029</td>\n",
       "      <td>825.0</td>\n",
       "      <td>22.0</td>\n",
       "      <td>0.000000</td>\n",
       "      <td>232.0</td>\n",
       "      <td>2.991146</td>\n",
       "      <td>288.0</td>\n",
       "      <td>5.281074</td>\n",
       "      <td>289.6</td>\n",
       "      <td>5.794284</td>\n",
       "      <td>...</td>\n",
       "      <td>0.0</td>\n",
       "      <td>8.234988</td>\n",
       "      <td>0.003169</td>\n",
       "      <td>354.0</td>\n",
       "      <td>9.360483</td>\n",
       "      <td>13.403410</td>\n",
       "      <td>0.463685</td>\n",
       "      <td>0.0</td>\n",
       "      <td>10.0</td>\n",
       "      <td>1</td>\n",
       "    </tr>\n",
       "    <tr>\n",
       "      <th>6.0</th>\n",
       "      <td>-2197.100215</td>\n",
       "      <td>1094.0</td>\n",
       "      <td>81.0</td>\n",
       "      <td>0.000000</td>\n",
       "      <td>248.0</td>\n",
       "      <td>1.379736</td>\n",
       "      <td>293.0</td>\n",
       "      <td>9.030643</td>\n",
       "      <td>300.0</td>\n",
       "      <td>10.426770</td>\n",
       "      <td>...</td>\n",
       "      <td>0.0</td>\n",
       "      <td>7.218154</td>\n",
       "      <td>0.002113</td>\n",
       "      <td>359.0</td>\n",
       "      <td>16.394695</td>\n",
       "      <td>14.498268</td>\n",
       "      <td>0.626294</td>\n",
       "      <td>0.0</td>\n",
       "      <td>31.0</td>\n",
       "      <td>0</td>\n",
       "    </tr>\n",
       "    <tr>\n",
       "      <th>7.0</th>\n",
       "      <td>2442.478928</td>\n",
       "      <td>959.0</td>\n",
       "      <td>46.0</td>\n",
       "      <td>3.545921</td>\n",
       "      <td>57.0</td>\n",
       "      <td>13.017325</td>\n",
       "      <td>87.0</td>\n",
       "      <td>20.886913</td>\n",
       "      <td>94.0</td>\n",
       "      <td>22.042671</td>\n",
       "      <td>...</td>\n",
       "      <td>0.0</td>\n",
       "      <td>5.525063</td>\n",
       "      <td>0.002993</td>\n",
       "      <td>359.0</td>\n",
       "      <td>25.230654</td>\n",
       "      <td>14.097100</td>\n",
       "      <td>1.423130</td>\n",
       "      <td>0.0</td>\n",
       "      <td>2.0</td>\n",
       "      <td>0</td>\n",
       "    </tr>\n",
       "    <tr>\n",
       "      <th>8.0</th>\n",
       "      <td>-547.920000</td>\n",
       "      <td>462.0</td>\n",
       "      <td>0.0</td>\n",
       "      <td>0.000000</td>\n",
       "      <td>201.0</td>\n",
       "      <td>1.900000</td>\n",
       "      <td>304.0</td>\n",
       "      <td>10.620000</td>\n",
       "      <td>307.0</td>\n",
       "      <td>12.678000</td>\n",
       "      <td>...</td>\n",
       "      <td>0.0</td>\n",
       "      <td>4.096356</td>\n",
       "      <td>0.001806</td>\n",
       "      <td>348.0</td>\n",
       "      <td>17.830000</td>\n",
       "      <td>13.513198</td>\n",
       "      <td>0.420451</td>\n",
       "      <td>1.0</td>\n",
       "      <td>16.0</td>\n",
       "      <td>0</td>\n",
       "    </tr>\n",
       "  </tbody>\n",
       "</table>\n",
       "<p>5 rows × 31 columns</p>\n",
       "</div>"
      ],
      "text/plain": [
       "              distance  second  ('quantile_25', 'Bearing')  \\\n",
       "bookingID                                                    \n",
       "1.0        6844.871210  1034.0                        50.0   \n",
       "2.0       -7728.588029   825.0                        22.0   \n",
       "6.0       -2197.100215  1094.0                        81.0   \n",
       "7.0        2442.478928   959.0                        46.0   \n",
       "8.0        -547.920000   462.0                         0.0   \n",
       "\n",
       "           ('quantile_25', 'Speed')  ('quantile_5', 'Bearing')  \\\n",
       "bookingID                                                        \n",
       "1.0                        0.000000                      110.0   \n",
       "2.0                        0.000000                      232.0   \n",
       "6.0                        0.000000                      248.0   \n",
       "7.0                        3.545921                       57.0   \n",
       "8.0                        0.000000                      201.0   \n",
       "\n",
       "           ('quantile_5', 'Speed')  ('quantile_75', 'Bearing')  \\\n",
       "bookingID                                                        \n",
       "1.0                       7.206634                       208.0   \n",
       "2.0                       2.991146                       288.0   \n",
       "6.0                       1.379736                       293.0   \n",
       "7.0                      13.017325                        87.0   \n",
       "8.0                       1.900000                       304.0   \n",
       "\n",
       "           ('quantile_75', 'Speed')  ('quantile_8', 'Bearing')  \\\n",
       "bookingID                                                        \n",
       "1.0                       13.779108                      212.0   \n",
       "2.0                        5.281074                      289.6   \n",
       "6.0                        9.030643                      300.0   \n",
       "7.0                       20.886913                       94.0   \n",
       "8.0                       10.620000                      307.0   \n",
       "\n",
       "           ('quantile_8', 'Speed')  ...  ('amin', 'Speed')  \\\n",
       "bookingID                           ...                      \n",
       "1.0                      15.332941  ...                0.0   \n",
       "2.0                       5.794284  ...                0.0   \n",
       "6.0                      10.426770  ...                0.0   \n",
       "7.0                      22.042671  ...                0.0   \n",
       "8.0                      12.678000  ...                0.0   \n",
       "\n",
       "           ('amin', 'acceleration')  ('amin', 'gyro')  ('amax', 'Bearing')  \\\n",
       "bookingID                                                                    \n",
       "1.0                        6.970526          0.000509                337.0   \n",
       "2.0                        8.234988          0.003169                354.0   \n",
       "6.0                        7.218154          0.002113                359.0   \n",
       "7.0                        5.525063          0.002993                359.0   \n",
       "8.0                        4.096356          0.001806                348.0   \n",
       "\n",
       "           ('amax', 'Speed')  ('amax', 'acceleration')  ('amax', 'gyro')  \\\n",
       "bookingID                                                                  \n",
       "1.0                21.882141                 12.790147          0.717864   \n",
       "2.0                 9.360483                 13.403410          0.463685   \n",
       "6.0                16.394695                 14.498268          0.626294   \n",
       "7.0                25.230654                 14.097100          1.423130   \n",
       "8.0                17.830000                 13.513198          0.420451   \n",
       "\n",
       "           ('Count_Accelerating', 'Speed_diff')  \\\n",
       "bookingID                                         \n",
       "1.0                                         0.0   \n",
       "2.0                                         0.0   \n",
       "6.0                                         0.0   \n",
       "7.0                                         0.0   \n",
       "8.0                                         1.0   \n",
       "\n",
       "           ('Count_Bearing', 'Bearing_diff')  label  \n",
       "bookingID                                            \n",
       "1.0                                     15.0      1  \n",
       "2.0                                     10.0      1  \n",
       "6.0                                     31.0      0  \n",
       "7.0                                      2.0      0  \n",
       "8.0                                     16.0      0  \n",
       "\n",
       "[5 rows x 31 columns]"
      ]
     },
     "execution_count": 11,
     "metadata": {},
     "output_type": "execute_result"
    }
   ],
   "source": [
    "df.head()"
   ]
  },
  {
   "cell_type": "code",
   "execution_count": 83,
   "metadata": {},
   "outputs": [],
   "source": [
    "X = df.drop('label',axis=True)\n",
    "y = df['label']\n",
    "\n",
    "from sklearn.preprocessing import StandardScaler\n",
    "sc = StandardScaler()\n",
    "X = sc.fit_transform(X)\n",
    "X\n",
    "\n",
    "X_train,X_test,y_train,y_test = train_test_split(X,y)\n",
    "X_train,X_val,y_train,y_val =train_test_split(X_train,y_train)\n",
    "X_test,X_test1,y_test,y_test1 =train_test_split(X_test,y_test,test_size=0.5)"
   ]
  },
  {
   "cell_type": "code",
   "execution_count": 84,
   "metadata": {},
   "outputs": [],
   "source": [
    "rfc = RandomForestClassifier()"
   ]
  },
  {
   "cell_type": "code",
   "execution_count": 85,
   "metadata": {},
   "outputs": [
    {
     "name": "stderr",
     "output_type": "stream",
     "text": [
      "/anaconda3/lib/python3.7/site-packages/sklearn/ensemble/forest.py:246: FutureWarning: The default value of n_estimators will change from 10 in version 0.20 to 100 in 0.22.\n",
      "  \"10 in version 0.20 to 100 in 0.22.\", FutureWarning)\n"
     ]
    },
    {
     "data": {
      "text/plain": [
       "RandomForestClassifier(bootstrap=True, class_weight=None, criterion='gini',\n",
       "            max_depth=None, max_features='auto', max_leaf_nodes=None,\n",
       "            min_impurity_decrease=0.0, min_impurity_split=None,\n",
       "            min_samples_leaf=1, min_samples_split=2,\n",
       "            min_weight_fraction_leaf=0.0, n_estimators=10, n_jobs=None,\n",
       "            oob_score=False, random_state=None, verbose=0,\n",
       "            warm_start=False)"
      ]
     },
     "execution_count": 85,
     "metadata": {},
     "output_type": "execute_result"
    }
   ],
   "source": [
    "rfc.fit(X_train,y_train)"
   ]
  },
  {
   "cell_type": "code",
   "execution_count": 86,
   "metadata": {},
   "outputs": [
    {
     "data": {
      "text/plain": [
       "array([0, 0, 0, ..., 1, 0, 0])"
      ]
     },
     "execution_count": 86,
     "metadata": {},
     "output_type": "execute_result"
    }
   ],
   "source": [
    "rfc.predict(X_test)"
   ]
  },
  {
   "cell_type": "code",
   "execution_count": 87,
   "metadata": {},
   "outputs": [
    {
     "data": {
      "text/plain": [
       "0.7667719021310182"
      ]
     },
     "execution_count": 87,
     "metadata": {},
     "output_type": "execute_result"
    }
   ],
   "source": [
    "rfc.score(X_val,y_val)"
   ]
  },
  {
   "cell_type": "code",
   "execution_count": 88,
   "metadata": {},
   "outputs": [
    {
     "data": {
      "text/plain": [
       "0.753700414446418"
      ]
     },
     "execution_count": 88,
     "metadata": {},
     "output_type": "execute_result"
    }
   ],
   "source": [
    "rfc.score(X_test,y_test)"
   ]
  },
  {
   "cell_type": "code",
   "execution_count": 89,
   "metadata": {},
   "outputs": [
    {
     "data": {
      "text/plain": [
       "0.7714624037892244"
      ]
     },
     "execution_count": 89,
     "metadata": {},
     "output_type": "execute_result"
    }
   ],
   "source": [
    "rfc.score(X_test1,y_test1)"
   ]
  },
  {
   "cell_type": "code",
   "execution_count": 90,
   "metadata": {},
   "outputs": [],
   "source": [
    "from sklearn.model_selection import GridSearchCV"
   ]
  },
  {
   "cell_type": "code",
   "execution_count": 99,
   "metadata": {},
   "outputs": [],
   "source": [
    "param_grid = { \n",
    "    'n_estimators': [400, 500],\n",
    "    'max_features': ['auto', 'sqrt', 'log2'],\n",
    "    'max_depth' : [5,8,10,15],\n",
    "    'criterion' :['gini', 'entropy']\n",
    "}"
   ]
  },
  {
   "cell_type": "code",
   "execution_count": 100,
   "metadata": {},
   "outputs": [
    {
     "data": {
      "text/plain": [
       "GridSearchCV(cv=5, error_score='raise-deprecating',\n",
       "       estimator=RandomForestClassifier(bootstrap=True, class_weight=None, criterion='gini',\n",
       "            max_depth=None, max_features='auto', max_leaf_nodes=None,\n",
       "            min_impurity_decrease=0.0, min_impurity_split=None,\n",
       "            min_samples_leaf=1, min_samples_split=2,\n",
       "            min_weight_fraction_leaf=0.0, n_estimators=10, n_jobs=None,\n",
       "            oob_score=False, random_state=None, verbose=0,\n",
       "            warm_start=False),\n",
       "       fit_params=None, iid='warn', n_jobs=None,\n",
       "       param_grid={'n_estimators': [400, 500], 'max_features': ['auto', 'sqrt', 'log2'], 'max_depth': [5, 8, 10, 15], 'criterion': ['gini', 'entropy']},\n",
       "       pre_dispatch='2*n_jobs', refit=True, return_train_score='warn',\n",
       "       scoring=None, verbose=0)"
      ]
     },
     "execution_count": 100,
     "metadata": {},
     "output_type": "execute_result"
    }
   ],
   "source": [
    "CV_rfc = GridSearchCV(estimator=rfc, param_grid=param_grid, cv= 5)\n",
    "CV_rfc.fit(X_val, y_val)"
   ]
  },
  {
   "cell_type": "code",
   "execution_count": 101,
   "metadata": {},
   "outputs": [
    {
     "data": {
      "text/plain": [
       "{'criterion': 'entropy',\n",
       " 'max_depth': 15,\n",
       " 'max_features': 'sqrt',\n",
       " 'n_estimators': 500}"
      ]
     },
     "execution_count": 101,
     "metadata": {},
     "output_type": "execute_result"
    }
   ],
   "source": [
    "CV_rfc.best_params_"
   ]
  },
  {
   "cell_type": "code",
   "execution_count": 102,
   "metadata": {},
   "outputs": [],
   "source": [
    "rfc1 = RandomForestClassifier(criterion='entropy',max_depth=15,max_features='sqrt',n_estimators=500)"
   ]
  },
  {
   "cell_type": "code",
   "execution_count": 103,
   "metadata": {},
   "outputs": [
    {
     "data": {
      "text/plain": [
       "0.7782162588792423"
      ]
     },
     "execution_count": 103,
     "metadata": {},
     "output_type": "execute_result"
    }
   ],
   "source": [
    "rfc1.fit(X_test,y_test)\n",
    "rfc1.predict(X_train)\n",
    "rfc1.score(X_val,y_val)"
   ]
  },
  {
   "cell_type": "code",
   "execution_count": 104,
   "metadata": {},
   "outputs": [
    {
     "data": {
      "text/plain": [
       "0.9715808170515098"
      ]
     },
     "execution_count": 104,
     "metadata": {},
     "output_type": "execute_result"
    }
   ],
   "source": [
    "rfc1.score(X_test,y_test)"
   ]
  },
  {
   "cell_type": "code",
   "execution_count": 105,
   "metadata": {},
   "outputs": [
    {
     "data": {
      "text/plain": [
       "0.7738306690349319"
      ]
     },
     "execution_count": 105,
     "metadata": {},
     "output_type": "execute_result"
    }
   ],
   "source": [
    "rfc1.score(X_test1,y_test1)"
   ]
  },
  {
   "cell_type": "code",
   "execution_count": 19,
   "metadata": {},
   "outputs": [],
   "source": [
    "from xgboost import XGBClassifier\n",
    "xgb = XGBClassifier()"
   ]
  },
  {
   "cell_type": "code",
   "execution_count": 20,
   "metadata": {},
   "outputs": [
    {
     "data": {
      "text/plain": [
       "XGBClassifier(base_score=0.5, booster='gbtree', colsample_bylevel=1,\n",
       "       colsample_bynode=1, colsample_bytree=1, gamma=0, learning_rate=0.1,\n",
       "       max_delta_step=0, max_depth=3, min_child_weight=1, missing=None,\n",
       "       n_estimators=100, n_jobs=1, nthread=None,\n",
       "       objective='binary:logistic', random_state=0, reg_alpha=0,\n",
       "       reg_lambda=1, scale_pos_weight=1, seed=None, silent=None,\n",
       "       subsample=1, verbosity=1)"
      ]
     },
     "execution_count": 20,
     "metadata": {},
     "output_type": "execute_result"
    }
   ],
   "source": [
    "xgb.fit(X_train,y_train)"
   ]
  },
  {
   "cell_type": "code",
   "execution_count": 21,
   "metadata": {},
   "outputs": [
    {
     "data": {
      "text/plain": [
       "0.7726913970007893"
      ]
     },
     "execution_count": 21,
     "metadata": {},
     "output_type": "execute_result"
    }
   ],
   "source": [
    "xgb.score(X_val,y_val)"
   ]
  },
  {
   "cell_type": "code",
   "execution_count": 22,
   "metadata": {},
   "outputs": [
    {
     "data": {
      "text/plain": [
       "0.7809354647720544"
      ]
     },
     "execution_count": 22,
     "metadata": {},
     "output_type": "execute_result"
    }
   ],
   "source": [
    "xgb.score(X_test,y_test)"
   ]
  },
  {
   "cell_type": "code",
   "execution_count": 23,
   "metadata": {},
   "outputs": [
    {
     "data": {
      "text/plain": [
       "0.7939609236234458"
      ]
     },
     "execution_count": 23,
     "metadata": {},
     "output_type": "execute_result"
    }
   ],
   "source": [
    "xgb.score(X_test1,y_test1)"
   ]
  },
  {
   "cell_type": "code",
   "execution_count": 29,
   "metadata": {},
   "outputs": [],
   "source": [
    "from sklearn.metrics import roc_curve\n",
    "from sklearn.metrics import roc_auc_score"
   ]
  },
  {
   "cell_type": "code",
   "execution_count": 30,
   "metadata": {},
   "outputs": [],
   "source": [
    "def plot_roc_curve(fpr, tpr):  \n",
    "    plt.plot(fpr, tpr, color='orange', label='ROC')\n",
    "    plt.plot([0, 1], [0, 1], color='darkblue', linestyle='--')\n",
    "    plt.xlabel('False Positive Rate')\n",
    "    plt.ylabel('True Positive Rate')\n",
    "    plt.title('Receiver Operating Characteristic (ROC) Curve')\n",
    "    plt.legend()\n",
    "    plt.show()"
   ]
  },
  {
   "cell_type": "code",
   "execution_count": 31,
   "metadata": {},
   "outputs": [],
   "source": [
    "probs = rfc1.predict_proba(X_test) "
   ]
  },
  {
   "cell_type": "code",
   "execution_count": 32,
   "metadata": {},
   "outputs": [
    {
     "data": {
      "text/plain": [
       "array([[0.87032167, 0.12967833],\n",
       "       [0.81639289, 0.18360711],\n",
       "       [0.93470569, 0.06529431],\n",
       "       ...,\n",
       "       [0.89977261, 0.10022739],\n",
       "       [0.82404762, 0.17595238],\n",
       "       [0.92669015, 0.07330985]])"
      ]
     },
     "execution_count": 32,
     "metadata": {},
     "output_type": "execute_result"
    }
   ],
   "source": [
    "probs"
   ]
  },
  {
   "cell_type": "code",
   "execution_count": 33,
   "metadata": {},
   "outputs": [],
   "source": [
    "probs = probs[:, 1]"
   ]
  },
  {
   "cell_type": "code",
   "execution_count": 34,
   "metadata": {},
   "outputs": [
    {
     "name": "stdout",
     "output_type": "stream",
     "text": [
      "AUC: 0.99\n"
     ]
    }
   ],
   "source": [
    "auc = roc_auc_score(y_test, probs)  \n",
    "print('AUC: %.2f' % auc)  "
   ]
  },
  {
   "cell_type": "code",
   "execution_count": 35,
   "metadata": {},
   "outputs": [
    {
     "data": {
      "image/png": "[encoded data removed]",
      "text/plain": [
       "<Figure size 432x288 with 1 Axes>"
      ]
     },
     "metadata": {
      "needs_background": "light"
     },
     "output_type": "display_data"
    },
    {
     "data": {
      "image/png": "[encoded data removed]",
      "text/plain": [
       "<Figure size 432x288 with 1 Axes>"
      ]
     },
     "metadata": {
      "needs_background": "light"
     },
     "output_type": "display_data"
    }
   ],
   "source": [
    "fpr, tpr, thresholds = roc_curve(y_test, probs)\n",
    "fpr1, tpr1, thresholds1 = roc_curve(y_val, rfc1.predict_proba(X_val)[:, 1])\n",
    "plot_roc_curve(fpr, tpr)  \n",
    "plot_roc_curve(fpr1, tpr1)"
   ]
  },
  {
   "cell_type": "code",
   "execution_count": 36,
   "metadata": {},
   "outputs": [],
   "source": [
    "a = pd.DataFrame(y_test)"
   ]
  },
  {
   "cell_type": "code",
   "execution_count": 37,
   "metadata": {},
   "outputs": [],
   "source": [
    "a['predict'] = rfc1.predict(X_test)"
   ]
  },
  {
   "cell_type": "code",
   "execution_count": 38,
   "metadata": {},
   "outputs": [
    {
     "data": {
      "text/plain": [
       "array([0.0391887 , 0.1485133 , 0.02433409, 0.01912306, 0.02566872,\n",
       "       0.03621066, 0.02006717, 0.02854913, 0.02166024, 0.02913642,\n",
       "       0.02437544, 0.0280705 , 0.02627285, 0.03093497, 0.0341753 ,\n",
       "       0.03051911, 0.0344604 , 0.02828172, 0.0473376 , 0.03110678,\n",
       "       0.01192623, 0.005775  , 0.05080053, 0.02581548, 0.01839154,\n",
       "       0.04062257, 0.04180221, 0.03294405, 0.00759975, 0.05633646])"
      ]
     },
     "execution_count": 38,
     "metadata": {},
     "output_type": "execute_result"
    }
   ],
   "source": [
    "rfc1.feature_importances_"
   ]
  },
  {
   "cell_type": "code",
   "execution_count": 39,
   "metadata": {},
   "outputs": [
    {
     "name": "stderr",
     "output_type": "stream",
     "text": [
      "Using TensorFlow backend.\n"
     ]
    }
   ],
   "source": [
    "import keras\n",
    "from keras.models import Sequential"
   ]
  },
  {
   "cell_type": "code",
   "execution_count": 40,
   "metadata": {},
   "outputs": [],
   "source": [
    "y_train = keras.utils.to_categorical(y_train, 2)\n",
    "y_test = keras.utils.to_categorical(y_test, 2)\n",
    "y_val = keras.utils.to_categorical(y_val, 2)\n",
    "y_test1 = keras.utils.to_categorical(y_test1, 2)"
   ]
  },
  {
   "cell_type": "code",
   "execution_count": 48,
   "metadata": {},
   "outputs": [],
   "source": [
    "from keras import Sequential\n",
    "from keras.layers import Dense,Dropout\n",
    "\n",
    "classifier = Sequential()\n",
    "classifier.add(Dense(16, activation='sigmoid', kernel_initializer='random_normal', input_dim=30))\n",
    "classifier.add(Dense(4, activation='relu', kernel_initializer='random_normal'))\n",
    "classifier.add(Dense(2, activation='sigmoid', kernel_initializer='random_normal'))\n",
    "\n",
    "classifier.compile(optimizer ='adam',loss='binary_crossentropy', metrics =['accuracy'])"
   ]
  },
  {
   "cell_type": "code",
   "execution_count": 49,
   "metadata": {},
   "outputs": [
    {
     "name": "stdout",
     "output_type": "stream",
     "text": [
      "Train on 7599 samples, validate on 2534 samples\n",
      "Epoch 1/20\n",
      "7599/7599 [==============================] - 1s 158us/step - loss: 0.5536 - acc: 0.7530 - val_loss: 0.5255 - val_acc: 0.7474\n",
      "Epoch 2/20\n",
      "7599/7599 [==============================] - 1s 104us/step - loss: 0.5151 - acc: 0.7556 - val_loss: 0.5200 - val_acc: 0.7474\n",
      "Epoch 3/20\n",
      "7599/7599 [==============================] - 1s 113us/step - loss: 0.5106 - acc: 0.7556 - val_loss: 0.5163 - val_acc: 0.7490\n",
      "Epoch 4/20\n",
      "7599/7599 [==============================] - 1s 117us/step - loss: 0.5078 - acc: 0.7612 - val_loss: 0.5143 - val_acc: 0.7599\n",
      "Epoch 5/20\n",
      "7599/7599 [==============================] - 1s 119us/step - loss: 0.5061 - acc: 0.7675 - val_loss: 0.5138 - val_acc: 0.7719\n",
      "Epoch 6/20\n",
      "7599/7599 [==============================] - 1s 113us/step - loss: 0.5051 - acc: 0.7697 - val_loss: 0.5130 - val_acc: 0.7737\n",
      "Epoch 7/20\n",
      "7599/7599 [==============================] - 1s 101us/step - loss: 0.5042 - acc: 0.7717 - val_loss: 0.5119 - val_acc: 0.7755\n",
      "Epoch 8/20\n",
      "7599/7599 [==============================] - 1s 102us/step - loss: 0.5033 - acc: 0.7723 - val_loss: 0.5110 - val_acc: 0.7758\n",
      "Epoch 9/20\n",
      "7599/7599 [==============================] - 1s 101us/step - loss: 0.5025 - acc: 0.7740 - val_loss: 0.5114 - val_acc: 0.7753\n",
      "Epoch 10/20\n",
      "7599/7599 [==============================] - 1s 102us/step - loss: 0.5023 - acc: 0.7732 - val_loss: 0.5109 - val_acc: 0.7745\n",
      "Epoch 11/20\n",
      "7599/7599 [==============================] - 1s 103us/step - loss: 0.5022 - acc: 0.7747 - val_loss: 0.5107 - val_acc: 0.7743\n",
      "Epoch 12/20\n",
      "7599/7599 [==============================] - 1s 105us/step - loss: 0.5017 - acc: 0.7760 - val_loss: 0.5095 - val_acc: 0.7741\n",
      "Epoch 13/20\n",
      "7599/7599 [==============================] - 1s 105us/step - loss: 0.5018 - acc: 0.7742 - val_loss: 0.5096 - val_acc: 0.7753\n",
      "Epoch 14/20\n",
      "7599/7599 [==============================] - 1s 101us/step - loss: 0.5012 - acc: 0.7757 - val_loss: 0.5105 - val_acc: 0.7755\n",
      "Epoch 15/20\n",
      "7599/7599 [==============================] - 1s 119us/step - loss: 0.5011 - acc: 0.7758 - val_loss: 0.5096 - val_acc: 0.7764\n",
      "Epoch 16/20\n",
      "7599/7599 [==============================] - 1s 114us/step - loss: 0.5008 - acc: 0.7755 - val_loss: 0.5094 - val_acc: 0.7757\n",
      "Epoch 17/20\n",
      "7599/7599 [==============================] - 1s 115us/step - loss: 0.5003 - acc: 0.7750 - val_loss: 0.5091 - val_acc: 0.7757\n",
      "Epoch 18/20\n",
      "7599/7599 [==============================] - 1s 101us/step - loss: 0.5005 - acc: 0.7746 - val_loss: 0.5086 - val_acc: 0.7755\n",
      "Epoch 19/20\n",
      "7599/7599 [==============================] - 1s 101us/step - loss: 0.5002 - acc: 0.7758 - val_loss: 0.5085 - val_acc: 0.7757\n",
      "Epoch 20/20\n",
      "7599/7599 [==============================] - 1s 107us/step - loss: 0.4999 - acc: 0.7769 - val_loss: 0.5085 - val_acc: 0.7737\n"
     ]
    },
    {
     "data": {
      "text/plain": [
       "<keras.callbacks.History at 0x1a31f56cf8>"
      ]
     },
     "execution_count": 49,
     "metadata": {},
     "output_type": "execute_result"
    }
   ],
   "source": [
    "classifier.fit(X_train,y_train,batch_size=10, epochs=20,validation_data=(X_val,y_val))"
   ]
  },
  {
   "cell_type": "code",
   "execution_count": 77,
   "metadata": {},
   "outputs": [
    {
     "name": "stdout",
     "output_type": "stream",
     "text": [
      "Test loss: 0.4863\n",
      "Test accuracy 0.7827\n"
     ]
    }
   ],
   "source": [
    "from keras import metrics \n",
    "score_test = classifier.evaluate(X_test, y_test, verbose=0)\n",
    "print('Test loss: %.4f'% score_test[0])\n",
    "print('Test accuracy %.4f'% score_test[1])"
   ]
  },
  {
   "cell_type": "code",
   "execution_count": 78,
   "metadata": {},
   "outputs": [
    {
     "name": "stdout",
     "output_type": "stream",
     "text": [
      "Test loss: 0.4802\n",
      "Test accuracy 0.7934\n"
     ]
    }
   ],
   "source": [
    "score_test1 = classifier.evaluate(X_test1, y_test1, verbose=0)\n",
    "print('Test loss: %.4f'% score_test1[0])\n",
    "print('Test accuracy %.4f'% score_test1[1])"
   ]
  },
  {
   "cell_type": "code",
   "execution_count": 79,
   "metadata": {},
   "outputs": [
    {
     "data": {
      "image/png": "[encoded data removed]",
      "text/plain": [
       "<Figure size 432x288 with 1 Axes>"
      ]
     },
     "metadata": {
      "needs_background": "light"
     },
     "output_type": "display_data"
    }
   ],
   "source": [
    "plot_roc_curve(roc_curve(y_test[:, 1], classifier.predict(X_test)[:, 1])[0],roc_curve(y_test[:, 1], classifier.predict(X_test)[:, 1])[1])"
   ]
  },
  {
   "cell_type": "code",
   "execution_count": null,
   "metadata": {},
   "outputs": [],
   "source": []
  }
 ],
 "metadata": {
  "kernelspec": {
   "display_name": "Python 3",
   "language": "python",
   "name": "python3"
  },
  "language_info": {
   "codemirror_mode": {
    "name": "ipython",
    "version": 3
   },
   "file_extension": ".py",
   "mimetype": "text/x-python",
   "name": "python",
   "nbconvert_exporter": "python",
   "pygments_lexer": "ipython3",
   "version": "3.7.3"
  }
 },
 "nbformat": 4,
 "nbformat_minor": 2
}
