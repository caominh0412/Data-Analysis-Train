{
 "cells": [
  {
   "cell_type": "markdown",
   "metadata": {},
   "source": [
    "**As usual, import library and load data**"
   ]
  },
  {
   "cell_type": "code",
   "execution_count": 62,
   "metadata": {},
   "outputs": [],
   "source": [
    "import pandas as pd\n",
    "import numpy as np\n",
    "import seaborn as sns\n",
    "import matplotlib.pyplot as plt\n",
    "from sklearn.ensemble import RandomForestClassifier\n",
    "from sklearn.model_selection import train_test_split"
   ]
  },
  {
   "cell_type": "code",
   "execution_count": 63,
   "metadata": {},
   "outputs": [],
   "source": [
    "df = pd.read_csv('feature_extracted.csv')"
   ]
  },
  {
   "cell_type": "code",
   "execution_count": 64,
   "metadata": {},
   "outputs": [
    {
     "data": {
      "text/plain": [
       "Index(['bookingID', 'distance', 'second', '('quantile_25', 'Bearing')',\n",
       "       '('quantile_25', 'Bearing_diff')', '('quantile_25', 'Speed')',\n",
       "       '('quantile_25', 'Speed_diff')', '('quantile_25', 'compAngleX')',\n",
       "       '('quantile_25', 'compAngleY')', '('quantile_5', 'Bearing')',\n",
       "       '('quantile_5', 'Bearing_diff')', '('quantile_5', 'Speed')',\n",
       "       '('quantile_5', 'Speed_diff')', '('quantile_5', 'compAngleX')',\n",
       "       '('quantile_5', 'compAngleY')', '('quantile_75', 'Bearing')',\n",
       "       '('quantile_75', 'Bearing_diff')', '('quantile_75', 'Speed')',\n",
       "       '('quantile_75', 'Speed_diff')', '('quantile_75', 'compAngleX')',\n",
       "       '('quantile_75', 'compAngleY')', '('quantile_8', 'Bearing')',\n",
       "       '('quantile_8', 'Bearing_diff')', '('quantile_8', 'Speed')',\n",
       "       '('quantile_8', 'Speed_diff')', '('quantile_8', 'compAngleX')',\n",
       "       '('quantile_8', 'compAngleY')', '('quantile_9', 'Bearing')',\n",
       "       '('quantile_9', 'Bearing_diff')', '('quantile_9', 'Speed')',\n",
       "       '('quantile_9', 'Speed_diff')', '('quantile_9', 'compAngleX')',\n",
       "       '('quantile_9', 'compAngleY')', '('mean', 'Bearing')',\n",
       "       '('mean', 'Bearing_diff')', '('mean', 'Speed')',\n",
       "       '('mean', 'Speed_diff')', '('mean', 'compAngleX')',\n",
       "       '('mean', 'compAngleY')', '('std', 'Bearing')',\n",
       "       '('std', 'Bearing_diff')', '('std', 'Speed')', '('std', 'Speed_diff')',\n",
       "       '('std', 'compAngleX')', '('std', 'compAngleY')', '('amin', 'Bearing')',\n",
       "       '('amin', 'Bearing_diff')', '('amin', 'Speed')',\n",
       "       '('amin', 'Speed_diff')', '('amin', 'compAngleX')',\n",
       "       '('amin', 'compAngleY')', '('amax', 'Bearing')',\n",
       "       '('amax', 'Bearing_diff')', '('amax', 'Speed')',\n",
       "       '('amax', 'Speed_diff')', '('amax', 'compAngleX')',\n",
       "       '('amax', 'compAngleY')'],\n",
       "      dtype='object')"
      ]
     },
     "execution_count": 64,
     "metadata": {},
     "output_type": "execute_result"
    }
   ],
   "source": [
    "df.columns"
   ]
  },
  {
   "cell_type": "markdown",
   "metadata": {},
   "source": [
    "**Match with label data**"
   ]
  },
  {
   "cell_type": "code",
   "execution_count": 65,
   "metadata": {},
   "outputs": [],
   "source": [
    "label = pd.read_csv('labels/part-00000-e9445087-aa0a-433b-a7f6-7f4c19d78ad6-c000.csv')"
   ]
  },
  {
   "cell_type": "code",
   "execution_count": 66,
   "metadata": {},
   "outputs": [
    {
     "data": {
      "text/html": [
       "<div>\n",
       "<style scoped>\n",
       "    .dataframe tbody tr th:only-of-type {\n",
       "        vertical-align: middle;\n",
       "    }\n",
       "\n",
       "    .dataframe tbody tr th {\n",
       "        vertical-align: top;\n",
       "    }\n",
       "\n",
       "    .dataframe thead th {\n",
       "        text-align: right;\n",
       "    }\n",
       "</style>\n",
       "<table border=\"1\" class=\"dataframe\">\n",
       "  <thead>\n",
       "    <tr style=\"text-align: right;\">\n",
       "      <th></th>\n",
       "      <th>bookingID</th>\n",
       "      <th>label</th>\n",
       "    </tr>\n",
       "  </thead>\n",
       "  <tbody>\n",
       "    <tr>\n",
       "      <th>0</th>\n",
       "      <td>111669149733</td>\n",
       "      <td>0</td>\n",
       "    </tr>\n",
       "    <tr>\n",
       "      <th>1</th>\n",
       "      <td>335007449205</td>\n",
       "      <td>1</td>\n",
       "    </tr>\n",
       "    <tr>\n",
       "      <th>2</th>\n",
       "      <td>171798691856</td>\n",
       "      <td>0</td>\n",
       "    </tr>\n",
       "    <tr>\n",
       "      <th>3</th>\n",
       "      <td>1520418422900</td>\n",
       "      <td>0</td>\n",
       "    </tr>\n",
       "    <tr>\n",
       "      <th>4</th>\n",
       "      <td>798863917116</td>\n",
       "      <td>0</td>\n",
       "    </tr>\n",
       "  </tbody>\n",
       "</table>\n",
       "</div>"
      ],
      "text/plain": [
       "       bookingID  label\n",
       "0   111669149733      0\n",
       "1   335007449205      1\n",
       "2   171798691856      0\n",
       "3  1520418422900      0\n",
       "4   798863917116      0"
      ]
     },
     "execution_count": 66,
     "metadata": {},
     "output_type": "execute_result"
    }
   ],
   "source": [
    "label.head()"
   ]
  },
  {
   "cell_type": "code",
   "execution_count": 67,
   "metadata": {},
   "outputs": [
    {
     "name": "stdout",
     "output_type": "stream",
     "text": [
      "<class 'pandas.core.frame.DataFrame'>\n",
      "RangeIndex: 20018 entries, 0 to 20017\n",
      "Data columns (total 2 columns):\n",
      "bookingID    20018 non-null int64\n",
      "label        20018 non-null int64\n",
      "dtypes: int64(2)\n",
      "memory usage: 312.9 KB\n"
     ]
    },
    {
     "data": {
      "text/plain": [
       "20000"
      ]
     },
     "execution_count": 67,
     "metadata": {},
     "output_type": "execute_result"
    }
   ],
   "source": [
    "label.info()\n",
    "label['bookingID'].nunique()"
   ]
  },
  {
   "cell_type": "markdown",
   "metadata": {},
   "source": [
    "*We see 18 trips got multiple label, so we will use the last label for that 18 trips.*"
   ]
  },
  {
   "cell_type": "code",
   "execution_count": 68,
   "metadata": {},
   "outputs": [],
   "source": [
    "label.drop_duplicates('bookingID',keep = 'last',inplace=True)"
   ]
  },
  {
   "cell_type": "code",
   "execution_count": 69,
   "metadata": {},
   "outputs": [],
   "source": [
    "label.set_index('bookingID',inplace = True)"
   ]
  },
  {
   "cell_type": "code",
   "execution_count": 70,
   "metadata": {},
   "outputs": [],
   "source": [
    "df.set_index('bookingID',inplace = True)"
   ]
  },
  {
   "cell_type": "markdown",
   "metadata": {},
   "source": [
    "Match the data with label."
   ]
  },
  {
   "cell_type": "code",
   "execution_count": 71,
   "metadata": {},
   "outputs": [],
   "source": [
    "df = df.join(label)"
   ]
  },
  {
   "cell_type": "code",
   "execution_count": 72,
   "metadata": {},
   "outputs": [
    {
     "data": {
      "text/html": [
       "<div>\n",
       "<style scoped>\n",
       "    .dataframe tbody tr th:only-of-type {\n",
       "        vertical-align: middle;\n",
       "    }\n",
       "\n",
       "    .dataframe tbody tr th {\n",
       "        vertical-align: top;\n",
       "    }\n",
       "\n",
       "    .dataframe thead th {\n",
       "        text-align: right;\n",
       "    }\n",
       "</style>\n",
       "<table border=\"1\" class=\"dataframe\">\n",
       "  <thead>\n",
       "    <tr style=\"text-align: right;\">\n",
       "      <th></th>\n",
       "      <th>distance</th>\n",
       "      <th>second</th>\n",
       "      <th>('quantile_25', 'Bearing')</th>\n",
       "      <th>('quantile_25', 'Bearing_diff')</th>\n",
       "      <th>('quantile_25', 'Speed')</th>\n",
       "      <th>('quantile_25', 'Speed_diff')</th>\n",
       "      <th>('quantile_25', 'compAngleX')</th>\n",
       "      <th>('quantile_25', 'compAngleY')</th>\n",
       "      <th>('quantile_5', 'Bearing')</th>\n",
       "      <th>('quantile_5', 'Bearing_diff')</th>\n",
       "      <th>...</th>\n",
       "      <th>('amin', 'Speed_diff')</th>\n",
       "      <th>('amin', 'compAngleX')</th>\n",
       "      <th>('amin', 'compAngleY')</th>\n",
       "      <th>('amax', 'Bearing')</th>\n",
       "      <th>('amax', 'Bearing_diff')</th>\n",
       "      <th>('amax', 'Speed')</th>\n",
       "      <th>('amax', 'Speed_diff')</th>\n",
       "      <th>('amax', 'compAngleX')</th>\n",
       "      <th>('amax', 'compAngleY')</th>\n",
       "      <th>label</th>\n",
       "    </tr>\n",
       "    <tr>\n",
       "      <th>bookingID</th>\n",
       "      <th></th>\n",
       "      <th></th>\n",
       "      <th></th>\n",
       "      <th></th>\n",
       "      <th></th>\n",
       "      <th></th>\n",
       "      <th></th>\n",
       "      <th></th>\n",
       "      <th></th>\n",
       "      <th></th>\n",
       "      <th></th>\n",
       "      <th></th>\n",
       "      <th></th>\n",
       "      <th></th>\n",
       "      <th></th>\n",
       "      <th></th>\n",
       "      <th></th>\n",
       "      <th></th>\n",
       "      <th></th>\n",
       "      <th></th>\n",
       "      <th></th>\n",
       "    </tr>\n",
       "  </thead>\n",
       "  <tbody>\n",
       "    <tr>\n",
       "      <th>1.0</th>\n",
       "      <td>6844.871210</td>\n",
       "      <td>1034.0</td>\n",
       "      <td>50.0</td>\n",
       "      <td>-1.0</td>\n",
       "      <td>0.000000</td>\n",
       "      <td>-0.227863</td>\n",
       "      <td>100.847996</td>\n",
       "      <td>1.365338</td>\n",
       "      <td>110.0</td>\n",
       "      <td>0.0</td>\n",
       "      <td>...</td>\n",
       "      <td>-4.099883</td>\n",
       "      <td>82.203521</td>\n",
       "      <td>-24.178214</td>\n",
       "      <td>337.0</td>\n",
       "      <td>39.0</td>\n",
       "      <td>21.882141</td>\n",
       "      <td>4.188556</td>\n",
       "      <td>122.460492</td>\n",
       "      <td>29.361171</td>\n",
       "      <td>1</td>\n",
       "    </tr>\n",
       "    <tr>\n",
       "      <th>2.0</th>\n",
       "      <td>609.642773</td>\n",
       "      <td>825.0</td>\n",
       "      <td>22.0</td>\n",
       "      <td>-1.0</td>\n",
       "      <td>0.000000</td>\n",
       "      <td>-0.441118</td>\n",
       "      <td>85.355433</td>\n",
       "      <td>-4.823434</td>\n",
       "      <td>232.0</td>\n",
       "      <td>0.0</td>\n",
       "      <td>...</td>\n",
       "      <td>-4.439833</td>\n",
       "      <td>76.101715</td>\n",
       "      <td>-11.624707</td>\n",
       "      <td>354.0</td>\n",
       "      <td>148.0</td>\n",
       "      <td>9.360483</td>\n",
       "      <td>3.292830</td>\n",
       "      <td>108.354759</td>\n",
       "      <td>14.904756</td>\n",
       "      <td>1</td>\n",
       "    </tr>\n",
       "    <tr>\n",
       "      <th>6.0</th>\n",
       "      <td>5019.041960</td>\n",
       "      <td>1094.0</td>\n",
       "      <td>81.0</td>\n",
       "      <td>0.0</td>\n",
       "      <td>0.000000</td>\n",
       "      <td>-0.118952</td>\n",
       "      <td>73.716546</td>\n",
       "      <td>-4.448471</td>\n",
       "      <td>248.0</td>\n",
       "      <td>0.0</td>\n",
       "      <td>...</td>\n",
       "      <td>-5.832877</td>\n",
       "      <td>51.754340</td>\n",
       "      <td>-33.069233</td>\n",
       "      <td>359.0</td>\n",
       "      <td>353.0</td>\n",
       "      <td>16.394695</td>\n",
       "      <td>3.398443</td>\n",
       "      <td>106.651319</td>\n",
       "      <td>26.094357</td>\n",
       "      <td>0</td>\n",
       "    </tr>\n",
       "    <tr>\n",
       "      <th>7.0</th>\n",
       "      <td>11656.021118</td>\n",
       "      <td>959.0</td>\n",
       "      <td>46.0</td>\n",
       "      <td>-1.0</td>\n",
       "      <td>3.545921</td>\n",
       "      <td>-0.214639</td>\n",
       "      <td>74.006377</td>\n",
       "      <td>-10.769021</td>\n",
       "      <td>57.0</td>\n",
       "      <td>0.0</td>\n",
       "      <td>...</td>\n",
       "      <td>-2.928770</td>\n",
       "      <td>47.874165</td>\n",
       "      <td>-25.232821</td>\n",
       "      <td>359.0</td>\n",
       "      <td>358.0</td>\n",
       "      <td>25.230654</td>\n",
       "      <td>4.060644</td>\n",
       "      <td>106.404392</td>\n",
       "      <td>21.530432</td>\n",
       "      <td>0</td>\n",
       "    </tr>\n",
       "    <tr>\n",
       "      <th>8.0</th>\n",
       "      <td>2549.650000</td>\n",
       "      <td>462.0</td>\n",
       "      <td>0.0</td>\n",
       "      <td>0.0</td>\n",
       "      <td>0.000000</td>\n",
       "      <td>-0.160000</td>\n",
       "      <td>77.644521</td>\n",
       "      <td>5.768553</td>\n",
       "      <td>201.0</td>\n",
       "      <td>0.0</td>\n",
       "      <td>...</td>\n",
       "      <td>-10.920000</td>\n",
       "      <td>60.300638</td>\n",
       "      <td>-5.019443</td>\n",
       "      <td>348.0</td>\n",
       "      <td>309.0</td>\n",
       "      <td>17.830000</td>\n",
       "      <td>3.100000</td>\n",
       "      <td>105.625946</td>\n",
       "      <td>22.587755</td>\n",
       "      <td>0</td>\n",
       "    </tr>\n",
       "  </tbody>\n",
       "</table>\n",
       "<p>5 rows × 57 columns</p>\n",
       "</div>"
      ],
      "text/plain": [
       "               distance  second  ('quantile_25', 'Bearing')  \\\n",
       "bookingID                                                     \n",
       "1.0         6844.871210  1034.0                        50.0   \n",
       "2.0          609.642773   825.0                        22.0   \n",
       "6.0         5019.041960  1094.0                        81.0   \n",
       "7.0        11656.021118   959.0                        46.0   \n",
       "8.0         2549.650000   462.0                         0.0   \n",
       "\n",
       "           ('quantile_25', 'Bearing_diff')  ('quantile_25', 'Speed')  \\\n",
       "bookingID                                                              \n",
       "1.0                                   -1.0                  0.000000   \n",
       "2.0                                   -1.0                  0.000000   \n",
       "6.0                                    0.0                  0.000000   \n",
       "7.0                                   -1.0                  3.545921   \n",
       "8.0                                    0.0                  0.000000   \n",
       "\n",
       "           ('quantile_25', 'Speed_diff')  ('quantile_25', 'compAngleX')  \\\n",
       "bookingID                                                                 \n",
       "1.0                            -0.227863                     100.847996   \n",
       "2.0                            -0.441118                      85.355433   \n",
       "6.0                            -0.118952                      73.716546   \n",
       "7.0                            -0.214639                      74.006377   \n",
       "8.0                            -0.160000                      77.644521   \n",
       "\n",
       "           ('quantile_25', 'compAngleY')  ('quantile_5', 'Bearing')  \\\n",
       "bookingID                                                             \n",
       "1.0                             1.365338                      110.0   \n",
       "2.0                            -4.823434                      232.0   \n",
       "6.0                            -4.448471                      248.0   \n",
       "7.0                           -10.769021                       57.0   \n",
       "8.0                             5.768553                      201.0   \n",
       "\n",
       "           ('quantile_5', 'Bearing_diff')  ...  ('amin', 'Speed_diff')  \\\n",
       "bookingID                                  ...                           \n",
       "1.0                                   0.0  ...               -4.099883   \n",
       "2.0                                   0.0  ...               -4.439833   \n",
       "6.0                                   0.0  ...               -5.832877   \n",
       "7.0                                   0.0  ...               -2.928770   \n",
       "8.0                                   0.0  ...              -10.920000   \n",
       "\n",
       "           ('amin', 'compAngleX')  ('amin', 'compAngleY')  \\\n",
       "bookingID                                                   \n",
       "1.0                     82.203521              -24.178214   \n",
       "2.0                     76.101715              -11.624707   \n",
       "6.0                     51.754340              -33.069233   \n",
       "7.0                     47.874165              -25.232821   \n",
       "8.0                     60.300638               -5.019443   \n",
       "\n",
       "           ('amax', 'Bearing')  ('amax', 'Bearing_diff')  ('amax', 'Speed')  \\\n",
       "bookingID                                                                     \n",
       "1.0                      337.0                      39.0          21.882141   \n",
       "2.0                      354.0                     148.0           9.360483   \n",
       "6.0                      359.0                     353.0          16.394695   \n",
       "7.0                      359.0                     358.0          25.230654   \n",
       "8.0                      348.0                     309.0          17.830000   \n",
       "\n",
       "           ('amax', 'Speed_diff')  ('amax', 'compAngleX')  \\\n",
       "bookingID                                                   \n",
       "1.0                      4.188556              122.460492   \n",
       "2.0                      3.292830              108.354759   \n",
       "6.0                      3.398443              106.651319   \n",
       "7.0                      4.060644              106.404392   \n",
       "8.0                      3.100000              105.625946   \n",
       "\n",
       "           ('amax', 'compAngleY')  label  \n",
       "bookingID                                 \n",
       "1.0                     29.361171      1  \n",
       "2.0                     14.904756      1  \n",
       "6.0                     26.094357      0  \n",
       "7.0                     21.530432      0  \n",
       "8.0                     22.587755      0  \n",
       "\n",
       "[5 rows x 57 columns]"
      ]
     },
     "execution_count": 72,
     "metadata": {},
     "output_type": "execute_result"
    }
   ],
   "source": [
    "df.head()"
   ]
  },
  {
   "cell_type": "markdown",
   "metadata": {},
   "source": [
    "Scale data and split train, validate, test set"
   ]
  },
  {
   "cell_type": "code",
   "execution_count": 123,
   "metadata": {},
   "outputs": [],
   "source": [
    "X = df.drop('label',axis=True)\n",
    "y = df['label']\n",
    "\n",
    "from sklearn.preprocessing import StandardScaler\n",
    "sc = StandardScaler()\n",
    "X = sc.fit_transform(X)\n",
    "\n",
    "X_train,X_test,y_train,y_test = train_test_split(X,y)\n",
    "X_train,X_val,y_train,y_val =train_test_split(X_train,y_train)\n",
    "X_test,X_test1,y_test,y_test1 =train_test_split(X_test,y_test,test_size=0.5)"
   ]
  },
  {
   "cell_type": "markdown",
   "metadata": {},
   "source": [
    "**First model: RFC**"
   ]
  },
  {
   "cell_type": "code",
   "execution_count": 74,
   "metadata": {},
   "outputs": [],
   "source": [
    "rfc = RandomForestClassifier()"
   ]
  },
  {
   "cell_type": "code",
   "execution_count": 75,
   "metadata": {},
   "outputs": [
    {
     "name": "stderr",
     "output_type": "stream",
     "text": [
      "/anaconda3/lib/python3.7/site-packages/sklearn/ensemble/forest.py:246: FutureWarning: The default value of n_estimators will change from 10 in version 0.20 to 100 in 0.22.\n",
      "  \"10 in version 0.20 to 100 in 0.22.\", FutureWarning)\n"
     ]
    },
    {
     "data": {
      "text/plain": [
       "RandomForestClassifier(bootstrap=True, class_weight=None, criterion='gini',\n",
       "            max_depth=None, max_features='auto', max_leaf_nodes=None,\n",
       "            min_impurity_decrease=0.0, min_impurity_split=None,\n",
       "            min_samples_leaf=1, min_samples_split=2,\n",
       "            min_weight_fraction_leaf=0.0, n_estimators=10, n_jobs=None,\n",
       "            oob_score=False, random_state=None, verbose=0,\n",
       "            warm_start=False)"
      ]
     },
     "execution_count": 75,
     "metadata": {},
     "output_type": "execute_result"
    }
   ],
   "source": [
    "rfc.fit(X_train,y_train)"
   ]
  },
  {
   "cell_type": "markdown",
   "metadata": {},
   "source": [
    "Score for each test data"
   ]
  },
  {
   "cell_type": "code",
   "execution_count": 76,
   "metadata": {},
   "outputs": [
    {
     "data": {
      "text/plain": [
       "0.7644041041831097"
      ]
     },
     "execution_count": 76,
     "metadata": {},
     "output_type": "execute_result"
    }
   ],
   "source": [
    "rfc.score(X_val,y_val)"
   ]
  },
  {
   "cell_type": "code",
   "execution_count": 77,
   "metadata": {},
   "outputs": [
    {
     "data": {
      "text/plain": [
       "0.7584369449378331"
      ]
     },
     "execution_count": 77,
     "metadata": {},
     "output_type": "execute_result"
    }
   ],
   "source": [
    "rfc.score(X_test,y_test)"
   ]
  },
  {
   "cell_type": "code",
   "execution_count": 78,
   "metadata": {},
   "outputs": [
    {
     "data": {
      "text/plain": [
       "0.7761989342806395"
      ]
     },
     "execution_count": 78,
     "metadata": {},
     "output_type": "execute_result"
    }
   ],
   "source": [
    "rfc.score(X_test1,y_test1)"
   ]
  },
  {
   "cell_type": "markdown",
   "metadata": {},
   "source": [
    "*plot roc function*"
   ]
  },
  {
   "cell_type": "code",
   "execution_count": 79,
   "metadata": {},
   "outputs": [],
   "source": [
    "from sklearn.metrics import roc_curve\n",
    "from sklearn.metrics import roc_auc_score"
   ]
  },
  {
   "cell_type": "code",
   "execution_count": 80,
   "metadata": {},
   "outputs": [],
   "source": [
    "def plot_roc_curve(fpr, tpr):  \n",
    "    plt.plot(fpr, tpr, color='orange', label='ROC')\n",
    "    plt.plot([0, 1], [0, 1], color='darkblue', linestyle='--')\n",
    "    plt.xlabel('False Positive Rate')\n",
    "    plt.ylabel('True Positive Rate')\n",
    "    plt.title('Receiver Operating Characteristic (ROC) Curve')\n",
    "    plt.legend()\n",
    "    plt.show()"
   ]
  },
  {
   "cell_type": "markdown",
   "metadata": {},
   "source": [
    "*Grid search to improve parameters*"
   ]
  },
  {
   "cell_type": "code",
   "execution_count": 81,
   "metadata": {},
   "outputs": [],
   "source": [
    "from sklearn.model_selection import GridSearchCV"
   ]
  },
  {
   "cell_type": "code",
   "execution_count": 82,
   "metadata": {},
   "outputs": [],
   "source": [
    "param_grid = { \n",
    "    'n_estimators': [400, 500],\n",
    "    'max_features': ['auto', 'sqrt', 'log2'],\n",
    "    'max_depth' : [5,8,10,15],\n",
    "    'criterion' :['gini', 'entropy']\n",
    "}"
   ]
  },
  {
   "cell_type": "code",
   "execution_count": 83,
   "metadata": {},
   "outputs": [
    {
     "ename": "KeyboardInterrupt",
     "evalue": "",
     "output_type": "error",
     "traceback": [
      "\u001b[0;31m---------------------------------------------------------------------------\u001b[0m",
      "\u001b[0;31mKeyboardInterrupt\u001b[0m                         Traceback (most recent call last)",
      "\u001b[0;32m<ipython-input-83-f50120eef1fb>\u001b[0m in \u001b[0;36m<module>\u001b[0;34m\u001b[0m\n\u001b[1;32m      1\u001b[0m \u001b[0mCV_rfc\u001b[0m \u001b[0;34m=\u001b[0m \u001b[0mGridSearchCV\u001b[0m\u001b[0;34m(\u001b[0m\u001b[0mestimator\u001b[0m\u001b[0;34m=\u001b[0m\u001b[0mrfc\u001b[0m\u001b[0;34m,\u001b[0m \u001b[0mparam_grid\u001b[0m\u001b[0;34m=\u001b[0m\u001b[0mparam_grid\u001b[0m\u001b[0;34m,\u001b[0m \u001b[0mcv\u001b[0m\u001b[0;34m=\u001b[0m \u001b[0;36m5\u001b[0m\u001b[0;34m)\u001b[0m\u001b[0;34m\u001b[0m\u001b[0;34m\u001b[0m\u001b[0m\n\u001b[0;32m----> 2\u001b[0;31m \u001b[0mCV_rfc\u001b[0m\u001b[0;34m.\u001b[0m\u001b[0mfit\u001b[0m\u001b[0;34m(\u001b[0m\u001b[0mX_val\u001b[0m\u001b[0;34m,\u001b[0m \u001b[0my_val\u001b[0m\u001b[0;34m)\u001b[0m\u001b[0;34m\u001b[0m\u001b[0;34m\u001b[0m\u001b[0m\n\u001b[0m",
      "\u001b[0;32m/anaconda3/lib/python3.7/site-packages/sklearn/model_selection/_search.py\u001b[0m in \u001b[0;36mfit\u001b[0;34m(self, X, y, groups, **fit_params)\u001b[0m\n\u001b[1;32m    720\u001b[0m                 \u001b[0;32mreturn\u001b[0m \u001b[0mresults_container\u001b[0m\u001b[0;34m[\u001b[0m\u001b[0;36m0\u001b[0m\u001b[0;34m]\u001b[0m\u001b[0;34m\u001b[0m\u001b[0;34m\u001b[0m\u001b[0m\n\u001b[1;32m    721\u001b[0m \u001b[0;34m\u001b[0m\u001b[0m\n\u001b[0;32m--> 722\u001b[0;31m             \u001b[0mself\u001b[0m\u001b[0;34m.\u001b[0m\u001b[0m_run_search\u001b[0m\u001b[0;34m(\u001b[0m\u001b[0mevaluate_candidates\u001b[0m\u001b[0;34m)\u001b[0m\u001b[0;34m\u001b[0m\u001b[0;34m\u001b[0m\u001b[0m\n\u001b[0m\u001b[1;32m    723\u001b[0m \u001b[0;34m\u001b[0m\u001b[0m\n\u001b[1;32m    724\u001b[0m         \u001b[0mresults\u001b[0m \u001b[0;34m=\u001b[0m \u001b[0mresults_container\u001b[0m\u001b[0;34m[\u001b[0m\u001b[0;36m0\u001b[0m\u001b[0;34m]\u001b[0m\u001b[0;34m\u001b[0m\u001b[0;34m\u001b[0m\u001b[0m\n",
      "\u001b[0;32m/anaconda3/lib/python3.7/site-packages/sklearn/model_selection/_search.py\u001b[0m in \u001b[0;36m_run_search\u001b[0;34m(self, evaluate_candidates)\u001b[0m\n\u001b[1;32m   1189\u001b[0m     \u001b[0;32mdef\u001b[0m \u001b[0m_run_search\u001b[0m\u001b[0;34m(\u001b[0m\u001b[0mself\u001b[0m\u001b[0;34m,\u001b[0m \u001b[0mevaluate_candidates\u001b[0m\u001b[0;34m)\u001b[0m\u001b[0;34m:\u001b[0m\u001b[0;34m\u001b[0m\u001b[0;34m\u001b[0m\u001b[0m\n\u001b[1;32m   1190\u001b[0m         \u001b[0;34m\"\"\"Search all candidates in param_grid\"\"\"\u001b[0m\u001b[0;34m\u001b[0m\u001b[0;34m\u001b[0m\u001b[0m\n\u001b[0;32m-> 1191\u001b[0;31m         \u001b[0mevaluate_candidates\u001b[0m\u001b[0;34m(\u001b[0m\u001b[0mParameterGrid\u001b[0m\u001b[0;34m(\u001b[0m\u001b[0mself\u001b[0m\u001b[0;34m.\u001b[0m\u001b[0mparam_grid\u001b[0m\u001b[0;34m)\u001b[0m\u001b[0;34m)\u001b[0m\u001b[0;34m\u001b[0m\u001b[0;34m\u001b[0m\u001b[0m\n\u001b[0m\u001b[1;32m   1192\u001b[0m \u001b[0;34m\u001b[0m\u001b[0m\n\u001b[1;32m   1193\u001b[0m \u001b[0;34m\u001b[0m\u001b[0m\n",
      "\u001b[0;32m/anaconda3/lib/python3.7/site-packages/sklearn/model_selection/_search.py\u001b[0m in \u001b[0;36mevaluate_candidates\u001b[0;34m(candidate_params)\u001b[0m\n\u001b[1;32m    709\u001b[0m                                \u001b[0;32mfor\u001b[0m \u001b[0mparameters\u001b[0m\u001b[0;34m,\u001b[0m \u001b[0;34m(\u001b[0m\u001b[0mtrain\u001b[0m\u001b[0;34m,\u001b[0m \u001b[0mtest\u001b[0m\u001b[0;34m)\u001b[0m\u001b[0;34m\u001b[0m\u001b[0;34m\u001b[0m\u001b[0m\n\u001b[1;32m    710\u001b[0m                                in product(candidate_params,\n\u001b[0;32m--> 711\u001b[0;31m                                           cv.split(X, y, groups)))\n\u001b[0m\u001b[1;32m    712\u001b[0m \u001b[0;34m\u001b[0m\u001b[0m\n\u001b[1;32m    713\u001b[0m                 \u001b[0mall_candidate_params\u001b[0m\u001b[0;34m.\u001b[0m\u001b[0mextend\u001b[0m\u001b[0;34m(\u001b[0m\u001b[0mcandidate_params\u001b[0m\u001b[0;34m)\u001b[0m\u001b[0;34m\u001b[0m\u001b[0;34m\u001b[0m\u001b[0m\n",
      "\u001b[0;32m/anaconda3/lib/python3.7/site-packages/sklearn/externals/joblib/parallel.py\u001b[0m in \u001b[0;36m__call__\u001b[0;34m(self, iterable)\u001b[0m\n\u001b[1;32m    918\u001b[0m                 \u001b[0mself\u001b[0m\u001b[0;34m.\u001b[0m\u001b[0m_iterating\u001b[0m \u001b[0;34m=\u001b[0m \u001b[0mself\u001b[0m\u001b[0;34m.\u001b[0m\u001b[0m_original_iterator\u001b[0m \u001b[0;32mis\u001b[0m \u001b[0;32mnot\u001b[0m \u001b[0;32mNone\u001b[0m\u001b[0;34m\u001b[0m\u001b[0;34m\u001b[0m\u001b[0m\n\u001b[1;32m    919\u001b[0m \u001b[0;34m\u001b[0m\u001b[0m\n\u001b[0;32m--> 920\u001b[0;31m             \u001b[0;32mwhile\u001b[0m \u001b[0mself\u001b[0m\u001b[0;34m.\u001b[0m\u001b[0mdispatch_one_batch\u001b[0m\u001b[0;34m(\u001b[0m\u001b[0miterator\u001b[0m\u001b[0;34m)\u001b[0m\u001b[0;34m:\u001b[0m\u001b[0;34m\u001b[0m\u001b[0;34m\u001b[0m\u001b[0m\n\u001b[0m\u001b[1;32m    921\u001b[0m                 \u001b[0;32mpass\u001b[0m\u001b[0;34m\u001b[0m\u001b[0;34m\u001b[0m\u001b[0m\n\u001b[1;32m    922\u001b[0m \u001b[0;34m\u001b[0m\u001b[0m\n",
      "\u001b[0;32m/anaconda3/lib/python3.7/site-packages/sklearn/externals/joblib/parallel.py\u001b[0m in \u001b[0;36mdispatch_one_batch\u001b[0;34m(self, iterator)\u001b[0m\n\u001b[1;32m    757\u001b[0m                 \u001b[0;32mreturn\u001b[0m \u001b[0;32mFalse\u001b[0m\u001b[0;34m\u001b[0m\u001b[0;34m\u001b[0m\u001b[0m\n\u001b[1;32m    758\u001b[0m             \u001b[0;32melse\u001b[0m\u001b[0;34m:\u001b[0m\u001b[0;34m\u001b[0m\u001b[0;34m\u001b[0m\u001b[0m\n\u001b[0;32m--> 759\u001b[0;31m                 \u001b[0mself\u001b[0m\u001b[0;34m.\u001b[0m\u001b[0m_dispatch\u001b[0m\u001b[0;34m(\u001b[0m\u001b[0mtasks\u001b[0m\u001b[0;34m)\u001b[0m\u001b[0;34m\u001b[0m\u001b[0;34m\u001b[0m\u001b[0m\n\u001b[0m\u001b[1;32m    760\u001b[0m                 \u001b[0;32mreturn\u001b[0m \u001b[0;32mTrue\u001b[0m\u001b[0;34m\u001b[0m\u001b[0;34m\u001b[0m\u001b[0m\n\u001b[1;32m    761\u001b[0m \u001b[0;34m\u001b[0m\u001b[0m\n",
      "\u001b[0;32m/anaconda3/lib/python3.7/site-packages/sklearn/externals/joblib/parallel.py\u001b[0m in \u001b[0;36m_dispatch\u001b[0;34m(self, batch)\u001b[0m\n\u001b[1;32m    714\u001b[0m         \u001b[0;32mwith\u001b[0m \u001b[0mself\u001b[0m\u001b[0;34m.\u001b[0m\u001b[0m_lock\u001b[0m\u001b[0;34m:\u001b[0m\u001b[0;34m\u001b[0m\u001b[0;34m\u001b[0m\u001b[0m\n\u001b[1;32m    715\u001b[0m             \u001b[0mjob_idx\u001b[0m \u001b[0;34m=\u001b[0m \u001b[0mlen\u001b[0m\u001b[0;34m(\u001b[0m\u001b[0mself\u001b[0m\u001b[0;34m.\u001b[0m\u001b[0m_jobs\u001b[0m\u001b[0;34m)\u001b[0m\u001b[0;34m\u001b[0m\u001b[0;34m\u001b[0m\u001b[0m\n\u001b[0;32m--> 716\u001b[0;31m             \u001b[0mjob\u001b[0m \u001b[0;34m=\u001b[0m \u001b[0mself\u001b[0m\u001b[0;34m.\u001b[0m\u001b[0m_backend\u001b[0m\u001b[0;34m.\u001b[0m\u001b[0mapply_async\u001b[0m\u001b[0;34m(\u001b[0m\u001b[0mbatch\u001b[0m\u001b[0;34m,\u001b[0m \u001b[0mcallback\u001b[0m\u001b[0;34m=\u001b[0m\u001b[0mcb\u001b[0m\u001b[0;34m)\u001b[0m\u001b[0;34m\u001b[0m\u001b[0;34m\u001b[0m\u001b[0m\n\u001b[0m\u001b[1;32m    717\u001b[0m             \u001b[0;31m# A job can complete so quickly than its callback is\u001b[0m\u001b[0;34m\u001b[0m\u001b[0;34m\u001b[0m\u001b[0;34m\u001b[0m\u001b[0m\n\u001b[1;32m    718\u001b[0m             \u001b[0;31m# called before we get here, causing self._jobs to\u001b[0m\u001b[0;34m\u001b[0m\u001b[0;34m\u001b[0m\u001b[0;34m\u001b[0m\u001b[0m\n",
      "\u001b[0;32m/anaconda3/lib/python3.7/site-packages/sklearn/externals/joblib/_parallel_backends.py\u001b[0m in \u001b[0;36mapply_async\u001b[0;34m(self, func, callback)\u001b[0m\n\u001b[1;32m    180\u001b[0m     \u001b[0;32mdef\u001b[0m \u001b[0mapply_async\u001b[0m\u001b[0;34m(\u001b[0m\u001b[0mself\u001b[0m\u001b[0;34m,\u001b[0m \u001b[0mfunc\u001b[0m\u001b[0;34m,\u001b[0m \u001b[0mcallback\u001b[0m\u001b[0;34m=\u001b[0m\u001b[0;32mNone\u001b[0m\u001b[0;34m)\u001b[0m\u001b[0;34m:\u001b[0m\u001b[0;34m\u001b[0m\u001b[0;34m\u001b[0m\u001b[0m\n\u001b[1;32m    181\u001b[0m         \u001b[0;34m\"\"\"Schedule a func to be run\"\"\"\u001b[0m\u001b[0;34m\u001b[0m\u001b[0;34m\u001b[0m\u001b[0m\n\u001b[0;32m--> 182\u001b[0;31m         \u001b[0mresult\u001b[0m \u001b[0;34m=\u001b[0m \u001b[0mImmediateResult\u001b[0m\u001b[0;34m(\u001b[0m\u001b[0mfunc\u001b[0m\u001b[0;34m)\u001b[0m\u001b[0;34m\u001b[0m\u001b[0;34m\u001b[0m\u001b[0m\n\u001b[0m\u001b[1;32m    183\u001b[0m         \u001b[0;32mif\u001b[0m \u001b[0mcallback\u001b[0m\u001b[0;34m:\u001b[0m\u001b[0;34m\u001b[0m\u001b[0;34m\u001b[0m\u001b[0m\n\u001b[1;32m    184\u001b[0m             \u001b[0mcallback\u001b[0m\u001b[0;34m(\u001b[0m\u001b[0mresult\u001b[0m\u001b[0;34m)\u001b[0m\u001b[0;34m\u001b[0m\u001b[0;34m\u001b[0m\u001b[0m\n",
      "\u001b[0;32m/anaconda3/lib/python3.7/site-packages/sklearn/externals/joblib/_parallel_backends.py\u001b[0m in \u001b[0;36m__init__\u001b[0;34m(self, batch)\u001b[0m\n\u001b[1;32m    547\u001b[0m         \u001b[0;31m# Don't delay the application, to avoid keeping the input\u001b[0m\u001b[0;34m\u001b[0m\u001b[0;34m\u001b[0m\u001b[0;34m\u001b[0m\u001b[0m\n\u001b[1;32m    548\u001b[0m         \u001b[0;31m# arguments in memory\u001b[0m\u001b[0;34m\u001b[0m\u001b[0;34m\u001b[0m\u001b[0;34m\u001b[0m\u001b[0m\n\u001b[0;32m--> 549\u001b[0;31m         \u001b[0mself\u001b[0m\u001b[0;34m.\u001b[0m\u001b[0mresults\u001b[0m \u001b[0;34m=\u001b[0m \u001b[0mbatch\u001b[0m\u001b[0;34m(\u001b[0m\u001b[0;34m)\u001b[0m\u001b[0;34m\u001b[0m\u001b[0;34m\u001b[0m\u001b[0m\n\u001b[0m\u001b[1;32m    550\u001b[0m \u001b[0;34m\u001b[0m\u001b[0m\n\u001b[1;32m    551\u001b[0m     \u001b[0;32mdef\u001b[0m \u001b[0mget\u001b[0m\u001b[0;34m(\u001b[0m\u001b[0mself\u001b[0m\u001b[0;34m)\u001b[0m\u001b[0;34m:\u001b[0m\u001b[0;34m\u001b[0m\u001b[0;34m\u001b[0m\u001b[0m\n",
      "\u001b[0;32m/anaconda3/lib/python3.7/site-packages/sklearn/externals/joblib/parallel.py\u001b[0m in \u001b[0;36m__call__\u001b[0;34m(self)\u001b[0m\n\u001b[1;32m    223\u001b[0m         \u001b[0;32mwith\u001b[0m \u001b[0mparallel_backend\u001b[0m\u001b[0;34m(\u001b[0m\u001b[0mself\u001b[0m\u001b[0;34m.\u001b[0m\u001b[0m_backend\u001b[0m\u001b[0;34m,\u001b[0m \u001b[0mn_jobs\u001b[0m\u001b[0;34m=\u001b[0m\u001b[0mself\u001b[0m\u001b[0;34m.\u001b[0m\u001b[0m_n_jobs\u001b[0m\u001b[0;34m)\u001b[0m\u001b[0;34m:\u001b[0m\u001b[0;34m\u001b[0m\u001b[0;34m\u001b[0m\u001b[0m\n\u001b[1;32m    224\u001b[0m             return [func(*args, **kwargs)\n\u001b[0;32m--> 225\u001b[0;31m                     for func, args, kwargs in self.items]\n\u001b[0m\u001b[1;32m    226\u001b[0m \u001b[0;34m\u001b[0m\u001b[0m\n\u001b[1;32m    227\u001b[0m     \u001b[0;32mdef\u001b[0m \u001b[0m__len__\u001b[0m\u001b[0;34m(\u001b[0m\u001b[0mself\u001b[0m\u001b[0;34m)\u001b[0m\u001b[0;34m:\u001b[0m\u001b[0;34m\u001b[0m\u001b[0;34m\u001b[0m\u001b[0m\n",
      "\u001b[0;32m/anaconda3/lib/python3.7/site-packages/sklearn/externals/joblib/parallel.py\u001b[0m in \u001b[0;36m<listcomp>\u001b[0;34m(.0)\u001b[0m\n\u001b[1;32m    223\u001b[0m         \u001b[0;32mwith\u001b[0m \u001b[0mparallel_backend\u001b[0m\u001b[0;34m(\u001b[0m\u001b[0mself\u001b[0m\u001b[0;34m.\u001b[0m\u001b[0m_backend\u001b[0m\u001b[0;34m,\u001b[0m \u001b[0mn_jobs\u001b[0m\u001b[0;34m=\u001b[0m\u001b[0mself\u001b[0m\u001b[0;34m.\u001b[0m\u001b[0m_n_jobs\u001b[0m\u001b[0;34m)\u001b[0m\u001b[0;34m:\u001b[0m\u001b[0;34m\u001b[0m\u001b[0;34m\u001b[0m\u001b[0m\n\u001b[1;32m    224\u001b[0m             return [func(*args, **kwargs)\n\u001b[0;32m--> 225\u001b[0;31m                     for func, args, kwargs in self.items]\n\u001b[0m\u001b[1;32m    226\u001b[0m \u001b[0;34m\u001b[0m\u001b[0m\n\u001b[1;32m    227\u001b[0m     \u001b[0;32mdef\u001b[0m \u001b[0m__len__\u001b[0m\u001b[0;34m(\u001b[0m\u001b[0mself\u001b[0m\u001b[0;34m)\u001b[0m\u001b[0;34m:\u001b[0m\u001b[0;34m\u001b[0m\u001b[0;34m\u001b[0m\u001b[0m\n",
      "\u001b[0;32m/anaconda3/lib/python3.7/site-packages/sklearn/model_selection/_validation.py\u001b[0m in \u001b[0;36m_fit_and_score\u001b[0;34m(estimator, X, y, scorer, train, test, verbose, parameters, fit_params, return_train_score, return_parameters, return_n_test_samples, return_times, return_estimator, error_score)\u001b[0m\n\u001b[1;32m    526\u001b[0m             \u001b[0mestimator\u001b[0m\u001b[0;34m.\u001b[0m\u001b[0mfit\u001b[0m\u001b[0;34m(\u001b[0m\u001b[0mX_train\u001b[0m\u001b[0;34m,\u001b[0m \u001b[0;34m**\u001b[0m\u001b[0mfit_params\u001b[0m\u001b[0;34m)\u001b[0m\u001b[0;34m\u001b[0m\u001b[0;34m\u001b[0m\u001b[0m\n\u001b[1;32m    527\u001b[0m         \u001b[0;32melse\u001b[0m\u001b[0;34m:\u001b[0m\u001b[0;34m\u001b[0m\u001b[0;34m\u001b[0m\u001b[0m\n\u001b[0;32m--> 528\u001b[0;31m             \u001b[0mestimator\u001b[0m\u001b[0;34m.\u001b[0m\u001b[0mfit\u001b[0m\u001b[0;34m(\u001b[0m\u001b[0mX_train\u001b[0m\u001b[0;34m,\u001b[0m \u001b[0my_train\u001b[0m\u001b[0;34m,\u001b[0m \u001b[0;34m**\u001b[0m\u001b[0mfit_params\u001b[0m\u001b[0;34m)\u001b[0m\u001b[0;34m\u001b[0m\u001b[0;34m\u001b[0m\u001b[0m\n\u001b[0m\u001b[1;32m    529\u001b[0m \u001b[0;34m\u001b[0m\u001b[0m\n\u001b[1;32m    530\u001b[0m     \u001b[0;32mexcept\u001b[0m \u001b[0mException\u001b[0m \u001b[0;32mas\u001b[0m \u001b[0me\u001b[0m\u001b[0;34m:\u001b[0m\u001b[0;34m\u001b[0m\u001b[0;34m\u001b[0m\u001b[0m\n",
      "\u001b[0;32m/anaconda3/lib/python3.7/site-packages/sklearn/ensemble/forest.py\u001b[0m in \u001b[0;36mfit\u001b[0;34m(self, X, y, sample_weight)\u001b[0m\n\u001b[1;32m    331\u001b[0m                     \u001b[0mt\u001b[0m\u001b[0;34m,\u001b[0m \u001b[0mself\u001b[0m\u001b[0;34m,\u001b[0m \u001b[0mX\u001b[0m\u001b[0;34m,\u001b[0m \u001b[0my\u001b[0m\u001b[0;34m,\u001b[0m \u001b[0msample_weight\u001b[0m\u001b[0;34m,\u001b[0m \u001b[0mi\u001b[0m\u001b[0;34m,\u001b[0m \u001b[0mlen\u001b[0m\u001b[0;34m(\u001b[0m\u001b[0mtrees\u001b[0m\u001b[0;34m)\u001b[0m\u001b[0;34m,\u001b[0m\u001b[0;34m\u001b[0m\u001b[0;34m\u001b[0m\u001b[0m\n\u001b[1;32m    332\u001b[0m                     verbose=self.verbose, class_weight=self.class_weight)\n\u001b[0;32m--> 333\u001b[0;31m                 for i, t in enumerate(trees))\n\u001b[0m\u001b[1;32m    334\u001b[0m \u001b[0;34m\u001b[0m\u001b[0m\n\u001b[1;32m    335\u001b[0m             \u001b[0;31m# Collect newly grown trees\u001b[0m\u001b[0;34m\u001b[0m\u001b[0;34m\u001b[0m\u001b[0;34m\u001b[0m\u001b[0m\n",
      "\u001b[0;32m/anaconda3/lib/python3.7/site-packages/sklearn/externals/joblib/parallel.py\u001b[0m in \u001b[0;36m__call__\u001b[0;34m(self, iterable)\u001b[0m\n\u001b[1;32m    918\u001b[0m                 \u001b[0mself\u001b[0m\u001b[0;34m.\u001b[0m\u001b[0m_iterating\u001b[0m \u001b[0;34m=\u001b[0m \u001b[0mself\u001b[0m\u001b[0;34m.\u001b[0m\u001b[0m_original_iterator\u001b[0m \u001b[0;32mis\u001b[0m \u001b[0;32mnot\u001b[0m \u001b[0;32mNone\u001b[0m\u001b[0;34m\u001b[0m\u001b[0;34m\u001b[0m\u001b[0m\n\u001b[1;32m    919\u001b[0m \u001b[0;34m\u001b[0m\u001b[0m\n\u001b[0;32m--> 920\u001b[0;31m             \u001b[0;32mwhile\u001b[0m \u001b[0mself\u001b[0m\u001b[0;34m.\u001b[0m\u001b[0mdispatch_one_batch\u001b[0m\u001b[0;34m(\u001b[0m\u001b[0miterator\u001b[0m\u001b[0;34m)\u001b[0m\u001b[0;34m:\u001b[0m\u001b[0;34m\u001b[0m\u001b[0;34m\u001b[0m\u001b[0m\n\u001b[0m\u001b[1;32m    921\u001b[0m                 \u001b[0;32mpass\u001b[0m\u001b[0;34m\u001b[0m\u001b[0;34m\u001b[0m\u001b[0m\n\u001b[1;32m    922\u001b[0m \u001b[0;34m\u001b[0m\u001b[0m\n",
      "\u001b[0;32m/anaconda3/lib/python3.7/site-packages/sklearn/externals/joblib/parallel.py\u001b[0m in \u001b[0;36mdispatch_one_batch\u001b[0;34m(self, iterator)\u001b[0m\n\u001b[1;32m    757\u001b[0m                 \u001b[0;32mreturn\u001b[0m \u001b[0;32mFalse\u001b[0m\u001b[0;34m\u001b[0m\u001b[0;34m\u001b[0m\u001b[0m\n\u001b[1;32m    758\u001b[0m             \u001b[0;32melse\u001b[0m\u001b[0;34m:\u001b[0m\u001b[0;34m\u001b[0m\u001b[0;34m\u001b[0m\u001b[0m\n\u001b[0;32m--> 759\u001b[0;31m                 \u001b[0mself\u001b[0m\u001b[0;34m.\u001b[0m\u001b[0m_dispatch\u001b[0m\u001b[0;34m(\u001b[0m\u001b[0mtasks\u001b[0m\u001b[0;34m)\u001b[0m\u001b[0;34m\u001b[0m\u001b[0;34m\u001b[0m\u001b[0m\n\u001b[0m\u001b[1;32m    760\u001b[0m                 \u001b[0;32mreturn\u001b[0m \u001b[0;32mTrue\u001b[0m\u001b[0;34m\u001b[0m\u001b[0;34m\u001b[0m\u001b[0m\n\u001b[1;32m    761\u001b[0m \u001b[0;34m\u001b[0m\u001b[0m\n",
      "\u001b[0;32m/anaconda3/lib/python3.7/site-packages/sklearn/externals/joblib/parallel.py\u001b[0m in \u001b[0;36m_dispatch\u001b[0;34m(self, batch)\u001b[0m\n\u001b[1;32m    714\u001b[0m         \u001b[0;32mwith\u001b[0m \u001b[0mself\u001b[0m\u001b[0;34m.\u001b[0m\u001b[0m_lock\u001b[0m\u001b[0;34m:\u001b[0m\u001b[0;34m\u001b[0m\u001b[0;34m\u001b[0m\u001b[0m\n\u001b[1;32m    715\u001b[0m             \u001b[0mjob_idx\u001b[0m \u001b[0;34m=\u001b[0m \u001b[0mlen\u001b[0m\u001b[0;34m(\u001b[0m\u001b[0mself\u001b[0m\u001b[0;34m.\u001b[0m\u001b[0m_jobs\u001b[0m\u001b[0;34m)\u001b[0m\u001b[0;34m\u001b[0m\u001b[0;34m\u001b[0m\u001b[0m\n\u001b[0;32m--> 716\u001b[0;31m             \u001b[0mjob\u001b[0m \u001b[0;34m=\u001b[0m \u001b[0mself\u001b[0m\u001b[0;34m.\u001b[0m\u001b[0m_backend\u001b[0m\u001b[0;34m.\u001b[0m\u001b[0mapply_async\u001b[0m\u001b[0;34m(\u001b[0m\u001b[0mbatch\u001b[0m\u001b[0;34m,\u001b[0m \u001b[0mcallback\u001b[0m\u001b[0;34m=\u001b[0m\u001b[0mcb\u001b[0m\u001b[0;34m)\u001b[0m\u001b[0;34m\u001b[0m\u001b[0;34m\u001b[0m\u001b[0m\n\u001b[0m\u001b[1;32m    717\u001b[0m             \u001b[0;31m# A job can complete so quickly than its callback is\u001b[0m\u001b[0;34m\u001b[0m\u001b[0;34m\u001b[0m\u001b[0;34m\u001b[0m\u001b[0m\n\u001b[1;32m    718\u001b[0m             \u001b[0;31m# called before we get here, causing self._jobs to\u001b[0m\u001b[0;34m\u001b[0m\u001b[0;34m\u001b[0m\u001b[0;34m\u001b[0m\u001b[0m\n",
      "\u001b[0;32m/anaconda3/lib/python3.7/site-packages/sklearn/externals/joblib/_parallel_backends.py\u001b[0m in \u001b[0;36mapply_async\u001b[0;34m(self, func, callback)\u001b[0m\n\u001b[1;32m    180\u001b[0m     \u001b[0;32mdef\u001b[0m \u001b[0mapply_async\u001b[0m\u001b[0;34m(\u001b[0m\u001b[0mself\u001b[0m\u001b[0;34m,\u001b[0m \u001b[0mfunc\u001b[0m\u001b[0;34m,\u001b[0m \u001b[0mcallback\u001b[0m\u001b[0;34m=\u001b[0m\u001b[0;32mNone\u001b[0m\u001b[0;34m)\u001b[0m\u001b[0;34m:\u001b[0m\u001b[0;34m\u001b[0m\u001b[0;34m\u001b[0m\u001b[0m\n\u001b[1;32m    181\u001b[0m         \u001b[0;34m\"\"\"Schedule a func to be run\"\"\"\u001b[0m\u001b[0;34m\u001b[0m\u001b[0;34m\u001b[0m\u001b[0m\n\u001b[0;32m--> 182\u001b[0;31m         \u001b[0mresult\u001b[0m \u001b[0;34m=\u001b[0m \u001b[0mImmediateResult\u001b[0m\u001b[0;34m(\u001b[0m\u001b[0mfunc\u001b[0m\u001b[0;34m)\u001b[0m\u001b[0;34m\u001b[0m\u001b[0;34m\u001b[0m\u001b[0m\n\u001b[0m\u001b[1;32m    183\u001b[0m         \u001b[0;32mif\u001b[0m \u001b[0mcallback\u001b[0m\u001b[0;34m:\u001b[0m\u001b[0;34m\u001b[0m\u001b[0;34m\u001b[0m\u001b[0m\n\u001b[1;32m    184\u001b[0m             \u001b[0mcallback\u001b[0m\u001b[0;34m(\u001b[0m\u001b[0mresult\u001b[0m\u001b[0;34m)\u001b[0m\u001b[0;34m\u001b[0m\u001b[0;34m\u001b[0m\u001b[0m\n",
      "\u001b[0;32m/anaconda3/lib/python3.7/site-packages/sklearn/externals/joblib/_parallel_backends.py\u001b[0m in \u001b[0;36m__init__\u001b[0;34m(self, batch)\u001b[0m\n\u001b[1;32m    547\u001b[0m         \u001b[0;31m# Don't delay the application, to avoid keeping the input\u001b[0m\u001b[0;34m\u001b[0m\u001b[0;34m\u001b[0m\u001b[0;34m\u001b[0m\u001b[0m\n\u001b[1;32m    548\u001b[0m         \u001b[0;31m# arguments in memory\u001b[0m\u001b[0;34m\u001b[0m\u001b[0;34m\u001b[0m\u001b[0;34m\u001b[0m\u001b[0m\n\u001b[0;32m--> 549\u001b[0;31m         \u001b[0mself\u001b[0m\u001b[0;34m.\u001b[0m\u001b[0mresults\u001b[0m \u001b[0;34m=\u001b[0m \u001b[0mbatch\u001b[0m\u001b[0;34m(\u001b[0m\u001b[0;34m)\u001b[0m\u001b[0;34m\u001b[0m\u001b[0;34m\u001b[0m\u001b[0m\n\u001b[0m\u001b[1;32m    550\u001b[0m \u001b[0;34m\u001b[0m\u001b[0m\n\u001b[1;32m    551\u001b[0m     \u001b[0;32mdef\u001b[0m \u001b[0mget\u001b[0m\u001b[0;34m(\u001b[0m\u001b[0mself\u001b[0m\u001b[0;34m)\u001b[0m\u001b[0;34m:\u001b[0m\u001b[0;34m\u001b[0m\u001b[0;34m\u001b[0m\u001b[0m\n",
      "\u001b[0;32m/anaconda3/lib/python3.7/site-packages/sklearn/externals/joblib/parallel.py\u001b[0m in \u001b[0;36m__call__\u001b[0;34m(self)\u001b[0m\n\u001b[1;32m    223\u001b[0m         \u001b[0;32mwith\u001b[0m \u001b[0mparallel_backend\u001b[0m\u001b[0;34m(\u001b[0m\u001b[0mself\u001b[0m\u001b[0;34m.\u001b[0m\u001b[0m_backend\u001b[0m\u001b[0;34m,\u001b[0m \u001b[0mn_jobs\u001b[0m\u001b[0;34m=\u001b[0m\u001b[0mself\u001b[0m\u001b[0;34m.\u001b[0m\u001b[0m_n_jobs\u001b[0m\u001b[0;34m)\u001b[0m\u001b[0;34m:\u001b[0m\u001b[0;34m\u001b[0m\u001b[0;34m\u001b[0m\u001b[0m\n\u001b[1;32m    224\u001b[0m             return [func(*args, **kwargs)\n\u001b[0;32m--> 225\u001b[0;31m                     for func, args, kwargs in self.items]\n\u001b[0m\u001b[1;32m    226\u001b[0m \u001b[0;34m\u001b[0m\u001b[0m\n\u001b[1;32m    227\u001b[0m     \u001b[0;32mdef\u001b[0m \u001b[0m__len__\u001b[0m\u001b[0;34m(\u001b[0m\u001b[0mself\u001b[0m\u001b[0;34m)\u001b[0m\u001b[0;34m:\u001b[0m\u001b[0;34m\u001b[0m\u001b[0;34m\u001b[0m\u001b[0m\n",
      "\u001b[0;32m/anaconda3/lib/python3.7/site-packages/sklearn/externals/joblib/parallel.py\u001b[0m in \u001b[0;36m<listcomp>\u001b[0;34m(.0)\u001b[0m\n\u001b[1;32m    223\u001b[0m         \u001b[0;32mwith\u001b[0m \u001b[0mparallel_backend\u001b[0m\u001b[0;34m(\u001b[0m\u001b[0mself\u001b[0m\u001b[0;34m.\u001b[0m\u001b[0m_backend\u001b[0m\u001b[0;34m,\u001b[0m \u001b[0mn_jobs\u001b[0m\u001b[0;34m=\u001b[0m\u001b[0mself\u001b[0m\u001b[0;34m.\u001b[0m\u001b[0m_n_jobs\u001b[0m\u001b[0;34m)\u001b[0m\u001b[0;34m:\u001b[0m\u001b[0;34m\u001b[0m\u001b[0;34m\u001b[0m\u001b[0m\n\u001b[1;32m    224\u001b[0m             return [func(*args, **kwargs)\n\u001b[0;32m--> 225\u001b[0;31m                     for func, args, kwargs in self.items]\n\u001b[0m\u001b[1;32m    226\u001b[0m \u001b[0;34m\u001b[0m\u001b[0m\n\u001b[1;32m    227\u001b[0m     \u001b[0;32mdef\u001b[0m \u001b[0m__len__\u001b[0m\u001b[0;34m(\u001b[0m\u001b[0mself\u001b[0m\u001b[0;34m)\u001b[0m\u001b[0;34m:\u001b[0m\u001b[0;34m\u001b[0m\u001b[0;34m\u001b[0m\u001b[0m\n",
      "\u001b[0;32m/anaconda3/lib/python3.7/site-packages/sklearn/ensemble/forest.py\u001b[0m in \u001b[0;36m_parallel_build_trees\u001b[0;34m(tree, forest, X, y, sample_weight, tree_idx, n_trees, verbose, class_weight)\u001b[0m\n\u001b[1;32m    117\u001b[0m             \u001b[0mcurr_sample_weight\u001b[0m \u001b[0;34m*=\u001b[0m \u001b[0mcompute_sample_weight\u001b[0m\u001b[0;34m(\u001b[0m\u001b[0;34m'balanced'\u001b[0m\u001b[0;34m,\u001b[0m \u001b[0my\u001b[0m\u001b[0;34m,\u001b[0m \u001b[0mindices\u001b[0m\u001b[0;34m)\u001b[0m\u001b[0;34m\u001b[0m\u001b[0;34m\u001b[0m\u001b[0m\n\u001b[1;32m    118\u001b[0m \u001b[0;34m\u001b[0m\u001b[0m\n\u001b[0;32m--> 119\u001b[0;31m         \u001b[0mtree\u001b[0m\u001b[0;34m.\u001b[0m\u001b[0mfit\u001b[0m\u001b[0;34m(\u001b[0m\u001b[0mX\u001b[0m\u001b[0;34m,\u001b[0m \u001b[0my\u001b[0m\u001b[0;34m,\u001b[0m \u001b[0msample_weight\u001b[0m\u001b[0;34m=\u001b[0m\u001b[0mcurr_sample_weight\u001b[0m\u001b[0;34m,\u001b[0m \u001b[0mcheck_input\u001b[0m\u001b[0;34m=\u001b[0m\u001b[0;32mFalse\u001b[0m\u001b[0;34m)\u001b[0m\u001b[0;34m\u001b[0m\u001b[0;34m\u001b[0m\u001b[0m\n\u001b[0m\u001b[1;32m    120\u001b[0m     \u001b[0;32melse\u001b[0m\u001b[0;34m:\u001b[0m\u001b[0;34m\u001b[0m\u001b[0;34m\u001b[0m\u001b[0m\n\u001b[1;32m    121\u001b[0m         \u001b[0mtree\u001b[0m\u001b[0;34m.\u001b[0m\u001b[0mfit\u001b[0m\u001b[0;34m(\u001b[0m\u001b[0mX\u001b[0m\u001b[0;34m,\u001b[0m \u001b[0my\u001b[0m\u001b[0;34m,\u001b[0m \u001b[0msample_weight\u001b[0m\u001b[0;34m=\u001b[0m\u001b[0msample_weight\u001b[0m\u001b[0;34m,\u001b[0m \u001b[0mcheck_input\u001b[0m\u001b[0;34m=\u001b[0m\u001b[0;32mFalse\u001b[0m\u001b[0;34m)\u001b[0m\u001b[0;34m\u001b[0m\u001b[0;34m\u001b[0m\u001b[0m\n",
      "\u001b[0;32m/anaconda3/lib/python3.7/site-packages/sklearn/tree/tree.py\u001b[0m in \u001b[0;36mfit\u001b[0;34m(self, X, y, sample_weight, check_input, X_idx_sorted)\u001b[0m\n\u001b[1;32m    799\u001b[0m             \u001b[0msample_weight\u001b[0m\u001b[0;34m=\u001b[0m\u001b[0msample_weight\u001b[0m\u001b[0;34m,\u001b[0m\u001b[0;34m\u001b[0m\u001b[0;34m\u001b[0m\u001b[0m\n\u001b[1;32m    800\u001b[0m             \u001b[0mcheck_input\u001b[0m\u001b[0;34m=\u001b[0m\u001b[0mcheck_input\u001b[0m\u001b[0;34m,\u001b[0m\u001b[0;34m\u001b[0m\u001b[0;34m\u001b[0m\u001b[0m\n\u001b[0;32m--> 801\u001b[0;31m             X_idx_sorted=X_idx_sorted)\n\u001b[0m\u001b[1;32m    802\u001b[0m         \u001b[0;32mreturn\u001b[0m \u001b[0mself\u001b[0m\u001b[0;34m\u001b[0m\u001b[0;34m\u001b[0m\u001b[0m\n\u001b[1;32m    803\u001b[0m \u001b[0;34m\u001b[0m\u001b[0m\n",
      "\u001b[0;32m/anaconda3/lib/python3.7/site-packages/sklearn/tree/tree.py\u001b[0m in \u001b[0;36mfit\u001b[0;34m(self, X, y, sample_weight, check_input, X_idx_sorted)\u001b[0m\n\u001b[1;32m    364\u001b[0m                                            min_impurity_split)\n\u001b[1;32m    365\u001b[0m \u001b[0;34m\u001b[0m\u001b[0m\n\u001b[0;32m--> 366\u001b[0;31m         \u001b[0mbuilder\u001b[0m\u001b[0;34m.\u001b[0m\u001b[0mbuild\u001b[0m\u001b[0;34m(\u001b[0m\u001b[0mself\u001b[0m\u001b[0;34m.\u001b[0m\u001b[0mtree_\u001b[0m\u001b[0;34m,\u001b[0m \u001b[0mX\u001b[0m\u001b[0;34m,\u001b[0m \u001b[0my\u001b[0m\u001b[0;34m,\u001b[0m \u001b[0msample_weight\u001b[0m\u001b[0;34m,\u001b[0m \u001b[0mX_idx_sorted\u001b[0m\u001b[0;34m)\u001b[0m\u001b[0;34m\u001b[0m\u001b[0;34m\u001b[0m\u001b[0m\n\u001b[0m\u001b[1;32m    367\u001b[0m \u001b[0;34m\u001b[0m\u001b[0m\n\u001b[1;32m    368\u001b[0m         \u001b[0;32mif\u001b[0m \u001b[0mself\u001b[0m\u001b[0;34m.\u001b[0m\u001b[0mn_outputs_\u001b[0m \u001b[0;34m==\u001b[0m \u001b[0;36m1\u001b[0m\u001b[0;34m:\u001b[0m\u001b[0;34m\u001b[0m\u001b[0;34m\u001b[0m\u001b[0m\n",
      "\u001b[0;31mKeyboardInterrupt\u001b[0m: "
     ]
    }
   ],
   "source": [
    "CV_rfc = GridSearchCV(estimator=rfc, param_grid=param_grid, cv= 5)\n",
    "CV_rfc.fit(X_val, y_val)"
   ]
  },
  {
   "cell_type": "code",
   "execution_count": 101,
   "metadata": {},
   "outputs": [
    {
     "data": {
      "text/plain": [
       "{'criterion': 'entropy',\n",
       " 'max_depth': 15,\n",
       " 'max_features': 'sqrt',\n",
       " 'n_estimators': 500}"
      ]
     },
     "execution_count": 101,
     "metadata": {},
     "output_type": "execute_result"
    }
   ],
   "source": [
    "CV_rfc.best_params_"
   ]
  },
  {
   "cell_type": "markdown",
   "metadata": {},
   "source": [
    "Fit new RFC with new parameters"
   ]
  },
  {
   "cell_type": "code",
   "execution_count": 84,
   "metadata": {},
   "outputs": [],
   "source": [
    "rfc1 = RandomForestClassifier(criterion='entropy',max_depth=15,max_features='sqrt',n_estimators=500)"
   ]
  },
  {
   "cell_type": "code",
   "execution_count": 85,
   "metadata": {},
   "outputs": [
    {
     "data": {
      "text/plain": [
       "0.7636148382004736"
      ]
     },
     "execution_count": 85,
     "metadata": {},
     "output_type": "execute_result"
    }
   ],
   "source": [
    "rfc1.fit(X_test,y_test)\n",
    "rfc1.score(X_val,y_val)"
   ]
  },
  {
   "cell_type": "code",
   "execution_count": 86,
   "metadata": {},
   "outputs": [
    {
     "data": {
      "text/plain": [
       "0.9994079336885732"
      ]
     },
     "execution_count": 86,
     "metadata": {},
     "output_type": "execute_result"
    }
   ],
   "source": [
    "rfc1.score(X_test,y_test)"
   ]
  },
  {
   "cell_type": "code",
   "execution_count": 87,
   "metadata": {},
   "outputs": [
    {
     "data": {
      "text/plain": [
       "0.7809354647720544"
      ]
     },
     "execution_count": 87,
     "metadata": {},
     "output_type": "execute_result"
    }
   ],
   "source": [
    "rfc1.score(X_test1,y_test1)"
   ]
  },
  {
   "cell_type": "markdown",
   "metadata": {},
   "source": [
    "Seem the model is really fit with the test data. So we use test_1 predict for the evaluate"
   ]
  },
  {
   "cell_type": "code",
   "execution_count": 88,
   "metadata": {},
   "outputs": [],
   "source": [
    "probs = rfc1.predict_proba(X_test1)[:,1]"
   ]
  },
  {
   "cell_type": "code",
   "execution_count": 89,
   "metadata": {},
   "outputs": [
    {
     "data": {
      "text/plain": [
       "0.7078307102692174"
      ]
     },
     "execution_count": 89,
     "metadata": {},
     "output_type": "execute_result"
    }
   ],
   "source": [
    "roc_auc_score(y_test1,probs)"
   ]
  },
  {
   "cell_type": "code",
   "execution_count": 91,
   "metadata": {},
   "outputs": [
    {
     "data": {
      "image/png": "[encoded data removed]",
      "text/plain": [
       "<Figure size 432x288 with 1 Axes>"
      ]
     },
     "metadata": {
      "needs_background": "light"
     },
     "output_type": "display_data"
    }
   ],
   "source": [
    "fpr, tpr, thresholds = roc_curve(y_test1, probs)\n",
    "plot_roc_curve(fpr, tpr)  "
   ]
  },
  {
   "cell_type": "markdown",
   "metadata": {},
   "source": [
    "**Model 2: XGB Classifier**"
   ]
  },
  {
   "cell_type": "code",
   "execution_count": 92,
   "metadata": {},
   "outputs": [],
   "source": [
    "from xgboost import XGBClassifier\n",
    "xgb = XGBClassifier()"
   ]
  },
  {
   "cell_type": "code",
   "execution_count": 93,
   "metadata": {},
   "outputs": [
    {
     "data": {
      "text/plain": [
       "XGBClassifier(base_score=0.5, booster='gbtree', colsample_bylevel=1,\n",
       "       colsample_bynode=1, colsample_bytree=1, gamma=0, learning_rate=0.1,\n",
       "       max_delta_step=0, max_depth=3, min_child_weight=1, missing=None,\n",
       "       n_estimators=100, n_jobs=1, nthread=None,\n",
       "       objective='binary:logistic', random_state=0, reg_alpha=0,\n",
       "       reg_lambda=1, scale_pos_weight=1, seed=None, silent=None,\n",
       "       subsample=1, verbosity=1)"
      ]
     },
     "execution_count": 93,
     "metadata": {},
     "output_type": "execute_result"
    }
   ],
   "source": [
    "xgb.fit(X_train,y_train)"
   ]
  },
  {
   "cell_type": "code",
   "execution_count": 94,
   "metadata": {},
   "outputs": [
    {
     "data": {
      "text/plain": [
       "0.7797947908445146"
      ]
     },
     "execution_count": 94,
     "metadata": {},
     "output_type": "execute_result"
    }
   ],
   "source": [
    "xgb.score(X_val,y_val)"
   ]
  },
  {
   "cell_type": "code",
   "execution_count": 95,
   "metadata": {},
   "outputs": [
    {
     "data": {
      "text/plain": [
       "0.7809354647720544"
      ]
     },
     "execution_count": 95,
     "metadata": {},
     "output_type": "execute_result"
    }
   ],
   "source": [
    "xgb.score(X_test,y_test)"
   ]
  },
  {
   "cell_type": "code",
   "execution_count": 96,
   "metadata": {},
   "outputs": [
    {
     "data": {
      "text/plain": [
       "0.7910005920663115"
      ]
     },
     "execution_count": 96,
     "metadata": {},
     "output_type": "execute_result"
    }
   ],
   "source": [
    "xgb.score(X_test1,y_test1)"
   ]
  },
  {
   "cell_type": "code",
   "execution_count": 97,
   "metadata": {},
   "outputs": [],
   "source": [
    "probs = xgb.predict_proba(X_test)[:, 1]"
   ]
  },
  {
   "cell_type": "code",
   "execution_count": 98,
   "metadata": {},
   "outputs": [
    {
     "data": {
      "text/plain": [
       "0.7139363176667985"
      ]
     },
     "execution_count": 98,
     "metadata": {},
     "output_type": "execute_result"
    }
   ],
   "source": [
    "roc_auc_score(y_test, probs)  "
   ]
  },
  {
   "cell_type": "code",
   "execution_count": 99,
   "metadata": {},
   "outputs": [
    {
     "data": {
      "image/png": "[encoded data removed]",
      "text/plain": [
       "<Figure size 432x288 with 1 Axes>"
      ]
     },
     "metadata": {
      "needs_background": "light"
     },
     "output_type": "display_data"
    }
   ],
   "source": [
    "fpr, tpr, thresholds = roc_curve(y_test, probs)\n",
    "plot_roc_curve(fpr, tpr)  "
   ]
  },
  {
   "cell_type": "code",
   "execution_count": 100,
   "metadata": {},
   "outputs": [],
   "source": [
    "Feature_important = pd.DataFrame(columns=df.drop('label',axis=True).columns)\n",
    "Feature_important.loc['Important'] = rfc1.feature_importances_"
   ]
  },
  {
   "cell_type": "code",
   "execution_count": 101,
   "metadata": {},
   "outputs": [
    {
     "data": {
      "text/html": [
       "<div>\n",
       "<style scoped>\n",
       "    .dataframe tbody tr th:only-of-type {\n",
       "        vertical-align: middle;\n",
       "    }\n",
       "\n",
       "    .dataframe tbody tr th {\n",
       "        vertical-align: top;\n",
       "    }\n",
       "\n",
       "    .dataframe thead th {\n",
       "        text-align: right;\n",
       "    }\n",
       "</style>\n",
       "<table border=\"1\" class=\"dataframe\">\n",
       "  <thead>\n",
       "    <tr style=\"text-align: right;\">\n",
       "      <th></th>\n",
       "      <th>distance</th>\n",
       "      <th>second</th>\n",
       "      <th>('quantile_25', 'Bearing')</th>\n",
       "      <th>('quantile_25', 'Bearing_diff')</th>\n",
       "      <th>('quantile_25', 'Speed')</th>\n",
       "      <th>('quantile_25', 'Speed_diff')</th>\n",
       "      <th>('quantile_25', 'compAngleX')</th>\n",
       "      <th>('quantile_25', 'compAngleY')</th>\n",
       "      <th>('quantile_5', 'Bearing')</th>\n",
       "      <th>('quantile_5', 'Bearing_diff')</th>\n",
       "      <th>...</th>\n",
       "      <th>('amin', 'Speed')</th>\n",
       "      <th>('amin', 'Speed_diff')</th>\n",
       "      <th>('amin', 'compAngleX')</th>\n",
       "      <th>('amin', 'compAngleY')</th>\n",
       "      <th>('amax', 'Bearing')</th>\n",
       "      <th>('amax', 'Bearing_diff')</th>\n",
       "      <th>('amax', 'Speed')</th>\n",
       "      <th>('amax', 'Speed_diff')</th>\n",
       "      <th>('amax', 'compAngleX')</th>\n",
       "      <th>('amax', 'compAngleY')</th>\n",
       "    </tr>\n",
       "  </thead>\n",
       "  <tbody>\n",
       "    <tr>\n",
       "      <th>Important</th>\n",
       "      <td>0.024023</td>\n",
       "      <td>0.055251</td>\n",
       "      <td>0.01637</td>\n",
       "      <td>0.004711</td>\n",
       "      <td>0.012451</td>\n",
       "      <td>0.018537</td>\n",
       "      <td>0.017717</td>\n",
       "      <td>0.015391</td>\n",
       "      <td>0.018188</td>\n",
       "      <td>0.000206</td>\n",
       "      <td>...</td>\n",
       "      <td>0.001596</td>\n",
       "      <td>0.023701</td>\n",
       "      <td>0.020227</td>\n",
       "      <td>0.021931</td>\n",
       "      <td>0.013553</td>\n",
       "      <td>0.016604</td>\n",
       "      <td>0.026367</td>\n",
       "      <td>0.028749</td>\n",
       "      <td>0.022907</td>\n",
       "      <td>0.02679</td>\n",
       "    </tr>\n",
       "  </tbody>\n",
       "</table>\n",
       "<p>1 rows × 56 columns</p>\n",
       "</div>"
      ],
      "text/plain": [
       "           distance    second  ('quantile_25', 'Bearing')  \\\n",
       "Important  0.024023  0.055251                     0.01637   \n",
       "\n",
       "           ('quantile_25', 'Bearing_diff')  ('quantile_25', 'Speed')  \\\n",
       "Important                         0.004711                  0.012451   \n",
       "\n",
       "           ('quantile_25', 'Speed_diff')  ('quantile_25', 'compAngleX')  \\\n",
       "Important                       0.018537                       0.017717   \n",
       "\n",
       "           ('quantile_25', 'compAngleY')  ('quantile_5', 'Bearing')  \\\n",
       "Important                       0.015391                   0.018188   \n",
       "\n",
       "           ('quantile_5', 'Bearing_diff')  ...  ('amin', 'Speed')  \\\n",
       "Important                        0.000206  ...           0.001596   \n",
       "\n",
       "           ('amin', 'Speed_diff')  ('amin', 'compAngleX')  \\\n",
       "Important                0.023701                0.020227   \n",
       "\n",
       "           ('amin', 'compAngleY')  ('amax', 'Bearing')  \\\n",
       "Important                0.021931             0.013553   \n",
       "\n",
       "           ('amax', 'Bearing_diff')  ('amax', 'Speed')  \\\n",
       "Important                  0.016604           0.026367   \n",
       "\n",
       "           ('amax', 'Speed_diff')  ('amax', 'compAngleX')  \\\n",
       "Important                0.028749                0.022907   \n",
       "\n",
       "           ('amax', 'compAngleY')  \n",
       "Important                 0.02679  \n",
       "\n",
       "[1 rows x 56 columns]"
      ]
     },
     "execution_count": 101,
     "metadata": {},
     "output_type": "execute_result"
    }
   ],
   "source": [
    "Feature_important"
   ]
  },
  {
   "cell_type": "markdown",
   "metadata": {},
   "source": [
    "**Model 3: Keras**"
   ]
  },
  {
   "cell_type": "code",
   "execution_count": 102,
   "metadata": {},
   "outputs": [],
   "source": [
    "import keras\n",
    "from keras.models import Sequential"
   ]
  },
  {
   "cell_type": "code",
   "execution_count": 136,
   "metadata": {},
   "outputs": [],
   "source": [
    "from keras import Sequential\n",
    "from keras.layers import Dense,Dropout\n",
    "\n",
    "classifier = Sequential()\n",
    "classifier.add(Dense(16, activation='relu', kernel_initializer='random_normal', input_dim=56))\n",
    "classifier.add(Dense(4, activation='sigmoid', kernel_initializer='random_normal'))\n",
    "classifier.add(Dense(1, activation='sigmoid', kernel_initializer='random_normal'))\n",
    "\n",
    "classifier.compile(optimizer ='adam',loss='binary_crossentropy', metrics =['accuracy'])"
   ]
  },
  {
   "cell_type": "code",
   "execution_count": 137,
   "metadata": {},
   "outputs": [
    {
     "name": "stdout",
     "output_type": "stream",
     "text": [
      "Train on 7599 samples, validate on 2534 samples\n",
      "Epoch 1/100\n",
      "7599/7599 [==============================] - 1s 156us/step - loss: 0.5653 - acc: 0.7419 - val_loss: 0.5316 - val_acc: 0.7545\n",
      "Epoch 2/100\n",
      "7599/7599 [==============================] - 1s 100us/step - loss: 0.5115 - acc: 0.7604 - val_loss: 0.5223 - val_acc: 0.7545\n",
      "Epoch 3/100\n",
      "7599/7599 [==============================] - 1s 101us/step - loss: 0.5041 - acc: 0.7604 - val_loss: 0.5173 - val_acc: 0.7545\n",
      "Epoch 4/100\n",
      "7599/7599 [==============================] - 1s 101us/step - loss: 0.4993 - acc: 0.7604 - val_loss: 0.5153 - val_acc: 0.7545\n",
      "Epoch 5/100\n",
      "7599/7599 [==============================] - 1s 103us/step - loss: 0.4953 - acc: 0.7604 - val_loss: 0.5150 - val_acc: 0.7545\n",
      "Epoch 6/100\n",
      "7599/7599 [==============================] - 1s 103us/step - loss: 0.4923 - acc: 0.7604 - val_loss: 0.5120 - val_acc: 0.7545\n",
      "Epoch 7/100\n",
      "7599/7599 [==============================] - 1s 104us/step - loss: 0.4888 - acc: 0.7702 - val_loss: 0.5093 - val_acc: 0.7668\n",
      "Epoch 8/100\n",
      "7599/7599 [==============================] - 1s 100us/step - loss: 0.4868 - acc: 0.7801 - val_loss: 0.5087 - val_acc: 0.7707\n",
      "Epoch 9/100\n",
      "7599/7599 [==============================] - 1s 100us/step - loss: 0.4847 - acc: 0.7825 - val_loss: 0.5057 - val_acc: 0.7699\n",
      "Epoch 10/100\n",
      "7599/7599 [==============================] - 1s 101us/step - loss: 0.4827 - acc: 0.7835 - val_loss: 0.5062 - val_acc: 0.7735\n",
      "Epoch 11/100\n",
      "7599/7599 [==============================] - 1s 100us/step - loss: 0.4804 - acc: 0.7851 - val_loss: 0.5064 - val_acc: 0.7751\n",
      "Epoch 12/100\n",
      "7599/7599 [==============================] - 1s 100us/step - loss: 0.4791 - acc: 0.7864 - val_loss: 0.5050 - val_acc: 0.7723\n",
      "Epoch 13/100\n",
      "7599/7599 [==============================] - 1s 100us/step - loss: 0.4774 - acc: 0.7860 - val_loss: 0.5040 - val_acc: 0.7727\n",
      "Epoch 14/100\n",
      "7599/7599 [==============================] - 1s 101us/step - loss: 0.4768 - acc: 0.7883 - val_loss: 0.5031 - val_acc: 0.7723\n",
      "Epoch 15/100\n",
      "7599/7599 [==============================] - 1s 101us/step - loss: 0.4751 - acc: 0.7881 - val_loss: 0.5047 - val_acc: 0.7715\n",
      "Epoch 16/100\n",
      "7599/7599 [==============================] - 1s 101us/step - loss: 0.4736 - acc: 0.7884 - val_loss: 0.5034 - val_acc: 0.7731\n",
      "Epoch 17/100\n",
      "7599/7599 [==============================] - 1s 100us/step - loss: 0.4728 - acc: 0.7872 - val_loss: 0.5061 - val_acc: 0.7691\n",
      "Epoch 18/100\n",
      "7599/7599 [==============================] - 1s 100us/step - loss: 0.4719 - acc: 0.7908 - val_loss: 0.5053 - val_acc: 0.7739\n",
      "Epoch 19/100\n",
      "7599/7599 [==============================] - 1s 101us/step - loss: 0.4713 - acc: 0.7884 - val_loss: 0.5046 - val_acc: 0.7695\n",
      "Epoch 20/100\n",
      "7599/7599 [==============================] - 1s 100us/step - loss: 0.4697 - acc: 0.7881 - val_loss: 0.5072 - val_acc: 0.7664\n",
      "Epoch 21/100\n",
      "7599/7599 [==============================] - 1s 100us/step - loss: 0.4690 - acc: 0.7923 - val_loss: 0.5067 - val_acc: 0.7699\n",
      "Epoch 22/100\n",
      "7599/7599 [==============================] - 1s 101us/step - loss: 0.4678 - acc: 0.7893 - val_loss: 0.5064 - val_acc: 0.7628\n",
      "Epoch 23/100\n",
      "7599/7599 [==============================] - 1s 100us/step - loss: 0.4670 - acc: 0.7883 - val_loss: 0.5036 - val_acc: 0.7664\n",
      "Epoch 24/100\n",
      "7599/7599 [==============================] - 1s 100us/step - loss: 0.4660 - acc: 0.7902 - val_loss: 0.5053 - val_acc: 0.7687\n",
      "Epoch 25/100\n",
      "7599/7599 [==============================] - 1s 100us/step - loss: 0.4651 - acc: 0.7900 - val_loss: 0.5054 - val_acc: 0.7648\n",
      "Epoch 26/100\n",
      "7599/7599 [==============================] - 1s 112us/step - loss: 0.4636 - acc: 0.7887 - val_loss: 0.5072 - val_acc: 0.7660\n",
      "Epoch 27/100\n",
      "7599/7599 [==============================] - 1s 107us/step - loss: 0.4629 - acc: 0.7916 - val_loss: 0.5056 - val_acc: 0.7644\n",
      "Epoch 28/100\n",
      "7599/7599 [==============================] - 1s 100us/step - loss: 0.4620 - acc: 0.7896 - val_loss: 0.5039 - val_acc: 0.7660\n",
      "Epoch 29/100\n",
      "7599/7599 [==============================] - 1s 101us/step - loss: 0.4612 - acc: 0.7917 - val_loss: 0.5086 - val_acc: 0.7680\n",
      "Epoch 30/100\n",
      "7599/7599 [==============================] - 1s 100us/step - loss: 0.4605 - acc: 0.7916 - val_loss: 0.5056 - val_acc: 0.7620\n",
      "Epoch 31/100\n",
      "7599/7599 [==============================] - 1s 100us/step - loss: 0.4593 - acc: 0.7931 - val_loss: 0.5088 - val_acc: 0.7616\n",
      "Epoch 32/100\n",
      "7599/7599 [==============================] - 1s 101us/step - loss: 0.4589 - acc: 0.7942 - val_loss: 0.5145 - val_acc: 0.7676\n",
      "Epoch 33/100\n",
      "7599/7599 [==============================] - 1s 101us/step - loss: 0.4584 - acc: 0.7929 - val_loss: 0.5088 - val_acc: 0.7664\n",
      "Epoch 34/100\n",
      "7599/7599 [==============================] - 1s 101us/step - loss: 0.4579 - acc: 0.7944 - val_loss: 0.5101 - val_acc: 0.7632\n",
      "Epoch 35/100\n",
      "7599/7599 [==============================] - 1s 101us/step - loss: 0.4569 - acc: 0.7933 - val_loss: 0.5113 - val_acc: 0.7652\n",
      "Epoch 36/100\n",
      "7599/7599 [==============================] - 1s 101us/step - loss: 0.4561 - acc: 0.7937 - val_loss: 0.5081 - val_acc: 0.7652\n",
      "Epoch 37/100\n",
      "7599/7599 [==============================] - 1s 101us/step - loss: 0.4557 - acc: 0.7944 - val_loss: 0.5095 - val_acc: 0.7601\n",
      "Epoch 38/100\n",
      "7599/7599 [==============================] - 1s 100us/step - loss: 0.4553 - acc: 0.7954 - val_loss: 0.5121 - val_acc: 0.7628\n",
      "Epoch 39/100\n",
      "7599/7599 [==============================] - 1s 101us/step - loss: 0.4548 - acc: 0.7933 - val_loss: 0.5127 - val_acc: 0.7691\n",
      "Epoch 40/100\n",
      "7599/7599 [==============================] - 1s 107us/step - loss: 0.4534 - acc: 0.7973 - val_loss: 0.5141 - val_acc: 0.7676\n",
      "Epoch 41/100\n",
      "7599/7599 [==============================] - 1s 103us/step - loss: 0.4529 - acc: 0.7993 - val_loss: 0.5095 - val_acc: 0.7652\n",
      "Epoch 42/100\n",
      "7599/7599 [==============================] - 1s 104us/step - loss: 0.4535 - acc: 0.7966 - val_loss: 0.5128 - val_acc: 0.7672\n",
      "Epoch 43/100\n",
      "7599/7599 [==============================] - 1s 104us/step - loss: 0.4528 - acc: 0.7979 - val_loss: 0.5126 - val_acc: 0.7668\n",
      "Epoch 44/100\n",
      "7599/7599 [==============================] - 1s 106us/step - loss: 0.4513 - acc: 0.7983 - val_loss: 0.5127 - val_acc: 0.7652\n",
      "Epoch 45/100\n",
      "7599/7599 [==============================] - 1s 102us/step - loss: 0.4510 - acc: 0.7977 - val_loss: 0.5107 - val_acc: 0.7601\n",
      "Epoch 46/100\n",
      "7599/7599 [==============================] - 1s 104us/step - loss: 0.4506 - acc: 0.7967 - val_loss: 0.5132 - val_acc: 0.7605\n",
      "Epoch 47/100\n",
      "7599/7599 [==============================] - 1s 104us/step - loss: 0.4501 - acc: 0.8000 - val_loss: 0.5108 - val_acc: 0.7656\n",
      "Epoch 48/100\n",
      "7599/7599 [==============================] - 1s 104us/step - loss: 0.4498 - acc: 0.7980 - val_loss: 0.5118 - val_acc: 0.7640\n",
      "Epoch 49/100\n",
      "7599/7599 [==============================] - 1s 102us/step - loss: 0.4494 - acc: 0.7996 - val_loss: 0.5117 - val_acc: 0.7609\n",
      "Epoch 50/100\n",
      "7599/7599 [==============================] - 1s 103us/step - loss: 0.4490 - acc: 0.7975 - val_loss: 0.5160 - val_acc: 0.7656\n",
      "Epoch 51/100\n",
      "7599/7599 [==============================] - 1s 101us/step - loss: 0.4484 - acc: 0.8000 - val_loss: 0.5155 - val_acc: 0.7593\n",
      "Epoch 52/100\n",
      "7599/7599 [==============================] - 1s 101us/step - loss: 0.4476 - acc: 0.7969 - val_loss: 0.5140 - val_acc: 0.7628\n",
      "Epoch 53/100\n",
      "7599/7599 [==============================] - 1s 102us/step - loss: 0.4477 - acc: 0.7991 - val_loss: 0.5199 - val_acc: 0.7632\n",
      "Epoch 54/100\n",
      "7599/7599 [==============================] - 1s 102us/step - loss: 0.4466 - acc: 0.8001 - val_loss: 0.5198 - val_acc: 0.7668\n",
      "Epoch 55/100\n",
      "7599/7599 [==============================] - 1s 102us/step - loss: 0.4464 - acc: 0.8000 - val_loss: 0.5172 - val_acc: 0.7644\n",
      "Epoch 56/100\n",
      "7599/7599 [==============================] - 1s 101us/step - loss: 0.4462 - acc: 0.8005 - val_loss: 0.5182 - val_acc: 0.7640\n",
      "Epoch 57/100\n",
      "7599/7599 [==============================] - 1s 100us/step - loss: 0.4456 - acc: 0.8012 - val_loss: 0.5155 - val_acc: 0.7660\n",
      "Epoch 58/100\n",
      "7599/7599 [==============================] - 1s 102us/step - loss: 0.4451 - acc: 0.8008 - val_loss: 0.5168 - val_acc: 0.7624\n",
      "Epoch 59/100\n",
      "7599/7599 [==============================] - 1s 103us/step - loss: 0.4448 - acc: 0.8018 - val_loss: 0.5176 - val_acc: 0.7616\n",
      "Epoch 60/100\n",
      "7599/7599 [==============================] - 1s 100us/step - loss: 0.4447 - acc: 0.8013 - val_loss: 0.5156 - val_acc: 0.7612\n",
      "Epoch 61/100\n",
      "7599/7599 [==============================] - 1s 103us/step - loss: 0.4437 - acc: 0.8012 - val_loss: 0.5183 - val_acc: 0.7585\n",
      "Epoch 62/100\n",
      "7599/7599 [==============================] - 1s 103us/step - loss: 0.4437 - acc: 0.8008 - val_loss: 0.5206 - val_acc: 0.7640\n",
      "Epoch 63/100\n",
      "7599/7599 [==============================] - 1s 102us/step - loss: 0.4436 - acc: 0.8009 - val_loss: 0.5175 - val_acc: 0.7676\n",
      "Epoch 64/100\n",
      "7599/7599 [==============================] - 1s 101us/step - loss: 0.4424 - acc: 0.8017 - val_loss: 0.5230 - val_acc: 0.7676\n",
      "Epoch 65/100\n",
      "7599/7599 [==============================] - 1s 101us/step - loss: 0.4424 - acc: 0.8051 - val_loss: 0.5185 - val_acc: 0.7573\n",
      "Epoch 66/100\n",
      "7599/7599 [==============================] - 1s 103us/step - loss: 0.4415 - acc: 0.8054 - val_loss: 0.5200 - val_acc: 0.7636\n",
      "Epoch 67/100\n",
      "7599/7599 [==============================] - 1s 103us/step - loss: 0.4411 - acc: 0.8038 - val_loss: 0.5195 - val_acc: 0.7684\n",
      "Epoch 68/100\n",
      "7599/7599 [==============================] - 1s 101us/step - loss: 0.4406 - acc: 0.8031 - val_loss: 0.5233 - val_acc: 0.7624\n",
      "Epoch 69/100\n",
      "7599/7599 [==============================] - 1s 102us/step - loss: 0.4404 - acc: 0.8044 - val_loss: 0.5192 - val_acc: 0.7636\n",
      "Epoch 70/100\n",
      "7599/7599 [==============================] - 1s 101us/step - loss: 0.4405 - acc: 0.8042 - val_loss: 0.5205 - val_acc: 0.7561\n",
      "Epoch 71/100\n",
      "7599/7599 [==============================] - 1s 102us/step - loss: 0.4388 - acc: 0.8063 - val_loss: 0.5217 - val_acc: 0.7609\n",
      "Epoch 72/100\n",
      "7599/7599 [==============================] - 1s 101us/step - loss: 0.4387 - acc: 0.8052 - val_loss: 0.5226 - val_acc: 0.7620\n",
      "Epoch 73/100\n",
      "7599/7599 [==============================] - 1s 102us/step - loss: 0.4385 - acc: 0.8048 - val_loss: 0.5214 - val_acc: 0.7620\n",
      "Epoch 74/100\n",
      "7599/7599 [==============================] - 1s 101us/step - loss: 0.4381 - acc: 0.8072 - val_loss: 0.5209 - val_acc: 0.7664\n",
      "Epoch 75/100\n",
      "7599/7599 [==============================] - 1s 104us/step - loss: 0.4376 - acc: 0.8079 - val_loss: 0.5242 - val_acc: 0.7534\n",
      "Epoch 76/100\n",
      "7599/7599 [==============================] - 1s 102us/step - loss: 0.4373 - acc: 0.8064 - val_loss: 0.5227 - val_acc: 0.7593\n",
      "Epoch 77/100\n",
      "7599/7599 [==============================] - 1s 102us/step - loss: 0.4376 - acc: 0.8075 - val_loss: 0.5222 - val_acc: 0.7620\n",
      "Epoch 78/100\n",
      "7599/7599 [==============================] - 1s 103us/step - loss: 0.4356 - acc: 0.8076 - val_loss: 0.5236 - val_acc: 0.7616\n",
      "Epoch 79/100\n",
      "7599/7599 [==============================] - 1s 101us/step - loss: 0.4368 - acc: 0.8091 - val_loss: 0.5238 - val_acc: 0.7605\n",
      "Epoch 80/100\n",
      "7599/7599 [==============================] - 1s 103us/step - loss: 0.4362 - acc: 0.8102 - val_loss: 0.5250 - val_acc: 0.7561\n",
      "Epoch 81/100\n",
      "7599/7599 [==============================] - 1s 101us/step - loss: 0.4352 - acc: 0.8089 - val_loss: 0.5285 - val_acc: 0.7609\n",
      "Epoch 82/100\n",
      "7599/7599 [==============================] - 1s 103us/step - loss: 0.4355 - acc: 0.8091 - val_loss: 0.5251 - val_acc: 0.7612\n",
      "Epoch 83/100\n",
      "7599/7599 [==============================] - 1s 101us/step - loss: 0.4355 - acc: 0.8085 - val_loss: 0.5254 - val_acc: 0.7486\n",
      "Epoch 84/100\n",
      "7599/7599 [==============================] - 1s 103us/step - loss: 0.4348 - acc: 0.8097 - val_loss: 0.5227 - val_acc: 0.7553\n",
      "Epoch 85/100\n",
      "7599/7599 [==============================] - 1s 101us/step - loss: 0.4346 - acc: 0.8112 - val_loss: 0.5248 - val_acc: 0.7573\n",
      "Epoch 86/100\n",
      "7599/7599 [==============================] - 1s 102us/step - loss: 0.4338 - acc: 0.8106 - val_loss: 0.5280 - val_acc: 0.7549\n",
      "Epoch 87/100\n",
      "7599/7599 [==============================] - 1s 101us/step - loss: 0.4328 - acc: 0.8104 - val_loss: 0.5268 - val_acc: 0.7561\n",
      "Epoch 88/100\n",
      "7599/7599 [==============================] - 1s 102us/step - loss: 0.4332 - acc: 0.8094 - val_loss: 0.5245 - val_acc: 0.7609\n",
      "Epoch 89/100\n",
      "7599/7599 [==============================] - 1s 107us/step - loss: 0.4325 - acc: 0.8133 - val_loss: 0.5262 - val_acc: 0.7585\n",
      "Epoch 90/100\n",
      "7599/7599 [==============================] - 1s 101us/step - loss: 0.4322 - acc: 0.8102 - val_loss: 0.5272 - val_acc: 0.7557\n",
      "Epoch 91/100\n",
      "7599/7599 [==============================] - 1s 102us/step - loss: 0.4330 - acc: 0.8121 - val_loss: 0.5284 - val_acc: 0.7553\n",
      "Epoch 92/100\n",
      "7599/7599 [==============================] - 1s 104us/step - loss: 0.4317 - acc: 0.8114 - val_loss: 0.5275 - val_acc: 0.7597\n",
      "Epoch 93/100\n",
      "7599/7599 [==============================] - 1s 105us/step - loss: 0.4314 - acc: 0.8117 - val_loss: 0.5288 - val_acc: 0.7545\n",
      "Epoch 94/100\n",
      "7599/7599 [==============================] - 1s 107us/step - loss: 0.4303 - acc: 0.8137 - val_loss: 0.5355 - val_acc: 0.7534\n",
      "Epoch 95/100\n",
      "7599/7599 [==============================] - 1s 103us/step - loss: 0.4315 - acc: 0.8106 - val_loss: 0.5299 - val_acc: 0.7565\n",
      "Epoch 96/100\n",
      "7599/7599 [==============================] - 1s 107us/step - loss: 0.4303 - acc: 0.8141 - val_loss: 0.5298 - val_acc: 0.7577\n",
      "Epoch 97/100\n",
      "7599/7599 [==============================] - 1s 101us/step - loss: 0.4303 - acc: 0.8102 - val_loss: 0.5295 - val_acc: 0.7518\n",
      "Epoch 98/100\n",
      "7599/7599 [==============================] - 1s 104us/step - loss: 0.4298 - acc: 0.8112 - val_loss: 0.5345 - val_acc: 0.7605\n",
      "Epoch 99/100\n",
      "7599/7599 [==============================] - 1s 113us/step - loss: 0.4288 - acc: 0.8102 - val_loss: 0.5305 - val_acc: 0.7553\n",
      "Epoch 100/100\n",
      "7599/7599 [==============================] - 1s 105us/step - loss: 0.4292 - acc: 0.8098 - val_loss: 0.5309 - val_acc: 0.7518\n"
     ]
    },
    {
     "data": {
      "text/plain": [
       "<keras.callbacks.History at 0x1a2ab29940>"
      ]
     },
     "execution_count": 137,
     "metadata": {},
     "output_type": "execute_result"
    }
   ],
   "source": [
    "classifier.fit(X_train,y_train,batch_size=10, epochs=100,validation_data=(X_val,y_val))"
   ]
  },
  {
   "cell_type": "code",
   "execution_count": 138,
   "metadata": {},
   "outputs": [
    {
     "name": "stdout",
     "output_type": "stream",
     "text": [
      "Test loss: 0.5090\n",
      "Test accuracy 0.7596\n"
     ]
    }
   ],
   "source": [
    "from keras import metrics \n",
    "score_test = classifier.evaluate(X_test, y_test, verbose=0)\n",
    "print('Test loss: %.4f'% score_test[0])\n",
    "print('Test accuracy %.4f'% score_test[1])"
   ]
  },
  {
   "cell_type": "code",
   "execution_count": 139,
   "metadata": {},
   "outputs": [
    {
     "name": "stdout",
     "output_type": "stream",
     "text": [
      "Test loss: 0.5308\n",
      "Test accuracy 0.7537\n"
     ]
    }
   ],
   "source": [
    "score_test1 = classifier.evaluate(X_test1, y_test1, verbose=0)\n",
    "print('Test loss: %.4f'% score_test1[0])\n",
    "print('Test accuracy %.4f'% score_test1[1])"
   ]
  },
  {
   "cell_type": "code",
   "execution_count": 140,
   "metadata": {},
   "outputs": [
    {
     "data": {
      "image/png": "[encoded data removed]",
      "text/plain": [
       "<Figure size 432x288 with 1 Axes>"
      ]
     },
     "metadata": {
      "needs_background": "light"
     },
     "output_type": "display_data"
    }
   ],
   "source": [
    "plot_roc_curve(roc_curve(y_test, classifier.predict(X_test))[0],roc_curve(y_test, classifier.predict(X_test))[1])"
   ]
  },
  {
   "cell_type": "markdown",
   "metadata": {},
   "source": [
    "*Save model*"
   ]
  },
  {
   "cell_type": "code",
   "execution_count": 141,
   "metadata": {},
   "outputs": [],
   "source": [
    "classifier.save('classifier_model.h5')"
   ]
  },
  {
   "cell_type": "code",
   "execution_count": null,
   "metadata": {},
   "outputs": [],
   "source": []
  }
 ],
 "metadata": {
  "kernelspec": {
   "display_name": "Python 3",
   "language": "python",
   "name": "python3"
  },
  "language_info": {
   "codemirror_mode": {
    "name": "ipython",
    "version": 3
   },
   "file_extension": ".py",
   "mimetype": "text/x-python",
   "name": "python",
   "nbconvert_exporter": "python",
   "pygments_lexer": "ipython3",
   "version": "3.7.3"
  }
 },
 "nbformat": 4,
 "nbformat_minor": 2
}
