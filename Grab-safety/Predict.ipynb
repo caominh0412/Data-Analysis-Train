{
 "cells": [
  {
   "cell_type": "code",
   "execution_count": 1,
   "metadata": {},
   "outputs": [
    {
     "name": "stderr",
     "output_type": "stream",
     "text": [
      "Using TensorFlow backend.\n"
     ]
    },
    {
     "name": "stdout",
     "output_type": "stream",
     "text": [
      "WARNING:tensorflow:From C:\\Users\\minhcq\\AppData\\Local\\Continuum\\anaconda3\\lib\\site-packages\\tensorflow\\python\\framework\\op_def_library.py:263: colocate_with (from tensorflow.python.framework.ops) is deprecated and will be removed in a future version.\n",
      "Instructions for updating:\n",
      "Colocations handled automatically by placer.\n",
      "WARNING:tensorflow:From C:\\Users\\minhcq\\AppData\\Local\\Continuum\\anaconda3\\lib\\site-packages\\tensorflow\\python\\ops\\math_ops.py:3066: to_int32 (from tensorflow.python.ops.math_ops) is deprecated and will be removed in a future version.\n",
      "Instructions for updating:\n",
      "Use tf.cast instead.\n"
     ]
    }
   ],
   "source": [
    "import pandas as pd\n",
    "import numpy as np\n",
    "import seaborn as sns\n",
    "import matplotlib.pyplot as plt\n",
    "from sklearn.metrics import roc_curve\n",
    "from sklearn.metrics import roc_auc_score\n",
    "from keras.models import load_model\n",
    "model = load_model('classifier_model.h5')\n",
    "from sklearn.externals import joblib\n",
    "rfc_model = joblib.load('RFC_model.sav')"
   ]
  },
  {
   "cell_type": "code",
   "execution_count": 2,
   "metadata": {},
   "outputs": [],
   "source": [
    "def quantile_25(x):\n",
    "    return x.quantile(0.25)\n",
    "def quantile_5(x):\n",
    "    return x.quantile(0.5)\n",
    "def quantile_75(x):\n",
    "    return x.quantile(0.75)\n",
    "def quantile_8(x):\n",
    "    return x.quantile(0.8)\n",
    "def quantile_9(x):\n",
    "    return x.quantile(0.9)\n",
    "def triptime(x):\n",
    "    return x.max()\n",
    "\n",
    "def plot_roc_curve(fpr, tpr):  \n",
    "    plt.plot(fpr, tpr, color='orange', label='ROC')\n",
    "    plt.plot([0, 1], [0, 1], color='darkblue', linestyle='--')\n",
    "    plt.xlabel('False Positive Rate')\n",
    "    plt.ylabel('True Positive Rate')\n",
    "    plt.title('Receiver Operating Characteristic (ROC) Curve')\n",
    "    plt.legend()\n",
    "    plt.show()"
   ]
  },
  {
   "cell_type": "code",
   "execution_count": 3,
   "metadata": {},
   "outputs": [],
   "source": [
    "def generate_feature(df):\n",
    "    df.sort_values(['bookingID','second'],inplace=True)\n",
    "    radToDeg = 57.2957786\n",
    "    df['roll'] = np.arctan2(df['acceleration_y'],df['acceleration_z']) * radToDeg\n",
    "    df['pitch'] = np.arctan(-df['acceleration_x']/np.sqrt((df['acceleration_y']**2)+(df['acceleration_z']**2))) * radToDeg\n",
    "    df['compAngleX'] = 0.93 * (df['roll'] + df['gyro_x']/131 ) + 0.07 * df['roll']\n",
    "    df['compAngleY'] = 0.93 * (df['pitch'] + df['gyro_x']/131 ) + 0.07 * df['pitch']\n",
    "    df['Bearing_diff']=df['Bearing'].diff()\n",
    "    df.loc[df['second']==0,['Bearing_diff']]= 0\n",
    "    df['Speed_diff']=df['Speed'].diff()\n",
    "    df.loc[df['second']==0,['Speed_diff']]= 0\n",
    "    df['distance'] = df['Speed'] * df['second'].diff()\n",
    "    df['distance'][df['second'] == 0] = 0\n",
    "    model_df_1 = df.pivot_table(index='bookingID',values = ['distance'], aggfunc=sum)\n",
    "    model_df_2 = df.pivot_table(index='bookingID',values = ['second'], aggfunc=max)\n",
    "    model_df_3 = df.pivot_table(index='bookingID',values=['Speed','Bearing','compAngleX','compAngleY','Bearing_diff','Speed_diff'],aggfunc=[quantile_25,quantile_5,quantile_75,quantile_8,quantile_9])\n",
    "    model_df_4 = df.pivot_table(index='bookingID',values=['Speed','Bearing','compAngleX','compAngleY','Bearing_diff','Speed_diff'],aggfunc=[np.mean,np.std,np.min,np.max])\n",
    "    model_df = model_df_1.join([model_df_2,model_df_3,model_df_4])\n",
    "    return model_df\n"
   ]
  },
  {
   "cell_type": "code",
   "execution_count": 70,
   "metadata": {},
   "outputs": [],
   "source": [
    "def predict(x):\n",
    "    x_feature = generate_feature(x)\n",
    "    keras_prediction = model.predict(x_feature)\n",
    "    keras_prediction = [round(i[0]) for i in keras_prediction]\n",
    "    rfc_prediction = rfc_model.predict(x_feature)\n",
    "    join_df = pd.DataFrame({'bookingID':test_feature.index,'Keras_prediction':keras_prediction,'RFC_prediction':rfc_prediction})\n",
    "    return join_df"
   ]
  },
  {
   "cell_type": "markdown",
   "metadata": {},
   "source": [
    "**Load the test data**"
   ]
  },
  {
   "cell_type": "code",
   "execution_count": 71,
   "metadata": {},
   "outputs": [],
   "source": [
    "test = pd.read_csv('test_trip2.csv')"
   ]
  },
  {
   "cell_type": "markdown",
   "metadata": {},
   "source": [
    "**Make prediction**"
   ]
  },
  {
   "cell_type": "code",
   "execution_count": 72,
   "metadata": {},
   "outputs": [
    {
     "name": "stderr",
     "output_type": "stream",
     "text": [
      "C:\\Users\\minhcq\\AppData\\Local\\Continuum\\anaconda3\\lib\\site-packages\\ipykernel_launcher.py:13: SettingWithCopyWarning: \n",
      "A value is trying to be set on a copy of a slice from a DataFrame\n",
      "\n",
      "See the caveats in the documentation: http://pandas.pydata.org/pandas-docs/stable/indexing.html#indexing-view-versus-copy\n",
      "  del sys.path[0]\n"
     ]
    },
    {
     "data": {
      "text/html": [
       "<div>\n",
       "<style scoped>\n",
       "    .dataframe tbody tr th:only-of-type {\n",
       "        vertical-align: middle;\n",
       "    }\n",
       "\n",
       "    .dataframe tbody tr th {\n",
       "        vertical-align: top;\n",
       "    }\n",
       "\n",
       "    .dataframe thead th {\n",
       "        text-align: right;\n",
       "    }\n",
       "</style>\n",
       "<table border=\"1\" class=\"dataframe\">\n",
       "  <thead>\n",
       "    <tr style=\"text-align: right;\">\n",
       "      <th></th>\n",
       "      <th>bookingID</th>\n",
       "      <th>Keras_prediction</th>\n",
       "      <th>RFC_prediction</th>\n",
       "    </tr>\n",
       "  </thead>\n",
       "  <tbody>\n",
       "    <tr>\n",
       "      <th>0</th>\n",
       "      <td>1.000000e+00</td>\n",
       "      <td>0.0</td>\n",
       "      <td>0</td>\n",
       "    </tr>\n",
       "    <tr>\n",
       "      <th>1</th>\n",
       "      <td>1.073742e+12</td>\n",
       "      <td>0.0</td>\n",
       "      <td>1</td>\n",
       "    </tr>\n",
       "  </tbody>\n",
       "</table>\n",
       "</div>"
      ],
      "text/plain": [
       "      bookingID  Keras_prediction  RFC_prediction\n",
       "0  1.000000e+00               0.0               0\n",
       "1  1.073742e+12               0.0               1"
      ]
     },
     "execution_count": 72,
     "metadata": {},
     "output_type": "execute_result"
    }
   ],
   "source": [
    "predict(test)"
   ]
  },
  {
   "cell_type": "code",
   "execution_count": null,
   "metadata": {},
   "outputs": [],
   "source": []
  }
 ],
 "metadata": {
  "kernelspec": {
   "display_name": "Python 3",
   "language": "python",
   "name": "python3"
  },
  "language_info": {
   "codemirror_mode": {
    "name": "ipython",
    "version": 3
   },
   "file_extension": ".py",
   "mimetype": "text/x-python",
   "name": "python",
   "nbconvert_exporter": "python",
   "pygments_lexer": "ipython3",
   "version": "3.7.3"
  }
 },
 "nbformat": 4,
 "nbformat_minor": 2
}
