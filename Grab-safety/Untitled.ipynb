{
 "cells": [
  {
   "cell_type": "code",
   "execution_count": 19,
   "metadata": {},
   "outputs": [],
   "source": [
    "import pandas as pd\n",
    "import numpy as np\n",
    "import seaborn as sns\n",
    "import matplotlib.pyplot as plt\n",
    "from sklearn.metrics import roc_curve\n",
    "from sklearn.metrics import roc_auc_score\n",
    "from keras.models import load_model\n",
    "model = load_model('classifier_model.h5')"
   ]
  },
  {
   "cell_type": "code",
   "execution_count": 11,
   "metadata": {},
   "outputs": [],
   "source": [
    "def quantile_25(x):\n",
    "    return x.quantile(0.25)\n",
    "def quantile_5(x):\n",
    "    return x.quantile(0.5)\n",
    "def quantile_75(x):\n",
    "    return x.quantile(0.75)\n",
    "def quantile_8(x):\n",
    "    return x.quantile(0.8)\n",
    "def quantile_9(x):\n",
    "    return x.quantile(0.9)\n",
    "def triptime(x):\n",
    "    return x.max()\n",
    "\n",
    "def plot_roc_curve(fpr, tpr):  \n",
    "    plt.plot(fpr, tpr, color='orange', label='ROC')\n",
    "    plt.plot([0, 1], [0, 1], color='darkblue', linestyle='--')\n",
    "    plt.xlabel('False Positive Rate')\n",
    "    plt.ylabel('True Positive Rate')\n",
    "    plt.title('Receiver Operating Characteristic (ROC) Curve')\n",
    "    plt.legend()\n",
    "    plt.show()"
   ]
  },
  {
   "cell_type": "code",
   "execution_count": 12,
   "metadata": {},
   "outputs": [],
   "source": [
    "def generate_feature(df):\n",
    "    df.sort_values(['bookingID','second'],inplace=True)\n",
    "    radToDeg = 57.2957786\n",
    "    df['roll'] = np.arctan2(df['acceleration_y'],df['acceleration_z']) * radToDeg\n",
    "    df['pitch'] = np.arctan(-df['acceleration_x']/np.sqrt((df['acceleration_y']**2)+(df['acceleration_z']**2))) * radToDeg\n",
    "    df['compAngleX'] = 0.93 * (df['roll'] + df['gyro_x']/131 ) + 0.07 * df['roll']\n",
    "    df['compAngleY'] = 0.93 * (df['pitch'] + df['gyro_x']/131 ) + 0.07 * df['pitch']\n",
    "    df['Bearing_diff']=df['Bearing'].diff()\n",
    "    df.loc[df['second']==0,['Bearing_diff']]= 0\n",
    "    df['Speed_diff']=df['Speed'].diff()\n",
    "    df.loc[df['second']==0,['Speed_diff']]= 0\n",
    "    df['distance'] = df['Speed'] * df['second'].diff()\n",
    "    df['distance'][df['second'] == 0] = 0\n",
    "    model_df_1 = df.pivot_table(index='bookingID',values = ['distance'], aggfunc=sum)\n",
    "    model_df_2 = df.pivot_table(index='bookingID',values = ['second'], aggfunc=max)\n",
    "    model_df_3 = df.pivot_table(index='bookingID',values=['Speed','Bearing','compAngleX','compAngleY','Bearing_diff','Speed_diff'],aggfunc=[quantile_25,quantile_5,quantile_75,quantile_8,quantile_9])\n",
    "    model_df_4 = df.pivot_table(index='bookingID',values=['Speed','Bearing','compAngleX','compAngleY','Bearing_diff','Speed_diff'],aggfunc=[np.mean,np.std,np.min,np.max])\n",
    "    model_df = model_df_1.join([model_df_2,model_df_3,model_df_4])\n",
    "    return model_df\n"
   ]
  },
  {
   "cell_type": "code",
   "execution_count": 13,
   "metadata": {},
   "outputs": [],
   "source": [
    "test = pd.read_csv('test_trip.cvs')"
   ]
  },
  {
   "cell_type": "code",
   "execution_count": 14,
   "metadata": {},
   "outputs": [
    {
     "name": "stderr",
     "output_type": "stream",
     "text": [
      "/anaconda3/lib/python3.7/site-packages/ipykernel_launcher.py:13: SettingWithCopyWarning: \n",
      "A value is trying to be set on a copy of a slice from a DataFrame\n",
      "\n",
      "See the caveats in the documentation: http://pandas.pydata.org/pandas-docs/stable/indexing.html#indexing-view-versus-copy\n",
      "  del sys.path[0]\n"
     ]
    }
   ],
   "source": [
    "test_feature = generate_feature(test)"
   ]
  },
  {
   "cell_type": "code",
   "execution_count": 15,
   "metadata": {},
   "outputs": [
    {
     "data": {
      "text/html": [
       "<div>\n",
       "<style scoped>\n",
       "    .dataframe tbody tr th:only-of-type {\n",
       "        vertical-align: middle;\n",
       "    }\n",
       "\n",
       "    .dataframe tbody tr th {\n",
       "        vertical-align: top;\n",
       "    }\n",
       "\n",
       "    .dataframe thead th {\n",
       "        text-align: right;\n",
       "    }\n",
       "</style>\n",
       "<table border=\"1\" class=\"dataframe\">\n",
       "  <thead>\n",
       "    <tr style=\"text-align: right;\">\n",
       "      <th></th>\n",
       "      <th>distance</th>\n",
       "      <th>second</th>\n",
       "      <th>(quantile_25, Bearing)</th>\n",
       "      <th>(quantile_25, Bearing_diff)</th>\n",
       "      <th>(quantile_25, Speed)</th>\n",
       "      <th>(quantile_25, Speed_diff)</th>\n",
       "      <th>(quantile_25, compAngleX)</th>\n",
       "      <th>(quantile_25, compAngleY)</th>\n",
       "      <th>(quantile_5, Bearing)</th>\n",
       "      <th>(quantile_5, Bearing_diff)</th>\n",
       "      <th>...</th>\n",
       "      <th>(amin, Speed)</th>\n",
       "      <th>(amin, Speed_diff)</th>\n",
       "      <th>(amin, compAngleX)</th>\n",
       "      <th>(amin, compAngleY)</th>\n",
       "      <th>(amax, Bearing)</th>\n",
       "      <th>(amax, Bearing_diff)</th>\n",
       "      <th>(amax, Speed)</th>\n",
       "      <th>(amax, Speed_diff)</th>\n",
       "      <th>(amax, compAngleX)</th>\n",
       "      <th>(amax, compAngleY)</th>\n",
       "    </tr>\n",
       "    <tr>\n",
       "      <th>bookingID</th>\n",
       "      <th></th>\n",
       "      <th></th>\n",
       "      <th></th>\n",
       "      <th></th>\n",
       "      <th></th>\n",
       "      <th></th>\n",
       "      <th></th>\n",
       "      <th></th>\n",
       "      <th></th>\n",
       "      <th></th>\n",
       "      <th></th>\n",
       "      <th></th>\n",
       "      <th></th>\n",
       "      <th></th>\n",
       "      <th></th>\n",
       "      <th></th>\n",
       "      <th></th>\n",
       "      <th></th>\n",
       "      <th></th>\n",
       "      <th></th>\n",
       "      <th></th>\n",
       "    </tr>\n",
       "  </thead>\n",
       "  <tbody>\n",
       "    <tr>\n",
       "      <th>1.0</th>\n",
       "      <td>6844.87121</td>\n",
       "      <td>1034.0</td>\n",
       "      <td>50.0</td>\n",
       "      <td>-1.0</td>\n",
       "      <td>0.0</td>\n",
       "      <td>-0.227863</td>\n",
       "      <td>100.847996</td>\n",
       "      <td>1.365338</td>\n",
       "      <td>110.0</td>\n",
       "      <td>0.0</td>\n",
       "      <td>...</td>\n",
       "      <td>0.0</td>\n",
       "      <td>-4.099883</td>\n",
       "      <td>82.203521</td>\n",
       "      <td>-24.178214</td>\n",
       "      <td>337.0</td>\n",
       "      <td>39.0</td>\n",
       "      <td>21.882141</td>\n",
       "      <td>4.188555</td>\n",
       "      <td>122.460492</td>\n",
       "      <td>29.361171</td>\n",
       "    </tr>\n",
       "  </tbody>\n",
       "</table>\n",
       "<p>1 rows × 56 columns</p>\n",
       "</div>"
      ],
      "text/plain": [
       "             distance  second  (quantile_25, Bearing)  \\\n",
       "bookingID                                               \n",
       "1.0        6844.87121  1034.0                    50.0   \n",
       "\n",
       "           (quantile_25, Bearing_diff)  (quantile_25, Speed)  \\\n",
       "bookingID                                                      \n",
       "1.0                               -1.0                   0.0   \n",
       "\n",
       "           (quantile_25, Speed_diff)  (quantile_25, compAngleX)  \\\n",
       "bookingID                                                         \n",
       "1.0                        -0.227863                 100.847996   \n",
       "\n",
       "           (quantile_25, compAngleY)  (quantile_5, Bearing)  \\\n",
       "bookingID                                                     \n",
       "1.0                         1.365338                  110.0   \n",
       "\n",
       "           (quantile_5, Bearing_diff)  ...  (amin, Speed)  (amin, Speed_diff)  \\\n",
       "bookingID                              ...                                      \n",
       "1.0                               0.0  ...            0.0           -4.099883   \n",
       "\n",
       "           (amin, compAngleX)  (amin, compAngleY)  (amax, Bearing)  \\\n",
       "bookingID                                                            \n",
       "1.0                 82.203521          -24.178214            337.0   \n",
       "\n",
       "           (amax, Bearing_diff)  (amax, Speed)  (amax, Speed_diff)  \\\n",
       "bookingID                                                            \n",
       "1.0                        39.0      21.882141            4.188555   \n",
       "\n",
       "           (amax, compAngleX)  (amax, compAngleY)  \n",
       "bookingID                                          \n",
       "1.0                122.460492           29.361171  \n",
       "\n",
       "[1 rows x 56 columns]"
      ]
     },
     "execution_count": 15,
     "metadata": {},
     "output_type": "execute_result"
    }
   ],
   "source": [
    "test_feature "
   ]
  },
  {
   "cell_type": "code",
   "execution_count": 20,
   "metadata": {},
   "outputs": [],
   "source": [
    "predict = model.predict(test_feature)"
   ]
  },
  {
   "cell_type": "code",
   "execution_count": 24,
   "metadata": {},
   "outputs": [
    {
     "name": "stdout",
     "output_type": "stream",
     "text": [
      "Dangerous driving\n"
     ]
    }
   ],
   "source": [
    "print('Non dangerous driving') if (predict>0.5) else print('Dangerous driving')"
   ]
  },
  {
   "cell_type": "code",
   "execution_count": null,
   "metadata": {},
   "outputs": [],
   "source": []
  }
 ],
 "metadata": {
  "kernelspec": {
   "display_name": "Python 3",
   "language": "python",
   "name": "python3"
  },
  "language_info": {
   "codemirror_mode": {
    "name": "ipython",
    "version": 3
   },
   "file_extension": ".py",
   "mimetype": "text/x-python",
   "name": "python",
   "nbconvert_exporter": "python",
   "pygments_lexer": "ipython3",
   "version": "3.7.3"
  }
 },
 "nbformat": 4,
 "nbformat_minor": 2
}
