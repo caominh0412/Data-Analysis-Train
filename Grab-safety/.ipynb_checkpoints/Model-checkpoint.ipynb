{
 "cells": [
  {
   "cell_type": "markdown",
   "metadata": {},
   "source": [
    "**As usual, import library and load data**"
   ]
  },
  {
   "cell_type": "code",
   "execution_count": 2,
   "metadata": {},
   "outputs": [],
   "source": [
    "import pandas as pd\n",
    "import numpy as np\n",
    "import seaborn as sns\n",
    "import matplotlib.pyplot as plt\n",
    "from sklearn.ensemble import RandomForestClassifier\n",
    "from sklearn.model_selection import train_test_split"
   ]
  },
  {
   "cell_type": "code",
   "execution_count": 3,
   "metadata": {},
   "outputs": [],
   "source": [
    "df = pd.read_csv('feature_extracted.csv')"
   ]
  },
  {
   "cell_type": "code",
   "execution_count": 4,
   "metadata": {},
   "outputs": [
    {
     "data": {
      "text/plain": [
       "Index(['bookingID', 'distance', 'second', '('quantile_25', 'Bearing')',\n",
       "       '('quantile_25', 'Speed')', '('quantile_5', 'Bearing')',\n",
       "       '('quantile_5', 'Speed')', '('quantile_75', 'Bearing')',\n",
       "       '('quantile_75', 'Speed')', '('quantile_8', 'Bearing')',\n",
       "       '('quantile_8', 'Speed')', '('quantile_9', 'Bearing')',\n",
       "       '('quantile_9', 'Speed')', '('mean', 'Bearing')', '('mean', 'Speed')',\n",
       "       '('mean', 'acceleration')', '('mean', 'gyro')', '('std', 'Bearing')',\n",
       "       '('std', 'Speed')', '('std', 'acceleration')', '('std', 'gyro')',\n",
       "       '('amin', 'Bearing')', '('amin', 'Speed')', '('amin', 'acceleration')',\n",
       "       '('amin', 'gyro')', '('amax', 'Bearing')', '('amax', 'Speed')',\n",
       "       '('amax', 'acceleration')', '('amax', 'gyro')',\n",
       "       '('Count_Accelerating', 'Speed_diff')',\n",
       "       '('Count_Bearing', 'Bearing_diff')'],\n",
       "      dtype='object')"
      ]
     },
     "execution_count": 4,
     "metadata": {},
     "output_type": "execute_result"
    }
   ],
   "source": [
    "df.columns"
   ]
  },
  {
   "cell_type": "markdown",
   "metadata": {},
   "source": [
    "**Match with label data**"
   ]
  },
  {
   "cell_type": "code",
   "execution_count": 5,
   "metadata": {},
   "outputs": [],
   "source": [
    "label = pd.read_csv('labels/part-00000-e9445087-aa0a-433b-a7f6-7f4c19d78ad6-c000.csv')"
   ]
  },
  {
   "cell_type": "code",
   "execution_count": 6,
   "metadata": {},
   "outputs": [
    {
     "data": {
      "text/html": [
       "<div>\n",
       "<style scoped>\n",
       "    .dataframe tbody tr th:only-of-type {\n",
       "        vertical-align: middle;\n",
       "    }\n",
       "\n",
       "    .dataframe tbody tr th {\n",
       "        vertical-align: top;\n",
       "    }\n",
       "\n",
       "    .dataframe thead th {\n",
       "        text-align: right;\n",
       "    }\n",
       "</style>\n",
       "<table border=\"1\" class=\"dataframe\">\n",
       "  <thead>\n",
       "    <tr style=\"text-align: right;\">\n",
       "      <th></th>\n",
       "      <th>bookingID</th>\n",
       "      <th>label</th>\n",
       "    </tr>\n",
       "  </thead>\n",
       "  <tbody>\n",
       "    <tr>\n",
       "      <th>0</th>\n",
       "      <td>111669149733</td>\n",
       "      <td>0</td>\n",
       "    </tr>\n",
       "    <tr>\n",
       "      <th>1</th>\n",
       "      <td>335007449205</td>\n",
       "      <td>1</td>\n",
       "    </tr>\n",
       "    <tr>\n",
       "      <th>2</th>\n",
       "      <td>171798691856</td>\n",
       "      <td>0</td>\n",
       "    </tr>\n",
       "    <tr>\n",
       "      <th>3</th>\n",
       "      <td>1520418422900</td>\n",
       "      <td>0</td>\n",
       "    </tr>\n",
       "    <tr>\n",
       "      <th>4</th>\n",
       "      <td>798863917116</td>\n",
       "      <td>0</td>\n",
       "    </tr>\n",
       "  </tbody>\n",
       "</table>\n",
       "</div>"
      ],
      "text/plain": [
       "       bookingID  label\n",
       "0   111669149733      0\n",
       "1   335007449205      1\n",
       "2   171798691856      0\n",
       "3  1520418422900      0\n",
       "4   798863917116      0"
      ]
     },
     "execution_count": 6,
     "metadata": {},
     "output_type": "execute_result"
    }
   ],
   "source": [
    "label.head()"
   ]
  },
  {
   "cell_type": "code",
   "execution_count": 7,
   "metadata": {},
   "outputs": [
    {
     "name": "stdout",
     "output_type": "stream",
     "text": [
      "<class 'pandas.core.frame.DataFrame'>\n",
      "RangeIndex: 20018 entries, 0 to 20017\n",
      "Data columns (total 2 columns):\n",
      "bookingID    20018 non-null int64\n",
      "label        20018 non-null int64\n",
      "dtypes: int64(2)\n",
      "memory usage: 312.9 KB\n"
     ]
    },
    {
     "data": {
      "text/plain": [
       "20000"
      ]
     },
     "execution_count": 7,
     "metadata": {},
     "output_type": "execute_result"
    }
   ],
   "source": [
    "label.info()\n",
    "label['bookingID'].nunique()"
   ]
  },
  {
   "cell_type": "markdown",
   "metadata": {},
   "source": [
    "*We see 18 trips got multiple label, so we will use the last label for that 18 trips.*"
   ]
  },
  {
   "cell_type": "code",
   "execution_count": 8,
   "metadata": {},
   "outputs": [],
   "source": [
    "label.drop_duplicates('bookingID',keep = 'last',inplace=True)"
   ]
  },
  {
   "cell_type": "code",
   "execution_count": 9,
   "metadata": {},
   "outputs": [],
   "source": [
    "label.set_index('bookingID',inplace = True)"
   ]
  },
  {
   "cell_type": "code",
   "execution_count": 10,
   "metadata": {},
   "outputs": [],
   "source": [
    "df.set_index('bookingID',inplace = True)"
   ]
  },
  {
   "cell_type": "markdown",
   "metadata": {},
   "source": [
    "Match the data with label."
   ]
  },
  {
   "cell_type": "code",
   "execution_count": 11,
   "metadata": {},
   "outputs": [],
   "source": [
    "df = df.join(label)"
   ]
  },
  {
   "cell_type": "code",
   "execution_count": 12,
   "metadata": {},
   "outputs": [
    {
     "data": {
      "text/html": [
       "<div>\n",
       "<style scoped>\n",
       "    .dataframe tbody tr th:only-of-type {\n",
       "        vertical-align: middle;\n",
       "    }\n",
       "\n",
       "    .dataframe tbody tr th {\n",
       "        vertical-align: top;\n",
       "    }\n",
       "\n",
       "    .dataframe thead th {\n",
       "        text-align: right;\n",
       "    }\n",
       "</style>\n",
       "<table border=\"1\" class=\"dataframe\">\n",
       "  <thead>\n",
       "    <tr style=\"text-align: right;\">\n",
       "      <th></th>\n",
       "      <th>distance</th>\n",
       "      <th>second</th>\n",
       "      <th>('quantile_25', 'Bearing')</th>\n",
       "      <th>('quantile_25', 'Speed')</th>\n",
       "      <th>('quantile_5', 'Bearing')</th>\n",
       "      <th>('quantile_5', 'Speed')</th>\n",
       "      <th>('quantile_75', 'Bearing')</th>\n",
       "      <th>('quantile_75', 'Speed')</th>\n",
       "      <th>('quantile_8', 'Bearing')</th>\n",
       "      <th>('quantile_8', 'Speed')</th>\n",
       "      <th>...</th>\n",
       "      <th>('amin', 'Speed')</th>\n",
       "      <th>('amin', 'acceleration')</th>\n",
       "      <th>('amin', 'gyro')</th>\n",
       "      <th>('amax', 'Bearing')</th>\n",
       "      <th>('amax', 'Speed')</th>\n",
       "      <th>('amax', 'acceleration')</th>\n",
       "      <th>('amax', 'gyro')</th>\n",
       "      <th>('Count_Accelerating', 'Speed_diff')</th>\n",
       "      <th>('Count_Bearing', 'Bearing_diff')</th>\n",
       "      <th>label</th>\n",
       "    </tr>\n",
       "    <tr>\n",
       "      <th>bookingID</th>\n",
       "      <th></th>\n",
       "      <th></th>\n",
       "      <th></th>\n",
       "      <th></th>\n",
       "      <th></th>\n",
       "      <th></th>\n",
       "      <th></th>\n",
       "      <th></th>\n",
       "      <th></th>\n",
       "      <th></th>\n",
       "      <th></th>\n",
       "      <th></th>\n",
       "      <th></th>\n",
       "      <th></th>\n",
       "      <th></th>\n",
       "      <th></th>\n",
       "      <th></th>\n",
       "      <th></th>\n",
       "      <th></th>\n",
       "      <th></th>\n",
       "      <th></th>\n",
       "    </tr>\n",
       "  </thead>\n",
       "  <tbody>\n",
       "    <tr>\n",
       "      <th>1.0</th>\n",
       "      <td>6844.871210</td>\n",
       "      <td>1034.0</td>\n",
       "      <td>50.0</td>\n",
       "      <td>0.000000</td>\n",
       "      <td>110.0</td>\n",
       "      <td>7.206634</td>\n",
       "      <td>208.0</td>\n",
       "      <td>13.779108</td>\n",
       "      <td>212.0</td>\n",
       "      <td>15.332941</td>\n",
       "      <td>...</td>\n",
       "      <td>0.0</td>\n",
       "      <td>6.970526</td>\n",
       "      <td>0.000509</td>\n",
       "      <td>337.0</td>\n",
       "      <td>21.882141</td>\n",
       "      <td>12.790147</td>\n",
       "      <td>0.717864</td>\n",
       "      <td>0.0</td>\n",
       "      <td>15.0</td>\n",
       "      <td>1</td>\n",
       "    </tr>\n",
       "    <tr>\n",
       "      <th>2.0</th>\n",
       "      <td>-7728.588029</td>\n",
       "      <td>825.0</td>\n",
       "      <td>22.0</td>\n",
       "      <td>0.000000</td>\n",
       "      <td>232.0</td>\n",
       "      <td>2.991146</td>\n",
       "      <td>288.0</td>\n",
       "      <td>5.281074</td>\n",
       "      <td>289.6</td>\n",
       "      <td>5.794284</td>\n",
       "      <td>...</td>\n",
       "      <td>0.0</td>\n",
       "      <td>8.234988</td>\n",
       "      <td>0.003169</td>\n",
       "      <td>354.0</td>\n",
       "      <td>9.360483</td>\n",
       "      <td>13.403410</td>\n",
       "      <td>0.463685</td>\n",
       "      <td>0.0</td>\n",
       "      <td>10.0</td>\n",
       "      <td>1</td>\n",
       "    </tr>\n",
       "    <tr>\n",
       "      <th>6.0</th>\n",
       "      <td>-2197.100215</td>\n",
       "      <td>1094.0</td>\n",
       "      <td>81.0</td>\n",
       "      <td>0.000000</td>\n",
       "      <td>248.0</td>\n",
       "      <td>1.379736</td>\n",
       "      <td>293.0</td>\n",
       "      <td>9.030643</td>\n",
       "      <td>300.0</td>\n",
       "      <td>10.426770</td>\n",
       "      <td>...</td>\n",
       "      <td>0.0</td>\n",
       "      <td>7.218154</td>\n",
       "      <td>0.002113</td>\n",
       "      <td>359.0</td>\n",
       "      <td>16.394695</td>\n",
       "      <td>14.498268</td>\n",
       "      <td>0.626294</td>\n",
       "      <td>0.0</td>\n",
       "      <td>31.0</td>\n",
       "      <td>0</td>\n",
       "    </tr>\n",
       "    <tr>\n",
       "      <th>7.0</th>\n",
       "      <td>2442.478928</td>\n",
       "      <td>959.0</td>\n",
       "      <td>46.0</td>\n",
       "      <td>3.545921</td>\n",
       "      <td>57.0</td>\n",
       "      <td>13.017325</td>\n",
       "      <td>87.0</td>\n",
       "      <td>20.886913</td>\n",
       "      <td>94.0</td>\n",
       "      <td>22.042671</td>\n",
       "      <td>...</td>\n",
       "      <td>0.0</td>\n",
       "      <td>5.525063</td>\n",
       "      <td>0.002993</td>\n",
       "      <td>359.0</td>\n",
       "      <td>25.230654</td>\n",
       "      <td>14.097100</td>\n",
       "      <td>1.423130</td>\n",
       "      <td>0.0</td>\n",
       "      <td>2.0</td>\n",
       "      <td>0</td>\n",
       "    </tr>\n",
       "    <tr>\n",
       "      <th>8.0</th>\n",
       "      <td>-547.920000</td>\n",
       "      <td>462.0</td>\n",
       "      <td>0.0</td>\n",
       "      <td>0.000000</td>\n",
       "      <td>201.0</td>\n",
       "      <td>1.900000</td>\n",
       "      <td>304.0</td>\n",
       "      <td>10.620000</td>\n",
       "      <td>307.0</td>\n",
       "      <td>12.678000</td>\n",
       "      <td>...</td>\n",
       "      <td>0.0</td>\n",
       "      <td>4.096356</td>\n",
       "      <td>0.001806</td>\n",
       "      <td>348.0</td>\n",
       "      <td>17.830000</td>\n",
       "      <td>13.513198</td>\n",
       "      <td>0.420451</td>\n",
       "      <td>1.0</td>\n",
       "      <td>16.0</td>\n",
       "      <td>0</td>\n",
       "    </tr>\n",
       "  </tbody>\n",
       "</table>\n",
       "<p>5 rows × 31 columns</p>\n",
       "</div>"
      ],
      "text/plain": [
       "              distance  second  ('quantile_25', 'Bearing')  \\\n",
       "bookingID                                                    \n",
       "1.0        6844.871210  1034.0                        50.0   \n",
       "2.0       -7728.588029   825.0                        22.0   \n",
       "6.0       -2197.100215  1094.0                        81.0   \n",
       "7.0        2442.478928   959.0                        46.0   \n",
       "8.0        -547.920000   462.0                         0.0   \n",
       "\n",
       "           ('quantile_25', 'Speed')  ('quantile_5', 'Bearing')  \\\n",
       "bookingID                                                        \n",
       "1.0                        0.000000                      110.0   \n",
       "2.0                        0.000000                      232.0   \n",
       "6.0                        0.000000                      248.0   \n",
       "7.0                        3.545921                       57.0   \n",
       "8.0                        0.000000                      201.0   \n",
       "\n",
       "           ('quantile_5', 'Speed')  ('quantile_75', 'Bearing')  \\\n",
       "bookingID                                                        \n",
       "1.0                       7.206634                       208.0   \n",
       "2.0                       2.991146                       288.0   \n",
       "6.0                       1.379736                       293.0   \n",
       "7.0                      13.017325                        87.0   \n",
       "8.0                       1.900000                       304.0   \n",
       "\n",
       "           ('quantile_75', 'Speed')  ('quantile_8', 'Bearing')  \\\n",
       "bookingID                                                        \n",
       "1.0                       13.779108                      212.0   \n",
       "2.0                        5.281074                      289.6   \n",
       "6.0                        9.030643                      300.0   \n",
       "7.0                       20.886913                       94.0   \n",
       "8.0                       10.620000                      307.0   \n",
       "\n",
       "           ('quantile_8', 'Speed')  ...  ('amin', 'Speed')  \\\n",
       "bookingID                           ...                      \n",
       "1.0                      15.332941  ...                0.0   \n",
       "2.0                       5.794284  ...                0.0   \n",
       "6.0                      10.426770  ...                0.0   \n",
       "7.0                      22.042671  ...                0.0   \n",
       "8.0                      12.678000  ...                0.0   \n",
       "\n",
       "           ('amin', 'acceleration')  ('amin', 'gyro')  ('amax', 'Bearing')  \\\n",
       "bookingID                                                                    \n",
       "1.0                        6.970526          0.000509                337.0   \n",
       "2.0                        8.234988          0.003169                354.0   \n",
       "6.0                        7.218154          0.002113                359.0   \n",
       "7.0                        5.525063          0.002993                359.0   \n",
       "8.0                        4.096356          0.001806                348.0   \n",
       "\n",
       "           ('amax', 'Speed')  ('amax', 'acceleration')  ('amax', 'gyro')  \\\n",
       "bookingID                                                                  \n",
       "1.0                21.882141                 12.790147          0.717864   \n",
       "2.0                 9.360483                 13.403410          0.463685   \n",
       "6.0                16.394695                 14.498268          0.626294   \n",
       "7.0                25.230654                 14.097100          1.423130   \n",
       "8.0                17.830000                 13.513198          0.420451   \n",
       "\n",
       "           ('Count_Accelerating', 'Speed_diff')  \\\n",
       "bookingID                                         \n",
       "1.0                                         0.0   \n",
       "2.0                                         0.0   \n",
       "6.0                                         0.0   \n",
       "7.0                                         0.0   \n",
       "8.0                                         1.0   \n",
       "\n",
       "           ('Count_Bearing', 'Bearing_diff')  label  \n",
       "bookingID                                            \n",
       "1.0                                     15.0      1  \n",
       "2.0                                     10.0      1  \n",
       "6.0                                     31.0      0  \n",
       "7.0                                      2.0      0  \n",
       "8.0                                     16.0      0  \n",
       "\n",
       "[5 rows x 31 columns]"
      ]
     },
     "execution_count": 12,
     "metadata": {},
     "output_type": "execute_result"
    }
   ],
   "source": [
    "df.head()"
   ]
  },
  {
   "cell_type": "markdown",
   "metadata": {},
   "source": [
    "Scale data and split train, validate, test set"
   ]
  },
  {
   "cell_type": "code",
   "execution_count": 54,
   "metadata": {},
   "outputs": [],
   "source": [
    "X = df.drop('label',axis=True)\n",
    "y = df['label']\n",
    "\n",
    "from sklearn.preprocessing import StandardScaler\n",
    "sc = StandardScaler()\n",
    "X = sc.fit_transform(X)\n",
    "\n",
    "X_train,X_test,y_train,y_test = train_test_split(X,y)\n",
    "X_train,X_val,y_train,y_val =train_test_split(X_train,y_train)\n",
    "X_test,X_test1,y_test,y_test1 =train_test_split(X_test,y_test,test_size=0.5)"
   ]
  },
  {
   "cell_type": "markdown",
   "metadata": {},
   "source": [
    "**First model: RFC**"
   ]
  },
  {
   "cell_type": "code",
   "execution_count": 14,
   "metadata": {},
   "outputs": [],
   "source": [
    "rfc = RandomForestClassifier()"
   ]
  },
  {
   "cell_type": "code",
   "execution_count": 15,
   "metadata": {},
   "outputs": [
    {
     "name": "stderr",
     "output_type": "stream",
     "text": [
      "/Users/caominh/anaconda3/lib/python3.7/site-packages/sklearn/ensemble/forest.py:246: FutureWarning: The default value of n_estimators will change from 10 in version 0.20 to 100 in 0.22.\n",
      "  \"10 in version 0.20 to 100 in 0.22.\", FutureWarning)\n"
     ]
    },
    {
     "data": {
      "text/plain": [
       "RandomForestClassifier(bootstrap=True, class_weight=None, criterion='gini',\n",
       "            max_depth=None, max_features='auto', max_leaf_nodes=None,\n",
       "            min_impurity_decrease=0.0, min_impurity_split=None,\n",
       "            min_samples_leaf=1, min_samples_split=2,\n",
       "            min_weight_fraction_leaf=0.0, n_estimators=10, n_jobs=None,\n",
       "            oob_score=False, random_state=None, verbose=0,\n",
       "            warm_start=False)"
      ]
     },
     "execution_count": 15,
     "metadata": {},
     "output_type": "execute_result"
    }
   ],
   "source": [
    "rfc.fit(X_train,y_train)"
   ]
  },
  {
   "cell_type": "markdown",
   "metadata": {},
   "source": [
    "Score for each test data"
   ]
  },
  {
   "cell_type": "code",
   "execution_count": 16,
   "metadata": {},
   "outputs": [
    {
     "data": {
      "text/plain": [
       "0.7505919494869772"
      ]
     },
     "execution_count": 16,
     "metadata": {},
     "output_type": "execute_result"
    }
   ],
   "source": [
    "rfc.score(X_val,y_val)"
   ]
  },
  {
   "cell_type": "code",
   "execution_count": 17,
   "metadata": {},
   "outputs": [
    {
     "data": {
      "text/plain": [
       "0.7625814091178212"
      ]
     },
     "execution_count": 17,
     "metadata": {},
     "output_type": "execute_result"
    }
   ],
   "source": [
    "rfc.score(X_test,y_test)"
   ]
  },
  {
   "cell_type": "code",
   "execution_count": 18,
   "metadata": {},
   "outputs": [
    {
     "data": {
      "text/plain": [
       "0.7602131438721137"
      ]
     },
     "execution_count": 18,
     "metadata": {},
     "output_type": "execute_result"
    }
   ],
   "source": [
    "rfc.score(X_test1,y_test1)"
   ]
  },
  {
   "cell_type": "markdown",
   "metadata": {},
   "source": [
    "*plot roc function*"
   ]
  },
  {
   "cell_type": "code",
   "execution_count": 27,
   "metadata": {},
   "outputs": [],
   "source": [
    "from sklearn.metrics import roc_curve\n",
    "from sklearn.metrics import roc_auc_score"
   ]
  },
  {
   "cell_type": "code",
   "execution_count": 28,
   "metadata": {},
   "outputs": [],
   "source": [
    "def plot_roc_curve(fpr, tpr):  \n",
    "    plt.plot(fpr, tpr, color='orange', label='ROC')\n",
    "    plt.plot([0, 1], [0, 1], color='darkblue', linestyle='--')\n",
    "    plt.xlabel('False Positive Rate')\n",
    "    plt.ylabel('True Positive Rate')\n",
    "    plt.title('Receiver Operating Characteristic (ROC) Curve')\n",
    "    plt.legend()\n",
    "    plt.show()"
   ]
  },
  {
   "cell_type": "markdown",
   "metadata": {},
   "source": [
    "*Grid search to improve parameters*"
   ]
  },
  {
   "cell_type": "code",
   "execution_count": 19,
   "metadata": {},
   "outputs": [],
   "source": [
    "from sklearn.model_selection import GridSearchCV"
   ]
  },
  {
   "cell_type": "code",
   "execution_count": 99,
   "metadata": {},
   "outputs": [],
   "source": [
    "param_grid = { \n",
    "    'n_estimators': [400, 500],\n",
    "    'max_features': ['auto', 'sqrt', 'log2'],\n",
    "    'max_depth' : [5,8,10,15],\n",
    "    'criterion' :['gini', 'entropy']\n",
    "}"
   ]
  },
  {
   "cell_type": "code",
   "execution_count": 20,
   "metadata": {},
   "outputs": [
    {
     "ename": "NameError",
     "evalue": "name 'param_grid' is not defined",
     "output_type": "error",
     "traceback": [
      "\u001b[0;31m---------------------------------------------------------------------------\u001b[0m",
      "\u001b[0;31mNameError\u001b[0m                                 Traceback (most recent call last)",
      "\u001b[0;32m<ipython-input-20-f50120eef1fb>\u001b[0m in \u001b[0;36m<module>\u001b[0;34m\u001b[0m\n\u001b[0;32m----> 1\u001b[0;31m \u001b[0mCV_rfc\u001b[0m \u001b[0;34m=\u001b[0m \u001b[0mGridSearchCV\u001b[0m\u001b[0;34m(\u001b[0m\u001b[0mestimator\u001b[0m\u001b[0;34m=\u001b[0m\u001b[0mrfc\u001b[0m\u001b[0;34m,\u001b[0m \u001b[0mparam_grid\u001b[0m\u001b[0;34m=\u001b[0m\u001b[0mparam_grid\u001b[0m\u001b[0;34m,\u001b[0m \u001b[0mcv\u001b[0m\u001b[0;34m=\u001b[0m \u001b[0;36m5\u001b[0m\u001b[0;34m)\u001b[0m\u001b[0;34m\u001b[0m\u001b[0;34m\u001b[0m\u001b[0m\n\u001b[0m\u001b[1;32m      2\u001b[0m \u001b[0mCV_rfc\u001b[0m\u001b[0;34m.\u001b[0m\u001b[0mfit\u001b[0m\u001b[0;34m(\u001b[0m\u001b[0mX_val\u001b[0m\u001b[0;34m,\u001b[0m \u001b[0my_val\u001b[0m\u001b[0;34m)\u001b[0m\u001b[0;34m\u001b[0m\u001b[0;34m\u001b[0m\u001b[0m\n",
      "\u001b[0;31mNameError\u001b[0m: name 'param_grid' is not defined"
     ]
    }
   ],
   "source": [
    "CV_rfc = GridSearchCV(estimator=rfc, param_grid=param_grid, cv= 5)\n",
    "CV_rfc.fit(X_val, y_val)"
   ]
  },
  {
   "cell_type": "code",
   "execution_count": 101,
   "metadata": {},
   "outputs": [
    {
     "data": {
      "text/plain": [
       "{'criterion': 'entropy',\n",
       " 'max_depth': 15,\n",
       " 'max_features': 'sqrt',\n",
       " 'n_estimators': 500}"
      ]
     },
     "execution_count": 101,
     "metadata": {},
     "output_type": "execute_result"
    }
   ],
   "source": [
    "CV_rfc.best_params_"
   ]
  },
  {
   "cell_type": "markdown",
   "metadata": {},
   "source": [
    "Fit new RFC with new parameters"
   ]
  },
  {
   "cell_type": "code",
   "execution_count": 21,
   "metadata": {},
   "outputs": [],
   "source": [
    "rfc1 = RandomForestClassifier(criterion='entropy',max_depth=15,max_features='sqrt',n_estimators=500)"
   ]
  },
  {
   "cell_type": "code",
   "execution_count": 22,
   "metadata": {},
   "outputs": [
    {
     "data": {
      "text/plain": [
       "0.7616416732438832"
      ]
     },
     "execution_count": 22,
     "metadata": {},
     "output_type": "execute_result"
    }
   ],
   "source": [
    "rfc1.fit(X_test,y_test)\n",
    "rfc1.score(X_val,y_val)"
   ]
  },
  {
   "cell_type": "code",
   "execution_count": 23,
   "metadata": {},
   "outputs": [
    {
     "data": {
      "text/plain": [
       "0.9899348727057431"
      ]
     },
     "execution_count": 23,
     "metadata": {},
     "output_type": "execute_result"
    }
   ],
   "source": [
    "rfc1.score(X_test,y_test)"
   ]
  },
  {
   "cell_type": "code",
   "execution_count": 24,
   "metadata": {},
   "outputs": [
    {
     "data": {
      "text/plain": [
       "0.7744227353463587"
      ]
     },
     "execution_count": 24,
     "metadata": {},
     "output_type": "execute_result"
    }
   ],
   "source": [
    "rfc1.score(X_test1,y_test1)"
   ]
  },
  {
   "cell_type": "markdown",
   "metadata": {},
   "source": [
    "Seem the model is really fit with the test data. So we use test_1 predict for the evaluate"
   ]
  },
  {
   "cell_type": "code",
   "execution_count": 37,
   "metadata": {},
   "outputs": [],
   "source": [
    "probs = rfc1.predict_proba(X_test1)[:,1]"
   ]
  },
  {
   "cell_type": "code",
   "execution_count": 38,
   "metadata": {},
   "outputs": [
    {
     "data": {
      "text/plain": [
       "0.694308703980212"
      ]
     },
     "execution_count": 38,
     "metadata": {},
     "output_type": "execute_result"
    }
   ],
   "source": [
    "roc_auc_score(y_test1,probs)"
   ]
  },
  {
   "cell_type": "code",
   "execution_count": 39,
   "metadata": {},
   "outputs": [
    {
     "data": {
      "image/png": "[encoded data removed]",
      "text/plain": [
       "<Figure size 432x288 with 1 Axes>"
      ]
     },
     "metadata": {
      "needs_background": "light"
     },
     "output_type": "display_data"
    }
   ],
   "source": [
    "fpr, tpr, thresholds = roc_curve(y_test, probs)\n",
    "plot_roc_curve(fpr, tpr)  "
   ]
  },
  {
   "cell_type": "markdown",
   "metadata": {},
   "source": [
    "**Model 2: XGB Classifier**"
   ]
  },
  {
   "cell_type": "code",
   "execution_count": 40,
   "metadata": {},
   "outputs": [],
   "source": [
    "from xgboost import XGBClassifier\n",
    "xgb = XGBClassifier()"
   ]
  },
  {
   "cell_type": "code",
   "execution_count": 41,
   "metadata": {},
   "outputs": [
    {
     "data": {
      "text/plain": [
       "XGBClassifier(base_score=0.5, booster='gbtree', colsample_bylevel=1,\n",
       "       colsample_bynode=1, colsample_bytree=1, gamma=0, learning_rate=0.1,\n",
       "       max_delta_step=0, max_depth=3, min_child_weight=1, missing=None,\n",
       "       n_estimators=100, n_jobs=1, nthread=None,\n",
       "       objective='binary:logistic', random_state=0, reg_alpha=0,\n",
       "       reg_lambda=1, scale_pos_weight=1, seed=None, silent=None,\n",
       "       subsample=1, verbosity=1)"
      ]
     },
     "execution_count": 41,
     "metadata": {},
     "output_type": "execute_result"
    }
   ],
   "source": [
    "xgb.fit(X_train,y_train)"
   ]
  },
  {
   "cell_type": "code",
   "execution_count": 42,
   "metadata": {},
   "outputs": [
    {
     "data": {
      "text/plain": [
       "0.7628255722178374"
      ]
     },
     "execution_count": 42,
     "metadata": {},
     "output_type": "execute_result"
    }
   ],
   "source": [
    "xgb.score(X_val,y_val)"
   ]
  },
  {
   "cell_type": "code",
   "execution_count": 43,
   "metadata": {},
   "outputs": [
    {
     "data": {
      "text/plain": [
       "0.7886323268206039"
      ]
     },
     "execution_count": 43,
     "metadata": {},
     "output_type": "execute_result"
    }
   ],
   "source": [
    "xgb.score(X_test,y_test)"
   ]
  },
  {
   "cell_type": "code",
   "execution_count": 44,
   "metadata": {},
   "outputs": [
    {
     "data": {
      "text/plain": [
       "0.7803433984606276"
      ]
     },
     "execution_count": 44,
     "metadata": {},
     "output_type": "execute_result"
    }
   ],
   "source": [
    "xgb.score(X_test1,y_test1)"
   ]
  },
  {
   "cell_type": "code",
   "execution_count": 49,
   "metadata": {},
   "outputs": [],
   "source": [
    "probs = xgb.predict_proba(X_test)[:, 1]"
   ]
  },
  {
   "cell_type": "code",
   "execution_count": 50,
   "metadata": {},
   "outputs": [
    {
     "data": {
      "text/plain": [
       "0.7127597799511003"
      ]
     },
     "execution_count": 50,
     "metadata": {},
     "output_type": "execute_result"
    }
   ],
   "source": [
    "roc_auc_score(y_test, probs)  "
   ]
  },
  {
   "cell_type": "code",
   "execution_count": 51,
   "metadata": {},
   "outputs": [
    {
     "data": {
      "image/png": "[encoded data removed]",
      "text/plain": [
       "<Figure size 432x288 with 1 Axes>"
      ]
     },
     "metadata": {
      "needs_background": "light"
     },
     "output_type": "display_data"
    }
   ],
   "source": [
    "fpr, tpr, thresholds = roc_curve(y_test, probs)\n",
    "plot_roc_curve(fpr, tpr)  "
   ]
  },
  {
   "cell_type": "code",
   "execution_count": 58,
   "metadata": {},
   "outputs": [],
   "source": [
    "Feature_important = pd.DataFrame(columns=df.drop('label',axis=True).columns)\n",
    "Feature_important.loc['Important'] = rfc1.feature_importances_"
   ]
  },
  {
   "cell_type": "code",
   "execution_count": 59,
   "metadata": {},
   "outputs": [
    {
     "data": {
      "text/html": [
       "<div>\n",
       "<style scoped>\n",
       "    .dataframe tbody tr th:only-of-type {\n",
       "        vertical-align: middle;\n",
       "    }\n",
       "\n",
       "    .dataframe tbody tr th {\n",
       "        vertical-align: top;\n",
       "    }\n",
       "\n",
       "    .dataframe thead th {\n",
       "        text-align: right;\n",
       "    }\n",
       "</style>\n",
       "<table border=\"1\" class=\"dataframe\">\n",
       "  <thead>\n",
       "    <tr style=\"text-align: right;\">\n",
       "      <th></th>\n",
       "      <th>distance</th>\n",
       "      <th>second</th>\n",
       "      <th>('quantile_25', 'Bearing')</th>\n",
       "      <th>('quantile_25', 'Speed')</th>\n",
       "      <th>('quantile_5', 'Bearing')</th>\n",
       "      <th>('quantile_5', 'Speed')</th>\n",
       "      <th>('quantile_75', 'Bearing')</th>\n",
       "      <th>('quantile_75', 'Speed')</th>\n",
       "      <th>('quantile_8', 'Bearing')</th>\n",
       "      <th>('quantile_8', 'Speed')</th>\n",
       "      <th>...</th>\n",
       "      <th>('amin', 'Bearing')</th>\n",
       "      <th>('amin', 'Speed')</th>\n",
       "      <th>('amin', 'acceleration')</th>\n",
       "      <th>('amin', 'gyro')</th>\n",
       "      <th>('amax', 'Bearing')</th>\n",
       "      <th>('amax', 'Speed')</th>\n",
       "      <th>('amax', 'acceleration')</th>\n",
       "      <th>('amax', 'gyro')</th>\n",
       "      <th>('Count_Accelerating', 'Speed_diff')</th>\n",
       "      <th>('Count_Bearing', 'Bearing_diff')</th>\n",
       "    </tr>\n",
       "  </thead>\n",
       "  <tbody>\n",
       "    <tr>\n",
       "      <th>Important</th>\n",
       "      <td>0.042958</td>\n",
       "      <td>0.107007</td>\n",
       "      <td>0.032122</td>\n",
       "      <td>0.021879</td>\n",
       "      <td>0.028202</td>\n",
       "      <td>0.031814</td>\n",
       "      <td>0.028733</td>\n",
       "      <td>0.028066</td>\n",
       "      <td>0.028686</td>\n",
       "      <td>0.028229</td>\n",
       "      <td>...</td>\n",
       "      <td>0.015494</td>\n",
       "      <td>0.003963</td>\n",
       "      <td>0.040959</td>\n",
       "      <td>0.033585</td>\n",
       "      <td>0.023499</td>\n",
       "      <td>0.037392</td>\n",
       "      <td>0.042676</td>\n",
       "      <td>0.036667</td>\n",
       "      <td>0.007292</td>\n",
       "      <td>0.04258</td>\n",
       "    </tr>\n",
       "  </tbody>\n",
       "</table>\n",
       "<p>1 rows × 30 columns</p>\n",
       "</div>"
      ],
      "text/plain": [
       "           distance    second  ('quantile_25', 'Bearing')  \\\n",
       "Important  0.042958  0.107007                    0.032122   \n",
       "\n",
       "           ('quantile_25', 'Speed')  ('quantile_5', 'Bearing')  \\\n",
       "Important                  0.021879                   0.028202   \n",
       "\n",
       "           ('quantile_5', 'Speed')  ('quantile_75', 'Bearing')  \\\n",
       "Important                 0.031814                    0.028733   \n",
       "\n",
       "           ('quantile_75', 'Speed')  ('quantile_8', 'Bearing')  \\\n",
       "Important                  0.028066                   0.028686   \n",
       "\n",
       "           ('quantile_8', 'Speed')  ...  ('amin', 'Bearing')  \\\n",
       "Important                 0.028229  ...             0.015494   \n",
       "\n",
       "           ('amin', 'Speed')  ('amin', 'acceleration')  ('amin', 'gyro')  \\\n",
       "Important           0.003963                  0.040959          0.033585   \n",
       "\n",
       "           ('amax', 'Bearing')  ('amax', 'Speed')  ('amax', 'acceleration')  \\\n",
       "Important             0.023499           0.037392                  0.042676   \n",
       "\n",
       "           ('amax', 'gyro')  ('Count_Accelerating', 'Speed_diff')  \\\n",
       "Important          0.036667                              0.007292   \n",
       "\n",
       "           ('Count_Bearing', 'Bearing_diff')  \n",
       "Important                            0.04258  \n",
       "\n",
       "[1 rows x 30 columns]"
      ]
     },
     "execution_count": 59,
     "metadata": {},
     "output_type": "execute_result"
    }
   ],
   "source": [
    "Feature_important"
   ]
  },
  {
   "cell_type": "markdown",
   "metadata": {},
   "source": [
    "**Model 3: Keras**"
   ]
  },
  {
   "cell_type": "code",
   "execution_count": 60,
   "metadata": {},
   "outputs": [
    {
     "name": "stderr",
     "output_type": "stream",
     "text": [
      "Using TensorFlow backend.\n"
     ]
    }
   ],
   "source": [
    "import keras\n",
    "from keras.models import Sequential"
   ]
  },
  {
   "cell_type": "code",
   "execution_count": 61,
   "metadata": {},
   "outputs": [],
   "source": [
    "y_train = keras.utils.to_categorical(y_train, 2)\n",
    "y_test = keras.utils.to_categorical(y_test, 2)\n",
    "y_val = keras.utils.to_categorical(y_val, 2)\n",
    "y_test1 = keras.utils.to_categorical(y_test1, 2)"
   ]
  },
  {
   "cell_type": "code",
   "execution_count": 62,
   "metadata": {},
   "outputs": [
    {
     "name": "stdout",
     "output_type": "stream",
     "text": [
      "WARNING:tensorflow:From /Users/caominh/anaconda3/lib/python3.7/site-packages/tensorflow/python/framework/op_def_library.py:263: colocate_with (from tensorflow.python.framework.ops) is deprecated and will be removed in a future version.\n",
      "Instructions for updating:\n",
      "Colocations handled automatically by placer.\n"
     ]
    }
   ],
   "source": [
    "from keras import Sequential\n",
    "from keras.layers import Dense,Dropout\n",
    "\n",
    "classifier = Sequential()\n",
    "classifier.add(Dense(16, activation='sigmoid', kernel_initializer='random_normal', input_dim=30))\n",
    "classifier.add(Dense(4, activation='relu', kernel_initializer='random_normal'))\n",
    "classifier.add(Dense(2, activation='sigmoid', kernel_initializer='random_normal'))\n",
    "\n",
    "classifier.compile(optimizer ='adam',loss='binary_crossentropy', metrics =['accuracy'])"
   ]
  },
  {
   "cell_type": "code",
   "execution_count": null,
   "metadata": {},
   "outputs": [
    {
     "name": "stdout",
     "output_type": "stream",
     "text": [
      "WARNING:tensorflow:From /Users/caominh/anaconda3/lib/python3.7/site-packages/tensorflow/python/ops/math_ops.py:3066: to_int32 (from tensorflow.python.ops.math_ops) is deprecated and will be removed in a future version.\n",
      "Instructions for updating:\n",
      "Use tf.cast instead.\n",
      "Train on 7599 samples, validate on 2534 samples\n",
      "Epoch 1/20\n"
     ]
    }
   ],
   "source": [
    "classifier.fit(X_train,y_train,batch_size=10, epochs=20,validation_data=(X_val,y_val))"
   ]
  },
  {
   "cell_type": "code",
   "execution_count": 77,
   "metadata": {},
   "outputs": [
    {
     "name": "stdout",
     "output_type": "stream",
     "text": [
      "Test loss: 0.4863\n",
      "Test accuracy 0.7827\n"
     ]
    }
   ],
   "source": [
    "from keras import metrics \n",
    "score_test = classifier.evaluate(X_test, y_test, verbose=0)\n",
    "print('Test loss: %.4f'% score_test[0])\n",
    "print('Test accuracy %.4f'% score_test[1])"
   ]
  },
  {
   "cell_type": "code",
   "execution_count": 78,
   "metadata": {},
   "outputs": [
    {
     "name": "stdout",
     "output_type": "stream",
     "text": [
      "Test loss: 0.4802\n",
      "Test accuracy 0.7934\n"
     ]
    }
   ],
   "source": [
    "score_test1 = classifier.evaluate(X_test1, y_test1, verbose=0)\n",
    "print('Test loss: %.4f'% score_test1[0])\n",
    "print('Test accuracy %.4f'% score_test1[1])"
   ]
  },
  {
   "cell_type": "code",
   "execution_count": 79,
   "metadata": {},
   "outputs": [
    {
     "data": {
      "image/png": "[encoded data removed]",
      "text/plain": [
       "<Figure size 432x288 with 1 Axes>"
      ]
     },
     "metadata": {
      "needs_background": "light"
     },
     "output_type": "display_data"
    }
   ],
   "source": [
    "plot_roc_curve(roc_curve(y_test[:, 1], classifier.predict(X_test)[:, 1])[0],roc_curve(y_test[:, 1], classifier.predict(X_test)[:, 1])[1])"
   ]
  },
  {
   "cell_type": "code",
   "execution_count": null,
   "metadata": {},
   "outputs": [],
   "source": []
  }
 ],
 "metadata": {
  "kernelspec": {
   "display_name": "Python 3",
   "language": "python",
   "name": "python3"
  },
  "language_info": {
   "codemirror_mode": {
    "name": "ipython",
    "version": 3
   },
   "file_extension": ".py",
   "mimetype": "text/x-python",
   "name": "python",
   "nbconvert_exporter": "python",
   "pygments_lexer": "ipython3",
   "version": "3.7.3"
  }
 },
 "nbformat": 4,
 "nbformat_minor": 2
}
