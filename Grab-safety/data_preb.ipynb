{
 "cells": [
  {
   "cell_type": "markdown",
   "metadata": {},
   "source": [
    "**Load library as usual**"
   ]
  },
  {
   "cell_type": "code",
   "execution_count": 1,
   "metadata": {},
   "outputs": [],
   "source": [
    "import pandas as pd\n",
    "import seaborn as sns\n",
    "import matplotlib.pyplot as plt\n",
    "import os"
   ]
  },
  {
   "cell_type": "markdown",
   "metadata": {},
   "source": [
    "**Load data**"
   ]
  },
  {
   "cell_type": "code",
   "execution_count": 6,
   "metadata": {},
   "outputs": [
    {
     "name": "stderr",
     "output_type": "stream",
     "text": [
      "/anaconda3/lib/python3.7/site-packages/ipykernel_launcher.py:1: FutureWarning: Sorting because non-concatenation axis is not aligned. A future version\n",
      "of pandas will change to not sort by default.\n",
      "\n",
      "To accept the future behavior, pass 'sort=False'.\n",
      "\n",
      "To retain the current behavior and silence the warning, pass 'sort=True'.\n",
      "\n",
      "  \"\"\"Entry point for launching an IPython kernel.\n"
     ]
    }
   ],
   "source": [
    "df = pd.concat(map(pd.read_csv, ['features/' + i for i in os.listdir('features/')]))"
   ]
  },
  {
   "cell_type": "markdown",
   "metadata": {},
   "source": [
    "**Show some info**"
   ]
  },
  {
   "cell_type": "code",
   "execution_count": 7,
   "metadata": {},
   "outputs": [
    {
     "data": {
      "text/html": [
       "<div>\n",
       "<style scoped>\n",
       "    .dataframe tbody tr th:only-of-type {\n",
       "        vertical-align: middle;\n",
       "    }\n",
       "\n",
       "    .dataframe tbody tr th {\n",
       "        vertical-align: top;\n",
       "    }\n",
       "\n",
       "    .dataframe thead th {\n",
       "        text-align: right;\n",
       "    }\n",
       "</style>\n",
       "<table border=\"1\" class=\"dataframe\">\n",
       "  <thead>\n",
       "    <tr style=\"text-align: right;\">\n",
       "      <th></th>\n",
       "      <th>Accuracy</th>\n",
       "      <th>Bearing</th>\n",
       "      <th>Speed</th>\n",
       "      <th>Unnamed: 0</th>\n",
       "      <th>acceleration_x</th>\n",
       "      <th>acceleration_y</th>\n",
       "      <th>acceleration_z</th>\n",
       "      <th>bookingID</th>\n",
       "      <th>gyro_x</th>\n",
       "      <th>gyro_y</th>\n",
       "      <th>gyro_z</th>\n",
       "      <th>second</th>\n",
       "    </tr>\n",
       "  </thead>\n",
       "  <tbody>\n",
       "    <tr>\n",
       "      <th>0</th>\n",
       "      <td>4.000</td>\n",
       "      <td>203.000000</td>\n",
       "      <td>6.480000</td>\n",
       "      <td>NaN</td>\n",
       "      <td>1.001973</td>\n",
       "      <td>9.745000</td>\n",
       "      <td>-0.790087</td>\n",
       "      <td>1.194001e+12</td>\n",
       "      <td>-0.066046</td>\n",
       "      <td>0.019175</td>\n",
       "      <td>0.044741</td>\n",
       "      <td>246.0</td>\n",
       "    </tr>\n",
       "    <tr>\n",
       "      <th>1</th>\n",
       "      <td>3.000</td>\n",
       "      <td>311.000000</td>\n",
       "      <td>0.340365</td>\n",
       "      <td>NaN</td>\n",
       "      <td>0.452518</td>\n",
       "      <td>9.273026</td>\n",
       "      <td>3.098191</td>\n",
       "      <td>1.099512e+12</td>\n",
       "      <td>0.005382</td>\n",
       "      <td>0.002155</td>\n",
       "      <td>-0.001436</td>\n",
       "      <td>66.0</td>\n",
       "    </tr>\n",
       "    <tr>\n",
       "      <th>2</th>\n",
       "      <td>10.000</td>\n",
       "      <td>142.807999</td>\n",
       "      <td>2.050000</td>\n",
       "      <td>NaN</td>\n",
       "      <td>0.018542</td>\n",
       "      <td>-8.041156</td>\n",
       "      <td>-4.960114</td>\n",
       "      <td>9.620727e+11</td>\n",
       "      <td>0.004223</td>\n",
       "      <td>-0.014875</td>\n",
       "      <td>0.007397</td>\n",
       "      <td>1552.0</td>\n",
       "    </tr>\n",
       "    <tr>\n",
       "      <th>3</th>\n",
       "      <td>8.000</td>\n",
       "      <td>171.205292</td>\n",
       "      <td>17.608448</td>\n",
       "      <td>NaN</td>\n",
       "      <td>-0.290698</td>\n",
       "      <td>-8.295367</td>\n",
       "      <td>-3.049042</td>\n",
       "      <td>1.142461e+12</td>\n",
       "      <td>0.033618</td>\n",
       "      <td>0.046224</td>\n",
       "      <td>0.030559</td>\n",
       "      <td>277.0</td>\n",
       "    </tr>\n",
       "    <tr>\n",
       "      <th>4</th>\n",
       "      <td>19.379</td>\n",
       "      <td>0.000000</td>\n",
       "      <td>0.000000</td>\n",
       "      <td>NaN</td>\n",
       "      <td>0.675613</td>\n",
       "      <td>8.846130</td>\n",
       "      <td>1.852508</td>\n",
       "      <td>4.123169e+11</td>\n",
       "      <td>-0.008652</td>\n",
       "      <td>0.003693</td>\n",
       "      <td>0.001160</td>\n",
       "      <td>148.0</td>\n",
       "    </tr>\n",
       "  </tbody>\n",
       "</table>\n",
       "</div>"
      ],
      "text/plain": [
       "   Accuracy     Bearing      Speed Unnamed: 0  acceleration_x  acceleration_y  \\\n",
       "0     4.000  203.000000   6.480000        NaN        1.001973        9.745000   \n",
       "1     3.000  311.000000   0.340365        NaN        0.452518        9.273026   \n",
       "2    10.000  142.807999   2.050000        NaN        0.018542       -8.041156   \n",
       "3     8.000  171.205292  17.608448        NaN       -0.290698       -8.295367   \n",
       "4    19.379    0.000000   0.000000        NaN        0.675613        8.846130   \n",
       "\n",
       "   acceleration_z     bookingID    gyro_x    gyro_y    gyro_z  second  \n",
       "0       -0.790087  1.194001e+12 -0.066046  0.019175  0.044741   246.0  \n",
       "1        3.098191  1.099512e+12  0.005382  0.002155 -0.001436    66.0  \n",
       "2       -4.960114  9.620727e+11  0.004223 -0.014875  0.007397  1552.0  \n",
       "3       -3.049042  1.142461e+12  0.033618  0.046224  0.030559   277.0  \n",
       "4        1.852508  4.123169e+11 -0.008652  0.003693  0.001160   148.0  "
      ]
     },
     "execution_count": 7,
     "metadata": {},
     "output_type": "execute_result"
    }
   ],
   "source": [
    "df.head()"
   ]
  },
  {
   "cell_type": "code",
   "execution_count": 8,
   "metadata": {},
   "outputs": [
    {
     "name": "stdout",
     "output_type": "stream",
     "text": [
      "<class 'pandas.core.frame.DataFrame'>\n",
      "Int64Index: 16135561 entries, 0 to 1613552\n",
      "Data columns (total 12 columns):\n",
      "Accuracy          float64\n",
      "Bearing           float64\n",
      "Speed             float64\n",
      "Unnamed: 0        object\n",
      "acceleration_x    float64\n",
      "acceleration_y    float64\n",
      "acceleration_z    float64\n",
      "bookingID         float64\n",
      "gyro_x            float64\n",
      "gyro_y            float64\n",
      "gyro_z            float64\n",
      "second            float64\n",
      "dtypes: float64(11), object(1)\n",
      "memory usage: 1.6+ GB\n"
     ]
    }
   ],
   "source": [
    "df.info()"
   ]
  },
  {
   "cell_type": "code",
   "execution_count": 9,
   "metadata": {},
   "outputs": [
    {
     "data": {
      "text/html": [
       "<div>\n",
       "<style scoped>\n",
       "    .dataframe tbody tr th:only-of-type {\n",
       "        vertical-align: middle;\n",
       "    }\n",
       "\n",
       "    .dataframe tbody tr th {\n",
       "        vertical-align: top;\n",
       "    }\n",
       "\n",
       "    .dataframe thead th {\n",
       "        text-align: right;\n",
       "    }\n",
       "</style>\n",
       "<table border=\"1\" class=\"dataframe\">\n",
       "  <thead>\n",
       "    <tr style=\"text-align: right;\">\n",
       "      <th></th>\n",
       "      <th>Accuracy</th>\n",
       "      <th>Bearing</th>\n",
       "      <th>Speed</th>\n",
       "      <th>acceleration_x</th>\n",
       "      <th>acceleration_y</th>\n",
       "      <th>acceleration_z</th>\n",
       "      <th>bookingID</th>\n",
       "      <th>gyro_x</th>\n",
       "      <th>gyro_y</th>\n",
       "      <th>gyro_z</th>\n",
       "      <th>second</th>\n",
       "    </tr>\n",
       "  </thead>\n",
       "  <tbody>\n",
       "    <tr>\n",
       "      <th>count</th>\n",
       "      <td>1.613556e+07</td>\n",
       "      <td>1.613556e+07</td>\n",
       "      <td>1.613556e+07</td>\n",
       "      <td>1.613556e+07</td>\n",
       "      <td>1.613556e+07</td>\n",
       "      <td>1.613556e+07</td>\n",
       "      <td>1.613556e+07</td>\n",
       "      <td>1.613556e+07</td>\n",
       "      <td>1.613556e+07</td>\n",
       "      <td>1.613556e+07</td>\n",
       "      <td>1.613556e+07</td>\n",
       "    </tr>\n",
       "    <tr>\n",
       "      <th>mean</th>\n",
       "      <td>1.161035e+01</td>\n",
       "      <td>1.689684e+02</td>\n",
       "      <td>9.006543e+00</td>\n",
       "      <td>6.914529e-02</td>\n",
       "      <td>4.468976e+00</td>\n",
       "      <td>8.942974e-01</td>\n",
       "      <td>8.184819e+11</td>\n",
       "      <td>-1.710847e-03</td>\n",
       "      <td>2.800733e-04</td>\n",
       "      <td>-2.569688e-04</td>\n",
       "      <td>3.803484e+03</td>\n",
       "    </tr>\n",
       "    <tr>\n",
       "      <th>std</th>\n",
       "      <td>8.691672e+01</td>\n",
       "      <td>1.072966e+02</td>\n",
       "      <td>8.106415e+00</td>\n",
       "      <td>1.424161e+00</td>\n",
       "      <td>8.130664e+00</td>\n",
       "      <td>3.251549e+00</td>\n",
       "      <td>4.952476e+11</td>\n",
       "      <td>1.445619e-01</td>\n",
       "      <td>3.400630e-01</td>\n",
       "      <td>1.480824e-01</td>\n",
       "      <td>1.436686e+06</td>\n",
       "    </tr>\n",
       "    <tr>\n",
       "      <th>min</th>\n",
       "      <td>7.500000e-01</td>\n",
       "      <td>0.000000e+00</td>\n",
       "      <td>-2.000000e+00</td>\n",
       "      <td>-7.841969e+01</td>\n",
       "      <td>-7.299412e+01</td>\n",
       "      <td>-7.844842e+01</td>\n",
       "      <td>0.000000e+00</td>\n",
       "      <td>-4.845575e+01</td>\n",
       "      <td>-7.488861e+01</td>\n",
       "      <td>-5.355445e+01</td>\n",
       "      <td>0.000000e+00</td>\n",
       "    </tr>\n",
       "    <tr>\n",
       "      <th>25%</th>\n",
       "      <td>3.900000e+00</td>\n",
       "      <td>7.800000e+01</td>\n",
       "      <td>1.020000e+00</td>\n",
       "      <td>-5.081238e-01</td>\n",
       "      <td>-2.022476e+00</td>\n",
       "      <td>-9.316101e-01</td>\n",
       "      <td>3.779571e+11</td>\n",
       "      <td>-2.678888e-02</td>\n",
       "      <td>-2.993851e-02</td>\n",
       "      <td>-1.876500e-02</td>\n",
       "      <td>2.410000e+02</td>\n",
       "    </tr>\n",
       "    <tr>\n",
       "      <th>50%</th>\n",
       "      <td>4.250000e+00</td>\n",
       "      <td>1.688700e+02</td>\n",
       "      <td>7.530000e+00</td>\n",
       "      <td>6.137085e-02</td>\n",
       "      <td>9.081485e+00</td>\n",
       "      <td>7.757450e-01</td>\n",
       "      <td>8.074539e+11</td>\n",
       "      <td>-6.432411e-04</td>\n",
       "      <td>2.645046e-04</td>\n",
       "      <td>-3.542004e-05</td>\n",
       "      <td>5.200000e+02</td>\n",
       "    </tr>\n",
       "    <tr>\n",
       "      <th>75%</th>\n",
       "      <td>8.000000e+00</td>\n",
       "      <td>2.629840e+02</td>\n",
       "      <td>1.548000e+01</td>\n",
       "      <td>6.350620e-01</td>\n",
       "      <td>9.709778e+00</td>\n",
       "      <td>2.750938e+00</td>\n",
       "      <td>1.254130e+12</td>\n",
       "      <td>2.330639e-02</td>\n",
       "      <td>3.143085e-02</td>\n",
       "      <td>1.823425e-02</td>\n",
       "      <td>8.630000e+02</td>\n",
       "    </tr>\n",
       "    <tr>\n",
       "      <th>max</th>\n",
       "      <td>6.070101e+03</td>\n",
       "      <td>3.599995e+02</td>\n",
       "      <td>1.480186e+02</td>\n",
       "      <td>6.687346e+01</td>\n",
       "      <td>7.505589e+01</td>\n",
       "      <td>7.805576e+01</td>\n",
       "      <td>1.709397e+12</td>\n",
       "      <td>3.983975e+01</td>\n",
       "      <td>8.031496e+01</td>\n",
       "      <td>6.630078e+01</td>\n",
       "      <td>1.495797e+09</td>\n",
       "    </tr>\n",
       "  </tbody>\n",
       "</table>\n",
       "</div>"
      ],
      "text/plain": [
       "           Accuracy       Bearing         Speed  acceleration_x  \\\n",
       "count  1.613556e+07  1.613556e+07  1.613556e+07    1.613556e+07   \n",
       "mean   1.161035e+01  1.689684e+02  9.006543e+00    6.914529e-02   \n",
       "std    8.691672e+01  1.072966e+02  8.106415e+00    1.424161e+00   \n",
       "min    7.500000e-01  0.000000e+00 -2.000000e+00   -7.841969e+01   \n",
       "25%    3.900000e+00  7.800000e+01  1.020000e+00   -5.081238e-01   \n",
       "50%    4.250000e+00  1.688700e+02  7.530000e+00    6.137085e-02   \n",
       "75%    8.000000e+00  2.629840e+02  1.548000e+01    6.350620e-01   \n",
       "max    6.070101e+03  3.599995e+02  1.480186e+02    6.687346e+01   \n",
       "\n",
       "       acceleration_y  acceleration_z     bookingID        gyro_x  \\\n",
       "count    1.613556e+07    1.613556e+07  1.613556e+07  1.613556e+07   \n",
       "mean     4.468976e+00    8.942974e-01  8.184819e+11 -1.710847e-03   \n",
       "std      8.130664e+00    3.251549e+00  4.952476e+11  1.445619e-01   \n",
       "min     -7.299412e+01   -7.844842e+01  0.000000e+00 -4.845575e+01   \n",
       "25%     -2.022476e+00   -9.316101e-01  3.779571e+11 -2.678888e-02   \n",
       "50%      9.081485e+00    7.757450e-01  8.074539e+11 -6.432411e-04   \n",
       "75%      9.709778e+00    2.750938e+00  1.254130e+12  2.330639e-02   \n",
       "max      7.505589e+01    7.805576e+01  1.709397e+12  3.983975e+01   \n",
       "\n",
       "             gyro_y        gyro_z        second  \n",
       "count  1.613556e+07  1.613556e+07  1.613556e+07  \n",
       "mean   2.800733e-04 -2.569688e-04  3.803484e+03  \n",
       "std    3.400630e-01  1.480824e-01  1.436686e+06  \n",
       "min   -7.488861e+01 -5.355445e+01  0.000000e+00  \n",
       "25%   -2.993851e-02 -1.876500e-02  2.410000e+02  \n",
       "50%    2.645046e-04 -3.542004e-05  5.200000e+02  \n",
       "75%    3.143085e-02  1.823425e-02  8.630000e+02  \n",
       "max    8.031496e+01  6.630078e+01  1.495797e+09  "
      ]
     },
     "execution_count": 9,
     "metadata": {},
     "output_type": "execute_result"
    }
   ],
   "source": [
    "df.describe()"
   ]
  },
  {
   "cell_type": "code",
   "execution_count": 10,
   "metadata": {},
   "outputs": [
    {
     "data": {
      "text/plain": [
       "Index(['Accuracy', 'Bearing', 'Speed', 'Unnamed: 0', 'acceleration_x',\n",
       "       'acceleration_y', 'acceleration_z', 'bookingID', 'gyro_x', 'gyro_y',\n",
       "       'gyro_z', 'second'],\n",
       "      dtype='object')"
      ]
     },
     "execution_count": 10,
     "metadata": {},
     "output_type": "execute_result"
    }
   ],
   "source": [
    "df.columns"
   ]
  },
  {
   "cell_type": "markdown",
   "metadata": {},
   "source": [
    "*reformat*"
   ]
  },
  {
   "cell_type": "code",
   "execution_count": 11,
   "metadata": {},
   "outputs": [],
   "source": [
    "df = df[['bookingID','second','Accuracy', 'Bearing', 'Speed','acceleration_x',\n",
    "       'acceleration_y', 'acceleration_z', 'gyro_x', 'gyro_y',\n",
    "       'gyro_z']]"
   ]
  },
  {
   "cell_type": "markdown",
   "metadata": {},
   "source": [
    "**Data explore**"
   ]
  },
  {
   "cell_type": "code",
   "execution_count": 12,
   "metadata": {},
   "outputs": [
    {
     "data": {
      "text/plain": [
       "20000"
      ]
     },
     "execution_count": 12,
     "metadata": {},
     "output_type": "execute_result"
    }
   ],
   "source": [
    "#unique trip count\n",
    "df['bookingID'].nunique()"
   ]
  },
  {
   "cell_type": "code",
   "execution_count": 13,
   "metadata": {},
   "outputs": [],
   "source": [
    "#trip duration\n",
    "trip_duration = df.pivot_table(index = 'bookingID',values='second',aggfunc='max')"
   ]
  },
  {
   "cell_type": "code",
   "execution_count": 14,
   "metadata": {},
   "outputs": [],
   "source": [
    "trip_duration['duration_min'] = trip_duration['second']/60"
   ]
  },
  {
   "cell_type": "code",
   "execution_count": 15,
   "metadata": {},
   "outputs": [
    {
     "data": {
      "text/html": [
       "<div>\n",
       "<style scoped>\n",
       "    .dataframe tbody tr th:only-of-type {\n",
       "        vertical-align: middle;\n",
       "    }\n",
       "\n",
       "    .dataframe tbody tr th {\n",
       "        vertical-align: top;\n",
       "    }\n",
       "\n",
       "    .dataframe thead th {\n",
       "        text-align: right;\n",
       "    }\n",
       "</style>\n",
       "<table border=\"1\" class=\"dataframe\">\n",
       "  <thead>\n",
       "    <tr style=\"text-align: right;\">\n",
       "      <th></th>\n",
       "      <th>second</th>\n",
       "      <th>duration_min</th>\n",
       "    </tr>\n",
       "  </thead>\n",
       "  <tbody>\n",
       "    <tr>\n",
       "      <th>count</th>\n",
       "      <td>2.000000e+04</td>\n",
       "      <td>2.000000e+04</td>\n",
       "    </tr>\n",
       "    <tr>\n",
       "      <th>mean</th>\n",
       "      <td>1.995713e+05</td>\n",
       "      <td>3.326189e+03</td>\n",
       "    </tr>\n",
       "    <tr>\n",
       "      <th>std</th>\n",
       "      <td>1.373137e+07</td>\n",
       "      <td>2.288561e+05</td>\n",
       "    </tr>\n",
       "    <tr>\n",
       "      <th>min</th>\n",
       "      <td>1.190000e+02</td>\n",
       "      <td>1.983333e+00</td>\n",
       "    </tr>\n",
       "    <tr>\n",
       "      <th>25%</th>\n",
       "      <td>5.540000e+02</td>\n",
       "      <td>9.233333e+00</td>\n",
       "    </tr>\n",
       "    <tr>\n",
       "      <th>50%</th>\n",
       "      <td>8.540000e+02</td>\n",
       "      <td>1.423333e+01</td>\n",
       "    </tr>\n",
       "    <tr>\n",
       "      <th>75%</th>\n",
       "      <td>1.221000e+03</td>\n",
       "      <td>2.035000e+01</td>\n",
       "    </tr>\n",
       "    <tr>\n",
       "      <th>max</th>\n",
       "      <td>1.495797e+09</td>\n",
       "      <td>2.492995e+07</td>\n",
       "    </tr>\n",
       "  </tbody>\n",
       "</table>\n",
       "</div>"
      ],
      "text/plain": [
       "             second  duration_min\n",
       "count  2.000000e+04  2.000000e+04\n",
       "mean   1.995713e+05  3.326189e+03\n",
       "std    1.373137e+07  2.288561e+05\n",
       "min    1.190000e+02  1.983333e+00\n",
       "25%    5.540000e+02  9.233333e+00\n",
       "50%    8.540000e+02  1.423333e+01\n",
       "75%    1.221000e+03  2.035000e+01\n",
       "max    1.495797e+09  2.492995e+07"
      ]
     },
     "execution_count": 15,
     "metadata": {},
     "output_type": "execute_result"
    }
   ],
   "source": [
    "trip_duration.describe()"
   ]
  },
  {
   "cell_type": "code",
   "execution_count": 16,
   "metadata": {},
   "outputs": [],
   "source": [
    "#min trip: 2min, #0.5 quantile: 14min, #0.75 quantile: 20min, max trip: 2.492995e+07 min?\n",
    "#Consider trip < 1hour\n"
   ]
  },
  {
   "cell_type": "code",
   "execution_count": 17,
   "metadata": {},
   "outputs": [
    {
     "data": {
      "text/plain": [
       "<matplotlib.axes._subplots.AxesSubplot at 0x108515080>"
      ]
     },
     "execution_count": 17,
     "metadata": {},
     "output_type": "execute_result"
    },
    {
     "data": {
      "image/png": "[encoded data removed]",
      "text/plain": [
       "<Figure size 432x288 with 1 Axes>"
      ]
     },
     "metadata": {
      "needs_background": "light"
     },
     "output_type": "display_data"
    }
   ],
   "source": [
    "sns.distplot(trip_duration[trip_duration['second']<60*60]['duration_min'],bins=30)"
   ]
  },
  {
   "cell_type": "code",
   "execution_count": 18,
   "metadata": {},
   "outputs": [],
   "source": [
    "#trip > 35 mins -> outliner\n",
    "model_trip = trip_duration[trip_duration['second']<35*60]"
   ]
  },
  {
   "cell_type": "code",
   "execution_count": 19,
   "metadata": {},
   "outputs": [],
   "source": [
    "model_df = df[df['bookingID'].isin(model_trip.index)]"
   ]
  },
  {
   "cell_type": "code",
   "execution_count": 20,
   "metadata": {},
   "outputs": [
    {
     "data": {
      "text/html": [
       "<div>\n",
       "<style scoped>\n",
       "    .dataframe tbody tr th:only-of-type {\n",
       "        vertical-align: middle;\n",
       "    }\n",
       "\n",
       "    .dataframe tbody tr th {\n",
       "        vertical-align: top;\n",
       "    }\n",
       "\n",
       "    .dataframe thead th {\n",
       "        text-align: right;\n",
       "    }\n",
       "</style>\n",
       "<table border=\"1\" class=\"dataframe\">\n",
       "  <thead>\n",
       "    <tr style=\"text-align: right;\">\n",
       "      <th></th>\n",
       "      <th>bookingID</th>\n",
       "      <th>second</th>\n",
       "      <th>Accuracy</th>\n",
       "      <th>Bearing</th>\n",
       "      <th>Speed</th>\n",
       "      <th>acceleration_x</th>\n",
       "      <th>acceleration_y</th>\n",
       "      <th>acceleration_z</th>\n",
       "      <th>gyro_x</th>\n",
       "      <th>gyro_y</th>\n",
       "      <th>gyro_z</th>\n",
       "    </tr>\n",
       "  </thead>\n",
       "  <tbody>\n",
       "    <tr>\n",
       "      <th>count</th>\n",
       "      <td>1.551435e+07</td>\n",
       "      <td>1.551435e+07</td>\n",
       "      <td>1.551435e+07</td>\n",
       "      <td>1.551435e+07</td>\n",
       "      <td>1.551435e+07</td>\n",
       "      <td>1.551435e+07</td>\n",
       "      <td>1.551435e+07</td>\n",
       "      <td>1.551435e+07</td>\n",
       "      <td>1.551435e+07</td>\n",
       "      <td>1.551435e+07</td>\n",
       "      <td>1.551435e+07</td>\n",
       "    </tr>\n",
       "    <tr>\n",
       "      <th>mean</th>\n",
       "      <td>8.171206e+11</td>\n",
       "      <td>5.710128e+02</td>\n",
       "      <td>1.114529e+01</td>\n",
       "      <td>1.690866e+02</td>\n",
       "      <td>8.997881e+00</td>\n",
       "      <td>7.088026e-02</td>\n",
       "      <td>4.505070e+00</td>\n",
       "      <td>8.948446e-01</td>\n",
       "      <td>-1.680601e-03</td>\n",
       "      <td>2.653644e-04</td>\n",
       "      <td>-2.278518e-04</td>\n",
       "    </tr>\n",
       "    <tr>\n",
       "      <th>std</th>\n",
       "      <td>4.951713e+11</td>\n",
       "      <td>4.081543e+02</td>\n",
       "      <td>8.369600e+01</td>\n",
       "      <td>1.072247e+02</td>\n",
       "      <td>8.090107e+00</td>\n",
       "      <td>1.406767e+00</td>\n",
       "      <td>8.122523e+00</td>\n",
       "      <td>3.225992e+00</td>\n",
       "      <td>1.403092e-01</td>\n",
       "      <td>3.433398e-01</td>\n",
       "      <td>1.441309e-01</td>\n",
       "    </tr>\n",
       "    <tr>\n",
       "      <th>min</th>\n",
       "      <td>0.000000e+00</td>\n",
       "      <td>0.000000e+00</td>\n",
       "      <td>7.500000e-01</td>\n",
       "      <td>0.000000e+00</td>\n",
       "      <td>-1.719776e+00</td>\n",
       "      <td>-7.841969e+01</td>\n",
       "      <td>-7.299412e+01</td>\n",
       "      <td>-7.844842e+01</td>\n",
       "      <td>-3.347175e+01</td>\n",
       "      <td>-7.488861e+01</td>\n",
       "      <td>-3.746538e+01</td>\n",
       "    </tr>\n",
       "    <tr>\n",
       "      <th>25%</th>\n",
       "      <td>3.779571e+11</td>\n",
       "      <td>2.350000e+02</td>\n",
       "      <td>3.900000e+00</td>\n",
       "      <td>7.800000e+01</td>\n",
       "      <td>1.034720e+00</td>\n",
       "      <td>-5.066284e-01</td>\n",
       "      <td>-1.502502e+00</td>\n",
       "      <td>-9.314297e-01</td>\n",
       "      <td>-2.673441e-02</td>\n",
       "      <td>-3.007614e-02</td>\n",
       "      <td>-1.876229e-02</td>\n",
       "    </tr>\n",
       "    <tr>\n",
       "      <th>50%</th>\n",
       "      <td>7.988639e+11</td>\n",
       "      <td>5.050000e+02</td>\n",
       "      <td>4.193000e+00</td>\n",
       "      <td>1.690000e+02</td>\n",
       "      <td>7.530061e+00</td>\n",
       "      <td>6.225114e-02</td>\n",
       "      <td>9.088667e+00</td>\n",
       "      <td>7.757450e-01</td>\n",
       "      <td>-6.401868e-04</td>\n",
       "      <td>2.593994e-04</td>\n",
       "      <td>-3.290812e-05</td>\n",
       "    </tr>\n",
       "    <tr>\n",
       "      <th>75%</th>\n",
       "      <td>1.254130e+12</td>\n",
       "      <td>8.320000e+02</td>\n",
       "      <td>8.000000e+00</td>\n",
       "      <td>2.630000e+02</td>\n",
       "      <td>1.544000e+01</td>\n",
       "      <td>6.344818e-01</td>\n",
       "      <td>9.710882e+00</td>\n",
       "      <td>2.750938e+00</td>\n",
       "      <td>2.334727e-02</td>\n",
       "      <td>3.145083e-02</td>\n",
       "      <td>1.824958e-02</td>\n",
       "    </tr>\n",
       "    <tr>\n",
       "      <th>max</th>\n",
       "      <td>1.709397e+12</td>\n",
       "      <td>2.099000e+03</td>\n",
       "      <td>6.070101e+03</td>\n",
       "      <td>3.599995e+02</td>\n",
       "      <td>1.480186e+02</td>\n",
       "      <td>6.687346e+01</td>\n",
       "      <td>7.281000e+01</td>\n",
       "      <td>7.805576e+01</td>\n",
       "      <td>3.983975e+01</td>\n",
       "      <td>8.031496e+01</td>\n",
       "      <td>6.630078e+01</td>\n",
       "    </tr>\n",
       "  </tbody>\n",
       "</table>\n",
       "</div>"
      ],
      "text/plain": [
       "          bookingID        second      Accuracy       Bearing         Speed  \\\n",
       "count  1.551435e+07  1.551435e+07  1.551435e+07  1.551435e+07  1.551435e+07   \n",
       "mean   8.171206e+11  5.710128e+02  1.114529e+01  1.690866e+02  8.997881e+00   \n",
       "std    4.951713e+11  4.081543e+02  8.369600e+01  1.072247e+02  8.090107e+00   \n",
       "min    0.000000e+00  0.000000e+00  7.500000e-01  0.000000e+00 -1.719776e+00   \n",
       "25%    3.779571e+11  2.350000e+02  3.900000e+00  7.800000e+01  1.034720e+00   \n",
       "50%    7.988639e+11  5.050000e+02  4.193000e+00  1.690000e+02  7.530061e+00   \n",
       "75%    1.254130e+12  8.320000e+02  8.000000e+00  2.630000e+02  1.544000e+01   \n",
       "max    1.709397e+12  2.099000e+03  6.070101e+03  3.599995e+02  1.480186e+02   \n",
       "\n",
       "       acceleration_x  acceleration_y  acceleration_z        gyro_x  \\\n",
       "count    1.551435e+07    1.551435e+07    1.551435e+07  1.551435e+07   \n",
       "mean     7.088026e-02    4.505070e+00    8.948446e-01 -1.680601e-03   \n",
       "std      1.406767e+00    8.122523e+00    3.225992e+00  1.403092e-01   \n",
       "min     -7.841969e+01   -7.299412e+01   -7.844842e+01 -3.347175e+01   \n",
       "25%     -5.066284e-01   -1.502502e+00   -9.314297e-01 -2.673441e-02   \n",
       "50%      6.225114e-02    9.088667e+00    7.757450e-01 -6.401868e-04   \n",
       "75%      6.344818e-01    9.710882e+00    2.750938e+00  2.334727e-02   \n",
       "max      6.687346e+01    7.281000e+01    7.805576e+01  3.983975e+01   \n",
       "\n",
       "             gyro_y        gyro_z  \n",
       "count  1.551435e+07  1.551435e+07  \n",
       "mean   2.653644e-04 -2.278518e-04  \n",
       "std    3.433398e-01  1.441309e-01  \n",
       "min   -7.488861e+01 -3.746538e+01  \n",
       "25%   -3.007614e-02 -1.876229e-02  \n",
       "50%    2.593994e-04 -3.290812e-05  \n",
       "75%    3.145083e-02  1.824958e-02  \n",
       "max    8.031496e+01  6.630078e+01  "
      ]
     },
     "execution_count": 20,
     "metadata": {},
     "output_type": "execute_result"
    }
   ],
   "source": [
    "model_df.describe()"
   ]
  },
  {
   "cell_type": "code",
   "execution_count": 21,
   "metadata": {},
   "outputs": [],
   "source": [
    "#Accuracy: \n",
    "#The United States government currently claims 4 meter RMS (7.8 meter 95% Confidence Interval) horizontal accuracy for civilian (SPS) GPS, so we drop trip got mean Accuracy > 7.8m and point with Accuracy > 7.8m\n",
    "Accuracy_df = df.pivot_table(index = 'bookingID',values='Accuracy',aggfunc='mean')\n",
    "model_df = df[df['bookingID'].isin(Accuracy_df[Accuracy_df['Accuracy']<7.8].index)]\n",
    "model_df = model_df[model_df['Accuracy']<7.8]"
   ]
  },
  {
   "cell_type": "code",
   "execution_count": 22,
   "metadata": {},
   "outputs": [
    {
     "data": {
      "text/plain": [
       "count    9.895088e+06\n",
       "mean     8.960250e+00\n",
       "std      8.165093e+00\n",
       "min     -1.719776e+00\n",
       "25%      3.000000e-01\n",
       "50%      7.629081e+00\n",
       "75%      1.553760e+01\n",
       "max      3.912000e+01\n",
       "Name: Speed, dtype: float64"
      ]
     },
     "execution_count": 22,
     "metadata": {},
     "output_type": "execute_result"
    }
   ],
   "source": [
    "#Speed:\n",
    "model_df['Speed'].describe()"
   ]
  },
  {
   "cell_type": "code",
   "execution_count": 23,
   "metadata": {},
   "outputs": [
    {
     "data": {
      "image/png": "[encoded data removed]",
      "text/plain": [
       "<Figure size 432x288 with 2 Axes>"
      ]
     },
     "metadata": {
      "needs_background": "light"
     },
     "output_type": "display_data"
    }
   ],
   "source": [
    "fig,ax = plt.subplots(1,2)\n",
    "sns.distplot(model_df['Speed'],ax=ax[0])\n",
    "sns.boxplot(model_df['Speed'],ax=ax[1])\n",
    "#Speed: cant be negative:\n",
    "model_df = model_df[model_df['Speed']>=0]"
   ]
  },
  {
   "cell_type": "code",
   "execution_count": 24,
   "metadata": {},
   "outputs": [
    {
     "data": {
      "text/html": [
       "<div>\n",
       "<style scoped>\n",
       "    .dataframe tbody tr th:only-of-type {\n",
       "        vertical-align: middle;\n",
       "    }\n",
       "\n",
       "    .dataframe tbody tr th {\n",
       "        vertical-align: top;\n",
       "    }\n",
       "\n",
       "    .dataframe thead th {\n",
       "        text-align: right;\n",
       "    }\n",
       "</style>\n",
       "<table border=\"1\" class=\"dataframe\">\n",
       "  <thead>\n",
       "    <tr style=\"text-align: right;\">\n",
       "      <th></th>\n",
       "      <th>bookingID</th>\n",
       "      <th>second</th>\n",
       "      <th>Accuracy</th>\n",
       "      <th>Bearing</th>\n",
       "      <th>Speed</th>\n",
       "      <th>acceleration_x</th>\n",
       "      <th>acceleration_y</th>\n",
       "      <th>acceleration_z</th>\n",
       "      <th>gyro_x</th>\n",
       "      <th>gyro_y</th>\n",
       "      <th>gyro_z</th>\n",
       "    </tr>\n",
       "  </thead>\n",
       "  <tbody>\n",
       "    <tr>\n",
       "      <th>0</th>\n",
       "      <td>1.194001e+12</td>\n",
       "      <td>246.0</td>\n",
       "      <td>4.0</td>\n",
       "      <td>203.0</td>\n",
       "      <td>6.480000</td>\n",
       "      <td>1.001973</td>\n",
       "      <td>9.745000</td>\n",
       "      <td>-0.790087</td>\n",
       "      <td>-0.066046</td>\n",
       "      <td>0.019175</td>\n",
       "      <td>0.044741</td>\n",
       "    </tr>\n",
       "    <tr>\n",
       "      <th>1</th>\n",
       "      <td>1.099512e+12</td>\n",
       "      <td>66.0</td>\n",
       "      <td>3.0</td>\n",
       "      <td>311.0</td>\n",
       "      <td>0.340365</td>\n",
       "      <td>0.452518</td>\n",
       "      <td>9.273026</td>\n",
       "      <td>3.098191</td>\n",
       "      <td>0.005382</td>\n",
       "      <td>0.002155</td>\n",
       "      <td>-0.001436</td>\n",
       "    </tr>\n",
       "    <tr>\n",
       "      <th>8</th>\n",
       "      <td>8.589935e+09</td>\n",
       "      <td>430.0</td>\n",
       "      <td>3.9</td>\n",
       "      <td>22.0</td>\n",
       "      <td>13.840000</td>\n",
       "      <td>-0.452377</td>\n",
       "      <td>9.679642</td>\n",
       "      <td>2.923172</td>\n",
       "      <td>-0.003677</td>\n",
       "      <td>0.009720</td>\n",
       "      <td>-0.026703</td>\n",
       "    </tr>\n",
       "    <tr>\n",
       "      <th>9</th>\n",
       "      <td>5.841156e+11</td>\n",
       "      <td>1044.0</td>\n",
       "      <td>4.0</td>\n",
       "      <td>199.0</td>\n",
       "      <td>26.240519</td>\n",
       "      <td>-6.914666</td>\n",
       "      <td>2.839610</td>\n",
       "      <td>6.498062</td>\n",
       "      <td>0.011221</td>\n",
       "      <td>-0.035768</td>\n",
       "      <td>0.039490</td>\n",
       "    </tr>\n",
       "    <tr>\n",
       "      <th>11</th>\n",
       "      <td>1.554778e+12</td>\n",
       "      <td>72.0</td>\n",
       "      <td>6.0</td>\n",
       "      <td>332.0</td>\n",
       "      <td>12.075355</td>\n",
       "      <td>-1.972882</td>\n",
       "      <td>9.711179</td>\n",
       "      <td>1.735849</td>\n",
       "      <td>0.011042</td>\n",
       "      <td>0.158532</td>\n",
       "      <td>-0.011837</td>\n",
       "    </tr>\n",
       "  </tbody>\n",
       "</table>\n",
       "</div>"
      ],
      "text/plain": [
       "       bookingID  second  Accuracy  Bearing      Speed  acceleration_x  \\\n",
       "0   1.194001e+12   246.0       4.0    203.0   6.480000        1.001973   \n",
       "1   1.099512e+12    66.0       3.0    311.0   0.340365        0.452518   \n",
       "8   8.589935e+09   430.0       3.9     22.0  13.840000       -0.452377   \n",
       "9   5.841156e+11  1044.0       4.0    199.0  26.240519       -6.914666   \n",
       "11  1.554778e+12    72.0       6.0    332.0  12.075355       -1.972882   \n",
       "\n",
       "    acceleration_y  acceleration_z    gyro_x    gyro_y    gyro_z  \n",
       "0         9.745000       -0.790087 -0.066046  0.019175  0.044741  \n",
       "1         9.273026        3.098191  0.005382  0.002155 -0.001436  \n",
       "8         9.679642        2.923172 -0.003677  0.009720 -0.026703  \n",
       "9         2.839610        6.498062  0.011221 -0.035768  0.039490  \n",
       "11        9.711179        1.735849  0.011042  0.158532 -0.011837  "
      ]
     },
     "execution_count": 24,
     "metadata": {},
     "output_type": "execute_result"
    }
   ],
   "source": [
    "model_df.head()"
   ]
  },
  {
   "cell_type": "code",
   "execution_count": 26,
   "metadata": {},
   "outputs": [],
   "source": [
    "model_df.to_csv('model_df.csv',index=False)"
   ]
  },
  {
   "cell_type": "code",
   "execution_count": null,
   "metadata": {},
   "outputs": [],
   "source": [
    "#model_df.to_csv('model_df.csv')"
   ]
  },
  {
   "cell_type": "code",
   "execution_count": null,
   "metadata": {},
   "outputs": [],
   "source": []
  }
 ],
 "metadata": {
  "kernelspec": {
   "display_name": "Python 3",
   "language": "python",
   "name": "python3"
  },
  "language_info": {
   "codemirror_mode": {
    "name": "ipython",
    "version": 3
   },
   "file_extension": ".py",
   "mimetype": "text/x-python",
   "name": "python",
   "nbconvert_exporter": "python",
   "pygments_lexer": "ipython3",
   "version": "3.7.3"
  }
 },
 "nbformat": 4,
 "nbformat_minor": 2
}
